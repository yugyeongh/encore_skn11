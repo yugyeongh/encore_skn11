{
 "cells": [
  {
   "cell_type": "markdown",
   "metadata": {},
   "source": [
    "### 예외 처리"
   ]
  },
  {
   "cell_type": "code",
   "execution_count": 3,
   "metadata": {},
   "outputs": [],
   "source": [
    "class NotMyTeacher(Exception):\n",
    "    pass"
   ]
  },
  {
   "cell_type": "code",
   "execution_count": 7,
   "metadata": {},
   "outputs": [
    {
     "name": "stdout",
     "output_type": "stream",
     "text": [
      "훌륭합니다!\n"
     ]
    }
   ],
   "source": [
    "teacher_name = input('당신의 선생님 이름은 무엇입니까? ')\n",
    "\n",
    "if teacher_name == '토끼':\n",
    "    print('훌륭합니다!')\n",
    "else:\n",
    "    raise NotMyTeacher('선생님이 이름이 아닙니다!')"
   ]
  },
  {
   "cell_type": "code",
   "execution_count": 10,
   "metadata": {},
   "outputs": [
    {
     "name": "stdout",
     "output_type": "stream",
     "text": [
      "훌륭합니다!\n"
     ]
    }
   ],
   "source": [
    "def check_teacher(teacher_name):\n",
    "    if teacher_name == '토끼':\n",
    "        print('훌륭합니다!')\n",
    "    else:\n",
    "        raise NotMyTeacher('선생님이 이름이 아닙니다!')\n",
    "\n",
    "check_teacher('토끼')\n",
    "# check_teacher('판다')\n",
    "\n",
    "# print('여기는 출력이 안됩니다!')"
   ]
  },
  {
   "cell_type": "code",
   "execution_count": 12,
   "metadata": {},
   "outputs": [
    {
     "name": "stdout",
     "output_type": "stream",
     "text": [
      "예외가 발생했습니다!!!\n",
      "그러나 중단되지는 않았어요\n"
     ]
    }
   ],
   "source": [
    "def check_teacher(teacher_name):\n",
    "    if teacher_name == '토끼':\n",
    "        print('훌륭합니다!')\n",
    "    else:\n",
    "        raise NotMyTeacher('선생님이 이름이 아닙니다!')\n",
    "    \n",
    "try:\n",
    "    check_teacher('곰돌님')\n",
    "    check_teacher('토끼')\n",
    "except:\n",
    "    print('예외가 발생했습니다!!!')\n",
    "\n",
    "print('그러나 중단되지는 않았어요')\n"
   ]
  },
  {
   "cell_type": "code",
   "execution_count": 18,
   "metadata": {},
   "outputs": [
    {
     "name": "stdout",
     "output_type": "stream",
     "text": [
      "0으로는 나눌 수 없습니다.\n"
     ]
    }
   ],
   "source": [
    "try:\n",
    "    test_list = [2025, 2, 17]\n",
    "    # print(test_list[100])\n",
    "\n",
    "    print(2025/0)\n",
    "except IndexError:\n",
    "    print('인덱스 에러')\n",
    "except ZeroDivisionError:\n",
    "    print('0으로는 나눌 수 없습니다.')"
   ]
  },
  {
   "cell_type": "code",
   "execution_count": 19,
   "metadata": {},
   "outputs": [
    {
     "name": "stdout",
     "output_type": "stream",
     "text": [
      "2025\n",
      "405.0\n",
      "else: 예외가 발생하지 않았을 때 try구문 내 코드가 정상 작동한 뒤 실행됩니다.\n",
      "finally: 언제나 끝날 때 실행됩니다다\n"
     ]
    }
   ],
   "source": [
    "try:\n",
    "    idx = int(input('index 숫자: '))\n",
    "    test_list = [2025, 2, 17]\n",
    "    print(test_list[idx])\n",
    "\n",
    "    num = int(input('나누는 수: '))\n",
    "    print(2025/num)\n",
    "except IndexError:\n",
    "    print('인덱스 에러')\n",
    "except ZeroDivisionError:\n",
    "    print('0으로는 나눌 수 없습니다.')\n",
    "else:\n",
    "    print('else: 예외가 발생하지 않았을 때 try구문 내 코드가 정상 작동한 뒤 실행됩니다.')\n",
    "finally:\n",
    "    print('finally: 언제나 끝날 때 실행됩니다다')"
   ]
  },
  {
   "cell_type": "markdown",
   "metadata": {},
   "source": [
    "---\n",
    "### 실습 문제"
   ]
  },
  {
   "cell_type": "markdown",
   "metadata": {},
   "source": [
    "### **문제 1: 모든 예외 처리**\n",
    "\n",
    "토끼는 파일에서 데이터를 읽으려고 하지만, 파일이 없을 경우 프로그램이 중단되지 않도록 처리하고 싶습니다.\n",
    "\n",
    "1. `data.txt` 파일을 읽으려고 시도하세요.\n",
    "2. 파일이 없을 경우, `\"파일이 존재하지 않습니다.\"`를 출력하세요.\n",
    "3. 파일이 존재하면 파일 내용을 출력하세요."
   ]
  },
  {
   "cell_type": "code",
   "execution_count": 35,
   "metadata": {},
   "outputs": [
    {
     "name": "stdout",
     "output_type": "stream",
     "text": [
      "파일이 존재하지 않습니다.\n"
     ]
    }
   ],
   "source": [
    "try:\n",
    "    f1 = open('data.txt','r')\n",
    "    f1_read = f1.read()\n",
    "    print(f1_read)\n",
    "    f1.close()\n",
    "except FileNotFoundError:\n",
    "    print('파일이 존재하지 않습니다.')"
   ]
  },
  {
   "cell_type": "markdown",
   "metadata": {},
   "source": [
    "### **문제 2: 특정 예외 처리**\n",
    "\n",
    "토끼는 사용자에게 나이를 입력받아 성인인지 확인하려고 합니다.\n",
    "\n",
    "1. 사용자로부터 나이를 입력받아 정수로 변환하세요.\n",
    "2. 입력값이 숫자가 아닐 경우, `\"숫자를 입력해야 합니다.\"`를 출력하세요.\n",
    "3. 숫자가 올바르게 입력되면 나이가 19 이상인지 확인하고, 19 이상이면 `\"성인입니다.\"`, 그렇지 않으면 `\"미성년자입니다.\"`를 출력하세요."
   ]
  },
  {
   "cell_type": "code",
   "execution_count": 29,
   "metadata": {},
   "outputs": [
    {
     "name": "stdout",
     "output_type": "stream",
     "text": [
      "숫자를 입력하세요.\n"
     ]
    }
   ],
   "source": [
    "try:\n",
    "    age = int(input('나이: '))\n",
    "    if age >= 19:\n",
    "        print('성인입니다.')\n",
    "    else:\n",
    "        print('미성년자입니다.')\n",
    "except ValueError:\n",
    "    print('숫자를 입력하세요.')"
   ]
  },
  {
   "cell_type": "markdown",
   "metadata": {},
   "source": [
    "### **문제 3: 특수 예외 상황과 오류 변수 사용**\n",
    "\n",
    "토끼는 숫자 두 개를 입력받아 나누기를 수행하려고 합니다.\n",
    "\n",
    "1. 사용자로부터 두 숫자를 입력받아 나누기를 수행하세요.\n",
    "2. 첫 번째 숫자가 0으로 나누기를 시도하면 `\"0으로 나눌 수 없습니다.\"`를 출력하세요.\n",
    "3. 입력값이 숫자가 아니면 `\"숫자를 입력해야 합니다.\"`를 출력하세요.\n",
    "4. 오류 메시지를 출력할 때 발생한 오류 내용을 함께 출력하세요."
   ]
  },
  {
   "cell_type": "code",
   "execution_count": 31,
   "metadata": {},
   "outputs": [
    {
     "name": "stdout",
     "output_type": "stream",
     "text": [
      "Error: invalid literal for int() with base 10: 'f'\n",
      "숫자를 입력하세요.\n"
     ]
    }
   ],
   "source": [
    "try:\n",
    "    num1 = int(input('num1: '))\n",
    "    num2 = int(input('num2: '))\n",
    "    print(num1/num2)\n",
    "except ZeroDivisionError as ze:\n",
    "    print(f'Error: {ze}\\n0으로 나눌 수 없습니다.')\n",
    "except ValueError as ve:\n",
    "    print(f'Error: {ve}\\n숫자를 입력하세요.')"
   ]
  },
  {
   "cell_type": "markdown",
   "metadata": {},
   "source": [
    "### **문제 4: finally 블럭**\n",
    "\n",
    "토끼는 프로그램 실행 후 파일 자원을 반드시 정리해야 합니다.\n",
    "\n",
    "1. `log.txt` 파일을 읽으려고 시도하세요.\n",
    "2. 파일을 여는 중 예외가 발생할 경우, `\"파일을 열 수 없습니다.\"`를 출력하세요.\n",
    "3. 예외 발생 여부와 상관없이 파일 자원을 정리하는 메시지 `\"파일 자원 정리 완료\"`를 출력하세요."
   ]
  },
  {
   "cell_type": "code",
   "execution_count": null,
   "metadata": {},
   "outputs": [
    {
     "name": "stdout",
     "output_type": "stream",
     "text": [
      "파일을 열 수 없습니다.\n"
     ]
    }
   ],
   "source": [
    "f4 = None\n",
    "\n",
    "try:\n",
    "    f4 = open('log.txt','r', encoding='utf-8')\n",
    "    print(f4.read())\n",
    "\n",
    "except FileNotFoundError:\n",
    "    print('파일을 열 수 없습니다.')\n",
    "    \n",
    "else:\n",
    "    if f4:\n",
    "        f4.close()\n",
    "    print('파일 자원 정리 완료') "
   ]
  },
  {
   "cell_type": "markdown",
   "metadata": {},
   "source": [
    "### **문제 5: try-else 블럭**\n",
    "\n",
    "토끼는 사용자로부터 숫자를 입력받아 2로 나눈 결과를 출력하려고 합니다.\n",
    "\n",
    "1. 사용자로부터 숫자를 입력받아 정수로 변환하세요.\n",
    "2. 입력값이 숫자가 아닐 경우 `\"숫자를 입력해야 합니다.\"`를 출력하세요.\n",
    "3. 숫자가 올바르게 입력되면 입력값을 2로 나눈 결과를 출력하세요."
   ]
  },
  {
   "cell_type": "code",
   "execution_count": 34,
   "metadata": {},
   "outputs": [
    {
     "name": "stdout",
     "output_type": "stream",
     "text": [
      "숫자를 입력해야 합니다.\n"
     ]
    }
   ],
   "source": [
    "try:\n",
    "    num5 = int(input('숫자: '))\n",
    "    print(num5 / 2)\n",
    "except ValueError as ve:\n",
    "    print('숫자를 입력해야 합니다.')"
   ]
  }
 ],
 "metadata": {
  "kernelspec": {
   "display_name": "pystudy_test",
   "language": "python",
   "name": "python3"
  },
  "language_info": {
   "codemirror_mode": {
    "name": "ipython",
    "version": 3
   },
   "file_extension": ".py",
   "mimetype": "text/x-python",
   "name": "python",
   "nbconvert_exporter": "python",
   "pygments_lexer": "ipython3",
   "version": "3.12.9"
  }
 },
 "nbformat": 4,
 "nbformat_minor": 2
}
