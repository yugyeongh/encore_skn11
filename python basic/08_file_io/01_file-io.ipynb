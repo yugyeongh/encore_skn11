{
 "cells": [
  {
   "cell_type": "markdown",
   "metadata": {},
   "source": [
    "### 파일 입출력"
   ]
  },
  {
   "cell_type": "code",
   "execution_count": 7,
   "metadata": {},
   "outputs": [],
   "source": [
    "f1 = open('sample/test.txt','w')\n",
    "f1.write('오늘의 점심 메뉴: 고구마와 바나나')\n",
    "f1.write('\\n\\n[오늘의 점심 메뉴]\\n고구마와 바나나')\n",
    "f1.close()"
   ]
  },
  {
   "cell_type": "code",
   "execution_count": 17,
   "metadata": {},
   "outputs": [],
   "source": [
    "f2 = open('our_song.txt','w')\n",
    "\n",
    "our_song = ['공주의 규칙\\n','나를 사랑하기\\n','남도 사랑하기\\n','삶을 사랑하기\\n','여유 잃지 않기\\n','미소 잃지 않기\\n']\n",
    "f2.writelines(our_song)\n",
    "\n",
    "f2.close()"
   ]
  },
  {
   "cell_type": "code",
   "execution_count": 18,
   "metadata": {},
   "outputs": [
    {
     "name": "stdout",
     "output_type": "stream",
     "text": [
      "f3_readlines ['공주의 규칙\\n', '나를 사랑하기\\n', '남도 사랑하기\\n', '삶을 사랑하기\\n', '여유 잃지 않기\\n', '미소 잃지 않기\\n']\n"
     ]
    }
   ],
   "source": [
    "f3 = open('our_song.txt','r',encoding='utf-8')\n",
    "# f3_read = f3.read()\n",
    "# f3_readline = f3.readline()\n",
    "f3_readlines = f3.readlines()\n",
    "\n",
    "# print('f3_read', f3_read, type(f3_read))\n",
    "# print('f3_readline', f3_readline)\n",
    "print('f3_readlines', f3_readlines)\n",
    "\n",
    "f3.close()"
   ]
  },
  {
   "cell_type": "code",
   "execution_count": null,
   "metadata": {},
   "outputs": [],
   "source": [
    "f4 = open('our_song.txt','a', encoding='utf-8') # append 모드\n",
    "\n",
    "f4.write('노래끝!')\n",
    "\n",
    "f4.close()"
   ]
  },
  {
   "cell_type": "code",
   "execution_count": null,
   "metadata": {},
   "outputs": [],
   "source": [
    "with open('new_test.txt','w', encoding='utf-8') as f:\n",
    "    f.write('오늘은 파이썬\\n')\n",
    "    f.write('내일은 DB\\n')\n",
    "    f.write('다음 주부터는 웹 크롤링!')"
   ]
  }
 ],
 "metadata": {
  "kernelspec": {
   "display_name": "pystudy_test",
   "language": "python",
   "name": "python3"
  },
  "language_info": {
   "codemirror_mode": {
    "name": "ipython",
    "version": 3
   },
   "file_extension": ".py",
   "mimetype": "text/x-python",
   "name": "python",
   "nbconvert_exporter": "python",
   "pygments_lexer": "ipython3",
   "version": "3.12.9"
  }
 },
 "nbformat": 4,
 "nbformat_minor": 2
}
