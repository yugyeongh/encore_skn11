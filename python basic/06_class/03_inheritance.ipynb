{
 "cells": [
  {
   "cell_type": "markdown",
   "metadata": {},
   "source": [
    "### 상속"
   ]
  },
  {
   "cell_type": "code",
   "execution_count": null,
   "metadata": {},
   "outputs": [
    {
     "name": "stdout",
     "output_type": "stream",
     "text": [
      "hello, python\n",
      "korea\n"
     ]
    }
   ],
   "source": [
    "class Person:\n",
    "    national = 'korea'\n",
    "\n",
    "    def greeting(self):\n",
    "        return 'hello, python'\n",
    "\n",
    "class Student(Person):\n",
    "    pass\n",
    "\n",
    "student = Student()\n",
    "print(student.greeting())\n",
    "print(student.national)"
   ]
  },
  {
   "cell_type": "code",
   "execution_count": null,
   "metadata": {},
   "outputs": [
    {
     "name": "stdout",
     "output_type": "stream",
     "text": [
      "hello\n",
      "i am learning python\n"
     ]
    }
   ],
   "source": [
    "class Person:\n",
    "    national = 'korea'\n",
    "\n",
    "    def greeting(self):\n",
    "        return 'hello'\n",
    "\n",
    "class Learner:\n",
    "    def greeting(self):\n",
    "        return 'hello, i am learner'\n",
    "    def learn(self):\n",
    "        return 'i am learning python'\n",
    "\n",
    "class Student(Person, Learner): # 다중 상속 시에는 검색 순서가 왼>오\n",
    "    pass\n",
    "\n",
    "student = Student()\n",
    "print(student.greeting())\n",
    "print(student.learn()) # person 클래스에 없는 메소드라 learn에 있는 메소드를 상속"
   ]
  },
  {
   "cell_type": "code",
   "execution_count": 6,
   "metadata": {},
   "outputs": [],
   "source": [
    "class Person:\n",
    "    def __init__(self, name, phone):\n",
    "        self.name = name\n",
    "        self.phone = phone\n",
    "\n",
    "    def __str__(self): # 주소값을 뽑아줌\n",
    "        return f'<Person {self.name}>'"
   ]
  },
  {
   "cell_type": "code",
   "execution_count": null,
   "metadata": {},
   "outputs": [],
   "source": [
    "class Student(Person):\n",
    "\n",
    "    def __init__(self, name, phone, hobby):\n",
    "        # 1. 부모클래스명.__init__(self, ...)\n",
    "        # Person.__init__(self, name)\n",
    "\n",
    "        # 2. super().__init__(...) # self 넣지 않아도 됨 \n",
    "        super().__init__(name, phone) # super 자체가 인스턴스가 되어서 self.name=name, self.phone=phone을 넣지 않아도 됨\n",
    "        \n",
    "        # self.phone = phone\n",
    "        self.hobby = hobby"
   ]
  },
  {
   "cell_type": "code",
   "execution_count": 26,
   "metadata": {},
   "outputs": [
    {
     "name": "stdout",
     "output_type": "stream",
     "text": [
      "홍길동\n",
      "<Person 홍길동>\n",
      "추영우 01010101010 파이썬 공부하기\n",
      "<Person 추영우>\n",
      "주지훈 01011111111 DB 공부하기\n",
      "<Person 주지훈>\n"
     ]
    }
   ],
   "source": [
    "p1 = Person('홍길동','01012345678')\n",
    "print(p1.name)\n",
    "print(p1)\n",
    "\n",
    "s1 = Student('추영우','01010101010','파이썬 공부하기')\n",
    "s2 = Student('주지훈','01011111111','DB 공부하기')\n",
    "print(s1.name, s1.phone, s1.hobby)\n",
    "print(s1)\n",
    "\n",
    "print(s2.name, s2.phone, s2.hobby)\n",
    "print(s2)\n"
   ]
  },
  {
   "cell_type": "markdown",
   "metadata": {},
   "source": [
    "---\n",
    "### 다중 상속"
   ]
  },
  {
   "cell_type": "code",
   "execution_count": 28,
   "metadata": {},
   "outputs": [],
   "source": [
    "class Person:\n",
    "    fingers = 10\n",
    "    eyes = 2\n",
    "\n",
    "    def introduce(self):\n",
    "        return '사람'\n",
    "    \n",
    "class Animal:\n",
    "    fur = True\n",
    "\n",
    "    def introduce(self):\n",
    "        return '동물'\n",
    "\n",
    "class BanInBanSu(Animal, Person):\n",
    "    pass"
   ]
  },
  {
   "cell_type": "code",
   "execution_count": 30,
   "metadata": {},
   "outputs": [
    {
     "name": "stdout",
     "output_type": "stream",
     "text": [
      "10 2 True\n",
      "동물\n"
     ]
    }
   ],
   "source": [
    "b1 = BanInBanSu()\n",
    "print(b1.fingers, b1.eyes, b1.fur)\n",
    "print(b1.introduce())"
   ]
  },
  {
   "cell_type": "markdown",
   "metadata": {},
   "source": [
    "---\n",
    "### 오버라이딩"
   ]
  },
  {
   "cell_type": "code",
   "execution_count": 31,
   "metadata": {},
   "outputs": [],
   "source": [
    "class Animal:\n",
    "    species = '동물'\n",
    "\n",
    "    def introduce(self):\n",
    "        print('Welcome to 동물의 왕국')\n",
    "\n",
    "class Mammalia(Animal):\n",
    "    species = '포유류'\n",
    "\n",
    "    def has_fur(self):\n",
    "        return True\n",
    "\n",
    "class Rabbit(Mammalia):\n",
    "    name = '토끼'\n",
    "\n",
    "    def eat(self):\n",
    "        print('당근좋아')\n",
    "    \n",
    "class RabbitTeacher(Rabbit):\n",
    "    def introduce(self):\n",
    "        print('안녕하세요🐰')"
   ]
  },
  {
   "cell_type": "code",
   "execution_count": 40,
   "metadata": {},
   "outputs": [
    {
     "name": "stdout",
     "output_type": "stream",
     "text": [
      "안녕하세요🐰\n",
      "토끼\n",
      "당근좋아\n",
      "포유류\n",
      "True\n",
      "포유류\n",
      "안녕하세요🐰\n"
     ]
    }
   ],
   "source": [
    "rt = RabbitTeacher()\n",
    "\n",
    "rt.introduce()\n",
    "print(rt.name)\n",
    "rt.eat()\n",
    "\n",
    "print(rt.species)\n",
    "print(rt.has_fur())\n",
    "\n",
    "print(rt.species)\n",
    "rt.introduce()\n"
   ]
  }
 ],
 "metadata": {
  "kernelspec": {
   "display_name": "pystudy_env",
   "language": "python",
   "name": "python3"
  },
  "language_info": {
   "codemirror_mode": {
    "name": "ipython",
    "version": 3
   },
   "file_extension": ".py",
   "mimetype": "text/x-python",
   "name": "python",
   "nbconvert_exporter": "python",
   "pygments_lexer": "ipython3",
   "version": "3.12.9"
  }
 },
 "nbformat": 4,
 "nbformat_minor": 2
}
