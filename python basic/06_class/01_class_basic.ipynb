{
 "cells": [
  {
   "cell_type": "markdown",
   "metadata": {},
   "source": [
    "### 클래스"
   ]
  },
  {
   "cell_type": "code",
   "execution_count": 53,
   "metadata": {},
   "outputs": [],
   "source": [
    "# name = '현유경'\n",
    "# age = 26\n",
    "# hobby = ['야구보기']\n",
    "# print(f'{name}은 {age}살이고, 취미는 {hobby}입니다.')\n",
    "\n",
    "# name = '정현욱'\n",
    "# age = 27\n",
    "# hobby = ['운동']\n",
    "# print(f'{name}은 {age}살이고, 취미는 {hobby}입니다.')\n",
    "\n",
    "# name = '안종현'\n",
    "# age = 29\n",
    "# hobby = ['운동']\n",
    "# print(f'{name}은 {age}살이고, 취미는 {hobby}입니다.')"
   ]
  },
  {
   "cell_type": "code",
   "execution_count": 58,
   "metadata": {},
   "outputs": [],
   "source": [
    "class Friend:\n",
    "    # def __init__(self, name, age, hobby):\n",
    "    #     # 인스턴스 속성 초기화\n",
    "    #     self.name = name\n",
    "    #     self.age = age\n",
    "    #     self.hobby = hobby\n",
    "    \n",
    "    def introduce(self):\n",
    "        # self.name, self.age, self.hobby 출력\n",
    "        print(f'{self.name}은 {self.age}살이고, 취미는 {self.hobby}입니다.')"
   ]
  },
  {
   "cell_type": "code",
   "execution_count": 56,
   "metadata": {},
   "outputs": [
    {
     "name": "stdout",
     "output_type": "stream",
     "text": [
      "정현욱은 27살이고, 취미는 운동입니다.\n",
      "안종현은 29살이고, 취미는 운동입니다.\n",
      "현유경은 26살이고, 취미는 야구보기입니다.\n"
     ]
    }
   ],
   "source": [
    "friend1 = Friend('정현욱',27,'운동')\n",
    "friend1.introduce()\n",
    "friend2 = Friend('안종현',29,'운동')\n",
    "friend2.introduce()\n",
    "friend3 = Friend('현유경',26,'야구보기')\n",
    "friend3.introduce()"
   ]
  },
  {
   "cell_type": "code",
   "execution_count": 60,
   "metadata": {},
   "outputs": [
    {
     "name": "stdout",
     "output_type": "stream",
     "text": [
      "멍돌은 8살이고, 취미는 ['산책', '운동']입니다.\n",
      "멍순은 5살이고, 취미는 ['먹기', '자기']입니다.\n"
     ]
    }
   ],
   "source": [
    "f1 = Friend()\n",
    "f1.name = '멍돌'\n",
    "f1.age = 8\n",
    "f1.hobby = ['산책']\n",
    "f1.hobby.append('운동')\n",
    "f1.introduce()\n",
    "\n",
    "f2 = Friend()\n",
    "f2.name = '멍순'\n",
    "f2.age = 5\n",
    "f2.hobby = ['먹기']\n",
    "f2.hobby.append('자기')\n",
    "f2.introduce()"
   ]
  },
  {
   "cell_type": "code",
   "execution_count": 41,
   "metadata": {},
   "outputs": [],
   "source": [
    "class Student1:\n",
    "    # 1. 클래스 속성\n",
    "    dream = '취업'\n",
    "\n",
    "    # 2. 생성자\n",
    "\n",
    "    # 3. 메서드\n",
    "    def study(self):\n",
    "        print('오늘도 파이팅')"
   ]
  },
  {
   "cell_type": "code",
   "execution_count": 29,
   "metadata": {},
   "outputs": [
    {
     "name": "stdout",
     "output_type": "stream",
     "text": [
      "<__main__.Student1 object at 0x000001A56ECEF950>\n",
      "<__main__.Student1 object at 0x000001A56ECEFF80>\n"
     ]
    }
   ],
   "source": [
    "student = Student1()\n",
    "student_two = Student1()\n",
    "\n",
    "print(student)\n",
    "print(student_two) # 생성자 호출 시 마다 새로운 인스턴스를 호출해 인스턴스의 주소가 다름"
   ]
  },
  {
   "cell_type": "code",
   "execution_count": 30,
   "metadata": {},
   "outputs": [
    {
     "name": "stdout",
     "output_type": "stream",
     "text": [
      "오늘도 파이팅\n"
     ]
    }
   ],
   "source": [
    "student.study()"
   ]
  },
  {
   "cell_type": "code",
   "execution_count": 31,
   "metadata": {},
   "outputs": [],
   "source": [
    "class Student2:\n",
    "#     1. 클래스 속성\n",
    "    dream = '취업'\n",
    "#     2. 생성자\n",
    "    def __init__(self, name, phone):\n",
    "        self.name = name\n",
    "        self.phone = phone\n",
    "#     3. 메서드\n",
    "    def study(self):\n",
    "        print('오늘도 열심히 파이팅!')"
   ]
  },
  {
   "cell_type": "code",
   "execution_count": 32,
   "metadata": {},
   "outputs": [
    {
     "name": "stdout",
     "output_type": "stream",
     "text": [
      "취업\n",
      "곰돌 010250213\n",
      "오늘도 열심히 파이팅!\n"
     ]
    }
   ],
   "source": [
    "student = Student2('곰돌','010250213')\n",
    "print(student.dream)\n",
    "print(student.name, student.phone)\n",
    "student.study()"
   ]
  },
  {
   "cell_type": "code",
   "execution_count": 33,
   "metadata": {},
   "outputs": [],
   "source": [
    "class Student3:\n",
    "    dream = ['취업']\n",
    "\n",
    "    def __init__(self, name, phone):\n",
    "        self.name = name\n",
    "        self.phone = phone\n",
    "    \n",
    "    def study(self):\n",
    "        print('오늘도 열심히 파이팅')\n",
    "    \n",
    "    def introduce(self):\n",
    "        print(f'저는 {self.name}이구요, 번호는 {self.phone}입니다.', end=' ')\n",
    "        print(f'제가 이루고 싶은 목표는 {self.dream}입니다!')"
   ]
  },
  {
   "cell_type": "code",
   "execution_count": 39,
   "metadata": {},
   "outputs": [
    {
     "name": "stdout",
     "output_type": "stream",
     "text": [
      "<bound method Student3.introduce of <__main__.Student3 object at 0x000001A56EE00F50>>\n",
      "저는 곰돌이구요, 번호는 01034567888입니다. 제가 이루고 싶은 목표는 ['취업']입니다!\n",
      "저는 곰순이구요, 번호는 01034354545입니다. 제가 이루고 싶은 목표는 ['취업']입니다!\n"
     ]
    }
   ],
   "source": [
    "student1 = Student3('곰돌','01034567888')\n",
    "student2 = Student3('곰순','01034354545')\n",
    "\n",
    "print(student1.introduce) # 주소값이 나옴\n",
    "student1.introduce()\n",
    "student2.introduce()"
   ]
  },
  {
   "cell_type": "code",
   "execution_count": 12,
   "metadata": {},
   "outputs": [],
   "source": [
    "class Character:\n",
    "    def __init__(self, nickname, type):\n",
    "        self.nickname = nickname\n",
    "        self.__type = type # __는 private설정\n",
    "\n",
    "    def get_type(self):\n",
    "        return self.__type\n",
    "    \n",
    "    def set_type(self, type):\n",
    "        character_types = ['전사','법사','치유사']\n",
    "\n",
    "        for given_type in character_types:\n",
    "            if type == given_type:\n",
    "                self.__type = type\n",
    "                return\n",
    "        raise  ValueError('잘못된 캐릭터 타입을 선택하였습니다.')\n",
    "    "
   ]
  },
  {
   "cell_type": "code",
   "execution_count": null,
   "metadata": {},
   "outputs": [
    {
     "name": "stdout",
     "output_type": "stream",
     "text": [
      "산골짜기다람쥐\n",
      "'Character' object has no attribute '__type'\n",
      "전사\n",
      "법사\n"
     ]
    }
   ],
   "source": [
    "my_character = Character('산골짜기다람쥐','전사')\n",
    "print(my_character.nickname)\n",
    "\n",
    "try:\n",
    "    print(my_character.__type)\n",
    "except AttributeError as e:\n",
    "    print(e)\n",
    "\n",
    "print(my_character.get_type())\n",
    "\n",
    "my_character.set_type('법사')\n",
    "print(my_character.get_type())\n",
    "\n",
    "try:\n",
    "    my_character.set_type('흑마법사')\n",
    "except ValueError as e:\n",
    "    print(e)"
   ]
  },
  {
   "cell_type": "code",
   "execution_count": null,
   "metadata": {},
   "outputs": [],
   "source": []
  }
 ],
 "metadata": {
  "kernelspec": {
   "display_name": "pystudy_env",
   "language": "python",
   "name": "python3"
  },
  "language_info": {
   "codemirror_mode": {
    "name": "ipython",
    "version": 3
   },
   "file_extension": ".py",
   "mimetype": "text/x-python",
   "name": "python",
   "nbconvert_exporter": "python",
   "pygments_lexer": "ipython3",
   "version": "3.12.9"
  }
 },
 "nbformat": 4,
 "nbformat_minor": 2
}
