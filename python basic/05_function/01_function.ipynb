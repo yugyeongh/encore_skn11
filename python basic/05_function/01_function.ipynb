{
 "cells": [
  {
   "cell_type": "markdown",
   "metadata": {},
   "source": [
    "### 함수"
   ]
  },
  {
   "cell_type": "code",
   "execution_count": 3,
   "metadata": {},
   "outputs": [
    {
     "name": "stdout",
     "output_type": "stream",
     "text": [
      "다람쥐 :  Hello\n"
     ]
    }
   ],
   "source": [
    "def greeting(name, greeting='Hello'):\n",
    "    print(name, \": \", greeting)\n",
    "greeting(\"다람쥐\")"
   ]
  },
  {
   "cell_type": "markdown",
   "metadata": {},
   "source": [
    "---\n",
    "mini 실습"
   ]
  },
  {
   "cell_type": "code",
   "execution_count": null,
   "metadata": {},
   "outputs": [
    {
     "name": "stdout",
     "output_type": "stream",
     "text": [
      "좋은 아침입니다! 수요일 파이팅!\n"
     ]
    }
   ],
   "source": [
    "# 파라미터x, 리턴값o\n",
    "def greeting1():\n",
    "    return \"좋은 아침입니다! 수요일 파이팅!\"\n",
    "print(greeting1())"
   ]
  },
  {
   "cell_type": "code",
   "execution_count": null,
   "metadata": {},
   "outputs": [
    {
     "name": "stdout",
     "output_type": "stream",
     "text": [
      "다람쥐님, 좋은 아침입니다! 수요일 파이팅!\n"
     ]
    }
   ],
   "source": [
    "# 파라미터o, 리턴값x\n",
    "def greeting2(name):\n",
    "    print(f'{name}님, 좋은 아침입니다! 수요일 파이팅!')\n",
    "greeting2(\"다람쥐\")"
   ]
  },
  {
   "cell_type": "code",
   "execution_count": null,
   "metadata": {},
   "outputs": [
    {
     "name": "stdout",
     "output_type": "stream",
     "text": [
      "다람쥐님, 좋은 아침입니다! 수요일 파이팅!\n"
     ]
    }
   ],
   "source": [
    "# \n",
    "def greeting3(name):\n",
    "    return f'{name}님, 좋은 아침입니다! 수요일 파이팅!'\n",
    "print(greeting3(\"다람쥐\"))"
   ]
  },
  {
   "cell_type": "code",
   "execution_count": 12,
   "metadata": {},
   "outputs": [],
   "source": [
    "def return_var_greeting(name2, time):\n",
    "    return f'{name2}님, 좋은 {time}입니다.'"
   ]
  },
  {
   "cell_type": "code",
   "execution_count": 13,
   "metadata": {},
   "outputs": [
    {
     "name": "stdout",
     "output_type": "stream",
     "text": [
      "토끼님, 좋은 아침입니다.\n",
      "다람쥐님, 좋은 저녁입니다.\n",
      "고래님, 좋은 새벽입니다.\n"
     ]
    }
   ],
   "source": [
    "print(return_var_greeting('토끼','아침'))\n",
    "print(return_var_greeting(time='저녁', name2='다람쥐'))\n",
    "print(return_var_greeting('고래',time='새벽'))"
   ]
  },
  {
   "cell_type": "markdown",
   "metadata": {},
   "source": [
    "---\n",
    "### 패키징과 언패키징"
   ]
  },
  {
   "cell_type": "code",
   "execution_count": 14,
   "metadata": {},
   "outputs": [],
   "source": [
    "def call_animals(*animal_args):\n",
    "    for animal_name in animal_args:\n",
    "        print(animal_name)"
   ]
  },
  {
   "cell_type": "code",
   "execution_count": 15,
   "metadata": {},
   "outputs": [
    {
     "name": "stdout",
     "output_type": "stream",
     "text": [
      "토끼\n",
      "판다\n",
      "카피바라\n",
      "코알라\n",
      "쿼카\n",
      "양\n"
     ]
    }
   ],
   "source": [
    "call_animals('토끼','판다','카피바라','코알라','쿼카','양')"
   ]
  },
  {
   "cell_type": "code",
   "execution_count": 16,
   "metadata": {},
   "outputs": [],
   "source": [
    "def multi_sum(num1, num2, num3, num4, num5):\n",
    "    return num1+num2+num3+num4+num5"
   ]
  },
  {
   "cell_type": "code",
   "execution_count": null,
   "metadata": {},
   "outputs": [],
   "source": []
  },
  {
   "cell_type": "code",
   "execution_count": 18,
   "metadata": {},
   "outputs": [
    {
     "name": "stdout",
     "output_type": "stream",
     "text": [
      "2077\n"
     ]
    }
   ],
   "source": [
    "numbers = [2025, 2, 12, 11, 27]\n",
    "print(multi_sum(*numbers))"
   ]
  },
  {
   "cell_type": "code",
   "execution_count": null,
   "metadata": {},
   "outputs": [],
   "source": []
  }
 ],
 "metadata": {
  "kernelspec": {
   "display_name": "pystudy_env",
   "language": "python",
   "name": "python3"
  },
  "language_info": {
   "codemirror_mode": {
    "name": "ipython",
    "version": 3
   },
   "file_extension": ".py",
   "mimetype": "text/x-python",
   "name": "python",
   "nbconvert_exporter": "python",
   "pygments_lexer": "ipython3",
   "version": "3.12.9"
  }
 },
 "nbformat": 4,
 "nbformat_minor": 2
}
