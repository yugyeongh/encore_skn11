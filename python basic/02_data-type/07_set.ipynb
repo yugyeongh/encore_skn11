{
 "cells": [
  {
   "cell_type": "markdown",
   "metadata": {},
   "source": [
    "### 셋"
   ]
  },
  {
   "cell_type": "code",
   "execution_count": 1,
   "metadata": {},
   "outputs": [],
   "source": [
    "emtpy_set = set({})\n",
    "number_st = {1}\n",
    "anything = {2025, 2, 10, '오늘은 월요일', True}"
   ]
  },
  {
   "cell_type": "code",
   "execution_count": 2,
   "metadata": {},
   "outputs": [
    {
     "name": "stdout",
     "output_type": "stream",
     "text": [
      "<class 'set'>\n"
     ]
    }
   ],
   "source": [
    "print(type(emtpy_set))"
   ]
  },
  {
   "cell_type": "code",
   "execution_count": 3,
   "metadata": {},
   "outputs": [],
   "source": [
    "animals = {'rabbit', 'wolf', 'koala', 'sheep', 'rabbit'}"
   ]
  },
  {
   "cell_type": "code",
   "execution_count": 4,
   "metadata": {},
   "outputs": [
    {
     "name": "stdout",
     "output_type": "stream",
     "text": [
      "{'rabbit', 'sheep', 'wolf', 'koala'}\n"
     ]
    }
   ],
   "source": [
    "print(animals)"
   ]
  },
  {
   "cell_type": "markdown",
   "metadata": {},
   "source": [
    "---\n",
    "셋의 집합연산"
   ]
  },
  {
   "cell_type": "code",
   "execution_count": 5,
   "metadata": {},
   "outputs": [],
   "source": [
    "set_animals = {'rabbit', 'wolf', 'panda', 'sheep', 'tiger'}"
   ]
  },
  {
   "cell_type": "code",
   "execution_count": null,
   "metadata": {},
   "outputs": [
    {
     "name": "stdout",
     "output_type": "stream",
     "text": [
      "{'sheep', 'rabbit', 'koala', 'tiger', 'panda', 'wolf'}\n",
      "{'sheep', 'rabbit', 'koala', 'tiger', 'panda', 'wolf'}\n",
      "{'rabbit', 'sheep', 'wolf'}\n",
      "{'rabbit', 'sheep', 'wolf'}\n",
      "{'koala'}\n",
      "{'koala'}\n",
      "{'koala', 'tiger', 'panda'}\n",
      "{'koala', 'tiger', 'panda'}\n"
     ]
    }
   ],
   "source": [
    "# 합집합 union\n",
    "print(animals.union(set_animals))\n",
    "print(animals | set_animals)\n",
    "\n",
    "# 교집합 intersection\n",
    "print(animals.intersection(set_animals))\n",
    "print(animals & set_animals)\n",
    "\n",
    "# 차집합 difference - animals에 속하지만 set_animals에는 속하지 않는 원소들\n",
    "print(animals.difference(set_animals))\n",
    "print(animals - set_animals)\n",
    "\n",
    "# 대칭칭차집합 symmetric_difference - 공통적인 것을 제외한 나머지 원소들\n",
    "print(animals.symmetric_difference(set_animals))\n",
    "print(animals ^ set_animals)"
   ]
  },
  {
   "cell_type": "markdown",
   "metadata": {},
   "source": [
    "---\n",
    "실습문제\n"
   ]
  },
  {
   "cell_type": "markdown",
   "metadata": {},
   "source": [
    "### **문제 1**\n",
    "\n",
    "다음 조건에 맞는 **셋**을 생성하세요.\n",
    "\n",
    "1. `fruits`라는 셋을 선언하고 `'apple', 'banana', 'cherry'`를 추가하세요.\n",
    "2. `print()`를 사용하여 `fruits`를 출력하세요."
   ]
  },
  {
   "cell_type": "code",
   "execution_count": 13,
   "metadata": {},
   "outputs": [
    {
     "name": "stdout",
     "output_type": "stream",
     "text": [
      "{'cherry', 'apple', 'banana'}\n"
     ]
    }
   ],
   "source": [
    "fruits = {'apple', 'banana', 'cherry'}\n",
    "print(fruits)"
   ]
  },
  {
   "cell_type": "markdown",
   "metadata": {},
   "source": [
    "### **문제 2**\n",
    "\n",
    "다음 조건에 맞게 **집합 연산**을 수행하세요.\n",
    "\n",
    "1. `set1`에 `{1, 2, 3}`을 저장하고, `set2`에 `{3, 4, 5}`를 저장하세요.\n",
    "2. `set1`과 `set2`의 **합집합**을 구해서 출력하세요."
   ]
  },
  {
   "cell_type": "code",
   "execution_count": 15,
   "metadata": {},
   "outputs": [
    {
     "name": "stdout",
     "output_type": "stream",
     "text": [
      "{1, 2, 3, 4, 5}\n"
     ]
    }
   ],
   "source": [
    "set1 = {1,2,3}\n",
    "set2 = {3,4,5}\n",
    "print(set1 | set2)"
   ]
  },
  {
   "cell_type": "markdown",
   "metadata": {},
   "source": [
    "### **문제 3**\n",
    "\n",
    "다음 조건에 맞게 **셋의 메서드**를 활용하세요.\n",
    "\n",
    "1. `colors1`에 `'red', 'blue', 'green'`을 저장하세요.\n",
    "2. `colors2`에 `'blue', 'yellow', 'pink'`를 저장하세요.\n",
    "3. 두 셋의 **교집합**을 구하여 출력하세요."
   ]
  },
  {
   "cell_type": "code",
   "execution_count": 17,
   "metadata": {},
   "outputs": [
    {
     "name": "stdout",
     "output_type": "stream",
     "text": [
      "{'blue'}\n"
     ]
    }
   ],
   "source": [
    "colors1 = {'red', 'blue', 'green'}\n",
    "colors2 = {'blue', 'yellow', 'pink'}\n",
    "print(colors1 & colors2)"
   ]
  },
  {
   "cell_type": "markdown",
   "metadata": {},
   "source": [
    "### **문제 4**\n",
    "\n",
    "다음 조건에 맞는 프로그램을 작성하세요.\n",
    "\n",
    "1. 두 셋 `A = {1, 2, 3, 4}`와 `B = {3, 4, 5, 6}`가 있습니다.\n",
    "2. `A`와 `B`의 **대칭 차집합**을 구하세요.\n",
    "3. 결과를 `print()`를 사용해 출력하세요."
   ]
  },
  {
   "cell_type": "code",
   "execution_count": 19,
   "metadata": {},
   "outputs": [
    {
     "name": "stdout",
     "output_type": "stream",
     "text": [
      "{1, 2, 5, 6}\n"
     ]
    }
   ],
   "source": [
    "A = {1,2,3,4}\n",
    "B = {3,4,5,6}\n",
    "print(A ^ B)"
   ]
  },
  {
   "cell_type": "code",
   "execution_count": null,
   "metadata": {},
   "outputs": [],
   "source": []
  }
 ],
 "metadata": {
  "kernelspec": {
   "display_name": "pystudy_env",
   "language": "python",
   "name": "python3"
  },
  "language_info": {
   "codemirror_mode": {
    "name": "ipython",
    "version": 3
   },
   "file_extension": ".py",
   "mimetype": "text/x-python",
   "name": "python",
   "nbconvert_exporter": "python",
   "pygments_lexer": "ipython3",
   "version": "3.12.9"
  }
 },
 "nbformat": 4,
 "nbformat_minor": 2
}
