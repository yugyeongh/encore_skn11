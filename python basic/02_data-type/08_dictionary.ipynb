{
 "cells": [
  {
   "cell_type": "markdown",
   "metadata": {},
   "source": [
    "### 딕셔너리"
   ]
  },
  {
   "cell_type": "code",
   "execution_count": 16,
   "metadata": {},
   "outputs": [],
   "source": [
    "empt_dict = ()\n",
    "my_dict = {\n",
    "    'name': 'rabbit',\n",
    "    'height': '165',\n",
    "    'job': 'developer',\n",
    "    'bag': ['lipmask', 'toothbrush','water'],\n",
    "    'happy': True\n",
    "}"
   ]
  },
  {
   "cell_type": "code",
   "execution_count": 17,
   "metadata": {},
   "outputs": [
    {
     "name": "stdout",
     "output_type": "stream",
     "text": [
      "<class 'tuple'>\n",
      "<class 'dict'>\n"
     ]
    }
   ],
   "source": [
    "print(type(empt_dict))\n",
    "print(type(my_dict))"
   ]
  },
  {
   "cell_type": "code",
   "execution_count": 18,
   "metadata": {},
   "outputs": [
    {
     "name": "stdout",
     "output_type": "stream",
     "text": [
      "dict_keys(['name', 'height', 'job', 'bag', 'happy'])\n",
      "dict_values(['rabbit', '165', 'developer', ['lipmask', 'toothbrush', 'water'], True])\n",
      "dict_items([('name', 'rabbit'), ('height', '165'), ('job', 'developer'), ('bag', ['lipmask', 'toothbrush', 'water']), ('happy', True)])\n",
      "rabbit\n"
     ]
    }
   ],
   "source": [
    "print(my_dict.keys())\n",
    "print(my_dict.values())\n",
    "print(my_dict.items())\n",
    "print(my_dict['name'])"
   ]
  },
  {
   "cell_type": "code",
   "execution_count": 19,
   "metadata": {},
   "outputs": [
    {
     "name": "stdout",
     "output_type": "stream",
     "text": [
      "squirrel\n"
     ]
    }
   ],
   "source": [
    "my_dict['name'] = 'squirrel'\n",
    "print(my_dict['name'])"
   ]
  },
  {
   "cell_type": "code",
   "execution_count": 20,
   "metadata": {},
   "outputs": [
    {
     "name": "stdout",
     "output_type": "stream",
     "text": [
      "dict_keys(['name', 'height', 'job', 'bag', 'happy', 'hobby'])\n"
     ]
    }
   ],
   "source": [
    "my_dict['hobby'] = 'eat'\n",
    "print(my_dict.keys())"
   ]
  },
  {
   "cell_type": "code",
   "execution_count": 21,
   "metadata": {},
   "outputs": [
    {
     "name": "stdout",
     "output_type": "stream",
     "text": [
      "dict_keys(['name', 'height', 'job', 'bag', 'hobby'])\n"
     ]
    }
   ],
   "source": [
    "del my_dict['happy']\n",
    "print(my_dict.keys())"
   ]
  },
  {
   "cell_type": "markdown",
   "metadata": {},
   "source": [
    "---\n",
    "실습문제"
   ]
  },
  {
   "cell_type": "markdown",
   "metadata": {},
   "source": [
    "### **문제 1**\n",
    "\n",
    "아래 조건을 만족하는 딕셔너리를 생성하세요.\n",
    "\n",
    "1. `student`라는 이름의 딕셔너리를 선언하고 다음 키-값 쌍을 추가하세요:\n",
    "    - `'name'`: `'John'`\n",
    "    - `'age'`: `20`\n",
    "    - `'major'`: `'Computer Science'`\n",
    "2. `'age'`의 값을 출력하세요."
   ]
  },
  {
   "cell_type": "code",
   "execution_count": 22,
   "metadata": {},
   "outputs": [
    {
     "name": "stdout",
     "output_type": "stream",
     "text": [
      "20\n"
     ]
    }
   ],
   "source": [
    "student = {\n",
    "    'name': 'John',\n",
    "    'age': 20,\n",
    "    'major': 'Computer Science'\n",
    "}\n",
    "print(student['age'])"
   ]
  },
  {
   "cell_type": "markdown",
   "metadata": {},
   "source": [
    "### **문제 2**\n",
    "\n",
    "아래 조건에 맞게 딕셔너리를 수정하세요.\n",
    "\n",
    "1. `scores`라는 딕셔너리에 `'math': 80, 'english': 90`을 저장하세요.\n",
    "2. `'math'`의 값을 `95`로 변경하고 딕셔너리를 출력하세요."
   ]
  },
  {
   "cell_type": "code",
   "execution_count": 25,
   "metadata": {},
   "outputs": [
    {
     "name": "stdout",
     "output_type": "stream",
     "text": [
      "dict_values([95, 90])\n"
     ]
    }
   ],
   "source": [
    "scores = {\n",
    "    'math': 80,\n",
    "    'english': 90\n",
    "}\n",
    "scores['math'] = 95\n",
    "print(scores.values())"
   ]
  },
  {
   "cell_type": "markdown",
   "metadata": {},
   "source": [
    "### **문제 3**\n",
    "\n",
    "다음 조건에 맞게 딕셔너리를 조작하세요.\n",
    "\n",
    "1. `students` 딕셔너리에 `'student1': 85, 'student2': 90, 'student3': 95`를 저장하세요.\n",
    "2. `pop()` 메서드를 사용해 `'student2'`의 값을 제거하고, 제거된 값을 출력하세요."
   ]
  },
  {
   "cell_type": "code",
   "execution_count": 27,
   "metadata": {},
   "outputs": [
    {
     "name": "stdout",
     "output_type": "stream",
     "text": [
      "dict_keys(['student1', 'student3'])\n"
     ]
    }
   ],
   "source": [
    "students = {\n",
    "    'student1': 85,\n",
    "    'student2': 90,\n",
    "    'student3': 95\n",
    "}\n",
    "students.pop('student2')\n",
    "print(students.keys())"
   ]
  },
  {
   "cell_type": "code",
   "execution_count": null,
   "metadata": {},
   "outputs": [],
   "source": []
  }
 ],
 "metadata": {
  "kernelspec": {
   "display_name": "pystudy_env",
   "language": "python",
   "name": "python3"
  },
  "language_info": {
   "codemirror_mode": {
    "name": "ipython",
    "version": 3
   },
   "file_extension": ".py",
   "mimetype": "text/x-python",
   "name": "python",
   "nbconvert_exporter": "python",
   "pygments_lexer": "ipython3",
   "version": "3.12.9"
  }
 },
 "nbformat": 4,
 "nbformat_minor": 2
}
