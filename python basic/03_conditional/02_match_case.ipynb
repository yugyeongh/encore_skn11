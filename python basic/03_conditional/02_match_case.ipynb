{
 "cells": [
  {
   "cell_type": "markdown",
   "metadata": {},
   "source": [
    "## **문제 9: 음료 자판기**\n",
    "\n",
    "**\"토끼의 음료 선택\"**\n",
    "\n",
    "목이 마른 토끼가 음료 자판기 앞에 섰습니다.\n",
    "\n",
    "1. 사용자에게 \"음료선택 (1.콜라 2.사이다 3.쥬스) : \"를 입력받으세요.\n",
    "2. 입력값이 `'1'`이면 **\"콜라를 선택하셨습니다.\"**를 출력하세요.\n",
    "3. 입력값이 `'2'`이면 **\"사이다를 선택하셨습니다.\"**를 출력하세요.\n",
    "4. 입력값이 `'3'`이면 **\"주스를 선택하셨습니다.\"**를 출력하세요.\n",
    "5. 그 외의 값이 입력되면 **\"잘못 선택하셨습니다.\"**를 출력하세요."
   ]
  },
  {
   "cell_type": "code",
   "execution_count": null,
   "metadata": {},
   "outputs": [],
   "source": [
    "num = int(input('음료선택 (1. 콜라 2. 사이다 3.쥬스)): ')\n",
    "\n",
    "match 변수 or 값:\n",
    "    case 1:\n",
    "        print('콜라를 선택하셨습니다.')\n",
    "        break\n",
    "    case 2:\n",
    "        print('사이다를 선택하셨습니다.')\n",
    "        break\n",
    "    case 3:\n",
    "        print('쥬스를 선택하셨습니다.')\n",
    "        break\n",
    "    default:\n",
    "        print('잘못된 선택입니다.')"
   ]
  }
 ],
 "metadata": {
  "kernelspec": {
   "display_name": "pystudy_env",
   "language": "python",
   "name": "python3"
  },
  "language_info": {
   "name": "python",
   "version": "3.12.9"
  }
 },
 "nbformat": 4,
 "nbformat_minor": 2
}
