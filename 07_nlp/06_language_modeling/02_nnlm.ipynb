{
 "cells": [
  {
   "cell_type": "markdown",
   "metadata": {},
   "source": [
    "# NNLM (Neural Network Language Model)"
   ]
  },
  {
   "cell_type": "code",
   "execution_count": 1,
   "metadata": {},
   "outputs": [],
   "source": [
    "import torch\n",
    "import torch.nn as nn\n",
    "import torch.optim as optim"
   ]
  },
  {
   "cell_type": "code",
   "execution_count": 3,
   "metadata": {},
   "outputs": [],
   "source": [
    "class NNLM(nn.Module):\n",
    "    def __init__(self, vocab_size, embed_size, hidden_size, context_size):\n",
    "        super(NNLM, self).__init__()\n",
    "        self.embed = nn.Embedding(vocab_size, embed_size)\n",
    "        self.fc1 = nn.Linear(context_size * embed_size, hidden_size)        # 선형층 통과\n",
    "        self.relu = nn.ReLU()\n",
    "        self.fc2 = nn.Linear(hidden_size, vocab_size)\n",
    "        self.log_softmax = nn.LogSoftmax(dim=1)\n",
    "\n",
    "    def forward(self, x):\n",
    "        embeds = self.embed(x)\n",
    "        embeds = embeds.view(embeds.size(0), -1)\n",
    "        output = self.fc1(embeds)       # 위에서 선형층을 통과해서 평탄화한 embeds를 넣어줌\n",
    "        output = self.relu(output)\n",
    "        output = self.fc2(output)\n",
    "        log_probs = self.log_softmax(output)\n",
    "        return log_probs"
   ]
  },
  {
   "cell_type": "code",
   "execution_count": null,
   "metadata": {},
   "outputs": [
    {
     "name": "stdout",
     "output_type": "stream",
     "text": [
      "NNLM(\n",
      "  (embed): Embedding(5000, 300)\n",
      "  (fc1): Linear(in_features=600, out_features=128, bias=True)\n",
      "  (relu): ReLU()\n",
      "  (fc2): Linear(in_features=128, out_features=5000, bias=True)\n",
      "  (log_softmax): LogSoftmax(dim=1)\n",
      ")\n"
     ]
    }
   ],
   "source": [
    "VOCAB_SIZE = 5000\n",
    "EMBED_SIZE = 300\n",
    "HIDDEN_SIZE = 128\n",
    "CONTEXT_SIZE = 2\n",
    "\n",
    "model = NNLM(VOCAB_SIZE, EMBED_SIZE, HIDDEN_SIZE, CONTEXT_SIZE)\n",
    "print(model)\n",
    "\n",
    "'''\n",
    "NNLM(\n",
    "  (embed): Embedding(5000, 300)             # \n",
    "  (fc1): Linear(in_features=600, out_features=128, bias=True)       # input은 600, output 뉴런층은 128\n",
    "  (relu): ReLU()\n",
    "  (fc2): Linear(in_features=128, out_features=5000, bias=True)      # vocab_size만큼 반환해서 다음으로 오는 단어 예측\n",
    "  (log_softmax): LogSoftmax(dim=1)\n",
    ")\n",
    "'''"
   ]
  },
  {
   "cell_type": "code",
   "execution_count": 8,
   "metadata": {},
   "outputs": [],
   "source": [
    "X = torch.randint(0, VOCAB_SIZE, (8, CONTEXT_SIZE))     # 8개의 샘플\n",
    "y = torch.randint(0, VOCAB_SIZE, (8,))                  # 8개의 단어 뒤에 올 8개의 단어"
   ]
  },
  {
   "cell_type": "code",
   "execution_count": null,
   "metadata": {},
   "outputs": [
    {
     "name": "stdout",
     "output_type": "stream",
     "text": [
      "8.713176727294922\n"
     ]
    }
   ],
   "source": [
    "criterion = nn.NLLLoss()                # Negative Log Likelihood\n",
    "optimizer = optim.Adam(model.parameters(), lr=0.01)\n",
    "\n",
    "# 1회 학습\n",
    "model.train()\n",
    "optimizer.zero_grad()\n",
    "output = model(X)\n",
    "loss = criterion(output, y)\n",
    "loss.backward()\n",
    "optimizer.step()\n",
    "\n",
    "# 1회 학습 후 손실 값\n",
    "print(loss.item())"
   ]
  }
 ],
 "metadata": {
  "kernelspec": {
   "display_name": "base",
   "language": "python",
   "name": "python3"
  },
  "language_info": {
   "codemirror_mode": {
    "name": "ipython",
    "version": 3
   },
   "file_extension": ".py",
   "mimetype": "text/x-python",
   "name": "python",
   "nbconvert_exporter": "python",
   "pygments_lexer": "ipython3",
   "version": "3.12.7"
  }
 },
 "nbformat": 4,
 "nbformat_minor": 2
}
