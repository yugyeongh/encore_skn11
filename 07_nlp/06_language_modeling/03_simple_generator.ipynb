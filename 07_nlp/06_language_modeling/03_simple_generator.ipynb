{
 "cells": [
  {
   "cell_type": "markdown",
   "metadata": {},
   "source": [
    "# ngram 기반의 간단한 텍스트 생성기"
   ]
  },
  {
   "cell_type": "code",
   "execution_count": 8,
   "metadata": {},
   "outputs": [],
   "source": [
    "import nltk\n",
    "from nltk.util import ngrams\n",
    "from collections import Counter\n",
    "import random"
   ]
  },
  {
   "cell_type": "code",
   "execution_count": 9,
   "metadata": {},
   "outputs": [],
   "source": [
    "def generate_text_bigram(seed, unigram_freq, bigram_freq, max_len=10):\n",
    "    current_word = seed     # seed: 가장 처음에 올 단어\n",
    "    generated = [current_word]\n",
    "\n",
    "    for _ in range(max_len - 1):        # -1을 하는 이유: seed를 추가했기 때문\n",
    "        candidates = [(bigram, freq) for bigram, freq in bigram_freq.items() if bigram[0] == current_word]\n",
    "        if not candidates:              # 빈 배열인 경우 == 뒤에 올 단어가 없다는 것을 의미\n",
    "            break\n",
    "\n",
    "        words, freqs = zip(*[(bigram[1], freq) for bigram, freq in candidates])\n",
    "        total = sum(freqs)\n",
    "        probs = [f / total for f in freqs]\n",
    "\n",
    "        next_word = random.choices(words, weights=probs)[0]      # 확률이 높은게 하나가 아닐 수 있어서 확률(probs)로 가중치를 줘서 확률이 높은 걸 더 많이 선택하도록 함 # random.choices니까 words 중에서 0번째꺼 하나만 가져오게 작성해줌\n",
    "        generated.append(next_word)\n",
    "        current_word = next_word\n",
    "    \n",
    "    return ' '.join(generated)\n"
   ]
  },
  {
   "cell_type": "code",
   "execution_count": 10,
   "metadata": {},
   "outputs": [],
   "source": [
    "train_text = '자연어 처리는 재미있다. 자연어 처리는 어렵지만 도전하고 싶다. 오늘은 날씨가 좋다.'\n",
    "\n",
    "train_tokens = nltk.word_tokenize(train_text)\n",
    "unigrams = train_tokens\n",
    "bigrams = list(ngrams(train_tokens, 2))\n",
    "unigram_freq = Counter(unigrams)\n",
    "bigram_freq = Counter(bigrams)"
   ]
  },
  {
   "cell_type": "code",
   "execution_count": 11,
   "metadata": {},
   "outputs": [
    {
     "data": {
      "text/plain": [
       "'자연어 처리는 어렵지만 도전하고 싶다'"
      ]
     },
     "execution_count": 11,
     "metadata": {},
     "output_type": "execute_result"
    }
   ],
   "source": [
    "generate_text_bigram('자연어', unigram_freq, bigram_freq, max_len=5)"
   ]
  }
 ],
 "metadata": {
  "kernelspec": {
   "display_name": "base",
   "language": "python",
   "name": "python3"
  },
  "language_info": {
   "codemirror_mode": {
    "name": "ipython",
    "version": 3
   },
   "file_extension": ".py",
   "mimetype": "text/x-python",
   "name": "python",
   "nbconvert_exporter": "python",
   "pygments_lexer": "ipython3",
   "version": "3.12.7"
  }
 },
 "nbformat": 4,
 "nbformat_minor": 2
}
