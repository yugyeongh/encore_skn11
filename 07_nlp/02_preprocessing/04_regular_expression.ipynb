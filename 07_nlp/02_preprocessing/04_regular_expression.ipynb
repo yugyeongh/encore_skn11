{
 "cells": [
  {
   "cell_type": "markdown",
   "metadata": {},
   "source": [
    "# 정규표현식 (Regular Expression)\n",
    "- 특정한 규칙을 가진 문자열을 찾기 위한 패턴\n",
    "- 정규 표현식을 사용하면 대량의 텍스트 데이터에서 특정 패턴을 효율적으로 추출, 삭제, 대체 가능"
   ]
  },
  {
   "cell_type": "code",
   "execution_count": 3,
   "metadata": {},
   "outputs": [],
   "source": [
    "import re"
   ]
  },
  {
   "cell_type": "markdown",
   "metadata": {},
   "source": [
    "##### 임의의 한 글자 ."
   ]
  },
  {
   "cell_type": "code",
   "execution_count": null,
   "metadata": {},
   "outputs": [
    {
     "name": "stdout",
     "output_type": "stream",
     "text": [
      "<re.Match object; span=(0, 3), match='abc'>\n",
      "<re.Match object; span=(0, 3), match='aXc'>\n",
      "<re.Match object; span=(0, 3), match='a c'>\n",
      "<re.Match object; span=(10, 13), match='abc'>\n",
      "None\n",
      "None\n",
      "None\n"
     ]
    }
   ],
   "source": [
    "reg_exp = re.compile('a.c')     # .으로 임의의 한 글자 가져오기\n",
    "\n",
    "# <re.Match object; span=(0, 3), match='문자열'>    # span: 위치를 나타내줌\n",
    "print(reg_exp.search('abc'))    # 실제로 일치한 문자열을 가져옴\n",
    "print(reg_exp.search('aXc'))    # 실제로 일치한 문자열을 가져옴\n",
    "print(reg_exp.search('a c'))    # 실제로 일치한 문자열을 가져옴\n",
    "\n",
    "# 앞 뒤 글자 + ac 사이 임의의 한 글자\n",
    "print(reg_exp.search('adfdgsgdsaabcdsgsdgsd'))  # <re.Match object; span=(10, 13), match='abc'>\n",
    "\n",
    "# 임의의 한 글자가 아닌 여러 글자\n",
    "print(reg_exp.search('abbbbbbbbbbbc'))          # None\n",
    "\n",
    "print(reg_exp.search('ac'))\n",
    "print(reg_exp.search('bc'))"
   ]
  },
  {
   "cell_type": "markdown",
   "metadata": {},
   "source": [
    "##### 수량자 *: 0개 이상"
   ]
  },
  {
   "cell_type": "code",
   "execution_count": null,
   "metadata": {},
   "outputs": [
    {
     "name": "stdout",
     "output_type": "stream",
     "text": [
      "<re.Match object; span=(0, 2), match='ac'>\n",
      "None\n",
      "<re.Match object; span=(0, 18), match='abbbbbbbbbbbbbbbbc'>\n"
     ]
    }
   ],
   "source": [
    "reg_exp = re.compile('ab*c')    # a로 시작 + b가 0개 이상 + c로 끝\n",
    "\n",
    "print(reg_exp.search('ac'))     # 조건문으로 쓰려면 None인지 아닌지만 탐색하기\n",
    "print(reg_exp.search('ab'))\n",
    "print(reg_exp.search('abbbbbbbbbbbbbbbbc'))\n",
    "\n",
    "'''\n",
    "if reg_exp.search('ac'):  # None이 아니면 True로 평가됨\n",
    "    print(\"매칭됨!\")\n",
    "else:\n",
    "    print(\"매칭 안 됨!\")\n",
    "'''"
   ]
  },
  {
   "cell_type": "markdown",
   "metadata": {},
   "source": [
    "##### 수량자 ?: 물음표 의미는 0개 또는 1개"
   ]
  },
  {
   "cell_type": "code",
   "execution_count": null,
   "metadata": {},
   "outputs": [
    {
     "name": "stdout",
     "output_type": "stream",
     "text": [
      "<re.Match object; span=(0, 2), match='ac'>\n",
      "None\n",
      "None\n"
     ]
    }
   ],
   "source": [
    "reg_exp = re.compile('ab?c')    # a로 시작 + b가 0개 또는 1개 + c로 끝\n",
    "\n",
    "print(reg_exp.search('ac'))     # 조건문으로 쓰려면 None인지 아닌지만 탐색하기\n",
    "print(reg_exp.search('ab'))\n",
    "print(reg_exp.search('abbbbbbbbbbbbbbbbc'))"
   ]
  },
  {
   "cell_type": "markdown",
   "metadata": {},
   "source": [
    "##### 수량자 +"
   ]
  },
  {
   "cell_type": "code",
   "execution_count": null,
   "metadata": {},
   "outputs": [
    {
     "name": "stdout",
     "output_type": "stream",
     "text": [
      "None\n",
      "None\n",
      "<re.Match object; span=(0, 3), match='abc'>\n",
      "None\n",
      "<re.Match object; span=(0, 18), match='abbbbbbbbbbbbbbbbc'>\n"
     ]
    }
   ],
   "source": [
    "reg_exp = re.compile('ab+c')  # a로 시작 + b가 1개 이상 + c로 끝\n",
    "\n",
    "print(reg_exp.search('ac'))    \n",
    "print(reg_exp.search('ab'))\n",
    "print(reg_exp.search('abc'))\n",
    "print(reg_exp.search('adc'))\n",
    "print(reg_exp.search('abbbbbbbbbbbbbbbbc'))"
   ]
  },
  {
   "cell_type": "markdown",
   "metadata": {},
   "source": [
    "##### 수량자 {n} : n개"
   ]
  },
  {
   "cell_type": "code",
   "execution_count": null,
   "metadata": {},
   "outputs": [
    {
     "name": "stdout",
     "output_type": "stream",
     "text": [
      "None\n",
      "<re.Match object; span=(0, 3), match='abc'>\n",
      "<re.Match object; span=(0, 4), match='abbc'>\n",
      "<re.Match object; span=(0, 5), match='abbbc'>\n",
      "None\n"
     ]
    }
   ],
   "source": [
    "reg_exp = re.compile('ab{3}c')  # a로 시작 + b가 n개 + c로 끝\n",
    "\n",
    "print(reg_exp.search('ac'))    \n",
    "print(reg_exp.search('abc'))\n",
    "print(reg_exp.search('abbc'))\n",
    "print(reg_exp.search('abbbc'))\n",
    "print(reg_exp.search('abbbbc'))"
   ]
  },
  {
   "cell_type": "markdown",
   "metadata": {},
   "source": [
    "##### 수량자 {min, max}"
   ]
  },
  {
   "cell_type": "code",
   "execution_count": null,
   "metadata": {},
   "outputs": [],
   "source": [
    "reg_exp = re.compile('ab{1,3}c')  # a로 시작 + b가 min{1}개 이상 max{3}개 이하 + c로 끝\n",
    "\n",
    "print(reg_exp.search('ac'))    \n",
    "print(reg_exp.search('abc'))\n",
    "print(reg_exp.search('abbc'))\n",
    "print(reg_exp.search('abbbc'))\n",
    "print(reg_exp.search('abbbbc'))"
   ]
  },
  {
   "cell_type": "markdown",
   "metadata": {},
   "source": [
    "##### 정규표현식에 맞는 패턴을 다 찾고 싶다면?"
   ]
  },
  {
   "cell_type": "markdown",
   "metadata": {},
   "source": []
  },
  {
   "cell_type": "code",
   "execution_count": null,
   "metadata": {},
   "outputs": [
    {
     "name": "stdout",
     "output_type": "stream",
     "text": [
      "<re.Match object; span=(8, 11), match='abc'>\n",
      "<re.Match object; span=(21, 24), match='abc'>\n"
     ]
    }
   ],
   "source": [
    "reg_exp = re.compile('a.c')\n",
    "text = 'adsfdsfsabckjkljlkjklabciuioupoi'\n",
    "\n",
    "reg_exp.search(text)        # <re.Match object; span=(8, 11), match='abc'> # (8,11)에 있는 a.c 하나를 찾은거임\n",
    "\n",
    "# a.c가 들어가는 모든 곳 찾기\n",
    "for temp in re.finditer(reg_exp, text):\n",
    "    print(temp)"
   ]
  },
  {
   "cell_type": "markdown",
   "metadata": {},
   "source": [
    "##### 문자 매칭 [] : []안에 있는 것 중 한 글자"
   ]
  },
  {
   "cell_type": "code",
   "execution_count": 20,
   "metadata": {},
   "outputs": [
    {
     "name": "stdout",
     "output_type": "stream",
     "text": [
      "<re.Match object; span=(7, 8), match='a'>\n",
      "<re.Match object; span=(7, 8), match='c'>\n",
      "None\n"
     ]
    }
   ],
   "source": [
    "reg_exp = re.compile('[abc]')        \n",
    "print(reg_exp.search('안녕하세요, abc입니다.'))\n",
    "print(reg_exp.search('안녕하세요, cba입니다.'))\n",
    "print(reg_exp.search('안녕하세요, ABC입니다.'))"
   ]
  },
  {
   "cell_type": "code",
   "execution_count": null,
   "metadata": {},
   "outputs": [
    {
     "name": "stdout",
     "output_type": "stream",
     "text": [
      "<re.Match object; span=(7, 8), match='a'>\n",
      "<re.Match object; span=(7, 8), match='c'>\n",
      "<re.Match object; span=(7, 8), match='A'>\n"
     ]
    }
   ],
   "source": [
    "reg_exp = re.compile('[abc]', re.IGNORECASE)  # re.IGNORECASE : 대문자를 무시      \n",
    "print(reg_exp.search('안녕하세요, abc입니다.'))\n",
    "print(reg_exp.search('안녕하세요, cba입니다.'))\n",
    "print(reg_exp.search('안녕하세요, ABC입니다.'))"
   ]
  },
  {
   "cell_type": "code",
   "execution_count": null,
   "metadata": {},
   "outputs": [
    {
     "name": "stdout",
     "output_type": "stream",
     "text": [
      "<re.Match object; span=(0, 1), match='X'>\n"
     ]
    }
   ],
   "source": [
    "# reg_exp = re.compile('[abcdefghijklmnopqrstuvwxyz]')\n",
    "reg_exp = re.compile('[a-zA-Z]')        # 대문자가 먼저 걸려 나옴\n",
    "\n",
    "print(reg_exp.search('X, 안녕하세요 x!'))"
   ]
  },
  {
   "cell_type": "code",
   "execution_count": null,
   "metadata": {},
   "outputs": [
    {
     "name": "stdout",
     "output_type": "stream",
     "text": [
      "<re.Match object; span=(0, 1), match='3'>\n"
     ]
    }
   ],
   "source": [
    "reg_exp = re.compile('[a-zA-Z0-9]')     # 숫자부터 걸려 나옴\n",
    "\n",
    "print(reg_exp.search('300살 X님, 안녕하세요 x!'))"
   ]
  },
  {
   "cell_type": "markdown",
   "metadata": {},
   "source": [
    "##### 시작하는 문자열 ^"
   ]
  },
  {
   "cell_type": "code",
   "execution_count": null,
   "metadata": {},
   "outputs": [
    {
     "name": "stdout",
     "output_type": "stream",
     "text": [
      "<re.Match object; span=(0, 3), match='who'>\n",
      "['who', 'who']\n",
      "['who']\n"
     ]
    }
   ],
   "source": [
    "reg_exp = re.compile('^who')\n",
    "\n",
    "print(reg_exp.search('who is who'))\n",
    "\n",
    "print(re.findall('who','who is who'))   # ['who', 'who']    # 문자열이 가지고 있는 who를 모두 반환\n",
    "print(re.findall('^who','who is who'))  # ['who']           # 문자열이 who로 시작하는지 탐색"
   ]
  },
  {
   "cell_type": "code",
   "execution_count": null,
   "metadata": {},
   "outputs": [
    {
     "name": "stdout",
     "output_type": "stream",
     "text": [
      "None\n",
      "['who', 'who']\n",
      "[]\n"
     ]
    }
   ],
   "source": [
    "print(reg_exp.search('is who'))         # 문자열이 who로 시작하지 않아 None을 반환\n",
    "print(re.findall('who','who is who'))   \n",
    "print(re.findall('^who','is who'))"
   ]
  },
  {
   "cell_type": "markdown",
   "metadata": {},
   "source": [
    "### Syntax\n",
    "\n",
    "**정규 표현식 기본 문법**\n",
    "\n",
    "| 특수 문자 | 설명 | 예시 |\n",
    "|---|---|---|\n",
    "| . | 임의의 한 문자 | `a.c` : `abc`, `a1c` 등과 매치 |\n",
    "| ? | 앞 문자가 0개 또는 1개 있을 때 매치 | `ab?c` : `abc`, `ac`와 매치 |\n",
    "| * | 앞 문자가 0개 이상 있을 때 매치 | `ab*c` : `ac`, `abc`, `abbc` |\n",
    "| + | 앞 문자가 1개 이상 있을 때 매치 | `ab+c` : `abc`, `abbc` |\n",
    "| ^ | 문자열이 특정 문자로 시작할 때 매치 | `^abc` : `abcde`, `abc`와 매치 |\n",
    "| $ | 문자열이 특정 문자로 끝날 때 매치 | `abc$` : `deabc`, `abc`와 매치 |\n",
    "| {n} | 문자가 정확히 n번 반복될 때 매치 | `a{2}b` : `aab`와 매치 |\n",
    "| {n,m} | 문자가 n번 이상 m번 이하 반복될 때 매치 | `a{2,4}b` : `aab`, `aaab`, `aaaab` |\n",
    "| [ ] | 대괄호 안의 문자 중 하나와 매치 | `[abc]` : `a`, `b`, `c` |\n",
    "| [^ ] | 대괄호 안의 문자 제외하고 매치 | `[^abc]` : `d`, `e`, `1` |\n",
    "| \\| | OR 연산자로 둘 중 하나와 매치 | `a\\|b` : `a` 또는 `b` |\n"
   ]
  },
  {
   "cell_type": "markdown",
   "metadata": {},
   "source": [
    "### re 모듈 함수 & re 객체 메소드"
   ]
  },
  {
   "cell_type": "markdown",
   "metadata": {},
   "source": [
    "##### 메소드 search() : 문자열 패턴 검사"
   ]
  },
  {
   "cell_type": "code",
   "execution_count": 31,
   "metadata": {},
   "outputs": [
    {
     "name": "stdout",
     "output_type": "stream",
     "text": [
      "<re.Match object; span=(0, 2), match='ab'>\n",
      "None\n",
      "<re.Match object; span=(3, 5), match='ab'>\n"
     ]
    }
   ],
   "source": [
    "reg_exp = re.compile('ab')\n",
    "print(reg_exp.search('abc'))\n",
    "print(reg_exp.search('123'))\n",
    "print(reg_exp.search('123abc'))"
   ]
  },
  {
   "cell_type": "markdown",
   "metadata": {},
   "source": [
    "##### 메소드 match() : 시작하는 문자열 패턴 검사"
   ]
  },
  {
   "cell_type": "code",
   "execution_count": 32,
   "metadata": {},
   "outputs": [
    {
     "name": "stdout",
     "output_type": "stream",
     "text": [
      "<re.Match object; span=(0, 2), match='ab'>\n",
      "None\n",
      "None\n"
     ]
    }
   ],
   "source": [
    "reg_exp = re.compile('ab')\n",
    "print(reg_exp.match('abc'))\n",
    "print(reg_exp.match('123'))\n",
    "print(reg_exp.match('123abc'))"
   ]
  },
  {
   "cell_type": "markdown",
   "metadata": {},
   "source": [
    "##### 함수 split() : 정규식 패턴으로 분할"
   ]
  },
  {
   "cell_type": "code",
   "execution_count": 35,
   "metadata": {},
   "outputs": [
    {
     "data": {
      "text/plain": [
       "['Apple ', 'anana ', 'range']"
      ]
     },
     "execution_count": 35,
     "metadata": {},
     "output_type": "execute_result"
    }
   ],
   "source": [
    "text = 'Apple Banana Orange'\n",
    "split_text = re.split('[BO]', text, flags=re.IGNORECASE)\n",
    "split_text"
   ]
  },
  {
   "cell_type": "markdown",
   "metadata": {},
   "source": [
    "##### 함수 findall() : 매칭된 결과를 모두 반환"
   ]
  },
  {
   "cell_type": "code",
   "execution_count": null,
   "metadata": {},
   "outputs": [
    {
     "data": {
      "text/plain": [
       "['010-1234-5678']"
      ]
     },
     "execution_count": 37,
     "metadata": {},
     "output_type": "execute_result"
    }
   ],
   "source": [
    "text = '제 전화번호는 010-1234-5678 입니다.'\n",
    "nums = re.findall('[0-9]+', text)\n",
    "nums = re.findall('[0-9]+-[0-9]+-[0-9]+', text)     # 하이픈까지 가져오기\n",
    "nums"
   ]
  },
  {
   "cell_type": "markdown",
   "metadata": {},
   "source": [
    "##### 함수 sub()"
   ]
  },
  {
   "cell_type": "code",
   "execution_count": null,
   "metadata": {},
   "outputs": [
    {
     "data": {
      "text/plain": [
       "'Hello everyone Welcome to NLP'"
      ]
     },
     "execution_count": 39,
     "metadata": {},
     "output_type": "execute_result"
    }
   ],
   "source": [
    "text = 'Hello, everyone! Welcome to NLP🤩🤩🤩'\n",
    "\n",
    "# sub(정규식, 문자열, 대상이 되는 문자열)\n",
    "sub_text = re.sub('[^a-zA-Z ]','', text)    # ^은 not의 의미를 가져서 소문자 대문자 공백이 아닌 것을 정해준 문자열로 바꿈\n",
    "sub_text    "
   ]
  },
  {
   "cell_type": "markdown",
   "metadata": {},
   "source": [
    "### 정규표현식 토큰화"
   ]
  },
  {
   "cell_type": "code",
   "execution_count": null,
   "metadata": {},
   "outputs": [
    {
     "data": {
      "text/plain": [
       "['He',\n",
       " 's',\n",
       " 'a',\n",
       " 'runner',\n",
       " 'but',\n",
       " 'not',\n",
       " 'a',\n",
       " 'long_distance',\n",
       " 'runner',\n",
       " 'His',\n",
       " 'number',\n",
       " 'is',\n",
       " '1234']"
      ]
     },
     "execution_count": 44,
     "metadata": {},
     "output_type": "execute_result"
    }
   ],
   "source": [
    "from nltk.tokenize import RegexpTokenizer\n",
    "\n",
    "text = \"He's a runner, but not a long_distance runner. His number is 1234.\"\n",
    "\n",
    "# 객체 생성\n",
    "# tokenizer = RegexpTokenizer('[a-zA-Z0-9_]+')     # 한 개 이상이 반복되는 패턴을 찾겠다!\n",
    "tokenizer = RegexpTokenizer(r'\\w+')     # \\w: 영문자, 숫자, _를 허용 # 위와 같은 결과가 나옴\n",
    "\n",
    "# 토큰화\n",
    "tokens = tokenizer.tokenize(text)\n",
    "tokens"
   ]
  }
 ],
 "metadata": {
  "kernelspec": {
   "display_name": "base",
   "language": "python",
   "name": "python3"
  },
  "language_info": {
   "codemirror_mode": {
    "name": "ipython",
    "version": 3
   },
   "file_extension": ".py",
   "mimetype": "text/x-python",
   "name": "python",
   "nbconvert_exporter": "python",
   "pygments_lexer": "ipython3",
   "version": "3.12.7"
  }
 },
 "nbformat": 4,
 "nbformat_minor": 2
}
