{
 "cells": [
  {
   "cell_type": "markdown",
   "metadata": {},
   "source": [
    "# 정규표현식 (Regular Expression)\n",
    "- 특정한 규칙을 가진 문자열을 찾기 위한 패턴\n",
    "- 정규 표현식을 사용하면 대량의 텍스트 데이터에서 특정 패턴을 효율적으로 추출, 삭제, 대체 가능"
   ]
  },
  {
   "cell_type": "code",
   "execution_count": 3,
   "metadata": {},
   "outputs": [],
   "source": [
    "import re"
   ]
  },
  {
   "cell_type": "markdown",
   "metadata": {},
   "source": [
    "##### 임의의 한 글자 ."
   ]
  },
  {
   "cell_type": "code",
   "execution_count": null,
   "metadata": {},
   "outputs": [
    {
     "name": "stdout",
     "output_type": "stream",
     "text": [
      "<re.Match object; span=(0, 3), match='abc'>\n",
      "<re.Match object; span=(0, 3), match='aXc'>\n",
      "<re.Match object; span=(0, 3), match='a c'>\n",
      "<re.Match object; span=(10, 13), match='abc'>\n",
      "None\n",
      "None\n",
      "None\n"
     ]
    }
   ],
   "source": [
    "reg_exp = re.compile('a.c')     # .으로 임의의 한 글자 가져오기\n",
    "\n",
    "# <re.Match object; span=(0, 3), match='문자열'>    # span: 위치를 나타내줌\n",
    "print(reg_exp.search('abc'))    # 실제로 일치한 문자열을 가져옴\n",
    "print(reg_exp.search('aXc'))    # 실제로 일치한 문자열을 가져옴\n",
    "print(reg_exp.search('a c'))    # 실제로 일치한 문자열을 가져옴\n",
    "\n",
    "# 앞 뒤 글자 + ac 사이 임의의 한 글자\n",
    "print(reg_exp.search('adfdgsgdsaabcdsgsdgsd'))  # <re.Match object; span=(10, 13), match='abc'>\n",
    "\n",
    "# 임의의 한 글자가 아닌 여러 글자\n",
    "print(reg_exp.search('abbbbbbbbbbbc'))          # None\n",
    "\n",
    "print(reg_exp.search('ac'))\n",
    "print(reg_exp.search('bc'))"
   ]
  },
  {
   "cell_type": "markdown",
   "metadata": {},
   "source": [
    "##### 수량자 *: 0개 이상"
   ]
  },
  {
   "cell_type": "code",
   "execution_count": null,
   "metadata": {},
   "outputs": [
    {
     "name": "stdout",
     "output_type": "stream",
     "text": [
      "<re.Match object; span=(0, 2), match='ac'>\n",
      "None\n",
      "<re.Match object; span=(0, 18), match='abbbbbbbbbbbbbbbbc'>\n"
     ]
    }
   ],
   "source": [
    "reg_exp = re.compile('ab*c')    # a로 시작 + b가 0개 이상 + c로 끝\n",
    "\n",
    "print(reg_exp.search('ac'))     # 조건문으로 쓰려면 None인지 아닌지만 탐색하기\n",
    "print(reg_exp.search('ab'))\n",
    "print(reg_exp.search('abbbbbbbbbbbbbbbbc'))\n",
    "\n",
    "'''\n",
    "if reg_exp.search('ac'):  # None이 아니면 True로 평가됨\n",
    "    print(\"매칭됨!\")\n",
    "else:\n",
    "    print(\"매칭 안 됨!\")\n",
    "'''"
   ]
  },
  {
   "cell_type": "markdown",
   "metadata": {},
   "source": [
    "##### 수량자 ?"
   ]
  },
  {
   "cell_type": "markdown",
   "metadata": {},
   "source": [
    "##### 수량자 +"
   ]
  },
  {
   "cell_type": "markdown",
   "metadata": {},
   "source": [
    "##### 수량자 {n}"
   ]
  },
  {
   "cell_type": "markdown",
   "metadata": {},
   "source": [
    "##### 수량자 {min, max}"
   ]
  },
  {
   "cell_type": "code",
   "execution_count": null,
   "metadata": {},
   "outputs": [],
   "source": []
  }
 ],
 "metadata": {
  "kernelspec": {
   "display_name": "base",
   "language": "python",
   "name": "python3"
  },
  "language_info": {
   "codemirror_mode": {
    "name": "ipython",
    "version": 3
   },
   "file_extension": ".py",
   "mimetype": "text/x-python",
   "name": "python",
   "nbconvert_exporter": "python",
   "pygments_lexer": "ipython3",
   "version": "3.12.7"
  }
 },
 "nbformat": 4,
 "nbformat_minor": 2
}
