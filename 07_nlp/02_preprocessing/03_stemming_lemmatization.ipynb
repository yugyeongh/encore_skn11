{
 "cells": [
  {
   "cell_type": "markdown",
   "metadata": {},
   "source": [
    "# 어간/표제어 추출\n",
    "\n",
    "**어간 (Stem)**\n",
    "- 단어의 의미를 담고 있는 단어의 핵심 부분\n",
    "\n",
    "**표제어 (Lemma)**\n",
    "- 단어의 사전적 형태 (단어의 기본형)\n",
    "- 언어의 문법적 규칙에 따라 변형된 단어를 원래 형태로 돌려놓는 것\n",
    "\n",
    "**왜 추출할까?**\n",
    "1. 의미 일괄성\n",
    "2. 데이터 차원 감소\n",
    "3. 노이즈 감소\n",
    "4. 정확성 향상"
   ]
  },
  {
   "cell_type": "code",
   "execution_count": 3,
   "metadata": {},
   "outputs": [
    {
     "name": "stdout",
     "output_type": "stream",
     "text": [
      "Original Tokens: ['The', 'runners', 'were', 'running', 'swiftly', 'and', 'easily', '.', 'They', 'ran', 'past', 'the', 'finish', 'line', '.']\n",
      "Stemmed Words: ['the', 'runner', 'were', 'run', 'swiftli', 'and', 'easili', '.', 'they', 'ran', 'past', 'the', 'finish', 'line', '.']\n"
     ]
    }
   ],
   "source": [
    "# 어간 추출\n",
    "from nltk.stem import PorterStemmer     # 어간 추출을 위해 가져온 라이브러리\n",
    "from nltk.tokenize import word_tokenize\n",
    "\n",
    "text = \"The runners were running swiftly and easily. They ran past the finish line.\"\n",
    "\n",
    "# 토큰화\n",
    "tokens = word_tokenize(text)\n",
    "\n",
    "# PorterStemmer 객체 생성\n",
    "stemmer = PorterStemmer()\n",
    "\n",
    "# 어간 추출\n",
    "stemmed_tokens = [stemmer.stem(token) for token in tokens]\n",
    "\n",
    "print(\"Original Tokens:\", tokens)\n",
    "print(\"Stemmed Words:\", stemmed_tokens)"
   ]
  },
  {
   "cell_type": "code",
   "execution_count": 4,
   "metadata": {},
   "outputs": [
    {
     "name": "stdout",
     "output_type": "stream",
     "text": [
      "['The', 'runners', 'were', 'running', 'swiftly', 'and', 'easily', '.', 'They', 'ran', 'past', 'the', 'finish', 'line', '.']\n",
      "['The', 'runners', 'be', 'run', 'swiftly', 'and', 'easily', '.', 'They', 'run', 'past', 'the', 'finish', 'line', '.']\n"
     ]
    }
   ],
   "source": [
    "# 표제어 추출\n",
    "from nltk.stem import WordNetLemmatizer\n",
    "\n",
    "tokens = word_tokenize(text)\n",
    "\n",
    "lemmatizer = WordNetLemmatizer()\n",
    "lemmatized_tokens = [lemmatizer.lemmatize(token, pos='v') for token in tokens]\n",
    "\n",
    "print(tokens)\n",
    "print(lemmatized_tokens)"
   ]
  }
 ],
 "metadata": {
  "kernelspec": {
   "display_name": "base",
   "language": "python",
   "name": "python3"
  },
  "language_info": {
   "codemirror_mode": {
    "name": "ipython",
    "version": 3
   },
   "file_extension": ".py",
   "mimetype": "text/x-python",
   "name": "python",
   "nbconvert_exporter": "python",
   "pygments_lexer": "ipython3",
   "version": "3.12.7"
  }
 },
 "nbformat": 4,
 "nbformat_minor": 2
}
