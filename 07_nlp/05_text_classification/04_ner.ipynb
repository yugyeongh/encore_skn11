{
 "cells": [
  {
   "cell_type": "markdown",
   "metadata": {},
   "source": [
    "# NER"
   ]
  },
  {
   "cell_type": "markdown",
   "metadata": {},
   "source": [
    "- 데이터\n",
    "    - CoNLL - the Conference on Natural Language Learning\n",
    "    - https://github.com/Franck-Dernoncourt/NeuroNER"
   ]
  },
  {
   "cell_type": "code",
   "execution_count": 3,
   "metadata": {},
   "outputs": [],
   "source": [
    "import numpy as np\n",
    "import pandas as pd\n",
    "import matplotlib.pyplot as plt\n",
    "import tensorflow as tf\n",
    "import re"
   ]
  },
  {
   "cell_type": "code",
   "execution_count": 4,
   "metadata": {},
   "outputs": [],
   "source": [
    "ner_train_path = tf.keras.utils.get_file(\"ner_train.txt\", \"https://raw.githubusercontent.com/Franck-Dernoncourt/NeuroNER/refs/heads/master/neuroner/data/conll2003/en/train.txt\")\n",
    "ner_test_path = tf.keras.utils.get_file(\"ner_test.txt\", \"https://raw.githubusercontent.com/Franck-Dernoncourt/NeuroNER/refs/heads/master/neuroner/data/conll2003/en/test.txt\")"
   ]
  },
  {
   "cell_type": "markdown",
   "metadata": {},
   "source": [
    "### 데이터 전처리\n",
    "\n",
    "1. (word, ner) 변환\n",
    "2. 토큰화\n",
    "3. sequence 처리\n",
    "4. padding 처리"
   ]
  },
  {
   "cell_type": "code",
   "execution_count": 5,
   "metadata": {},
   "outputs": [],
   "source": [
    "# (word, ner) 변환\n",
    "def get_tagged_sentences(path):\n",
    "    temp = []\n",
    "    sentences = []\n",
    "\n",
    "    for line in open(path, 'r', encoding='utf-8'):\n",
    "        if line.startswith('-DOCSTART') or line[0] == '\\n':\n",
    "            if len(temp) > 0:\n",
    "                sentences.append(temp)\n",
    "                temp = []\n",
    "            continue\n",
    "\n",
    "        word, pos, chunk, ner = line.split()\n",
    "        ner = re.sub('\\n', '', ner)\n",
    "        word = word.lower()\n",
    "        temp.append((word, ner))\n",
    "        \n",
    "    return sentences"
   ]
  },
  {
   "cell_type": "code",
   "execution_count": null,
   "metadata": {},
   "outputs": [
    {
     "data": {
      "text/plain": [
       "[[('eu', 'B-ORG'),\n",
       "  ('rejects', 'O'),\n",
       "  ('german', 'B-MISC'),\n",
       "  ('call', 'O'),\n",
       "  ('to', 'O'),\n",
       "  ('boycott', 'O'),\n",
       "  ('british', 'B-MISC'),\n",
       "  ('lamb', 'O'),\n",
       "  ('.', 'O')],\n",
       " [('peter', 'B-PER'), ('blackburn', 'I-PER')],\n",
       " [('brussels', 'B-LOC'), ('1996-08-22', 'O')],\n",
       " [('the', 'O'),\n",
       "  ('european', 'B-ORG'),\n",
       "  ('commission', 'I-ORG'),\n",
       "  ('said', 'O'),\n",
       "  ('on', 'O'),\n",
       "  ('thursday', 'O'),\n",
       "  ('it', 'O'),\n",
       "  ('disagreed', 'O'),\n",
       "  ('with', 'O'),\n",
       "  ('german', 'B-MISC'),\n",
       "  ('advice', 'O'),\n",
       "  ('to', 'O'),\n",
       "  ('consumers', 'O'),\n",
       "  ('to', 'O'),\n",
       "  ('shun', 'O'),\n",
       "  ('british', 'B-MISC'),\n",
       "  ('lamb', 'O'),\n",
       "  ('until', 'O'),\n",
       "  ('scientists', 'O'),\n",
       "  ('determine', 'O'),\n",
       "  ('whether', 'O'),\n",
       "  ('mad', 'O'),\n",
       "  ('cow', 'O'),\n",
       "  ('disease', 'O'),\n",
       "  ('can', 'O'),\n",
       "  ('be', 'O'),\n",
       "  ('transmitted', 'O'),\n",
       "  ('to', 'O'),\n",
       "  ('sheep', 'O'),\n",
       "  ('.', 'O')],\n",
       " [('germany', 'B-LOC'),\n",
       "  (\"'s\", 'O'),\n",
       "  ('representative', 'O'),\n",
       "  ('to', 'O'),\n",
       "  ('the', 'O'),\n",
       "  ('european', 'B-ORG'),\n",
       "  ('union', 'I-ORG'),\n",
       "  (\"'s\", 'O'),\n",
       "  ('veterinary', 'O'),\n",
       "  ('committee', 'O'),\n",
       "  ('werner', 'B-PER'),\n",
       "  ('zwingmann', 'I-PER'),\n",
       "  ('said', 'O'),\n",
       "  ('on', 'O'),\n",
       "  ('wednesday', 'O'),\n",
       "  ('consumers', 'O'),\n",
       "  ('should', 'O'),\n",
       "  ('buy', 'O'),\n",
       "  ('sheepmeat', 'O'),\n",
       "  ('from', 'O'),\n",
       "  ('countries', 'O'),\n",
       "  ('other', 'O'),\n",
       "  ('than', 'O'),\n",
       "  ('britain', 'B-LOC'),\n",
       "  ('until', 'O'),\n",
       "  ('the', 'O'),\n",
       "  ('scientific', 'O'),\n",
       "  ('advice', 'O'),\n",
       "  ('was', 'O'),\n",
       "  ('clearer', 'O'),\n",
       "  ('.', 'O')]]"
      ]
     },
     "execution_count": 6,
     "metadata": {},
     "output_type": "execute_result"
    }
   ],
   "source": [
    "train_tagged_sents = get_tagged_sentences(ner_train_path)\n",
    "test_tagged_sents = get_tagged_sentences(ner_test_path)\n",
    "\n",
    "train_tagged_sents[:5]"
   ]
  },
  {
   "cell_type": "code",
   "execution_count": null,
   "metadata": {},
   "outputs": [],
   "source": [
    "def get_sents_and_labels(tagged_sentences):\n",
    "    inputs, labels = [], []\n",
    "\n",
    "    for sentence in tagged_sentences:\n",
    "        tokens, ner = zip(*sentence)\n",
    "        \n",
    "        inputs.append(list(tokens))\n",
    "        labels.append(list(ner))\n",
    "    \n",
    "    return inputs, labels       # 단어, ner을 반환"
   ]
  },
  {
   "cell_type": "code",
   "execution_count": 15,
   "metadata": {},
   "outputs": [
    {
     "data": {
      "text/plain": [
       "(14041, 14041, 3453, 3453)"
      ]
     },
     "execution_count": 15,
     "metadata": {},
     "output_type": "execute_result"
    }
   ],
   "source": [
    "train_inputs, train_labels = get_sents_and_labels(train_tagged_sents)\n",
    "test_inputs, test_labels = get_sents_and_labels(test_tagged_sents)\n",
    "\n",
    "len(train_inputs), len(train_labels), len(test_inputs), len(test_labels)"
   ]
  },
  {
   "cell_type": "code",
   "execution_count": 17,
   "metadata": {},
   "outputs": [
    {
     "name": "stdout",
     "output_type": "stream",
     "text": [
      "min-max:  1 - 113\n",
      "mean:  14.501887329962253\n",
      "median:  10.0\n"
     ]
    },
    {
     "data": {
      "image/png": "[encoded data removed]",
      "text/plain": [
       "<Figure size 640x480 with 1 Axes>"
      ]
     },
     "metadata": {},
     "output_type": "display_data"
    }
   ],
   "source": [
    "# 데이터 길이 확인\n",
    "train_len = [len(seq) for seq in train_inputs]\n",
    "\n",
    "print('min-max: ', np.min(train_len), '-', np.max(train_len))\n",
    "print('mean: ', np.mean(train_len))\n",
    "print('median: ', np.median(train_len))\n",
    "\n",
    "plt.hist(train_len, bins=50)\n",
    "plt.show()"
   ]
  },
  {
   "cell_type": "code",
   "execution_count": 18,
   "metadata": {},
   "outputs": [],
   "source": [
    "# sequence - padding\n",
    "from tensorflow.keras.preprocessing.sequence import pad_sequences\n",
    "from tensorflow.keras.preprocessing.text import Tokenizer\n",
    "\n",
    "MAX_LEN = 50\n",
    "VOCAB_SIZE = 10000\n",
    "\n",
    "entity_tokenizer = Tokenizer(num_words=VOCAB_SIZE, oov_token='<OOV>')\n",
    "entity_tokenizer.fit_on_texts(train_inputs)\n",
    "\n",
    "X_train = entity_tokenizer.texts_to_sequences(train_inputs)\n",
    "X_train = pad_sequences(X_train, maxlen=MAX_LEN, padding='pre', truncating='pre')"
   ]
  },
  {
   "cell_type": "code",
   "execution_count": 19,
   "metadata": {},
   "outputs": [
    {
     "data": {
      "text/plain": [
       "{1: 'o',\n",
       " 2: 'b-loc',\n",
       " 3: 'b-per',\n",
       " 4: 'b-org',\n",
       " 5: 'i-per',\n",
       " 6: 'i-org',\n",
       " 7: 'b-misc',\n",
       " 8: 'i-loc',\n",
       " 9: 'i-misc'}"
      ]
     },
     "execution_count": 19,
     "metadata": {},
     "output_type": "execute_result"
    }
   ],
   "source": [
    "tag_tokenizer = Tokenizer()\n",
    "tag_tokenizer.fit_on_texts(train_labels)\n",
    "\n",
    "y_train = tag_tokenizer.texts_to_sequences(train_labels)\n",
    "y_train = pad_sequences(y_train, maxlen=MAX_LEN, padding='pre', truncating='pre')\n",
    "\n",
    "tag_tokenizer.index_word"
   ]
  },
  {
   "cell_type": "code",
   "execution_count": 23,
   "metadata": {},
   "outputs": [],
   "source": [
    "X_test = entity_tokenizer.texts_to_sequences(test_inputs)\n",
    "X_test = pad_sequences(X_test, maxlen=MAX_LEN, padding='pre', truncating='pre')\n",
    "\n",
    "y_test = tag_tokenizer.texts_to_sequences(test_labels)\n",
    "y_test = pad_sequences(y_test, maxlen=MAX_LEN, padding='pre', truncating='pre')"
   ]
  },
  {
   "cell_type": "markdown",
   "metadata": {},
   "source": [
    "### 모델 생성 및 학습"
   ]
  },
  {
   "cell_type": "code",
   "execution_count": null,
   "metadata": {},
   "outputs": [
    {
     "data": {
      "text/html": [
       "<pre style=\"white-space:pre;overflow-x:auto;line-height:normal;font-family:Menlo,'DejaVu Sans Mono',consolas,'Courier New',monospace\"><span style=\"font-weight: bold\">Model: \"functional\"</span>\n",
       "</pre>\n"
      ],
      "text/plain": [
       "\u001b[1mModel: \"functional\"\u001b[0m\n"
      ]
     },
     "metadata": {},
     "output_type": "display_data"
    },
    {
     "data": {
      "text/html": [
       "<pre style=\"white-space:pre;overflow-x:auto;line-height:normal;font-family:Menlo,'DejaVu Sans Mono',consolas,'Courier New',monospace\">┏━━━━━━━━━━━━━━━━━━━━━━━━━━━━━━━━━┳━━━━━━━━━━━━━━━━━━━━━━━━┳━━━━━━━━━━━━━━━┓\n",
       "┃<span style=\"font-weight: bold\"> Layer (type)                    </span>┃<span style=\"font-weight: bold\"> Output Shape           </span>┃<span style=\"font-weight: bold\">       Param # </span>┃\n",
       "┡━━━━━━━━━━━━━━━━━━━━━━━━━━━━━━━━━╇━━━━━━━━━━━━━━━━━━━━━━━━╇━━━━━━━━━━━━━━━┩\n",
       "│ input_layer (<span style=\"color: #0087ff; text-decoration-color: #0087ff\">InputLayer</span>)        │ (<span style=\"color: #00d7ff; text-decoration-color: #00d7ff\">None</span>, <span style=\"color: #00af00; text-decoration-color: #00af00\">50</span>)             │             <span style=\"color: #00af00; text-decoration-color: #00af00\">0</span> │\n",
       "├─────────────────────────────────┼────────────────────────┼───────────────┤\n",
       "│ embedding (<span style=\"color: #0087ff; text-decoration-color: #0087ff\">Embedding</span>)           │ (<span style=\"color: #00d7ff; text-decoration-color: #00d7ff\">None</span>, <span style=\"color: #00af00; text-decoration-color: #00af00\">50</span>, <span style=\"color: #00af00; text-decoration-color: #00af00\">100</span>)        │     <span style=\"color: #00af00; text-decoration-color: #00af00\">1,000,100</span> │\n",
       "├─────────────────────────────────┼────────────────────────┼───────────────┤\n",
       "│ bidirectional (<span style=\"color: #0087ff; text-decoration-color: #0087ff\">Bidirectional</span>)   │ (<span style=\"color: #00d7ff; text-decoration-color: #00d7ff\">None</span>, <span style=\"color: #00af00; text-decoration-color: #00af00\">50</span>, <span style=\"color: #00af00; text-decoration-color: #00af00\">512</span>)        │       <span style=\"color: #00af00; text-decoration-color: #00af00\">731,136</span> │\n",
       "├─────────────────────────────────┼────────────────────────┼───────────────┤\n",
       "│ dense (<span style=\"color: #0087ff; text-decoration-color: #0087ff\">Dense</span>)                   │ (<span style=\"color: #00d7ff; text-decoration-color: #00d7ff\">None</span>, <span style=\"color: #00af00; text-decoration-color: #00af00\">50</span>, <span style=\"color: #00af00; text-decoration-color: #00af00\">10</span>)         │         <span style=\"color: #00af00; text-decoration-color: #00af00\">5,130</span> │\n",
       "└─────────────────────────────────┴────────────────────────┴───────────────┘\n",
       "</pre>\n"
      ],
      "text/plain": [
       "┏━━━━━━━━━━━━━━━━━━━━━━━━━━━━━━━━━┳━━━━━━━━━━━━━━━━━━━━━━━━┳━━━━━━━━━━━━━━━┓\n",
       "┃\u001b[1m \u001b[0m\u001b[1mLayer (type)                   \u001b[0m\u001b[1m \u001b[0m┃\u001b[1m \u001b[0m\u001b[1mOutput Shape          \u001b[0m\u001b[1m \u001b[0m┃\u001b[1m \u001b[0m\u001b[1m      Param #\u001b[0m\u001b[1m \u001b[0m┃\n",
       "┡━━━━━━━━━━━━━━━━━━━━━━━━━━━━━━━━━╇━━━━━━━━━━━━━━━━━━━━━━━━╇━━━━━━━━━━━━━━━┩\n",
       "│ input_layer (\u001b[38;5;33mInputLayer\u001b[0m)        │ (\u001b[38;5;45mNone\u001b[0m, \u001b[38;5;34m50\u001b[0m)             │             \u001b[38;5;34m0\u001b[0m │\n",
       "├─────────────────────────────────┼────────────────────────┼───────────────┤\n",
       "│ embedding (\u001b[38;5;33mEmbedding\u001b[0m)           │ (\u001b[38;5;45mNone\u001b[0m, \u001b[38;5;34m50\u001b[0m, \u001b[38;5;34m100\u001b[0m)        │     \u001b[38;5;34m1,000,100\u001b[0m │\n",
       "├─────────────────────────────────┼────────────────────────┼───────────────┤\n",
       "│ bidirectional (\u001b[38;5;33mBidirectional\u001b[0m)   │ (\u001b[38;5;45mNone\u001b[0m, \u001b[38;5;34m50\u001b[0m, \u001b[38;5;34m512\u001b[0m)        │       \u001b[38;5;34m731,136\u001b[0m │\n",
       "├─────────────────────────────────┼────────────────────────┼───────────────┤\n",
       "│ dense (\u001b[38;5;33mDense\u001b[0m)                   │ (\u001b[38;5;45mNone\u001b[0m, \u001b[38;5;34m50\u001b[0m, \u001b[38;5;34m10\u001b[0m)         │         \u001b[38;5;34m5,130\u001b[0m │\n",
       "└─────────────────────────────────┴────────────────────────┴───────────────┘\n"
      ]
     },
     "metadata": {},
     "output_type": "display_data"
    },
    {
     "data": {
      "text/html": [
       "<pre style=\"white-space:pre;overflow-x:auto;line-height:normal;font-family:Menlo,'DejaVu Sans Mono',consolas,'Courier New',monospace\"><span style=\"font-weight: bold\"> Total params: </span><span style=\"color: #00af00; text-decoration-color: #00af00\">1,736,366</span> (6.62 MB)\n",
       "</pre>\n"
      ],
      "text/plain": [
       "\u001b[1m Total params: \u001b[0m\u001b[38;5;34m1,736,366\u001b[0m (6.62 MB)\n"
      ]
     },
     "metadata": {},
     "output_type": "display_data"
    },
    {
     "data": {
      "text/html": [
       "<pre style=\"white-space:pre;overflow-x:auto;line-height:normal;font-family:Menlo,'DejaVu Sans Mono',consolas,'Courier New',monospace\"><span style=\"font-weight: bold\"> Trainable params: </span><span style=\"color: #00af00; text-decoration-color: #00af00\">1,736,366</span> (6.62 MB)\n",
       "</pre>\n"
      ],
      "text/plain": [
       "\u001b[1m Trainable params: \u001b[0m\u001b[38;5;34m1,736,366\u001b[0m (6.62 MB)\n"
      ]
     },
     "metadata": {},
     "output_type": "display_data"
    },
    {
     "data": {
      "text/html": [
       "<pre style=\"white-space:pre;overflow-x:auto;line-height:normal;font-family:Menlo,'DejaVu Sans Mono',consolas,'Courier New',monospace\"><span style=\"font-weight: bold\"> Non-trainable params: </span><span style=\"color: #00af00; text-decoration-color: #00af00\">0</span> (0.00 B)\n",
       "</pre>\n"
      ],
      "text/plain": [
       "\u001b[1m Non-trainable params: \u001b[0m\u001b[38;5;34m0\u001b[0m (0.00 B)\n"
      ]
     },
     "metadata": {},
     "output_type": "display_data"
    }
   ],
   "source": [
    "from tensorflow.keras import layers, models\n",
    "\n",
    "EMBED_DIM = 100\n",
    "LATENET_DIM = 256\n",
    "TAG_SIZE = len(tag_tokenizer.word_index)\n",
    "\n",
    "input = layers.Input(shape=(MAX_LEN,))\n",
    "x = layers.Embedding(VOCAB_SIZE + 1, EMBED_DIM)(input)          # 은닉층의 개수만큼 만들어줌\n",
    "lstm = layers.LSTM(LATENET_DIM, return_sequences=True)          # ner 태깅을 전부 확인할거라 True 설정\n",
    "x = layers.Bidirectional(lstm)(x)                               # lstm을 양방향(순방향, 역방향)으로 돌게 해줌\n",
    "output = layers.Dense(TAG_SIZE + 1, activation='softmax')(x)    # Dense 레이어를 통과시킴 # 위에서 padding 처리해서 tag_size에 +1을 함 # 여러 개의 라벨 중 하나로 추론할 예정이기 때문에 활성화함수는 소프트맥스로\n",
    "\n",
    "model = models.Model(input, output)\n",
    "model.summary()                         # 모델의 요약"
   ]
  },
  {
   "cell_type": "code",
   "execution_count": 24,
   "metadata": {},
   "outputs": [
    {
     "name": "stdout",
     "output_type": "stream",
     "text": [
      "Epoch 1/50\n",
      "\u001b[1m88/88\u001b[0m \u001b[32m━━━━━━━━━━━━━━━━━━━━\u001b[0m\u001b[37m\u001b[0m \u001b[1m27s\u001b[0m 266ms/step - accuracy: 0.9986 - loss: 0.0048 - val_accuracy: 0.9805 - val_loss: 0.1030\n",
      "Epoch 2/50\n",
      "\u001b[1m88/88\u001b[0m \u001b[32m━━━━━━━━━━━━━━━━━━━━\u001b[0m\u001b[37m\u001b[0m \u001b[1m22s\u001b[0m 254ms/step - accuracy: 0.9990 - loss: 0.0039 - val_accuracy: 0.9799 - val_loss: 0.1039\n",
      "Epoch 3/50\n",
      "\u001b[1m88/88\u001b[0m \u001b[32m━━━━━━━━━━━━━━━━━━━━\u001b[0m\u001b[37m\u001b[0m \u001b[1m24s\u001b[0m 267ms/step - accuracy: 0.9991 - loss: 0.0032 - val_accuracy: 0.9805 - val_loss: 0.1085\n",
      "Epoch 4/50\n",
      "\u001b[1m88/88\u001b[0m \u001b[32m━━━━━━━━━━━━━━━━━━━━\u001b[0m\u001b[37m\u001b[0m \u001b[1m23s\u001b[0m 265ms/step - accuracy: 0.9992 - loss: 0.0030 - val_accuracy: 0.9804 - val_loss: 0.1117\n",
      "Epoch 5/50\n",
      "\u001b[1m88/88\u001b[0m \u001b[32m━━━━━━━━━━━━━━━━━━━━\u001b[0m\u001b[37m\u001b[0m \u001b[1m24s\u001b[0m 271ms/step - accuracy: 0.9994 - loss: 0.0022 - val_accuracy: 0.9812 - val_loss: 0.1200\n",
      "Epoch 6/50\n",
      "\u001b[1m88/88\u001b[0m \u001b[32m━━━━━━━━━━━━━━━━━━━━\u001b[0m\u001b[37m\u001b[0m \u001b[1m24s\u001b[0m 271ms/step - accuracy: 0.9994 - loss: 0.0022 - val_accuracy: 0.9813 - val_loss: 0.1268\n",
      "Epoch 7/50\n",
      "\u001b[1m88/88\u001b[0m \u001b[32m━━━━━━━━━━━━━━━━━━━━\u001b[0m\u001b[37m\u001b[0m \u001b[1m24s\u001b[0m 274ms/step - accuracy: 0.9995 - loss: 0.0017 - val_accuracy: 0.9813 - val_loss: 0.1314\n",
      "Epoch 8/50\n",
      "\u001b[1m88/88\u001b[0m \u001b[32m━━━━━━━━━━━━━━━━━━━━\u001b[0m\u001b[37m\u001b[0m \u001b[1m29s\u001b[0m 325ms/step - accuracy: 0.9995 - loss: 0.0018 - val_accuracy: 0.9806 - val_loss: 0.1325\n",
      "Epoch 9/50\n",
      "\u001b[1m88/88\u001b[0m \u001b[32m━━━━━━━━━━━━━━━━━━━━\u001b[0m\u001b[37m\u001b[0m \u001b[1m27s\u001b[0m 299ms/step - accuracy: 0.9997 - loss: 0.0012 - val_accuracy: 0.9807 - val_loss: 0.1294\n",
      "Epoch 10/50\n",
      "\u001b[1m88/88\u001b[0m \u001b[32m━━━━━━━━━━━━━━━━━━━━\u001b[0m\u001b[37m\u001b[0m \u001b[1m23s\u001b[0m 256ms/step - accuracy: 0.9997 - loss: 0.0013 - val_accuracy: 0.9805 - val_loss: 0.1368\n",
      "Epoch 11/50\n",
      "\u001b[1m88/88\u001b[0m \u001b[32m━━━━━━━━━━━━━━━━━━━━\u001b[0m\u001b[37m\u001b[0m \u001b[1m60s\u001b[0m 690ms/step - accuracy: 0.9997 - loss: 0.0010 - val_accuracy: 0.9803 - val_loss: 0.1398\n",
      "Epoch 12/50\n",
      "\u001b[1m88/88\u001b[0m \u001b[32m━━━━━━━━━━━━━━━━━━━━\u001b[0m\u001b[37m\u001b[0m \u001b[1m71s\u001b[0m 810ms/step - accuracy: 0.9998 - loss: 9.7081e-04 - val_accuracy: 0.9801 - val_loss: 0.1429\n",
      "Epoch 13/50\n",
      "\u001b[1m88/88\u001b[0m \u001b[32m━━━━━━━━━━━━━━━━━━━━\u001b[0m\u001b[37m\u001b[0m \u001b[1m71s\u001b[0m 811ms/step - accuracy: 0.9998 - loss: 7.9531e-04 - val_accuracy: 0.9802 - val_loss: 0.1486\n",
      "Epoch 14/50\n",
      "\u001b[1m88/88\u001b[0m \u001b[32m━━━━━━━━━━━━━━━━━━━━\u001b[0m\u001b[37m\u001b[0m \u001b[1m34s\u001b[0m 384ms/step - accuracy: 0.9997 - loss: 9.2474e-04 - val_accuracy: 0.9805 - val_loss: 0.1524\n",
      "Epoch 15/50\n",
      "\u001b[1m88/88\u001b[0m \u001b[32m━━━━━━━━━━━━━━━━━━━━\u001b[0m\u001b[37m\u001b[0m \u001b[1m21s\u001b[0m 234ms/step - accuracy: 0.9998 - loss: 6.8725e-04 - val_accuracy: 0.9790 - val_loss: 0.1501\n",
      "Epoch 16/50\n",
      "\u001b[1m88/88\u001b[0m \u001b[32m━━━━━━━━━━━━━━━━━━━━\u001b[0m\u001b[37m\u001b[0m \u001b[1m44s\u001b[0m 500ms/step - accuracy: 0.9999 - loss: 6.3640e-04 - val_accuracy: 0.9790 - val_loss: 0.1514\n",
      "Epoch 17/50\n",
      "\u001b[1m88/88\u001b[0m \u001b[32m━━━━━━━━━━━━━━━━━━━━\u001b[0m\u001b[37m\u001b[0m \u001b[1m22s\u001b[0m 248ms/step - accuracy: 0.9998 - loss: 8.6209e-04 - val_accuracy: 0.9790 - val_loss: 0.1538\n",
      "Epoch 18/50\n",
      "\u001b[1m88/88\u001b[0m \u001b[32m━━━━━━━━━━━━━━━━━━━━\u001b[0m\u001b[37m\u001b[0m \u001b[1m22s\u001b[0m 247ms/step - accuracy: 0.9998 - loss: 7.6228e-04 - val_accuracy: 0.9795 - val_loss: 0.1560\n",
      "Epoch 19/50\n",
      "\u001b[1m88/88\u001b[0m \u001b[32m━━━━━━━━━━━━━━━━━━━━\u001b[0m\u001b[37m\u001b[0m \u001b[1m23s\u001b[0m 258ms/step - accuracy: 0.9998 - loss: 7.2041e-04 - val_accuracy: 0.9794 - val_loss: 0.1550\n",
      "Epoch 20/50\n",
      "\u001b[1m88/88\u001b[0m \u001b[32m━━━━━━━━━━━━━━━━━━━━\u001b[0m\u001b[37m\u001b[0m \u001b[1m23s\u001b[0m 261ms/step - accuracy: 0.9999 - loss: 5.3917e-04 - val_accuracy: 0.9796 - val_loss: 0.1587\n",
      "Epoch 21/50\n",
      "\u001b[1m88/88\u001b[0m \u001b[32m━━━━━━━━━━━━━━━━━━━━\u001b[0m\u001b[37m\u001b[0m \u001b[1m23s\u001b[0m 261ms/step - accuracy: 0.9999 - loss: 4.3059e-04 - val_accuracy: 0.9789 - val_loss: 0.1622\n",
      "Epoch 22/50\n",
      "\u001b[1m88/88\u001b[0m \u001b[32m━━━━━━━━━━━━━━━━━━━━\u001b[0m\u001b[37m\u001b[0m \u001b[1m23s\u001b[0m 260ms/step - accuracy: 0.9999 - loss: 4.2082e-04 - val_accuracy: 0.9808 - val_loss: 0.1611\n",
      "Epoch 23/50\n",
      "\u001b[1m88/88\u001b[0m \u001b[32m━━━━━━━━━━━━━━━━━━━━\u001b[0m\u001b[37m\u001b[0m \u001b[1m38s\u001b[0m 226ms/step - accuracy: 0.9999 - loss: 4.1174e-04 - val_accuracy: 0.9801 - val_loss: 0.1680\n",
      "Epoch 24/50\n",
      "\u001b[1m88/88\u001b[0m \u001b[32m━━━━━━━━━━━━━━━━━━━━\u001b[0m\u001b[37m\u001b[0m \u001b[1m67s\u001b[0m 773ms/step - accuracy: 0.9999 - loss: 4.3859e-04 - val_accuracy: 0.9798 - val_loss: 0.1635\n",
      "Epoch 25/50\n",
      "\u001b[1m88/88\u001b[0m \u001b[32m━━━━━━━━━━━━━━━━━━━━\u001b[0m\u001b[37m\u001b[0m \u001b[1m39s\u001b[0m 440ms/step - accuracy: 0.9999 - loss: 3.5313e-04 - val_accuracy: 0.9807 - val_loss: 0.1730\n",
      "Epoch 26/50\n",
      "\u001b[1m88/88\u001b[0m \u001b[32m━━━━━━━━━━━━━━━━━━━━\u001b[0m\u001b[37m\u001b[0m \u001b[1m30s\u001b[0m 342ms/step - accuracy: 0.9999 - loss: 3.2889e-04 - val_accuracy: 0.9799 - val_loss: 0.1705\n",
      "Epoch 27/50\n",
      "\u001b[1m88/88\u001b[0m \u001b[32m━━━━━━━━━━━━━━━━━━━━\u001b[0m\u001b[37m\u001b[0m \u001b[1m24s\u001b[0m 275ms/step - accuracy: 0.9999 - loss: 2.7416e-04 - val_accuracy: 0.9800 - val_loss: 0.1759\n",
      "Epoch 28/50\n",
      "\u001b[1m88/88\u001b[0m \u001b[32m━━━━━━━━━━━━━━━━━━━━\u001b[0m\u001b[37m\u001b[0m \u001b[1m26s\u001b[0m 292ms/step - accuracy: 0.9999 - loss: 2.4235e-04 - val_accuracy: 0.9802 - val_loss: 0.1786\n",
      "Epoch 29/50\n",
      "\u001b[1m88/88\u001b[0m \u001b[32m━━━━━━━━━━━━━━━━━━━━\u001b[0m\u001b[37m\u001b[0m \u001b[1m24s\u001b[0m 275ms/step - accuracy: 0.9999 - loss: 2.7534e-04 - val_accuracy: 0.9795 - val_loss: 0.1779\n",
      "Epoch 30/50\n",
      "\u001b[1m88/88\u001b[0m \u001b[32m━━━━━━━━━━━━━━━━━━━━\u001b[0m\u001b[37m\u001b[0m \u001b[1m23s\u001b[0m 257ms/step - accuracy: 0.9999 - loss: 2.2776e-04 - val_accuracy: 0.9794 - val_loss: 0.1835\n",
      "Epoch 31/50\n",
      "\u001b[1m88/88\u001b[0m \u001b[32m━━━━━━━━━━━━━━━━━━━━\u001b[0m\u001b[37m\u001b[0m \u001b[1m25s\u001b[0m 280ms/step - accuracy: 0.9997 - loss: 0.0010 - val_accuracy: 0.9800 - val_loss: 0.1532\n",
      "Epoch 32/50\n",
      "\u001b[1m88/88\u001b[0m \u001b[32m━━━━━━━━━━━━━━━━━━━━\u001b[0m\u001b[37m\u001b[0m \u001b[1m24s\u001b[0m 268ms/step - accuracy: 0.9994 - loss: 0.0017 - val_accuracy: 0.9803 - val_loss: 0.1571\n",
      "Epoch 33/50\n",
      "\u001b[1m88/88\u001b[0m \u001b[32m━━━━━━━━━━━━━━━━━━━━\u001b[0m\u001b[37m\u001b[0m \u001b[1m24s\u001b[0m 272ms/step - accuracy: 0.9997 - loss: 9.4290e-04 - val_accuracy: 0.9804 - val_loss: 0.1601\n",
      "Epoch 34/50\n",
      "\u001b[1m88/88\u001b[0m \u001b[32m━━━━━━━━━━━━━━━━━━━━\u001b[0m\u001b[37m\u001b[0m \u001b[1m23s\u001b[0m 264ms/step - accuracy: 0.9999 - loss: 4.6244e-04 - val_accuracy: 0.9806 - val_loss: 0.1653\n",
      "Epoch 35/50\n",
      "\u001b[1m88/88\u001b[0m \u001b[32m━━━━━━━━━━━━━━━━━━━━\u001b[0m\u001b[37m\u001b[0m \u001b[1m23s\u001b[0m 260ms/step - accuracy: 0.9999 - loss: 3.9209e-04 - val_accuracy: 0.9806 - val_loss: 0.1645\n",
      "Epoch 36/50\n",
      "\u001b[1m88/88\u001b[0m \u001b[32m━━━━━━━━━━━━━━━━━━━━\u001b[0m\u001b[37m\u001b[0m \u001b[1m24s\u001b[0m 269ms/step - accuracy: 0.9999 - loss: 3.7041e-04 - val_accuracy: 0.9797 - val_loss: 0.1709\n",
      "Epoch 37/50\n",
      "\u001b[1m88/88\u001b[0m \u001b[32m━━━━━━━━━━━━━━━━━━━━\u001b[0m\u001b[37m\u001b[0m \u001b[1m23s\u001b[0m 257ms/step - accuracy: 0.9999 - loss: 3.8783e-04 - val_accuracy: 0.9805 - val_loss: 0.1656\n",
      "Epoch 38/50\n",
      "\u001b[1m88/88\u001b[0m \u001b[32m━━━━━━━━━━━━━━━━━━━━\u001b[0m\u001b[37m\u001b[0m \u001b[1m23s\u001b[0m 265ms/step - accuracy: 1.0000 - loss: 1.7785e-04 - val_accuracy: 0.9805 - val_loss: 0.1688\n",
      "Epoch 39/50\n",
      "\u001b[1m88/88\u001b[0m \u001b[32m━━━━━━━━━━━━━━━━━━━━\u001b[0m\u001b[37m\u001b[0m \u001b[1m49s\u001b[0m 565ms/step - accuracy: 0.9999 - loss: 2.0010e-04 - val_accuracy: 0.9809 - val_loss: 0.1734\n",
      "Epoch 40/50\n",
      "\u001b[1m88/88\u001b[0m \u001b[32m━━━━━━━━━━━━━━━━━━━━\u001b[0m\u001b[37m\u001b[0m \u001b[1m53s\u001b[0m 601ms/step - accuracy: 0.9999 - loss: 2.0576e-04 - val_accuracy: 0.9806 - val_loss: 0.1727\n",
      "Epoch 41/50\n",
      "\u001b[1m88/88\u001b[0m \u001b[32m━━━━━━━━━━━━━━━━━━━━\u001b[0m\u001b[37m\u001b[0m \u001b[1m26s\u001b[0m 290ms/step - accuracy: 0.9999 - loss: 2.0209e-04 - val_accuracy: 0.9803 - val_loss: 0.1746\n",
      "Epoch 42/50\n",
      "\u001b[1m88/88\u001b[0m \u001b[32m━━━━━━━━━━━━━━━━━━━━\u001b[0m\u001b[37m\u001b[0m \u001b[1m18s\u001b[0m 201ms/step - accuracy: 0.9999 - loss: 2.0529e-04 - val_accuracy: 0.9802 - val_loss: 0.1742\n",
      "Epoch 43/50\n",
      "\u001b[1m88/88\u001b[0m \u001b[32m━━━━━━━━━━━━━━━━━━━━\u001b[0m\u001b[37m\u001b[0m \u001b[1m17s\u001b[0m 194ms/step - accuracy: 0.9999 - loss: 2.1249e-04 - val_accuracy: 0.9806 - val_loss: 0.1771\n",
      "Epoch 44/50\n",
      "\u001b[1m88/88\u001b[0m \u001b[32m━━━━━━━━━━━━━━━━━━━━\u001b[0m\u001b[37m\u001b[0m \u001b[1m19s\u001b[0m 212ms/step - accuracy: 0.9999 - loss: 1.7273e-04 - val_accuracy: 0.9796 - val_loss: 0.1756\n",
      "Epoch 45/50\n",
      "\u001b[1m88/88\u001b[0m \u001b[32m━━━━━━━━━━━━━━━━━━━━\u001b[0m\u001b[37m\u001b[0m \u001b[1m18s\u001b[0m 205ms/step - accuracy: 0.9999 - loss: 2.1988e-04 - val_accuracy: 0.9798 - val_loss: 0.1759\n",
      "Epoch 46/50\n",
      "\u001b[1m88/88\u001b[0m \u001b[32m━━━━━━━━━━━━━━━━━━━━\u001b[0m\u001b[37m\u001b[0m \u001b[1m19s\u001b[0m 221ms/step - accuracy: 0.9999 - loss: 2.2423e-04 - val_accuracy: 0.9808 - val_loss: 0.1827\n",
      "Epoch 47/50\n",
      "\u001b[1m88/88\u001b[0m \u001b[32m━━━━━━━━━━━━━━━━━━━━\u001b[0m\u001b[37m\u001b[0m \u001b[1m27s\u001b[0m 306ms/step - accuracy: 1.0000 - loss: 1.4445e-04 - val_accuracy: 0.9803 - val_loss: 0.1827\n",
      "Epoch 48/50\n",
      "\u001b[1m88/88\u001b[0m \u001b[32m━━━━━━━━━━━━━━━━━━━━\u001b[0m\u001b[37m\u001b[0m \u001b[1m18s\u001b[0m 205ms/step - accuracy: 0.9999 - loss: 1.4650e-04 - val_accuracy: 0.9811 - val_loss: 0.1873\n",
      "Epoch 49/50\n",
      "\u001b[1m88/88\u001b[0m \u001b[32m━━━━━━━━━━━━━━━━━━━━\u001b[0m\u001b[37m\u001b[0m \u001b[1m25s\u001b[0m 286ms/step - accuracy: 0.9999 - loss: 2.7175e-04 - val_accuracy: 0.9804 - val_loss: 0.1854\n",
      "Epoch 50/50\n",
      "\u001b[1m88/88\u001b[0m \u001b[32m━━━━━━━━━━━━━━━━━━━━\u001b[0m\u001b[37m\u001b[0m \u001b[1m36s\u001b[0m 409ms/step - accuracy: 0.9999 - loss: 2.0160e-04 - val_accuracy: 0.9798 - val_loss: 0.1834\n"
     ]
    },
    {
     "data": {
      "image/png": "[encoded data removed]",
      "text/plain": [
       "<Figure size 640x480 with 1 Axes>"
      ]
     },
     "metadata": {},
     "output_type": "display_data"
    }
   ],
   "source": [
    "model.compile(\n",
    "    loss='sparse_categorical_crossentropy',\n",
    "    optimizer='adam',\n",
    "    metrics=['accuracy']\n",
    ")\n",
    "\n",
    "history = model.fit(\n",
    "    X_train, \n",
    "    y_train,\n",
    "    batch_size=128,\n",
    "    epochs=50,\n",
    "    validation_split=0.2\n",
    ")\n",
    "\n",
    "pd.DataFrame(history.history).plot()\n",
    "plt.show()"
   ]
  },
  {
   "cell_type": "markdown",
   "metadata": {},
   "source": [
    "### 모델 평가"
   ]
  },
  {
   "cell_type": "code",
   "execution_count": 25,
   "metadata": {},
   "outputs": [
    {
     "name": "stdout",
     "output_type": "stream",
     "text": [
      "\u001b[1m108/108\u001b[0m \u001b[32m━━━━━━━━━━━━━━━━━━━━\u001b[0m\u001b[37m\u001b[0m \u001b[1m5s\u001b[0m 48ms/step - accuracy: 0.9796 - loss: 0.1667\n",
      "Test 결과 | Loss: 0.1683, Accuracy: 0.9797\n"
     ]
    }
   ],
   "source": [
    "loss, accuracy = model.evaluate(X_test, y_test)\n",
    "print(f'Test 결과 | Loss: {loss:.4f}, Accuracy: {accuracy:.4f}')"
   ]
  },
  {
   "cell_type": "markdown",
   "metadata": {},
   "source": [
    "### NER 예측"
   ]
  },
  {
   "cell_type": "code",
   "execution_count": 26,
   "metadata": {},
   "outputs": [],
   "source": [
    "# sample = ['EU gave German call to take British people wow']\n",
    "sample = ['Elon Musk is a founder of SpaceX and Neurallink']\n",
    "\n",
    "sample_seq = entity_tokenizer.texts_to_sequences(sample)\n",
    "sample_padded = pad_sequences(sample_seq, maxlen=MAX_LEN)"
   ]
  },
  {
   "cell_type": "code",
   "execution_count": 27,
   "metadata": {},
   "outputs": [
    {
     "name": "stdout",
     "output_type": "stream",
     "text": [
      "\u001b[1m1/1\u001b[0m \u001b[32m━━━━━━━━━━━━━━━━━━━━\u001b[0m\u001b[37m\u001b[0m \u001b[1m0s\u001b[0m 187ms/step\n"
     ]
    }
   ],
   "source": [
    "pred_proba = model.predict(sample_padded)\n",
    "\n",
    "pred = np.argmax(pred_proba, axis=-1)"
   ]
  },
  {
   "cell_type": "code",
   "execution_count": 28,
   "metadata": {},
   "outputs": [
    {
     "name": "stdout",
     "output_type": "stream",
     "text": [
      "<OOV>: b-per\n",
      "<OOV>: i-org\n",
      "is: o\n",
      "a: o\n",
      "founder: o\n",
      "of: o\n",
      "<OOV>: o\n",
      "and: o\n",
      "<OOV>: b-org\n"
     ]
    }
   ],
   "source": [
    "index2entity = entity_tokenizer.index_word\n",
    "index2tag = tag_tokenizer.index_word\n",
    "\n",
    "tokens = [index2entity.get(x, '?') for x in sample_padded[0]]\n",
    "tags = [index2tag.get(x, '?') for x in pred[0]]\n",
    "\n",
    "for token, tag in zip(tokens, tags):\n",
    "    if token != '?':\n",
    "        print(f'{token}: {tag}')"
   ]
  }
 ],
 "metadata": {
  "kernelspec": {
   "display_name": "base",
   "language": "python",
   "name": "python3"
  },
  "language_info": {
   "codemirror_mode": {
    "name": "ipython",
    "version": 3
   },
   "file_extension": ".py",
   "mimetype": "text/x-python",
   "name": "python",
   "nbconvert_exporter": "python",
   "pygments_lexer": "ipython3",
   "version": "3.12.7"
  }
 },
 "nbformat": 4,
 "nbformat_minor": 2
}
