{
 "cells": [
  {
   "cell_type": "markdown",
   "metadata": {},
   "source": [
    "# seq2seq (Sequence-to-Sequence)"
   ]
  },
  {
   "cell_type": "code",
   "execution_count": null,
   "metadata": {},
   "outputs": [
    {
     "name": "stdout",
     "output_type": "stream",
     "text": [
      "Collecting pydot\n",
      "  Downloading pydot-3.0.4-py3-none-any.whl.metadata (10 kB)\n",
      "Collecting pydotplus\n",
      "  Downloading pydotplus-2.0.2.tar.gz (278 kB)\n",
      "  Preparing metadata (setup.py): started\n",
      "  Preparing metadata (setup.py): finished with status 'done'\n",
      "Requirement already satisfied: graphviz in c:\\users\\playdata\\appdata\\local\\anaconda3\\lib\\site-packages (0.20.3)\n",
      "Requirement already satisfied: pyparsing>=3.0.9 in c:\\users\\playdata\\appdata\\local\\anaconda3\\lib\\site-packages (from pydot) (3.1.2)\n",
      "Downloading pydot-3.0.4-py3-none-any.whl (35 kB)\n",
      "Building wheels for collected packages: pydotplus\n",
      "  Building wheel for pydotplus (setup.py): started\n",
      "  Building wheel for pydotplus (setup.py): finished with status 'done'\n",
      "  Created wheel for pydotplus: filename=pydotplus-2.0.2-py3-none-any.whl size=24576 sha256=67f9c080770c2f6bd25bb50ae6ac21b3b1e152851c8635498c427e51358be56e\n",
      "  Stored in directory: c:\\users\\playdata\\appdata\\local\\pip\\cache\\wheels\\77\\54\\7c\\c8077b6151c819495492300386cf9b151a954259d1a658c63b\n",
      "Successfully built pydotplus\n",
      "Installing collected packages: pydotplus, pydot\n",
      "Successfully installed pydot-3.0.4 pydotplus-2.0.2\n"
     ]
    }
   ],
   "source": [
    "# 모델 시각화 패키지 install\n",
    "# !pip install pydot pydotplus graphviz"
   ]
  },
  {
   "cell_type": "markdown",
   "metadata": {},
   "source": [
    "### Embedding Vector 준비\n",
    "\n",
    "1. 영어 glove 임베딩 (사전 학습) 사용 /6B tokens, 400K vocab, uncased, 100d\n",
    "2. 한국어 임베딩 (초기 훈련)"
   ]
  },
  {
   "cell_type": "code",
   "execution_count": null,
   "metadata": {},
   "outputs": [
    {
     "name": "stderr",
     "output_type": "stream",
     "text": [
      "Downloading...\n",
      "From (original): https://drive.google.com/uc?id=1UK61mxiWzP1XPvJ53KXa7L7-ETbDYKgc\n",
      "From (redirected): https://drive.google.com/uc?id=1UK61mxiWzP1XPvJ53KXa7L7-ETbDYKgc&confirm=t&uuid=4b7938f9-4b94-4c86-90a1-fabf70bb64e5\n",
      "To: c:\\encore_skn11\\07_nlp\\07_seq2seq\\glove.6B.100d.txt\n",
      "\n",
      "  0%|          | 0.00/347M [00:00<?, ?B/s]\n",
      "  0%|          | 524k/347M [00:00<02:57, 1.96MB/s]\n",
      "  0%|          | 1.05M/347M [00:00<01:57, 2.94MB/s]\n",
      "  1%|          | 3.15M/347M [00:00<00:41, 8.20MB/s]\n",
      "  2%|▏         | 5.77M/347M [00:00<00:27, 12.4MB/s]\n",
      "  2%|▏         | 7.86M/347M [00:00<00:24, 13.7MB/s]\n",
      "  3%|▎         | 9.44M/347M [00:00<00:29, 11.6MB/s]\n",
      "  3%|▎         | 11.5M/347M [00:01<00:24, 13.8MB/s]\n",
      "  4%|▍         | 13.1M/347M [00:01<00:24, 13.7MB/s]\n",
      "  4%|▍         | 14.7M/347M [00:01<00:28, 11.5MB/s]\n",
      "  5%|▍         | 16.3M/347M [00:01<00:30, 10.8MB/s]\n",
      "  5%|▌         | 17.8M/347M [00:01<00:32, 10.0MB/s]\n",
      "  6%|▌         | 19.4M/347M [00:01<00:30, 10.6MB/s]\n",
      "  6%|▋         | 22.0M/347M [00:01<00:23, 13.8MB/s]\n",
      "  7%|▋         | 23.6M/347M [00:02<00:23, 13.6MB/s]\n",
      "  7%|▋         | 25.7M/347M [00:02<00:20, 15.3MB/s]\n",
      "  8%|▊         | 27.8M/347M [00:02<00:24, 13.2MB/s]\n",
      "  8%|▊         | 29.4M/347M [00:02<00:24, 13.1MB/s]\n",
      "  9%|▉         | 30.9M/347M [00:02<00:23, 13.2MB/s]\n",
      "  9%|▉         | 32.5M/347M [00:02<00:24, 12.6MB/s]\n",
      " 10%|▉         | 34.1M/347M [00:02<00:24, 12.9MB/s]\n",
      " 10%|█         | 36.2M/347M [00:03<00:22, 13.7MB/s]\n",
      " 11%|█         | 37.7M/347M [00:03<00:27, 11.5MB/s]\n",
      " 11%|█▏        | 39.8M/347M [00:03<00:23, 13.1MB/s]\n",
      " 12%|█▏        | 41.9M/347M [00:03<00:21, 14.1MB/s]\n",
      " 13%|█▎        | 44.6M/347M [00:03<00:18, 16.4MB/s]\n",
      " 13%|█▎        | 46.7M/347M [00:03<00:18, 15.9MB/s]\n",
      " 14%|█▍        | 48.8M/347M [00:03<00:20, 14.4MB/s]\n",
      " 14%|█▍        | 50.3M/347M [00:03<00:21, 14.1MB/s]\n",
      " 15%|█▌        | 52.4M/347M [00:04<00:21, 13.7MB/s]\n",
      " 16%|█▌        | 54.5M/347M [00:04<00:20, 14.6MB/s]\n",
      " 16%|█▋        | 56.6M/347M [00:04<00:18, 15.4MB/s]\n",
      " 17%|█▋        | 58.7M/347M [00:04<00:19, 14.6MB/s]\n",
      " 18%|█▊        | 60.8M/347M [00:04<00:19, 14.9MB/s]\n",
      " 18%|█▊        | 62.9M/347M [00:04<00:19, 14.9MB/s]\n",
      " 19%|█▊        | 65.0M/347M [00:04<00:18, 14.9MB/s]\n",
      " 19%|█▉        | 66.6M/347M [00:05<00:19, 14.6MB/s]\n",
      " 20%|█▉        | 69.2M/347M [00:05<00:16, 17.3MB/s]\n",
      " 21%|██        | 71.3M/347M [00:05<00:16, 17.1MB/s]\n",
      " 21%|██        | 73.4M/347M [00:05<00:20, 13.2MB/s]\n",
      " 22%|██▏       | 76.0M/347M [00:05<00:18, 14.6MB/s]\n",
      " 23%|██▎       | 78.1M/347M [00:05<00:17, 15.2MB/s]\n",
      " 23%|██▎       | 80.2M/347M [00:05<00:16, 15.8MB/s]\n",
      " 24%|██▍       | 82.8M/347M [00:06<00:14, 18.2MB/s]\n",
      " 24%|██▍       | 84.9M/347M [00:06<00:16, 15.9MB/s]\n",
      " 25%|██▌       | 87.0M/347M [00:06<00:16, 15.4MB/s]\n",
      " 26%|██▌       | 89.1M/347M [00:06<00:15, 16.3MB/s]\n",
      " 26%|██▋       | 91.8M/347M [00:06<00:14, 17.9MB/s]\n",
      " 27%|██▋       | 93.8M/347M [00:06<00:14, 17.1MB/s]\n",
      " 28%|██▊       | 95.9M/347M [00:06<00:15, 16.6MB/s]\n",
      " 28%|██▊       | 98.0M/347M [00:06<00:14, 16.8MB/s]\n",
      " 29%|██▉       | 101M/347M [00:07<00:12, 20.0MB/s] \n",
      " 30%|███       | 104M/347M [00:07<00:10, 22.5MB/s]\n",
      " 31%|███       | 107M/347M [00:07<00:10, 22.8MB/s]\n",
      " 32%|███▏      | 110M/347M [00:07<00:12, 19.3MB/s]\n",
      " 33%|███▎      | 114M/347M [00:07<00:10, 23.0MB/s]\n",
      " 34%|███▎      | 117M/347M [00:07<00:09, 24.4MB/s]\n",
      " 34%|███▍      | 120M/347M [00:07<00:10, 22.5MB/s]\n",
      " 35%|███▌      | 122M/347M [00:08<00:09, 22.9MB/s]\n",
      " 36%|███▌      | 125M/347M [00:08<00:09, 23.1MB/s]\n",
      " 37%|███▋      | 127M/347M [00:08<00:09, 23.4MB/s]\n",
      " 38%|███▊      | 131M/347M [00:08<00:08, 26.8MB/s]\n",
      " 39%|███▊      | 134M/347M [00:08<00:08, 24.2MB/s]\n",
      " 39%|███▉      | 137M/347M [00:08<00:09, 23.1MB/s]\n",
      " 40%|████      | 139M/347M [00:08<00:10, 19.1MB/s]\n",
      " 41%|████      | 143M/347M [00:08<00:08, 23.0MB/s]\n",
      " 42%|████▏     | 146M/347M [00:09<00:08, 24.3MB/s]\n",
      " 43%|████▎     | 149M/347M [00:09<00:10, 18.5MB/s]\n",
      " 44%|████▍     | 154M/347M [00:09<00:08, 23.9MB/s]\n",
      " 45%|████▌     | 157M/347M [00:09<00:09, 19.9MB/s]\n",
      " 46%|████▌     | 159M/347M [00:09<00:10, 18.6MB/s]\n",
      " 47%|████▋     | 162M/347M [00:09<00:11, 16.5MB/s]\n",
      " 47%|████▋     | 164M/347M [00:10<00:10, 16.8MB/s]\n",
      " 48%|████▊     | 166M/347M [00:10<00:10, 17.3MB/s]\n",
      " 49%|████▊     | 169M/347M [00:10<00:10, 17.8MB/s]\n",
      " 49%|████▉     | 171M/347M [00:10<00:11, 16.0MB/s]\n",
      " 50%|████▉     | 174M/347M [00:10<00:09, 17.4MB/s]\n",
      " 51%|█████     | 176M/347M [00:10<00:13, 12.5MB/s]\n",
      " 51%|█████     | 177M/347M [00:11<00:14, 11.5MB/s]\n",
      " 52%|█████▏    | 179M/347M [00:11<00:15, 10.9MB/s]\n",
      " 52%|█████▏    | 180M/347M [00:11<00:16, 9.88MB/s]\n",
      " 52%|█████▏    | 182M/347M [00:11<00:16, 10.2MB/s]\n",
      " 53%|█████▎    | 184M/347M [00:11<00:15, 10.6MB/s]\n",
      " 54%|█████▎    | 186M/347M [00:11<00:11, 13.7MB/s]\n",
      " 54%|█████▍    | 188M/347M [00:11<00:11, 13.6MB/s]\n",
      " 55%|█████▍    | 190M/347M [00:12<00:11, 14.0MB/s]\n",
      " 55%|█████▌    | 191M/347M [00:12<00:11, 13.4MB/s]\n",
      " 56%|█████▌    | 193M/347M [00:12<00:12, 12.3MB/s]\n",
      " 56%|█████▌    | 195M/347M [00:12<00:10, 14.1MB/s]\n",
      " 57%|█████▋    | 197M/347M [00:12<00:10, 14.7MB/s]\n",
      " 57%|█████▋    | 199M/347M [00:12<00:11, 12.8MB/s]\n",
      " 58%|█████▊    | 200M/347M [00:12<00:12, 11.7MB/s]\n",
      " 58%|█████▊    | 202M/347M [00:13<00:13, 10.8MB/s]\n",
      " 59%|█████▊    | 203M/347M [00:13<00:13, 10.7MB/s]\n",
      " 59%|█████▉    | 205M/347M [00:13<00:18, 7.72MB/s]\n",
      " 60%|██████    | 209M/347M [00:13<00:10, 13.3MB/s]\n",
      " 61%|██████    | 211M/347M [00:13<00:09, 14.4MB/s]\n",
      " 62%|██████▏   | 214M/347M [00:14<00:10, 12.2MB/s]\n",
      " 63%|██████▎   | 219M/347M [00:14<00:06, 19.1MB/s]\n",
      " 64%|██████▍   | 222M/347M [00:14<00:06, 19.0MB/s]\n",
      " 65%|██████▍   | 225M/347M [00:14<00:06, 19.4MB/s]\n",
      " 66%|██████▌   | 228M/347M [00:14<00:05, 20.1MB/s]\n",
      " 66%|██████▋   | 230M/347M [00:14<00:05, 20.0MB/s]\n",
      " 67%|██████▋   | 233M/347M [00:14<00:05, 19.3MB/s]\n",
      " 68%|██████▊   | 235M/347M [00:15<00:06, 18.7MB/s]\n",
      " 68%|██████▊   | 238M/347M [00:15<00:05, 20.4MB/s]\n",
      " 69%|██████▉   | 240M/347M [00:15<00:05, 19.4MB/s]\n",
      " 70%|███████   | 243M/347M [00:15<00:05, 19.9MB/s]\n",
      " 71%|███████   | 245M/347M [00:15<00:05, 19.3MB/s]\n",
      " 72%|███████▏  | 249M/347M [00:15<00:04, 22.2MB/s]\n",
      " 72%|███████▏  | 252M/347M [00:15<00:05, 18.4MB/s]\n",
      " 73%|███████▎  | 254M/347M [00:16<00:05, 17.8MB/s]\n",
      " 74%|███████▎  | 256M/347M [00:16<00:05, 15.5MB/s]\n",
      " 74%|███████▍  | 258M/347M [00:16<00:06, 14.7MB/s]\n",
      " 75%|███████▍  | 260M/347M [00:16<00:06, 12.9MB/s]\n",
      " 75%|███████▌  | 261M/347M [00:16<00:06, 12.9MB/s]\n",
      " 76%|███████▌  | 263M/347M [00:16<00:06, 13.3MB/s]\n",
      " 76%|███████▌  | 264M/347M [00:16<00:06, 13.8MB/s]\n",
      " 77%|███████▋  | 266M/347M [00:17<00:07, 10.6MB/s]\n",
      " 77%|███████▋  | 267M/347M [00:17<00:08, 9.90MB/s]\n",
      " 78%|███████▊  | 271M/347M [00:17<00:05, 14.3MB/s]\n",
      " 79%|███████▊  | 273M/347M [00:17<00:07, 10.6MB/s]\n",
      " 79%|███████▉  | 276M/347M [00:17<00:05, 13.7MB/s]\n",
      " 80%|████████  | 278M/347M [00:18<00:05, 12.8MB/s]\n",
      " 81%|████████  | 279M/347M [00:18<00:05, 12.0MB/s]\n",
      " 81%|████████  | 281M/347M [00:18<00:05, 12.3MB/s]\n",
      " 82%|████████▏ | 283M/347M [00:18<00:05, 12.4MB/s]\n",
      " 82%|████████▏ | 285M/347M [00:18<00:05, 11.8MB/s]\n",
      " 82%|████████▏ | 286M/347M [00:18<00:05, 12.1MB/s]\n",
      " 83%|████████▎ | 288M/347M [00:19<00:05, 10.1MB/s]\n",
      " 83%|████████▎ | 289M/347M [00:19<00:05, 9.73MB/s]\n",
      " 84%|████████▎ | 290M/347M [00:19<00:07, 7.20MB/s]\n",
      " 84%|████████▍ | 292M/347M [00:19<00:07, 7.49MB/s]\n",
      " 85%|████████▍ | 294M/347M [00:19<00:05, 8.96MB/s]\n",
      " 85%|████████▌ | 296M/347M [00:19<00:04, 10.6MB/s]\n",
      " 86%|████████▌ | 297M/347M [00:20<00:04, 11.1MB/s]\n",
      " 86%|████████▌ | 299M/347M [00:20<00:04, 11.8MB/s]\n",
      " 87%|████████▋ | 300M/347M [00:20<00:03, 12.1MB/s]\n",
      " 87%|████████▋ | 303M/347M [00:20<00:04, 9.27MB/s]\n",
      " 88%|████████▊ | 305M/347M [00:20<00:03, 11.8MB/s]\n",
      " 89%|████████▊ | 307M/347M [00:20<00:03, 12.3MB/s]\n",
      " 89%|████████▉ | 309M/347M [00:21<00:03, 10.3MB/s]\n",
      " 89%|████████▉ | 310M/347M [00:21<00:03, 11.2MB/s]\n",
      " 90%|████████▉ | 312M/347M [00:21<00:03, 10.5MB/s]\n",
      " 90%|█████████ | 314M/347M [00:21<00:03, 10.3MB/s]\n",
      " 91%|█████████ | 315M/347M [00:21<00:03, 9.51MB/s]\n",
      " 91%|█████████ | 316M/347M [00:22<00:04, 6.37MB/s]\n",
      " 92%|█████████▏| 319M/347M [00:22<00:03, 9.07MB/s]\n",
      " 92%|█████████▏| 320M/347M [00:22<00:02, 10.1MB/s]\n",
      " 93%|█████████▎| 322M/347M [00:22<00:02, 11.7MB/s]\n",
      " 93%|█████████▎| 324M/347M [00:22<00:03, 7.03MB/s]\n",
      " 94%|█████████▍| 326M/347M [00:23<00:04, 5.37MB/s]\n",
      " 95%|█████████▍| 329M/347M [00:23<00:02, 8.24MB/s]\n",
      " 96%|█████████▌| 332M/347M [00:23<00:01, 11.5MB/s]\n",
      " 96%|█████████▌| 334M/347M [00:23<00:01, 10.1MB/s]\n",
      " 97%|█████████▋| 336M/347M [00:24<00:01, 10.3MB/s]\n",
      " 97%|█████████▋| 337M/347M [00:24<00:00, 10.6MB/s]\n",
      " 98%|█████████▊| 339M/347M [00:24<00:00, 10.5MB/s]\n",
      " 98%|█████████▊| 340M/347M [00:24<00:00, 10.6MB/s]\n",
      " 98%|█████████▊| 342M/347M [00:24<00:00, 9.69MB/s]\n",
      " 99%|█████████▉| 344M/347M [00:24<00:00, 11.0MB/s]\n",
      "100%|█████████▉| 346M/347M [00:25<00:00, 10.7MB/s]\n",
      "100%|██████████| 347M/347M [00:25<00:00, 13.8MB/s]\n"
     ]
    }
   ],
   "source": [
    "# !gdown 1UK61mxiWzP1XPvJ53KXa7L7-ETbDYKgc"
   ]
  },
  {
   "cell_type": "markdown",
   "metadata": {},
   "source": [
    "### 학습 데이터 준비\n",
    "\n",
    "http://www.manythings.org/anki/\n",
    "\n",
    "eng-kor 짝으로 이루어진 학습 데이터\n",
    "\n",
    "1. Encoder 입력 데이터 eng\n",
    "    - encoder_input_eng 준비    `I love you`\n",
    "2. Decoder 출력 데이터 kor\n",
    "    - 학습용 teacher-forcing 모델\n",
    "        - decoder_input_kor     \n",
    "        - decoder_output_kor\n",
    "    - 추론용 모델"
   ]
  },
  {
   "cell_type": "code",
   "execution_count": null,
   "metadata": {},
   "outputs": [
    {
     "name": "stderr",
     "output_type": "stream",
     "text": [
      "Downloading...\n",
      "From: https://drive.google.com/uc?id=1sfIbATWOTpYiJZbl9NClZ9ZhbSvdR1Wz\n",
      "To: c:\\encore_skn11\\07_nlp\\07_seq2seq\\eng_kor.txt\n",
      "\n",
      "  0%|          | 0.00/864k [00:00<?, ?B/s]\n",
      " 61%|██████    | 524k/864k [00:00<00:00, 878kB/s]\n",
      "100%|██████████| 864k/864k [00:00<00:00, 1.26MB/s]\n"
     ]
    }
   ],
   "source": [
    "# !gdown 1sfIbATWOTpYiJZbl9NClZ9ZhbSvdR1Wz -O eng_kor.txt"
   ]
  },
  {
   "cell_type": "code",
   "execution_count": 4,
   "metadata": {},
   "outputs": [
    {
     "data": {
      "text/plain": [
       "(5890, 5890, 5890)"
      ]
     },
     "execution_count": 4,
     "metadata": {},
     "output_type": "execute_result"
    }
   ],
   "source": [
    "eng_inputs = []     # 인코더 입력\n",
    "kor_inputs = []     # 디코더 입력\n",
    "kor_targets = []    # 디코더 출력\n",
    "\n",
    "with open('eng_kor.txt', 'r', encoding='utf-8') as f:\n",
    "    for line in f:\n",
    "        eng, kor, _ = line.split('\\t')\n",
    "\n",
    "        kor_input = '<sos> ' + kor\n",
    "        kor_target = kor + ' <eos>'\n",
    "\n",
    "        eng_inputs.append(eng)\n",
    "        kor_inputs.append(kor_input)\n",
    "        kor_targets.append(kor_target)\n",
    "\n",
    "len(eng_inputs), len(kor_inputs), len(kor_targets)\n"
   ]
  },
  {
   "cell_type": "code",
   "execution_count": null,
   "metadata": {},
   "outputs": [
    {
     "name": "stdout",
     "output_type": "stream",
     "text": [
      "[\"I'm just sleepy.\", \"I'm not sulking.\", \"I'm on the list.\", 'Is Tom with you?', 'Is anybody home?']\n",
      "['<sos> 나 졸려.', '<sos> 나 삐친 거 아니야.', '<sos> 나는 명단에 있다.', '<sos> 톰이랑 같이 있어?', '<sos> 누구 집에 있어요?']\n",
      "['나 졸려. <eos>', '나 삐친 거 아니야. <eos>', '나는 명단에 있다. <eos>', '톰이랑 같이 있어? <eos>', '누구 집에 있어요? <eos>']\n"
     ]
    }
   ],
   "source": [
    "print(eng_inputs[1000:1005])\n",
    "print(kor_inputs[1000:1005])    # decoder input\n",
    "print(kor_targets[1000:1005])   # decoder output"
   ]
  },
  {
   "cell_type": "markdown",
   "metadata": {},
   "source": [
    "### 토큰화\n",
    "- 인코더(영어): 영문 토크나이저\n",
    "- 디코더(한글): 국문 토크나이저"
   ]
  },
  {
   "cell_type": "code",
   "execution_count": 7,
   "metadata": {},
   "outputs": [],
   "source": [
    "VOCAB_SIZE = 10000"
   ]
  },
  {
   "cell_type": "markdown",
   "metadata": {},
   "source": [
    "### 영문 토큰화"
   ]
  },
  {
   "cell_type": "code",
   "execution_count": null,
   "metadata": {},
   "outputs": [
    {
     "data": {
      "text/plain": [
       "[[16, 114, 487],\n",
       " [16, 32, 1915],\n",
       " [16, 49, 6, 1916],\n",
       " [7, 3, 45, 5],\n",
       " [7, 367, 89]]"
      ]
     },
     "execution_count": 8,
     "metadata": {},
     "output_type": "execute_result"
    }
   ],
   "source": [
    "from tensorflow.keras.preprocessing.text import Tokenizer\n",
    "\n",
    "eng_tokenizer = Tokenizer(num_words=VOCAB_SIZE, oov_token='<OOV>')\n",
    "eng_tokenizer.fit_on_texts(eng_inputs)\n",
    "eng_inputs_seq = eng_tokenizer.texts_to_sequences(eng_inputs)   # 토크나이저를 통해 잘라준 시퀀스들\n",
    "\n",
    "eng_inputs_seq[1000:1005]"
   ]
  },
  {
   "cell_type": "code",
   "execution_count": null,
   "metadata": {},
   "outputs": [
    {
     "name": "stdout",
     "output_type": "stream",
     "text": [
      "[\"i'm\", 'just', 'sleepy']\n",
      "[\"i'm\", 'not', 'sulking']\n",
      "[\"i'm\", 'on', 'the', 'list']\n",
      "['is', 'tom', 'with', 'you']\n",
      "['is', 'anybody', 'home']\n"
     ]
    }
   ],
   "source": [
    "for seq in eng_inputs_seq[1000:1005]:\n",
    "    print([eng_tokenizer.index_word[index] for index in seq])   # 인덱스로 저장되어 있는 단어를 다시 단어로 바꿔서 출력 # 대문자를 소문자로 바꿔주는 동작도 함께 수행함"
   ]
  },
  {
   "cell_type": "code",
   "execution_count": 11,
   "metadata": {},
   "outputs": [],
   "source": [
    "eng_num_words = min(VOCAB_SIZE, len(eng_tokenizer.word_index))"
   ]
  },
  {
   "cell_type": "code",
   "execution_count": null,
   "metadata": {},
   "outputs": [
    {
     "data": {
      "text/plain": [
       "101"
      ]
     },
     "execution_count": 12,
     "metadata": {},
     "output_type": "execute_result"
    }
   ],
   "source": [
    "eng_max_len = max([len(seq) for seq in eng_inputs_seq])       # 시퀀스를 하나씩 꺼내서 길이가 긴 걸 찾아냄\n",
    "# 토큰화시킨 것들 중 제일 긴 거 구하기"
   ]
  },
  {
   "cell_type": "markdown",
   "metadata": {},
   "source": [
    "### 국문 토큰화"
   ]
  },
  {
   "cell_type": "code",
   "execution_count": null,
   "metadata": {},
   "outputs": [],
   "source": [
    "# filters='' 필터사용안함 (기본값: filters='!\"#$%&()*+,-./:;<=>?@[\\\\]^_`{|}~\\t\\n')\n",
    "kor_tokenizer = Tokenizer(num_words=VOCAB_SIZE, oov_token='<oov>', filters='')\n",
    "\n",
    "kor_tokenizer.fit_on_texts(kor_input + kor_targets) # <sos>, <eos> 포함"
   ]
  },
  {
   "cell_type": "code",
   "execution_count": null,
   "metadata": {},
   "outputs": [],
   "source": []
  }
 ],
 "metadata": {
  "kernelspec": {
   "display_name": "base",
   "language": "python",
   "name": "python3"
  },
  "language_info": {
   "codemirror_mode": {
    "name": "ipython",
    "version": 3
   },
   "file_extension": ".py",
   "mimetype": "text/x-python",
   "name": "python",
   "nbconvert_exporter": "python",
   "pygments_lexer": "ipython3",
   "version": "3.12.7"
  }
 },
 "nbformat": 4,
 "nbformat_minor": 2
}
