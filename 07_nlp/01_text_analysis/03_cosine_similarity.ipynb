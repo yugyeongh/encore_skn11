{
 "cells": [
  {
   "cell_type": "markdown",
   "metadata": {},
   "source": [
    "# 코사인 유사도 (cosine similarity)"
   ]
  },
  {
   "cell_type": "code",
   "execution_count": null,
   "metadata": {},
   "outputs": [
    {
     "name": "stdout",
     "output_type": "stream",
     "text": [
      "(3, 18)\n",
      "[('blue', 0), ('deep', 1), ('ends', 2), ('goes', 3), ('hole', 4), ('how', 5), ('if', 6), ('in', 7), ('pill', 8), ('rabbit', 9), ('red', 10), ('show', 11), ('stay', 12), ('story', 13), ('take', 14), ('the', 15), ('wonderland', 16), ('you', 17)]\n",
      "TfidfVectorizer()\n"
     ]
    },
    {
     "data": {
      "text/plain": [
       "array([[1.        , 0.40207758, 0.40425045]])"
      ]
     },
     "execution_count": 5,
     "metadata": {},
     "output_type": "execute_result"
    }
   ],
   "source": [
    "from sklearn.feature_extraction.text import TfidfVectorizer\n",
    "from sklearn.metrics.pairwise import cosine_similarity\n",
    "\n",
    "doc_list = [\n",
    "    'if you take the blue pill, the story ends' ,\n",
    "    'if you take the red pill, you stay in Wonderland',\n",
    "    'if you take the red pill, I show you how deep the rabbit hole goes'\n",
    "]\n",
    "\n",
    "# 벡터화를 시켜준 문장 저장\n",
    "tfidf_vectorizer = TfidfVectorizer()\n",
    "doc_vecs = tfidf_vectorizer.fit_transform(doc_list)     # doc_list를 벡터화해줌\n",
    "\n",
    "print(doc_vecs.shape)                                   # (3, 18) # 벡터화해줬는데 왜 3,18이지 3,3인거 아닌가? 단어들의 총 개수가 18 -> 문서가 3개, 단어가 18개\n",
    "print(sorted(tfidf_vectorizer.vocabulary_.items(), key=lambda x:x[1]))\n",
    "\n",
    "# 벡터화 시켜준 문장의 코사인 유사도를 구함\n",
    "doc_arr = doc_vecs.toarray()                            # 벡터화한 것을 array로 바꿈\n",
    "cosine_similarity(doc_arr[0:1], doc_arr)                # array([[1.        , 0.40207758, 0.40425045]]) # 자기 자신을 기준으로 했기 때문에 맨 처음이 1임"
   ]
  }
 ],
 "metadata": {
  "kernelspec": {
   "display_name": "base",
   "language": "python",
   "name": "python3"
  },
  "language_info": {
   "codemirror_mode": {
    "name": "ipython",
    "version": 3
   },
   "file_extension": ".py",
   "mimetype": "text/x-python",
   "name": "python",
   "nbconvert_exporter": "python",
   "pygments_lexer": "ipython3",
   "version": "3.12.7"
  }
 },
 "nbformat": 4,
 "nbformat_minor": 2
}
