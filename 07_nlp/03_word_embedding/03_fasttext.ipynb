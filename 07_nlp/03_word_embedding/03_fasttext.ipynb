{
 "cells": [
  {
   "cell_type": "markdown",
   "metadata": {},
   "source": [
    "# fastText"
   ]
  },
  {
   "cell_type": "markdown",
   "metadata": {},
   "source": [
    "https://github.com/facebookresearch/fastText\n",
    "\n",
    "**FastText**는 자연어 처리(NLP) 작업에서 사용되는 오픈소스 라이브러리로, 텍스트 분류 및 단어 임베딩을 위한 빠르고 효율적인 도구이다. 이는 Facebook AI Research 팀에서 개발했으며, 특히 대규모 텍스트 데이터에서도 높은 성능과 속도를 제공한다. FastText는 아래와 같은 주요 특징을 가진다:\n",
    "\n",
    "\n",
    "**주요 특징**\n",
    "1. **단어 벡터 학습 (Word Embeddings)**  \n",
    "   - FastText는 단어를 고정된 크기의 벡터로 변환하는 단어 임베딩 모델을 학습한다. 이는 단어의 의미를 벡터 공간에 매핑하여 유사한 단어가 가까운 벡터로 표현되도록 한다.\n",
    "   - 기존의 Word2Vec과 유사하지만, FastText는 단어를 **서브워드(subword)** 단위로 처리한다.\n",
    "\n",
    "2. **서브워드 기반 모델 (Subword-based Model)**  \n",
    "   - 단어를 n-그램(예: 'apple' → ['app', 'ppl', 'ple'])으로 분해하여 학습하기 때문에, **희귀 단어**나 **철자 오류**에도 강건하다.\n",
    "   - 이는 단어 외에도 철자 패턴과 같은 더 세밀한 정보를 학습하는 데 유용하다.\n",
    "\n",
    "3. **텍스트 분류 (Text Classification)**  \n",
    "   - FastText는 문서나 문장을 빠르고 정확하게 분류하는 데 최적화되어 있다.\n",
    "   - 학습 과정이 빠르고, 모델의 크기가 작으며, 정확도도 뛰어나다.\n",
    "\n",
    "4. **효율적인 구현**  \n",
    "   - FastText는 CPU 기반으로도 높은 성능을 내도록 설계되었으며, 대규모 데이터셋에서도 빠르게 작동한다.\n",
    "\n",
    "**FastText의 작동 원리**\n",
    "1. **단어 표현**  \n",
    "   - 단어를 n-그램 서브워드로 나눈 후, 각 서브워드에 대해 벡터를 학습한다.\n",
    "   - 예를 들어, \"cat\"이라는 단어는 'c', 'ca', 'cat'과 같은 다양한 조합으로 분해된다.\n",
    "   - 결과적으로 단어 벡터는 각 서브워드 벡터의 합으로 표현된다.\n",
    "\n",
    "2. **모델 구조**  \n",
    "   - FastText는 Skip-gram 모델이나 CBOW 모델을 기반으로 동작한다.\n",
    "   - 단, 기존 모델과 달리 단어 자체가 아닌 서브워드를 사용하여 학습한다.\n",
    "\n",
    "**FastText의 장점**\n",
    "1. **희귀 단어 처리 능력**  \n",
    "   - 서브워드 기반 접근 방식 덕분에 희귀 단어 또는 새로운 단어에 대해 더 좋은 일반화 성능을 발휘한다.\n",
    "2. **빠른 학습 속도**  \n",
    "   - 단순한 모델 구조와 최적화된 구현으로 매우 빠르게 학습할 수 있다.\n",
    "3. **다양한 언어 지원**  \n",
    "   - 다양한 언어에서 동작하며, 특히 굴절어(inflected languages)와 같은 복잡한 언어에서도 효과적이다.\n",
    "\n",
    "**활용 사례**\n",
    "1. **단어 임베딩**  \n",
    "   - 단어 간 유사도 계산, 문장 표현 학습.\n",
    "2. **텍스트 분류**  \n",
    "   - 스팸 필터링, 감정 분석, 뉴스 분류.\n",
    "3. **다언어 지원**  \n",
    "   - 다국어 데이터셋에서 빠른 응답 성능 제공."
   ]
  },
  {
   "cell_type": "markdown",
   "metadata": {},
   "source": [
    "### gensim FastText"
   ]
  },
  {
   "cell_type": "code",
   "execution_count": null,
   "metadata": {},
   "outputs": [],
   "source": [
    "from gensim.models import FastText\n",
    "from lxml import etree\n",
    "import re\n",
    "from nltk.tokenize import word_tokenize, sent_tokenize\n",
    "import pandas as pd"
   ]
  },
  {
   "cell_type": "code",
   "execution_count": null,
   "metadata": {},
   "outputs": [],
   "source": []
  }
 ],
 "metadata": {
  "kernelspec": {
   "display_name": "base",
   "language": "python",
   "name": "python3"
  },
  "language_info": {
   "codemirror_mode": {
    "name": "ipython",
    "version": 3
   },
   "file_extension": ".py",
   "mimetype": "text/x-python",
   "name": "python",
   "nbconvert_exporter": "python",
   "pygments_lexer": "ipython3",
   "version": "3.12.7"
  }
 },
 "nbformat": 4,
 "nbformat_minor": 2
}
