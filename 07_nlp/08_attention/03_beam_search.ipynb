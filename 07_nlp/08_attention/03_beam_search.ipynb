{
 "cells": [
  {
   "cell_type": "markdown",
   "metadata": {},
   "source": [
    "# Beam Search"
   ]
  },
  {
   "cell_type": "code",
   "execution_count": 1,
   "metadata": {},
   "outputs": [],
   "source": [
    "import torch\n",
    "import torch.nn.functional as F"
   ]
  },
  {
   "cell_type": "code",
   "execution_count": null,
   "metadata": {},
   "outputs": [],
   "source": [
    "def beam_search(decoder, hidden, context, beam_widtch=3, max_length=10):\n",
    "\n",
    "    sequeneces = [[[], 1.0, hidden]]        # 초기화\n",
    "\n",
    "    for _ in range(max_length):             # 최대치로 정해준 max_length만큼 반복\n",
    "        all_candidates = []\n",
    "        # [['나는',0.6, hidden1], ['저는',0.4, hidden2]]\n",
    "\n",
    "        for seq, score, hidden in sequences:    # seq=[], score=1.0, hidden=hidden (초기화한거 기준으로 작성)\n",
    "            decoder_input = torch.tensor([seq[-1] if seq else 0])   # seq(예측해서 넣은 것)의 마지막 단어가 존재하지 않으면 0을 넣음\n",
    "            output, hidden = decoder(decoder_input, hidden, context)\n",
    "            top_probs, top_indices = torch.topk(F.softmax(output, dim=1), beam_width)       # 상위 몇 개를 고를거다~\n",
    "\n",
    "            for i in range(beam_width):\n",
    "                candidate = (seq + [top_indices[0][i].item(), score * top_probs[0][i].item(), hidden)\n",
    "                all_candidates.append(candidate)\n",
    "            \n",
    "        sequences = sorted(all_candidates, key=lambda x:x[1], reverse=True)[:beam_width]\n",
    "        \n",
    "    return sequences[0][0]"
   ]
  }
 ],
 "metadata": {
  "kernelspec": {
   "display_name": "base",
   "language": "python",
   "name": "python3"
  },
  "language_info": {
   "codemirror_mode": {
    "name": "ipython",
    "version": 3
   },
   "file_extension": ".py",
   "mimetype": "text/x-python",
   "name": "python",
   "nbconvert_exporter": "python",
   "pygments_lexer": "ipython3",
   "version": "3.12.7"
  }
 },
 "nbformat": 4,
 "nbformat_minor": 2
}
