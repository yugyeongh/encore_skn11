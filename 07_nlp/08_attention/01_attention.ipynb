{
 "cells": [
  {
   "cell_type": "markdown",
   "metadata": {},
   "source": [
    "### 어텐션\n",
    "- 입력 시퀀스의 모든 요소를 동일하게 처리하는 대신에 입력 단어의 중요한 부분에 가중치를 부여해 번역 품질을 향상시키는 매커니즘\n",
    "\n",
    "1. 가중치 할당\n",
    "    - 쿼리, 키, 값을 통해 계산\n",
    "2. 동적 컨텍스트 생성\n",
    "    - 가중치가 적용된 입력의 가중합을 동적으로 생성\n",
    "\n",
    "- Transformer Attention 종류\n",
    "    - Encoder self-attention: globalSelfAttention\n",
    "        - 쿼리, 키, 값 모두 인코더 상태를 사용\n",
    "    - decoder self-attention: causalAttention\n",
    "        - 쿼리, 키, 값 모두 디코더 상태를 사용\n",
    "    - encoder-decoder attention: crossAttention\n",
    "        - 쿼리는 디코더의 출력을, 키,값은 인코더 상태를 사용\n",
    "\n",
    "### Input Feeding\n",
    "- 디코더에서 이전 시간 단계의 어텐션 정보와 현재 입력을 결합해 더 풍부한 문맥 정보를 제공하는 기법\n",
    "- 주요 개념: 문맥 정보 강화(이전 어텐션 정보를 활용해 번역의 일관성과 정확성을 높임), 작동방식(현재 입력과 이전 컨텍스트 벡터(어텐션 정보)를 결합하고, 디코더가 문맥 정보를 누적 학습)\n",
    "\n",
    "### 전이 학습\n",
    "1. 사전 훈련 방식\n",
    "    - 정적인 단어 임베딩을 사용해 단어를 고정된 벡터로 표현하는 기법\n",
    "    - 주요 알고리즘\n",
    "        - word2vec: cbow(주변 단어로 중심 단어 예측), skipgram: 중심 단어로 주변 단어 예측\n",
    "        - glove: 단어 공기행렬을 기반으로 임베딩 학습\n",
    "        - fasttext: 단어를 ngram으로 분해해 희소 단어 처리 강화\n",
    "2. ELMo\n",
    "    - 문맥 기반 단어 임베딩으로 문맥에 따라 단어의 의미를 동적으로 표현\n",
    "    - 특징\n",
    "        - 양방향 lstm 사용\n",
    "3. Transformers\n",
    "    - 병렬 처리와 전역 문맥 이해를 통해 rnn의 한계를 극복한 딥러닝 모델로, 인코더-디코더 구조와 어텐션 매커니즘을 기반으로 함\n",
    "    - 주요 구성 요소\n",
    "        - 인코더: 입력 시퀀스를 벡터로 변환\n",
    "        - 디코더: 인코더의 벡터를 사용해 출력 시퀀스 생성\n",
    "        - multi-head-attention: 단어 간 관계를 다각도로 학습\n",
    "        - 포지셔널 인코딩: 단어 순서 정보 추가\n",
    "4. BERT\n",
    "5. GPT-2"
   ]
  },
  {
   "cell_type": "code",
   "execution_count": null,
   "metadata": {},
   "outputs": [],
   "source": []
  },
  {
   "cell_type": "markdown",
   "metadata": {},
   "source": [
    "----"
   ]
  },
  {
   "cell_type": "markdown",
   "metadata": {},
   "source": [
    "# Attention"
   ]
  },
  {
   "cell_type": "code",
   "execution_count": 1,
   "metadata": {},
   "outputs": [],
   "source": [
    "import torch\n",
    "import torch.nn as nn\n",
    "import torch.nn.functional as F"
   ]
  },
  {
   "cell_type": "markdown",
   "metadata": {},
   "source": [
    "### 어텐션 가중치 계산"
   ]
  },
  {
   "cell_type": "code",
   "execution_count": 19,
   "metadata": {},
   "outputs": [],
   "source": [
    "def attention(query, key, value):\n",
    "    # 1. 어텐션 스코어 계산 (Query - Key)\n",
    "    scores = torch.matmul(query, key.transpose(-2,-1))\n",
    "    print('Attention Score Shape: ', scores.shape)\n",
    "\n",
    "    # 2. Softmax 적용 (가중치 계산)\n",
    "    attention_weights = F.softmax(scores, dim=1)\n",
    "    print('Attention weights shape: ', attention_weights.shape)\n",
    "\n",
    "    # 3. 어텐션 밸류 계산 (Value 적용 => 최종 Context vector 계산)\n",
    "    context_vector = torch.matmul(attention_weights, value)\n",
    "    print('Context Vector shape: ', context_vector.shape)\n",
    "\n",
    "    return context_vector"
   ]
  },
  {
   "cell_type": "code",
   "execution_count": 20,
   "metadata": {},
   "outputs": [],
   "source": [
    "# 토큰화 및 임베딩 결과 예시\n",
    "vocab = {\n",
    "    '나는': 0,\n",
    "    '학교에': 1,\n",
    "    '간다': 2,\n",
    "    '<pad>': 3\n",
    "}"
   ]
  },
  {
   "cell_type": "code",
   "execution_count": 21,
   "metadata": {},
   "outputs": [],
   "source": [
    "vocab_size = len(vocab)\n",
    "EMBEDDING_DIM = 4"
   ]
  },
  {
   "cell_type": "code",
   "execution_count": 22,
   "metadata": {},
   "outputs": [],
   "source": [
    "# 입력 문장\n",
    "inputs = ['나는', '학교에', '간다']\n",
    "inputs_ids = torch.tensor([[vocab[word] for word in inputs]])   # (1,3) # 배치 차원 맞추기 위해 2번 리스트로 감싸줌"
   ]
  },
  {
   "cell_type": "code",
   "execution_count": 23,
   "metadata": {},
   "outputs": [
    {
     "name": "stdout",
     "output_type": "stream",
     "text": [
      "torch.Size([1, 3, 4]) torch.Size([1, 3, 4]) torch.Size([1, 3, 4])\n"
     ]
    }
   ],
   "source": [
    "# 1. 임베딩 적용\n",
    "embedding_layer = nn.Embedding(vocab_size, EMBEDDING_DIM)\n",
    "inputs_embedded = embedding_layer(inputs_ids)       # 임베딩 레이어 통과\n",
    "# print(inputs_embedded.shape)  # torch.Size([1, 3, 4])\n",
    "\n",
    "# 2. 선형 변환 -> Query, Key, Value\n",
    "HIDDEN_DIM = 4\n",
    "W_query = nn.Linear(EMBEDDING_DIM, HIDDEN_DIM)\n",
    "W_key = nn.Linear(EMBEDDING_DIM, HIDDEN_DIM)\n",
    "W_value = nn.Linear(EMBEDDING_DIM, HIDDEN_DIM)\n",
    "\n",
    "input_query = W_query(inputs_embedded)\n",
    "input_key = W_key(inputs_embedded)\n",
    "input_value = W_value(inputs_embedded)\n",
    "\n",
    "print(input_query.shape, input_key.shape, input_value.shape)"
   ]
  },
  {
   "cell_type": "code",
   "execution_count": 24,
   "metadata": {},
   "outputs": [
    {
     "name": "stdout",
     "output_type": "stream",
     "text": [
      "Attention Score Shape:  torch.Size([1, 3, 3])\n",
      "Attention weights shape:  torch.Size([1, 3, 3])\n",
      "Context Vector shape:  torch.Size([1, 3, 4])\n"
     ]
    },
    {
     "data": {
      "text/plain": [
       "tensor([[[ 0.1480,  0.4819,  0.2151, -0.8311],\n",
       "         [-0.1020,  0.1860, -0.0669, -0.3845],\n",
       "         [-0.7443,  0.0393, -0.6395, -0.4993]]], grad_fn=<UnsafeViewBackward0>)"
      ]
     },
     "execution_count": 24,
     "metadata": {},
     "output_type": "execute_result"
    }
   ],
   "source": [
    "context_vector = attention(input_query, input_key, input_value)\n",
    "context_vector"
   ]
  },
  {
   "cell_type": "markdown",
   "metadata": {},
   "source": [
    "### seq2seq 모델에 어텐션 추가"
   ]
  },
  {
   "cell_type": "code",
   "execution_count": null,
   "metadata": {},
   "outputs": [],
   "source": [
    "class Attention(nn.Module):\n",
    "    def __init__(self, hidden_size):\n",
    "        super(Attention, self).__init__()\n",
    "        self.attn = nn.Linear(hidden_size * 2, hidden_size)\n",
    "        self.v = nn.Parameter(torch.rand(hidden_size))\n",
    "    \n",
    "    def forward(self, hidden, encoder_outputs):\n",
    "        seq_len = encoder_outputs.shape[1]\n",
    "        hidden_expanded = hidden.unsqueeze(1).repeat(1, seq_len, 1)     # 입력 시퀀스만큼 복제\n",
    "        energy = torch.tanh(self.attn(torch.cat((hidden_expanded, encoder_outputs), dim=2)))    # 인코더 출력을 붙임 # tanh를 통과시켜 비선형으로\n",
    "        attention_scores = torch.sum(self.v * energy, dim=2)        # 현재 상태에서 가중치 곱하고 합계를 구해서 스칼라값으로 표현\n",
    "        attention_weights = F.softmax(attention_scores, dim=1)      # attention 가중치\n",
    "        context_vector = torch.bmm(attention_weights.unsqueeze(1), encoder_outputs).squeeze(1)\n",
    "        \n",
    "        return context_vector, attention_weights"
   ]
  },
  {
   "cell_type": "code",
   "execution_count": 34,
   "metadata": {},
   "outputs": [],
   "source": [
    "class Seq2SeqWithAttention(nn.Module):\n",
    "    def __init__(self, input_dim, hidden_dim, output_dim):\n",
    "        super(Seq2SeqWithAttention, self).__init__()\n",
    "        self.encoder = nn.GRU(input_dim, hidden_dim, batch_first=True)\n",
    "        self.decoder = nn.GRU(hidden_dim, hidden_dim, batch_first=True)\n",
    "        self.attention = Attention(hidden_dim)\n",
    "        self.fc = nn.Linear(hidden_dim*2, output_dim)\n",
    "        self.decoder_input_transform = nn.Linear(input_dim, hidden_dim)\n",
    "    \n",
    "    def forward(self, encoder_input, decoder_input):\n",
    "        encoder_outputs, hidden = self.encoder(encoder_input)\n",
    "        context_vector, _ = self.attention(hidden[-1], encoder_outputs)\n",
    "        decoder_input_ = self.decoder_input_transform(decoder_input)\n",
    "        output, _ = self.decoder(decoder_input_, hidden)\n",
    "        combined = torch.cat((output, context_vector.unsqueeze(1)), dim=2)\n",
    "        \n",
    "        return self.fc(combined)"
   ]
  },
  {
   "cell_type": "code",
   "execution_count": null,
   "metadata": {},
   "outputs": [
    {
     "name": "stdout",
     "output_type": "stream",
     "text": [
      "tensor([[[-0.1539,  0.0579, -0.0606,  0.0322,  0.0160, -0.1993,  0.0144,\n",
      "           0.0858,  0.1954, -0.1625,  0.1705,  0.0152, -0.1274,  0.0169,\n",
      "           0.0659]]], grad_fn=<ViewBackward0>)\n"
     ]
    }
   ],
   "source": [
    "batch_size = 1\n",
    "seq_len = 5\n",
    "input_dim = 10\n",
    "hidden_dim = 20\n",
    "output_dim = 15\n",
    "\n",
    "# 랜덤하게 encoder, decoder input 만들기\n",
    "encoder_input = torch.randn(batch_size, seq_len, input_dim)\n",
    "decoder_input = torch.randn(batch_size, 1, input_dim)\n",
    "\n",
    "model = Seq2SeqWithAttention(input_dim=input_dim, hidden_dim=hidden_dim, output_dim=output_dim)\n",
    "result = model(encoder_input, decoder_input)\n",
    "print(result)"
   ]
  }
 ],
 "metadata": {
  "kernelspec": {
   "display_name": "base",
   "language": "python",
   "name": "python3"
  },
  "language_info": {
   "codemirror_mode": {
    "name": "ipython",
    "version": 3
   },
   "file_extension": ".py",
   "mimetype": "text/x-python",
   "name": "python",
   "nbconvert_exporter": "python",
   "pygments_lexer": "ipython3",
   "version": "3.12.7"
  }
 },
 "nbformat": 4,
 "nbformat_minor": 2
}
