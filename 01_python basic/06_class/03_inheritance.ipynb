{
 "cells": [
  {
   "cell_type": "markdown",
   "metadata": {},
   "source": [
    "### 상속"
   ]
  },
  {
   "cell_type": "code",
   "execution_count": null,
   "metadata": {},
   "outputs": [
    {
     "name": "stdout",
     "output_type": "stream",
     "text": [
      "hello, python\n",
      "korea\n"
     ]
    }
   ],
   "source": [
    "class Person:\n",
    "    national = 'korea'\n",
    "\n",
    "    def greeting(self):\n",
    "        return 'hello, python'\n",
    "\n",
    "class Student(Person):\n",
    "    pass\n",
    "\n",
    "student = Student()\n",
    "print(student.greeting())\n",
    "print(student.national)"
   ]
  },
  {
   "cell_type": "code",
   "execution_count": null,
   "metadata": {},
   "outputs": [
    {
     "name": "stdout",
     "output_type": "stream",
     "text": [
      "hello\n",
      "i am learning python\n"
     ]
    }
   ],
   "source": [
    "class Person:\n",
    "    national = 'korea'\n",
    "\n",
    "    def greeting(self):\n",
    "        return 'hello'\n",
    "\n",
    "class Learner:\n",
    "    def greeting(self):\n",
    "        return 'hello, i am learner'\n",
    "    def learn(self):\n",
    "        return 'i am learning python'\n",
    "\n",
    "class Student(Person, Learner): # 다중 상속 시에는 검색 순서가 왼>오\n",
    "    pass\n",
    "\n",
    "student = Student()\n",
    "print(student.greeting())\n",
    "print(student.learn()) # person 클래스에 없는 메소드라 learn에 있는 메소드를 상속"
   ]
  },
  {
   "cell_type": "code",
   "execution_count": 6,
   "metadata": {},
   "outputs": [],
   "source": [
    "class Person:\n",
    "    def __init__(self, name, phone):\n",
    "        self.name = name\n",
    "        self.phone = phone\n",
    "\n",
    "    def __str__(self): # 주소값을 뽑아줌\n",
    "        return f'<Person {self.name}>'"
   ]
  },
  {
   "cell_type": "code",
   "execution_count": null,
   "metadata": {},
   "outputs": [],
   "source": [
    "class Student(Person):\n",
    "\n",
    "    def __init__(self, name, phone, hobby):\n",
    "        # 1. 부모클래스명.__init__(self, ...)\n",
    "        # Person.__init__(self, name)\n",
    "\n",
    "        # 2. super().__init__(...) # self 넣지 않아도 됨 \n",
    "        super().__init__(name, phone) # super 자체가 인스턴스가 되어서 self.name=name, self.phone=phone을 넣지 않아도 됨\n",
    "        \n",
    "        # self.phone = phone\n",
    "        self.hobby = hobby"
   ]
  },
  {
   "cell_type": "code",
   "execution_count": 26,
   "metadata": {},
   "outputs": [
    {
     "name": "stdout",
     "output_type": "stream",
     "text": [
      "홍길동\n",
      "<Person 홍길동>\n",
      "추영우 01010101010 파이썬 공부하기\n",
      "<Person 추영우>\n",
      "주지훈 01011111111 DB 공부하기\n",
      "<Person 주지훈>\n"
     ]
    }
   ],
   "source": [
    "p1 = Person('홍길동','01012345678')\n",
    "print(p1.name)\n",
    "print(p1)\n",
    "\n",
    "s1 = Student('추영우','01010101010','파이썬 공부하기')\n",
    "s2 = Student('주지훈','01011111111','DB 공부하기')\n",
    "print(s1.name, s1.phone, s1.hobby)\n",
    "print(s1)\n",
    "\n",
    "print(s2.name, s2.phone, s2.hobby)\n",
    "print(s2)\n"
   ]
  },
  {
   "cell_type": "markdown",
   "metadata": {},
   "source": [
    "---\n",
    "### 다중 상속"
   ]
  },
  {
   "cell_type": "code",
   "execution_count": 28,
   "metadata": {},
   "outputs": [],
   "source": [
    "class Person:\n",
    "    fingers = 10\n",
    "    eyes = 2\n",
    "\n",
    "    def introduce(self):\n",
    "        return '사람'\n",
    "    \n",
    "class Animal:\n",
    "    fur = True\n",
    "\n",
    "    def introduce(self):\n",
    "        return '동물'\n",
    "\n",
    "class BanInBanSu(Animal, Person):\n",
    "    pass"
   ]
  },
  {
   "cell_type": "code",
   "execution_count": 30,
   "metadata": {},
   "outputs": [
    {
     "name": "stdout",
     "output_type": "stream",
     "text": [
      "10 2 True\n",
      "동물\n"
     ]
    }
   ],
   "source": [
    "b1 = BanInBanSu()\n",
    "print(b1.fingers, b1.eyes, b1.fur)\n",
    "print(b1.introduce())"
   ]
  },
  {
   "cell_type": "markdown",
   "metadata": {},
   "source": [
    "---\n",
    "### 오버라이딩"
   ]
  },
  {
   "cell_type": "code",
   "execution_count": 31,
   "metadata": {},
   "outputs": [],
   "source": [
    "class Animal:\n",
    "    species = '동물'\n",
    "\n",
    "    def introduce(self):\n",
    "        print('Welcome to 동물의 왕국')\n",
    "\n",
    "class Mammalia(Animal):\n",
    "    species = '포유류'\n",
    "\n",
    "    def has_fur(self):\n",
    "        return True\n",
    "\n",
    "class Rabbit(Mammalia):\n",
    "    name = '토끼'\n",
    "\n",
    "    def eat(self):\n",
    "        print('당근좋아')\n",
    "    \n",
    "class RabbitTeacher(Rabbit):\n",
    "    def introduce(self):\n",
    "        print('안녕하세요🐰')"
   ]
  },
  {
   "cell_type": "code",
   "execution_count": 40,
   "metadata": {},
   "outputs": [
    {
     "name": "stdout",
     "output_type": "stream",
     "text": [
      "안녕하세요🐰\n",
      "토끼\n",
      "당근좋아\n",
      "포유류\n",
      "True\n",
      "포유류\n",
      "안녕하세요🐰\n"
     ]
    }
   ],
   "source": [
    "rt = RabbitTeacher()\n",
    "\n",
    "rt.introduce()\n",
    "print(rt.name)\n",
    "rt.eat()\n",
    "\n",
    "print(rt.species)\n",
    "print(rt.has_fur())\n",
    "\n",
    "print(rt.species)\n",
    "rt.introduce()\n"
   ]
  },
  {
   "cell_type": "markdown",
   "metadata": {},
   "source": [
    "---\n",
    "실습 문제"
   ]
  },
  {
   "cell_type": "markdown",
   "metadata": {},
   "source": [
    "### 문제 1: **기본 상속을 활용한 클래스 생성**\n",
    "\n",
    "토끼는 이직을 준비하며 새로운 직업군을 탐색하고 있습니다. 토끼의 기본적인 정보를 담는 `Person` 클래스를 만들고, 이를 상속받는 `Candidate` 클래스를 생성하세요.\n",
    "\n",
    "1. `Person` 클래스:\n",
    "    - 클래스 속성 `national`은 \"Korea\"로 설정합니다.\n",
    "2. `Candidate` 클래스:\n",
    "    - `Person` 클래스를 상속받습니다.\n",
    "    - 생성자에서 이름(`name`)과 관심 분야(`field`)를 매개변수로 받아 저장합니다.\n",
    "    - 메서드 `introduce`를 오버라이드하여 `\"안녕하세요, 저는 [name]입니다. [field] 분야에 관심이 있습니다.\"`를 반환합니다."
   ]
  },
  {
   "cell_type": "code",
   "execution_count": 1,
   "metadata": {},
   "outputs": [
    {
     "name": "stdout",
     "output_type": "stream",
     "text": [
      "안녕하세요 저는 사람입니다.\n",
      "안녕하세요 저는 곰돌님입니다. LLM 개발 분야에 관심이 있습니다.\n"
     ]
    }
   ],
   "source": [
    "class Person:\n",
    "    national = 'Korea'\n",
    "\n",
    "    def introduce(self):\n",
    "        return '안녕하세요 저는 사람입니다.'\n",
    "\n",
    "class Candidate(Person):\n",
    "\n",
    "    def __init__(self, name, field):\n",
    "        self.name = name\n",
    "        self.field = field\n",
    "    \n",
    "    def introduce(self):\n",
    "        return f'안녕하세요 저는 {self.name}입니다. {self.field} 분야에 관심이 있습니다.'\n",
    "    \n",
    "person = Person()\n",
    "candidate = Candidate('곰돌님','LLM 개발')\n",
    "print(person.introduce())\n",
    "print(candidate.introduce())\n"
   ]
  },
  {
   "cell_type": "markdown",
   "metadata": {},
   "source": [
    "### 문제 2: **다중 상속을 활용한 클래스 생성**\n",
    "\n",
    "토끼는 이직을 준비하며 여러 강사님들의 도움을 받고 있습니다. 강사의 역할을 분리한 클래스를 만들어 상속 구조를 테스트하세요.\n",
    "\n",
    "1. `Mentor` 클래스:\n",
    "    - 메서드 `guide`는 `\"이직 준비를 도와드립니다.\"`를 반환합니다.\n",
    "2. `Lecturer` 클래스:\n",
    "    - 메서드 `teach`는 `\"이직에 필요한 기술을 가르쳐드립니다.\"`를 반환합니다.\n",
    "3. `Coach` 클래스:\n",
    "    - `Mentor`와 `Lecturer` 클래스를 다중 상속받습니다.\n",
    "    - 메서드 `support`는 `\"여러 방면으로 지원을 아끼지 않겠습니다.\"`를 반환합니다."
   ]
  },
  {
   "cell_type": "code",
   "execution_count": 18,
   "metadata": {},
   "outputs": [
    {
     "name": "stdout",
     "output_type": "stream",
     "text": [
      "이직 준비를 도와드립니다.\n",
      "이직에 필요한 기술을 가르쳐드립니다.\n",
      "여러 방면으로 지원을 아끼지 않겠습니다.\n"
     ]
    }
   ],
   "source": [
    "class Mentor:\n",
    "    \n",
    "    def guide(self):\n",
    "        return '이직 준비를 도와드립니다.'\n",
    "\n",
    "class Lecturer:\n",
    "\n",
    "    def teach(self):\n",
    "        return '이직에 필요한 기술을 가르쳐드립니다.'\n",
    "\n",
    "class Coach(Mentor, Lecturer):\n",
    "\n",
    "    def support(self):\n",
    "        return '여러 방면으로 지원을 아끼지 않겠습니다.'\n",
    "\n",
    "coach = Coach()\n",
    "print(coach.guide())\n",
    "print(coach.teach())\n",
    "print(coach.support())"
   ]
  },
  {
   "cell_type": "markdown",
   "metadata": {},
   "source": [
    "### 문제 3: **부모 클래스 속성 오버라이딩**\n",
    "\n",
    "토끼는 이직 준비를 위해 개인적인 특성을 강조하고 있습니다. 부모 클래스의 메서드를 오버라이딩하여 각기 다른 인스턴스를 만들어보세요.\n",
    "\n",
    "1. `Person` 클래스:\n",
    "    - 속성 `name`과 `national`을 생성자로 받아 저장합니다.\n",
    "    - 메서드 `introduce`는 `\"안녕하세요, 저는 [name]입니다. 저는 [national]에서 왔습니다.\"`를 반환합니다.\n",
    "2. `Candidate` 클래스:\n",
    "    - `Person` 클래스를 상속받습니다.\n",
    "    - `introduce` 메서드를 오버라이드하여 `\"안녕하세요, 제 이름은 [name]이고, 이직 준비 중입니다.\"`를 반환합니다."
   ]
  },
  {
   "cell_type": "code",
   "execution_count": 1,
   "metadata": {},
   "outputs": [
    {
     "name": "stdout",
     "output_type": "stream",
     "text": [
      "안녕하세요, 저는 곰순님입니다. 저는 한국에서 왔습니다.\n",
      "안녕하세요, 제 이름은 곰돌님이고, 이직 준비 중입니다.\n"
     ]
    }
   ],
   "source": [
    "class Person2:\n",
    "    \n",
    "    def __init__(self, name, national):\n",
    "        self.name = name\n",
    "        self.national = national\n",
    "    \n",
    "    def introduce(self):\n",
    "        return f'안녕하세요, 저는 {self.name}입니다. 저는 {self.national}에서 왔습니다.'\n",
    "\n",
    "class Candidate(Person2):\n",
    "\n",
    "    # def __init__(self, name, national):\n",
    "    #     # Person2.__init__(self, name, national)\n",
    "    #     super().__init__(name, national)\n",
    "        \n",
    "    def introduce(self):\n",
    "        return f'안녕하세요, 제 이름은 {self.name}이고, 이직 준비 중입니다.'\n",
    "\n",
    "person = Person2('곰순님','한국')\n",
    "candidate = Candidate('곰돌님','미국')\n",
    "print(person.introduce())\n",
    "print(candidate.introduce())"
   ]
  },
  {
   "cell_type": "markdown",
   "metadata": {},
   "source": [
    "### 문제 4: **상속의 특성 통합 테스트**\n",
    "\n",
    "토끼는 강사님들의 지도를 받으며 다양한 분야에서 경험을 쌓고 있습니다. 상속과 메서드 오버라이딩, 다중 상속을 종합적으로 테스트하세요.\n",
    "\n",
    "1. `Mentor` 클래스:\n",
    "    - 속성 `field`를 생성자로 받아 저장합니다.\n",
    "    - 메서드 `guide`는 `\"저는 [field] 분야의 멘토입니다.\"`를 반환합니다.\n",
    "2. `Lecturer` 클래스:\n",
    "    - 속성 `experience`를 생성자로 받아 저장합니다.\n",
    "    - 메서드 `teach`는 `\"저는 [experience]년의 강의 경력을 가지고 있습니다.\"`를 반환합니다.\n",
    "3. `Candidate` 클래스:\n",
    "    - `Mentor`와 `Lecturer` 클래스를 다중 상속받습니다.\n",
    "    - `guide` 메서드를 오버라이드하여 `\"저는 [field] 분야의 강사이며, 이직 준비를 도와드립니다.\"`를 반환합니다."
   ]
  },
  {
   "cell_type": "code",
   "execution_count": 3,
   "metadata": {},
   "outputs": [
    {
     "name": "stdout",
     "output_type": "stream",
     "text": [
      "저는 AI 분야의 멘토입니다.\n",
      "저는 10년의 강의 경력을 가지고 있습니다.\n",
      "저는 LLM 분야의 강사이며, 이직 준비를 도와드립니다.\n",
      "저는 6년의 강의 경력을 가지고 있습니다.\n"
     ]
    }
   ],
   "source": [
    "class Mentor:\n",
    "\n",
    "    def __init__(self, field):\n",
    "        self.field = field\n",
    "    \n",
    "    def guide(self):\n",
    "        return f'저는 {self.field} 분야의 멘토입니다.'\n",
    "    \n",
    "class Lecturer:\n",
    "\n",
    "    def __init__(self, exprience):\n",
    "        self.exprience = exprience\n",
    "    \n",
    "    def teach(self):\n",
    "        return f'저는 {self.exprience}년의 강의 경력을 가지고 있습니다.'\n",
    "\n",
    "class Candidate(Mentor, Lecturer):\n",
    "\n",
    "    def __init__(self, field, exprience):\n",
    "        # Mentor.__init__(self, field)\n",
    "        super().__init__(field)\n",
    "        Lecturer.__init__(self, exprience)\n",
    "\n",
    "    def guide(self):\n",
    "        return f'저는 {self.field} 분야의 강사이며, 이직 준비를 도와드립니다.'\n",
    "\n",
    "mentor = Mentor('AI')\n",
    "lecturer = Lecturer(10)\n",
    "candidate = Candidate('LLM','6')\n",
    "\n",
    "print(mentor.guide())\n",
    "print(lecturer.teach())\n",
    "print(candidate.guide())\n",
    "print(candidate.teach())"
   ]
  },
  {
   "cell_type": "code",
   "execution_count": null,
   "metadata": {},
   "outputs": [],
   "source": []
  }
 ],
 "metadata": {
  "kernelspec": {
   "display_name": "pystudy_env",
   "language": "python",
   "name": "python3"
  },
  "language_info": {
   "codemirror_mode": {
    "name": "ipython",
    "version": 3
   },
   "file_extension": ".py",
   "mimetype": "text/x-python",
   "name": "python",
   "nbconvert_exporter": "python",
   "pygments_lexer": "ipython3",
   "version": "3.12.9"
  }
 },
 "nbformat": 4,
 "nbformat_minor": 2
}
