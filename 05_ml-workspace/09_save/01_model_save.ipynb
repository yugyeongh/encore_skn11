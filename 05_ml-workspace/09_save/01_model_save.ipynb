{
 "cells": [
  {
   "cell_type": "markdown",
   "metadata": {},
   "source": [
    "# 머신러닝 모델 저장하기 (joblib)"
   ]
  },
  {
   "cell_type": "code",
   "execution_count": null,
   "metadata": {},
   "outputs": [
    {
     "name": "stdout",
     "output_type": "stream",
     "text": [
      "Requirement already satisfied: joblib in c:\\users\\playdata\\appdata\\local\\anaconda3\\envs\\pystudy_env\\lib\\site-packages (1.4.2)\n"
     ]
    }
   ],
   "source": [
    "# !pip install joblib"
   ]
  },
  {
   "cell_type": "code",
   "execution_count": null,
   "metadata": {},
   "outputs": [
    {
     "data": {
      "text/plain": [
       "['rf_model.joblib']"
      ]
     },
     "execution_count": 2,
     "metadata": {},
     "output_type": "execute_result"
    }
   ],
   "source": [
    "import numpy as np\n",
    "import pandas as pd\n",
    "from sklearn.ensemble import RandomForestClassifier\n",
    "from sklearn.model_selection import train_test_split\n",
    "from joblib import dump # 모델을 저장하는 함수\n",
    "\n",
    "wine_df = pd.read_csv('./data/wine_simple.csv')\n",
    "X = wine_df.drop('class', axis=1)\n",
    "y = wine_df['class']\n",
    "\n",
    "X_train, X_test, y_train, y_test = train_test_split(X, y, random_state=42)\n",
    "\n",
    "model = RandomForestClassifier(n_estimators=100)\n",
    "model.fit(X_train, y_train)\n",
    "\n",
    "dump(model, 'rf_model.joblib') # 모델 저장 # 첫 번째 인자: 모델, 두 번째 인자: 모델을 저장할 이름.joblib (확장자까지)\n",
    "# 모델 저장할 때 폴더 설정은 못하나요?"
   ]
  },
  {
   "cell_type": "code",
   "execution_count": 3,
   "metadata": {},
   "outputs": [],
   "source": [
    "# 저장한 모델 불러오기\n",
    "from joblib import load\n",
    "\n",
    "loaded_model = load('rf_model.joblib')"
   ]
  },
  {
   "cell_type": "code",
   "execution_count": null,
   "metadata": {},
   "outputs": [
    {
     "name": "stdout",
     "output_type": "stream",
     "text": [
      "True\n"
     ]
    }
   ],
   "source": [
    "# loaded_model과 실제 model이 같은 모델인지 확인해보기 - 예측을 사용해서\n",
    "preds = model.predict(X_test)\n",
    "loaded_preds = loaded_model.predict(X_test)\n",
    "print(np.array_equal(preds, loaded_preds))"
   ]
  },
  {
   "cell_type": "code",
   "execution_count": null,
   "metadata": {},
   "outputs": [
    {
     "name": "stdout",
     "output_type": "stream",
     "text": [
      "False\n"
     ]
    }
   ],
   "source": [
    "model2 = RandomForestClassifier(n_estimators=100)\n",
    "model2.fit(X_train, y_train)\n",
    "new_preds = model2.predict(X_test)\n",
    "\n",
    "print(np.array_equal(preds, new_preds)) \n",
    "# 같은 모델인데 왜 객체가 다르다고 다르게 나올까? \n",
    "# 처음 만든 모델로 save하고 load한거니까 model == loaded_model\n",
    "# 원본 모델과 비교했을 때 다르다고 나오는 이유는 학습이 될 때마다 가중치들이 조금씩은 다름, 머신러닝 모델들은 무작위로 초기화돼서 false가 나오게 됨"
   ]
  },
  {
   "cell_type": "code",
   "execution_count": null,
   "metadata": {},
   "outputs": [],
   "source": []
  }
 ],
 "metadata": {
  "kernelspec": {
   "display_name": "pystudy_env",
   "language": "python",
   "name": "python3"
  },
  "language_info": {
   "codemirror_mode": {
    "name": "ipython",
    "version": 3
   },
   "file_extension": ".py",
   "mimetype": "text/x-python",
   "name": "python",
   "nbconvert_exporter": "python",
   "pygments_lexer": "ipython3",
   "version": "3.12.9"
  }
 },
 "nbformat": 4,
 "nbformat_minor": 2
}
