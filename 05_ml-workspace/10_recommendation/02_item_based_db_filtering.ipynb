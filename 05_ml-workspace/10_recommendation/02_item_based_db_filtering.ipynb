{
 "cells": [
  {
   "cell_type": "markdown",
   "metadata": {},
   "source": [
    "### 아이템 기반 협업 필터링 (Item-based collaborative Filtering)"
   ]
  },
  {
   "cell_type": "markdown",
   "metadata": {},
   "source": [
    "- 특정 아이템과 유사한 다른 아이템을 찾아 추천하는 방식\n",
    "- 사용자가 과거 행동 데이터를 바탕으로 각 아이템 간의 유사도를 계산하고, 이를 기반으로 추천 생성\n",
    "\n",
    "**과정**\n",
    "1. 아이템 간 유사도 계산\n",
    "2. 사용자의 선호도 파악\n",
    "3. 가중 평점 제공\n",
    "4. 추천 제공\n",
    "\n",
    "**장점**\n",
    "- 사용자 수가 많아지더라도 유사도 계산에 소요되는 시간은 비교적 적음\n",
    "- 아이템의 특성을 고려하지 않으므로 특성 데이터가 부족하더라도 활용 가능\n",
    "\n",
    "**단점**\n",
    "- 아이템 간 유사도만 고려하므로 사용자의 선호 변화나 개인 취향 반영이 어려울 수 있음\n",
    "- 충분한 기반 데이터가 없는 경우 정확한 유사도 계산이 어려움 (Cold Start)"
   ]
  },
  {
   "cell_type": "code",
   "execution_count": 4,
   "metadata": {},
   "outputs": [],
   "source": [
    "import numpy as np\n",
    "import pandas as pd"
   ]
  },
  {
   "cell_type": "code",
   "execution_count": 6,
   "metadata": {},
   "outputs": [
    {
     "data": {
      "text/plain": [
       "((9742, 3), (100836, 4))"
      ]
     },
     "execution_count": 6,
     "metadata": {},
     "output_type": "execute_result"
    }
   ],
   "source": [
    "movies_df = pd.read_csv('./data/ml-latest-small/movies.csv')\n",
    "ratings_df = pd.read_csv('./data/ml-latest-small/ratings.csv')\n",
    "movies_df.shape, ratings_df.shape"
   ]
  },
  {
   "cell_type": "code",
   "execution_count": 8,
   "metadata": {},
   "outputs": [
    {
     "data": {
      "text/html": [
       "<div>\n",
       "<style scoped>\n",
       "    .dataframe tbody tr th:only-of-type {\n",
       "        vertical-align: middle;\n",
       "    }\n",
       "\n",
       "    .dataframe tbody tr th {\n",
       "        vertical-align: top;\n",
       "    }\n",
       "\n",
       "    .dataframe thead th {\n",
       "        text-align: right;\n",
       "    }\n",
       "</style>\n",
       "<table border=\"1\" class=\"dataframe\">\n",
       "  <thead>\n",
       "    <tr style=\"text-align: right;\">\n",
       "      <th></th>\n",
       "      <th>movieId</th>\n",
       "      <th>title</th>\n",
       "      <th>genres</th>\n",
       "    </tr>\n",
       "  </thead>\n",
       "  <tbody>\n",
       "    <tr>\n",
       "      <th>0</th>\n",
       "      <td>1</td>\n",
       "      <td>Toy Story (1995)</td>\n",
       "      <td>Adventure|Animation|Children|Comedy|Fantasy</td>\n",
       "    </tr>\n",
       "    <tr>\n",
       "      <th>1</th>\n",
       "      <td>2</td>\n",
       "      <td>Jumanji (1995)</td>\n",
       "      <td>Adventure|Children|Fantasy</td>\n",
       "    </tr>\n",
       "    <tr>\n",
       "      <th>2</th>\n",
       "      <td>3</td>\n",
       "      <td>Grumpier Old Men (1995)</td>\n",
       "      <td>Comedy|Romance</td>\n",
       "    </tr>\n",
       "    <tr>\n",
       "      <th>3</th>\n",
       "      <td>4</td>\n",
       "      <td>Waiting to Exhale (1995)</td>\n",
       "      <td>Comedy|Drama|Romance</td>\n",
       "    </tr>\n",
       "    <tr>\n",
       "      <th>4</th>\n",
       "      <td>5</td>\n",
       "      <td>Father of the Bride Part II (1995)</td>\n",
       "      <td>Comedy</td>\n",
       "    </tr>\n",
       "  </tbody>\n",
       "</table>\n",
       "</div>"
      ],
      "text/plain": [
       "   movieId                               title  \\\n",
       "0        1                    Toy Story (1995)   \n",
       "1        2                      Jumanji (1995)   \n",
       "2        3             Grumpier Old Men (1995)   \n",
       "3        4            Waiting to Exhale (1995)   \n",
       "4        5  Father of the Bride Part II (1995)   \n",
       "\n",
       "                                        genres  \n",
       "0  Adventure|Animation|Children|Comedy|Fantasy  \n",
       "1                   Adventure|Children|Fantasy  \n",
       "2                               Comedy|Romance  \n",
       "3                         Comedy|Drama|Romance  \n",
       "4                                       Comedy  "
      ]
     },
     "execution_count": 8,
     "metadata": {},
     "output_type": "execute_result"
    }
   ],
   "source": [
    "movies_df.head()"
   ]
  },
  {
   "cell_type": "code",
   "execution_count": 7,
   "metadata": {},
   "outputs": [
    {
     "data": {
      "text/html": [
       "<div>\n",
       "<style scoped>\n",
       "    .dataframe tbody tr th:only-of-type {\n",
       "        vertical-align: middle;\n",
       "    }\n",
       "\n",
       "    .dataframe tbody tr th {\n",
       "        vertical-align: top;\n",
       "    }\n",
       "\n",
       "    .dataframe thead th {\n",
       "        text-align: right;\n",
       "    }\n",
       "</style>\n",
       "<table border=\"1\" class=\"dataframe\">\n",
       "  <thead>\n",
       "    <tr style=\"text-align: right;\">\n",
       "      <th></th>\n",
       "      <th>userId</th>\n",
       "      <th>movieId</th>\n",
       "      <th>rating</th>\n",
       "      <th>timestamp</th>\n",
       "    </tr>\n",
       "  </thead>\n",
       "  <tbody>\n",
       "    <tr>\n",
       "      <th>0</th>\n",
       "      <td>1</td>\n",
       "      <td>1</td>\n",
       "      <td>4.0</td>\n",
       "      <td>964982703</td>\n",
       "    </tr>\n",
       "    <tr>\n",
       "      <th>1</th>\n",
       "      <td>1</td>\n",
       "      <td>3</td>\n",
       "      <td>4.0</td>\n",
       "      <td>964981247</td>\n",
       "    </tr>\n",
       "    <tr>\n",
       "      <th>2</th>\n",
       "      <td>1</td>\n",
       "      <td>6</td>\n",
       "      <td>4.0</td>\n",
       "      <td>964982224</td>\n",
       "    </tr>\n",
       "    <tr>\n",
       "      <th>3</th>\n",
       "      <td>1</td>\n",
       "      <td>47</td>\n",
       "      <td>5.0</td>\n",
       "      <td>964983815</td>\n",
       "    </tr>\n",
       "    <tr>\n",
       "      <th>4</th>\n",
       "      <td>1</td>\n",
       "      <td>50</td>\n",
       "      <td>5.0</td>\n",
       "      <td>964982931</td>\n",
       "    </tr>\n",
       "  </tbody>\n",
       "</table>\n",
       "</div>"
      ],
      "text/plain": [
       "   userId  movieId  rating  timestamp\n",
       "0       1        1     4.0  964982703\n",
       "1       1        3     4.0  964981247\n",
       "2       1        6     4.0  964982224\n",
       "3       1       47     5.0  964983815\n",
       "4       1       50     5.0  964982931"
      ]
     },
     "execution_count": 7,
     "metadata": {},
     "output_type": "execute_result"
    }
   ],
   "source": [
    "ratings_df.head()"
   ]
  },
  {
   "cell_type": "code",
   "execution_count": 12,
   "metadata": {},
   "outputs": [
    {
     "name": "stdout",
     "output_type": "stream",
     "text": [
      "(100836, 6)\n",
      "   userId  movieId  rating  timestamp                        title  \\\n",
      "0       1        1     4.0  964982703             Toy Story (1995)   \n",
      "1       1        3     4.0  964981247      Grumpier Old Men (1995)   \n",
      "2       1        6     4.0  964982224                  Heat (1995)   \n",
      "3       1       47     5.0  964983815  Seven (a.k.a. Se7en) (1995)   \n",
      "4       1       50     5.0  964982931   Usual Suspects, The (1995)   \n",
      "\n",
      "                                        genres  \n",
      "0  Adventure|Animation|Children|Comedy|Fantasy  \n",
      "1                               Comedy|Romance  \n",
      "2                        Action|Crime|Thriller  \n",
      "3                             Mystery|Thriller  \n",
      "4                       Crime|Mystery|Thriller  \n"
     ]
    }
   ],
   "source": [
    "movies_ratings_df = pd.merge(ratings_df, movies_df, on='movieId', how='inner')     # inner join으로 연결되게 merge\n",
    "print(movies_ratings_df.shape)\n",
    "print(movies_ratings_df.head())"
   ]
  },
  {
   "cell_type": "markdown",
   "metadata": {},
   "source": [
    "##### 사용자 평점 기반 아이템(영화) 유사도 계산"
   ]
  },
  {
   "cell_type": "code",
   "execution_count": 13,
   "metadata": {},
   "outputs": [
    {
     "name": "stdout",
     "output_type": "stream",
     "text": [
      "(610, 9719)\n"
     ]
    },
    {
     "data": {
      "text/html": [
       "<div>\n",
       "<style scoped>\n",
       "    .dataframe tbody tr th:only-of-type {\n",
       "        vertical-align: middle;\n",
       "    }\n",
       "\n",
       "    .dataframe tbody tr th {\n",
       "        vertical-align: top;\n",
       "    }\n",
       "\n",
       "    .dataframe thead th {\n",
       "        text-align: right;\n",
       "    }\n",
       "</style>\n",
       "<table border=\"1\" class=\"dataframe\">\n",
       "  <thead>\n",
       "    <tr style=\"text-align: right;\">\n",
       "      <th>title</th>\n",
       "      <th>'71 (2014)</th>\n",
       "      <th>'Hellboy': The Seeds of Creation (2004)</th>\n",
       "      <th>'Round Midnight (1986)</th>\n",
       "      <th>'Salem's Lot (2004)</th>\n",
       "      <th>'Til There Was You (1997)</th>\n",
       "      <th>'Tis the Season for Love (2015)</th>\n",
       "      <th>'burbs, The (1989)</th>\n",
       "      <th>'night Mother (1986)</th>\n",
       "      <th>(500) Days of Summer (2009)</th>\n",
       "      <th>*batteries not included (1987)</th>\n",
       "      <th>...</th>\n",
       "      <th>Zulu (2013)</th>\n",
       "      <th>[REC] (2007)</th>\n",
       "      <th>[REC]² (2009)</th>\n",
       "      <th>[REC]³ 3 Génesis (2012)</th>\n",
       "      <th>anohana: The Flower We Saw That Day - The Movie (2013)</th>\n",
       "      <th>eXistenZ (1999)</th>\n",
       "      <th>xXx (2002)</th>\n",
       "      <th>xXx: State of the Union (2005)</th>\n",
       "      <th>¡Three Amigos! (1986)</th>\n",
       "      <th>À nous la liberté (Freedom for Us) (1931)</th>\n",
       "    </tr>\n",
       "    <tr>\n",
       "      <th>userId</th>\n",
       "      <th></th>\n",
       "      <th></th>\n",
       "      <th></th>\n",
       "      <th></th>\n",
       "      <th></th>\n",
       "      <th></th>\n",
       "      <th></th>\n",
       "      <th></th>\n",
       "      <th></th>\n",
       "      <th></th>\n",
       "      <th></th>\n",
       "      <th></th>\n",
       "      <th></th>\n",
       "      <th></th>\n",
       "      <th></th>\n",
       "      <th></th>\n",
       "      <th></th>\n",
       "      <th></th>\n",
       "      <th></th>\n",
       "      <th></th>\n",
       "      <th></th>\n",
       "    </tr>\n",
       "  </thead>\n",
       "  <tbody>\n",
       "    <tr>\n",
       "      <th>1</th>\n",
       "      <td>0.0</td>\n",
       "      <td>0.0</td>\n",
       "      <td>0.0</td>\n",
       "      <td>0.0</td>\n",
       "      <td>0.0</td>\n",
       "      <td>0.0</td>\n",
       "      <td>0.0</td>\n",
       "      <td>0.0</td>\n",
       "      <td>0.0</td>\n",
       "      <td>0.0</td>\n",
       "      <td>...</td>\n",
       "      <td>0.0</td>\n",
       "      <td>0.0</td>\n",
       "      <td>0.0</td>\n",
       "      <td>0.0</td>\n",
       "      <td>0.0</td>\n",
       "      <td>0.0</td>\n",
       "      <td>0.0</td>\n",
       "      <td>0.0</td>\n",
       "      <td>4.0</td>\n",
       "      <td>0.0</td>\n",
       "    </tr>\n",
       "    <tr>\n",
       "      <th>2</th>\n",
       "      <td>0.0</td>\n",
       "      <td>0.0</td>\n",
       "      <td>0.0</td>\n",
       "      <td>0.0</td>\n",
       "      <td>0.0</td>\n",
       "      <td>0.0</td>\n",
       "      <td>0.0</td>\n",
       "      <td>0.0</td>\n",
       "      <td>0.0</td>\n",
       "      <td>0.0</td>\n",
       "      <td>...</td>\n",
       "      <td>0.0</td>\n",
       "      <td>0.0</td>\n",
       "      <td>0.0</td>\n",
       "      <td>0.0</td>\n",
       "      <td>0.0</td>\n",
       "      <td>0.0</td>\n",
       "      <td>0.0</td>\n",
       "      <td>0.0</td>\n",
       "      <td>0.0</td>\n",
       "      <td>0.0</td>\n",
       "    </tr>\n",
       "    <tr>\n",
       "      <th>3</th>\n",
       "      <td>0.0</td>\n",
       "      <td>0.0</td>\n",
       "      <td>0.0</td>\n",
       "      <td>0.0</td>\n",
       "      <td>0.0</td>\n",
       "      <td>0.0</td>\n",
       "      <td>0.0</td>\n",
       "      <td>0.0</td>\n",
       "      <td>0.0</td>\n",
       "      <td>0.0</td>\n",
       "      <td>...</td>\n",
       "      <td>0.0</td>\n",
       "      <td>0.0</td>\n",
       "      <td>0.0</td>\n",
       "      <td>0.0</td>\n",
       "      <td>0.0</td>\n",
       "      <td>0.0</td>\n",
       "      <td>0.0</td>\n",
       "      <td>0.0</td>\n",
       "      <td>0.0</td>\n",
       "      <td>0.0</td>\n",
       "    </tr>\n",
       "    <tr>\n",
       "      <th>4</th>\n",
       "      <td>0.0</td>\n",
       "      <td>0.0</td>\n",
       "      <td>0.0</td>\n",
       "      <td>0.0</td>\n",
       "      <td>0.0</td>\n",
       "      <td>0.0</td>\n",
       "      <td>0.0</td>\n",
       "      <td>0.0</td>\n",
       "      <td>0.0</td>\n",
       "      <td>0.0</td>\n",
       "      <td>...</td>\n",
       "      <td>0.0</td>\n",
       "      <td>0.0</td>\n",
       "      <td>0.0</td>\n",
       "      <td>0.0</td>\n",
       "      <td>0.0</td>\n",
       "      <td>0.0</td>\n",
       "      <td>0.0</td>\n",
       "      <td>0.0</td>\n",
       "      <td>0.0</td>\n",
       "      <td>0.0</td>\n",
       "    </tr>\n",
       "    <tr>\n",
       "      <th>5</th>\n",
       "      <td>0.0</td>\n",
       "      <td>0.0</td>\n",
       "      <td>0.0</td>\n",
       "      <td>0.0</td>\n",
       "      <td>0.0</td>\n",
       "      <td>0.0</td>\n",
       "      <td>0.0</td>\n",
       "      <td>0.0</td>\n",
       "      <td>0.0</td>\n",
       "      <td>0.0</td>\n",
       "      <td>...</td>\n",
       "      <td>0.0</td>\n",
       "      <td>0.0</td>\n",
       "      <td>0.0</td>\n",
       "      <td>0.0</td>\n",
       "      <td>0.0</td>\n",
       "      <td>0.0</td>\n",
       "      <td>0.0</td>\n",
       "      <td>0.0</td>\n",
       "      <td>0.0</td>\n",
       "      <td>0.0</td>\n",
       "    </tr>\n",
       "  </tbody>\n",
       "</table>\n",
       "<p>5 rows × 9719 columns</p>\n",
       "</div>"
      ],
      "text/plain": [
       "title   '71 (2014)  'Hellboy': The Seeds of Creation (2004)  \\\n",
       "userId                                                        \n",
       "1              0.0                                      0.0   \n",
       "2              0.0                                      0.0   \n",
       "3              0.0                                      0.0   \n",
       "4              0.0                                      0.0   \n",
       "5              0.0                                      0.0   \n",
       "\n",
       "title   'Round Midnight (1986)  'Salem's Lot (2004)  \\\n",
       "userId                                                \n",
       "1                          0.0                  0.0   \n",
       "2                          0.0                  0.0   \n",
       "3                          0.0                  0.0   \n",
       "4                          0.0                  0.0   \n",
       "5                          0.0                  0.0   \n",
       "\n",
       "title   'Til There Was You (1997)  'Tis the Season for Love (2015)  \\\n",
       "userId                                                               \n",
       "1                             0.0                              0.0   \n",
       "2                             0.0                              0.0   \n",
       "3                             0.0                              0.0   \n",
       "4                             0.0                              0.0   \n",
       "5                             0.0                              0.0   \n",
       "\n",
       "title   'burbs, The (1989)  'night Mother (1986)  (500) Days of Summer (2009)  \\\n",
       "userId                                                                          \n",
       "1                      0.0                   0.0                          0.0   \n",
       "2                      0.0                   0.0                          0.0   \n",
       "3                      0.0                   0.0                          0.0   \n",
       "4                      0.0                   0.0                          0.0   \n",
       "5                      0.0                   0.0                          0.0   \n",
       "\n",
       "title   *batteries not included (1987)  ...  Zulu (2013)  [REC] (2007)  \\\n",
       "userId                                  ...                              \n",
       "1                                  0.0  ...          0.0           0.0   \n",
       "2                                  0.0  ...          0.0           0.0   \n",
       "3                                  0.0  ...          0.0           0.0   \n",
       "4                                  0.0  ...          0.0           0.0   \n",
       "5                                  0.0  ...          0.0           0.0   \n",
       "\n",
       "title   [REC]² (2009)  [REC]³ 3 Génesis (2012)  \\\n",
       "userId                                           \n",
       "1                 0.0                      0.0   \n",
       "2                 0.0                      0.0   \n",
       "3                 0.0                      0.0   \n",
       "4                 0.0                      0.0   \n",
       "5                 0.0                      0.0   \n",
       "\n",
       "title   anohana: The Flower We Saw That Day - The Movie (2013)  \\\n",
       "userId                                                           \n",
       "1                                                     0.0        \n",
       "2                                                     0.0        \n",
       "3                                                     0.0        \n",
       "4                                                     0.0        \n",
       "5                                                     0.0        \n",
       "\n",
       "title   eXistenZ (1999)  xXx (2002)  xXx: State of the Union (2005)  \\\n",
       "userId                                                                \n",
       "1                   0.0         0.0                             0.0   \n",
       "2                   0.0         0.0                             0.0   \n",
       "3                   0.0         0.0                             0.0   \n",
       "4                   0.0         0.0                             0.0   \n",
       "5                   0.0         0.0                             0.0   \n",
       "\n",
       "title   ¡Three Amigos! (1986)  À nous la liberté (Freedom for Us) (1931)  \n",
       "userId                                                                    \n",
       "1                         4.0                                        0.0  \n",
       "2                         0.0                                        0.0  \n",
       "3                         0.0                                        0.0  \n",
       "4                         0.0                                        0.0  \n",
       "5                         0.0                                        0.0  \n",
       "\n",
       "[5 rows x 9719 columns]"
      ]
     },
     "execution_count": 13,
     "metadata": {},
     "output_type": "execute_result"
    }
   ],
   "source": [
    "users_movies_df = movies_ratings_df.pivot_table('rating', index='userId', columns='title', fill_value=0)\n",
    "print(users_movies_df.shape)\n",
    "users_movies_df.head()"
   ]
  },
  {
   "cell_type": "code",
   "execution_count": 15,
   "metadata": {},
   "outputs": [
    {
     "data": {
      "text/plain": [
       "title\n",
       "Harry Potter and the Sorcerer's Stone (a.k.a. Harry Potter and the Philosopher's Stone) (2001)    5.0\n",
       "How to Train Your Dragon (2010)                                                                   5.0\n",
       "Guardians of the Galaxy (2014)                                                                    5.0\n",
       "Aladdin (1992)                                                                                    5.0\n",
       "Harry Potter and the Chamber of Secrets (2002)                                                    4.5\n",
       "                                                                                                 ... \n",
       "Zombie Strippers! (2008)                                                                          0.0\n",
       "Zombieland (2009)                                                                                 0.0\n",
       "Zone 39 (1997)                                                                                    0.0\n",
       "Zone, The (La Zona) (2007)                                                                        0.0\n",
       "À nous la liberté (Freedom for Us) (1931)                                                         0.0\n",
       "Name: 556, Length: 9719, dtype: float64"
      ]
     },
     "execution_count": 15,
     "metadata": {},
     "output_type": "execute_result"
    }
   ],
   "source": [
    "# 특정 사용자의 영화 평점 조회\n",
    "users_movies_df.iloc[555].sort_values(ascending=False)"
   ]
  },
  {
   "cell_type": "code",
   "execution_count": null,
   "metadata": {},
   "outputs": [
    {
     "data": {
      "text/plain": [
       "count     610.000000\n",
       "mean      165.298361\n",
       "std       269.466692\n",
       "min        20.000000\n",
       "25%        35.000000\n",
       "50%        70.500000\n",
       "75%       168.000000\n",
       "max      2698.000000\n",
       "dtype: float64"
      ]
     },
     "execution_count": 16,
     "metadata": {},
     "output_type": "execute_result"
    }
   ],
   "source": [
    "# 사용자별 평점 개수\n",
    "(users_movies_df != 0).sum(axis=1).describe()   "
   ]
  },
  {
   "cell_type": "code",
   "execution_count": null,
   "metadata": {},
   "outputs": [],
   "source": [
    "from sklearn.metrics.pairwise import cosine_similarity\n",
    "\n",
    "movies_sim = cosine_similarity(users_movies_df.T, users_movies_df.T)     # 영화별 평점 기준이 되어 사용자를 가지고 뭔가를 해줄 수 있게 전치를 시킴 (전치하면 사용자가 컬럼이 됨)\n",
    "movies_sim_df = pd.DataFrame(movies_sim, index=users_movies_df.columns, columns=users_movies_df.columns)        # index와 column을 모두 영화 이름으로 설정"
   ]
  },
  {
   "cell_type": "code",
   "execution_count": 20,
   "metadata": {},
   "outputs": [
    {
     "data": {
      "text/plain": [
       "title\n",
       "'Hellboy': The Seeds of Creation (2004)                       1.000000\n",
       "Space Battleship Yamato (2010)                                1.000000\n",
       "Monsters (2010)                                               1.000000\n",
       "All the Right Moves (1983)                                    0.780869\n",
       "Hidden Fortress, The (Kakushi-toride no san-akunin) (1958)    0.747409\n",
       "...And Justice for All (1979)                                 0.715542\n",
       "'Round Midnight (1986)                                        0.707107\n",
       "Kagemusha (1980)                                              0.542720\n",
       "Sanjuro (Tsubaki Sanjûrô) (1962)                              0.526685\n",
       "Ghost Rider: Spirit of Vengeance (2012)                       0.525226\n",
       "Name: 'Hellboy': The Seeds of Creation (2004), dtype: float64"
      ]
     },
     "execution_count": 20,
     "metadata": {},
     "output_type": "execute_result"
    }
   ],
   "source": [
    "movies_sim_df[\"'Hellboy': The Seeds of Creation (2004)\"].sort_values(ascending=False)[:10]"
   ]
  },
  {
   "cell_type": "markdown",
   "metadata": {},
   "source": [
    "---"
   ]
  },
  {
   "cell_type": "markdown",
   "metadata": {},
   "source": [
    "##### 가중 평점 예측\n",
    "1. 사용자별 아이템(영화) 평점이 있다. \n",
    "2. 평점 기반의 아이템(영화) 유사도가 있다.\n",
    "3. 모든 사용자의 모든 아이템(영화)에 대한 가중평점 예측한다. \n",
    "4. 사용자별 영화 예측평점이 높은 순으로 영화를 추천한다. \n",
    "    - 사용자가 안 본 영화(평점이 없는, 0인 영화)를 추천한다. \n",
    "\n",
    "**Weighted Rating Sum**\n",
    "\n",
    "사용자 $ u $의 아이템 $ i $에 대한 평점 예측은 사용자 $ u $가 아이템 $ i $와 유사한 다른 아이템들($ N $개의 다른 아이템)의 합으로 계산하며, 아이템들 간의 유사도를 반영한 합으로 계산\n",
    "\n",
    "$\n",
    "\\hat{R}_{u,i} = \\frac{\\sum_{N} (S_{i,N} \\times R_{u,N})}{\\sum_{N} (|S_{i,N}|)}\n",
    "$\n",
    "\n",
    "\n",
    "- $\\hat{R}_{u,i}$: 사용자 $ u $가 아이템 $ i $에 대해 가질 것으로 예측되는 평점\n",
    "- $S_{i,N}$: 아이템 $ i $와 유사한 다른 아이템들의 유사도\n",
    "- $R_{u,N}$: 사용자 $u$의 유사한 아이템들의 평점\n",
    "\n",
    "**사용자 $ u $의 유사한 아이템 들의 평점**\n",
    "\n",
    "| Item | j | k | **i** | m | n |\n",
    "|------|---|---|---|---|---|\n",
    "| Rating | 5 | 4 | **1** | 3 | 2 |\n",
    "\n",
    "**유사도**\n",
    "\n",
    "|   | (i,j) | (i,k) | (i,i) | (i,m) | (i,n) |\n",
    "|---|-------|-------|-------|-------|-------|\n",
    "| **R_{u,i}** | 0.2 | 0.1 | **0.4** | 0.1 | 0.2 |\n",
    "\n",
    "**계산:** 위 두개의 행렬에 대한 내적을 구한다.\n",
    "\n",
    "$\n",
    "5 \\times 0.2 + 4 \\times 0.1 + 1 \\times 0.4 + 3 \\times 0.1 + 2 \\times 0.2 = 2.5\n",
    "$\n",
    "<br>\n",
    "<br>\n",
    "$\n",
    "\\hat{R}_{u,i} = \\frac{(5 \\times 0.2) + (4 \\times 0.1) + (1 \\times 0.4) + (3 \\times 0.1) + (2 \\times 0.2)}{0.2 + 0.1 + 0.4 + 0.1 + 0.2}\n",
    "= \\frac{1 + 0.4 + 0.4 + 0.3 + 0.4}{1} = \\frac{2.5}{1} = 2.5\n",
    "$\n",
    "\n",
    "결과적으로, 사용자 $ u $가 아이템 $ i $에 대해 가질 것으로 예측되는 평점은 **2.5**이이다."
   ]
  },
  {
   "cell_type": "markdown",
   "metadata": {},
   "source": [
    "- 전체 가중평점 예측"
   ]
  },
  {
   "cell_type": "code",
   "execution_count": 25,
   "metadata": {},
   "outputs": [
    {
     "name": "stdout",
     "output_type": "stream",
     "text": [
      "(610, 9719)\n"
     ]
    },
    {
     "data": {
      "text/html": [
       "<div>\n",
       "<style scoped>\n",
       "    .dataframe tbody tr th:only-of-type {\n",
       "        vertical-align: middle;\n",
       "    }\n",
       "\n",
       "    .dataframe tbody tr th {\n",
       "        vertical-align: top;\n",
       "    }\n",
       "\n",
       "    .dataframe thead th {\n",
       "        text-align: right;\n",
       "    }\n",
       "</style>\n",
       "<table border=\"1\" class=\"dataframe\">\n",
       "  <thead>\n",
       "    <tr style=\"text-align: right;\">\n",
       "      <th>userId</th>\n",
       "      <th>1</th>\n",
       "    </tr>\n",
       "    <tr>\n",
       "      <th>title</th>\n",
       "      <th></th>\n",
       "    </tr>\n",
       "  </thead>\n",
       "  <tbody>\n",
       "    <tr>\n",
       "      <th>'71 (2014)</th>\n",
       "      <td>0.070345</td>\n",
       "    </tr>\n",
       "    <tr>\n",
       "      <th>'Hellboy': The Seeds of Creation (2004)</th>\n",
       "      <td>0.577855</td>\n",
       "    </tr>\n",
       "    <tr>\n",
       "      <th>'Round Midnight (1986)</th>\n",
       "      <td>0.321696</td>\n",
       "    </tr>\n",
       "    <tr>\n",
       "      <th>'Salem's Lot (2004)</th>\n",
       "      <td>0.227055</td>\n",
       "    </tr>\n",
       "    <tr>\n",
       "      <th>'Til There Was You (1997)</th>\n",
       "      <td>0.206958</td>\n",
       "    </tr>\n",
       "    <tr>\n",
       "      <th>...</th>\n",
       "      <td>...</td>\n",
       "    </tr>\n",
       "    <tr>\n",
       "      <th>eXistenZ (1999)</th>\n",
       "      <td>0.212070</td>\n",
       "    </tr>\n",
       "    <tr>\n",
       "      <th>xXx (2002)</th>\n",
       "      <td>0.192921</td>\n",
       "    </tr>\n",
       "    <tr>\n",
       "      <th>xXx: State of the Union (2005)</th>\n",
       "      <td>0.136024</td>\n",
       "    </tr>\n",
       "    <tr>\n",
       "      <th>¡Three Amigos! (1986)</th>\n",
       "      <td>0.292955</td>\n",
       "    </tr>\n",
       "    <tr>\n",
       "      <th>À nous la liberté (Freedom for Us) (1931)</th>\n",
       "      <td>0.720347</td>\n",
       "    </tr>\n",
       "  </tbody>\n",
       "</table>\n",
       "<p>9719 rows × 1 columns</p>\n",
       "</div>"
      ],
      "text/plain": [
       "userId                                            1\n",
       "title                                              \n",
       "'71 (2014)                                 0.070345\n",
       "'Hellboy': The Seeds of Creation (2004)    0.577855\n",
       "'Round Midnight (1986)                     0.321696\n",
       "'Salem's Lot (2004)                        0.227055\n",
       "'Til There Was You (1997)                  0.206958\n",
       "...                                             ...\n",
       "eXistenZ (1999)                            0.212070\n",
       "xXx (2002)                                 0.192921\n",
       "xXx: State of the Union (2005)             0.136024\n",
       "¡Three Amigos! (1986)                      0.292955\n",
       "À nous la liberté (Freedom for Us) (1931)  0.720347\n",
       "\n",
       "[9719 rows x 1 columns]"
      ]
     },
     "execution_count": 25,
     "metadata": {},
     "output_type": "execute_result"
    }
   ],
   "source": [
    "def predict_ratings(users_movies_df, movies_sim_df):\n",
    "    return users_movies_df.dot(movies_sim_df) / np.abs(movies_sim_df).sum(axis=1)\n",
    "\n",
    "ratings_pred_df = predict_ratings(users_movies_df, movies_sim_df)\n",
    "print(ratings_pred_df.shape)\n",
    "ratings_pred_df.head(1).T"
   ]
  },
  {
   "cell_type": "code",
   "execution_count": null,
   "metadata": {},
   "outputs": [
    {
     "name": "stdout",
     "output_type": "stream",
     "text": [
      "(array([  0,   0,   0, ..., 609, 609, 609], shape=(100832,)), array([  48,   66,  202, ..., 9712, 9715, 9716], shape=(100832,)))\n"
     ]
    },
    {
     "data": {
      "text/plain": [
       "9.895354759094706"
      ]
     },
     "execution_count": 27,
     "metadata": {},
     "output_type": "execute_result"
    }
   ],
   "source": [
    "from sklearn.metrics import mean_squared_error\n",
    "\n",
    "# 실제 평점과 예측 평점의 오차 비교\n",
    "def get_mse(actual, pred):\n",
    "    non_zero_idx = actual.nonzero()\n",
    "    print(non_zero_idx)         # 0이 아닌 값들을 반환 # ([row_idx, row_idx, ...], [col_idx, col_idx, ...]) # 행과 열에 대한 인덱스를 각각 나눠서 희소행렬의 형태로 반환하고 있음\n",
    "    actual = actual[non_zero_idx]\n",
    "    pred = pred[non_zero_idx]\n",
    "    return mean_squared_error(actual, pred)\n",
    "\n",
    "get_mse(users_movies_df.values, ratings_pred_df.values)     # 손실값: 9.895354759094706"
   ]
  },
  {
   "cell_type": "markdown",
   "metadata": {},
   "source": [
    "- 특정 사용자의 영화 하나 평점 예측\n",
    "    - == 영화별 평점 유사도를 기반으로 가중 평점을 예측"
   ]
  },
  {
   "cell_type": "code",
   "execution_count": 28,
   "metadata": {},
   "outputs": [
    {
     "data": {
      "text/plain": [
       "np.float64(5.0)"
      ]
     },
     "execution_count": 28,
     "metadata": {},
     "output_type": "execute_result"
    }
   ],
   "source": [
    "users_movies_df.iloc[176, 35]       # 176번째 사용자의 35번째 영화에 대한 평점"
   ]
  },
  {
   "cell_type": "code",
   "execution_count": 29,
   "metadata": {},
   "outputs": [
    {
     "data": {
      "text/plain": [
       "title\n",
       "À nous la liberté (Freedom for Us) (1931)                 9169\n",
       "¡Three Amigos! (1986)                                     5855\n",
       "xXx: State of the Union (2005)                            4412\n",
       "xXx (2002)                                                5658\n",
       "eXistenZ (1999)                                             35\n",
       "anohana: The Flower We Saw That Day - The Movie (2013)    6814\n",
       "[REC]³ 3 Génesis (2012)                                   1098\n",
       "[REC]² (2009)                                             4426\n",
       "[REC] (2007)                                              8656\n",
       "Zulu (2013)                                               3523\n",
       "Zulu (1964)                                               8416\n",
       "Zootopia (2016)                                           3522\n",
       "Zoom (2015)                                               4129\n",
       "Zoom (2006)                                               9491\n",
       "Zoolander 2 (2016)                                        8495\n",
       "Zoolander (2001)                                          7788\n",
       "Zookeeper (2011)                                          8784\n",
       "Zone, The (La Zona) (2007)                                9609\n",
       "Zone 39 (1997)                                            2357\n",
       "Zombieland (2009)                                          502\n",
       "Name: 12 Angry Men (1997), dtype: int64"
      ]
     },
     "execution_count": 29,
     "metadata": {},
     "output_type": "execute_result"
    }
   ],
   "source": [
    "topn_sim_idx = movies_sim_df.iloc[35].argsort()[::-1]\n",
    "topn_sim_idx = topn_sim_idx[:20]\n",
    "topn_sim_idx"
   ]
  },
  {
   "cell_type": "code",
   "execution_count": null,
   "metadata": {},
   "outputs": [],
   "source": []
  }
 ],
 "metadata": {
  "kernelspec": {
   "display_name": "pystudy_env",
   "language": "python",
   "name": "python3"
  },
  "language_info": {
   "codemirror_mode": {
    "name": "ipython",
    "version": 3
   },
   "file_extension": ".py",
   "mimetype": "text/x-python",
   "name": "python",
   "nbconvert_exporter": "python",
   "pygments_lexer": "ipython3",
   "version": "3.12.9"
  }
 },
 "nbformat": 4,
 "nbformat_minor": 2
}
