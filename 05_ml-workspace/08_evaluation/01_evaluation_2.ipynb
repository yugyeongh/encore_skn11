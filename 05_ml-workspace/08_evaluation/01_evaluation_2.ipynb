{
 "cells": [
  {
   "cell_type": "markdown",
   "metadata": {},
   "source": [
    "# 평가\n",
    "\n",
    "### 분류모델 평가\n",
    "\n",
    "#### 정확도 (Accuracy)\n",
    "- 전체 샘플 중에서 올바르게 예측한 샘플의 비용\n",
    "- 데이터가 불균형한 경우 정확도는 비현실적인 성능을 낼 수 있음"
   ]
  },
  {
   "cell_type": "code",
   "execution_count": 15,
   "metadata": {},
   "outputs": [],
   "source": [
    "from sklearn.base import BaseEstimator\n",
    "import numpy as np\n",
    "\n",
    "class MyTitanicClassifier(BaseEstimator):\n",
    "    def fit(self, X, y):\n",
    "        # 훈련 메서드\n",
    "        pass\n",
    "\n",
    "\n",
    "    def predict(self, X):\n",
    "        # 예측 메서드\n",
    "        pred = np.zeros((X.shape[0], 1))\n",
    "        for i in range(X.shape[0]):\n",
    "            sex = X['Sex'].iloc[i]\n",
    "            if sex == 0:    # 여성\n",
    "                pred[i] = 1 # 생존\n",
    "        return pred\n"
   ]
  },
  {
   "cell_type": "code",
   "execution_count": 16,
   "metadata": {},
   "outputs": [],
   "source": [
    "from sklearn.preprocessing import LabelEncoder\n",
    "from sklearn.preprocessing import StandardScaler\n",
    "\n",
    "def fillna(df):\n",
    "    \"\"\"\n",
    "    결측치 처리 함수\n",
    "    - Age : 평균치로 대체\n",
    "    - Cabin : 'N' 기본값으로 대체\n",
    "    - Embarked : 'N' 기본값으로 대체\n",
    "    \"\"\"\n",
    "    df['Age'] = df['Age'].fillna(df['Age'].mean())\n",
    "    df['Cabin'] = df['Cabin'].fillna('N')\n",
    "    df['Embarked'] = df['Embarked'].fillna('N')\n",
    "\n",
    "    return df\n",
    "\n",
    "def drop_feature(df):\n",
    "    \"\"\"\n",
    "    모델 훈련과 관련 없는 속성 제거\n",
    "    - PassengerId, Name, Ticket\n",
    "    \"\"\"\n",
    "    return df.drop(['PassengerId', 'Name', 'Ticket'], axis=1)\n",
    "\n",
    "def encode_feature(df):\n",
    "    \"\"\"\n",
    "    범주형 데이터를 숫자로 인코딩\n",
    "    - Sex, Cabin, Embarked\n",
    "    \"\"\"\n",
    "    df['Cabin'] = df['Cabin'].str[:1]\n",
    "\n",
    "    categories = ['Sex', 'Cabin', 'Embarked']\n",
    "    for cate_item in categories:\n",
    "        label_encoder = LabelEncoder()\n",
    "        df[cate_item] = label_encoder.fit_transform(df[cate_item])\n",
    "\n",
    "    return df\n",
    "    \n",
    "def scailing_feature(train_data, test_data):\n",
    "    \"\"\"\n",
    "    특성 스케일링\n",
    "    \"\"\"\n",
    "    scaler = StandardScaler()\n",
    "    train_scaled = scaler.fit_transform(train_data)\n",
    "    test_scaled = scaler.transform(test_data)\n",
    "\n",
    "    return train_scaled, test_scaled\n",
    "\n",
    "def preprocess_data(df):\n",
    "    df = drop_feature(df)\n",
    "    df = fillna(df)\n",
    "    df = encode_feature(df)\n",
    "\n",
    "    return df"
   ]
  },
  {
   "cell_type": "code",
   "execution_count": null,
   "metadata": {},
   "outputs": [
    {
     "data": {
      "text/plain": [
       "(668, 8)"
      ]
     },
     "execution_count": 20,
     "metadata": {},
     "output_type": "execute_result"
    }
   ],
   "source": [
    "import pandas as pd\n",
    "from sklearn.model_selection import train_test_split\n",
    "\n",
    "df = pd.read_csv(\"data/titanic.csv\")\n",
    "# 입력/라벨 데이터 분리\n",
    "X = df.drop(['Survived'], axis=1)\n",
    "y = df['Survived']\n",
    "\n",
    "# 전처리\n",
    "X = preprocess_data(X)\n",
    "\n",
    "# 훈련/테스트 데이터 분리\n",
    "X_train, X_test, y_train, y_test = train_test_split(X, y, random_state=0)\n",
    "\n",
    "from sklearn.metrics import accuracy_score\n",
    "# 모델 훈련\n",
    "my_classifier = MyTitanicClassifier()\n",
    "my_classifier.fit(X_train, y_train)\n",
    "\n",
    "# 예측\n",
    "pred_train = my_classifier.predict(X_train)\n",
    "pred_test = my_classifier.predict(X_test)\n",
    "\n",
    "# 평가 (accuracy_score 사용)\n",
    "print(\"훈련 데이터 정확도:\", accuracy_score(y_train, pred_train))\n",
    "print(\"평가 데이터 정확도:\", accuracy_score(y_test, pred_test))"
   ]
  },
  {
   "cell_type": "markdown",
   "metadata": {},
   "source": [
    "![](https://d.pr/i/rtYBJv+)"
   ]
  },
  {
   "cell_type": "markdown",
   "metadata": {},
   "source": [
    "- 정밀도 (Precision)\n",
    "    - 양성이라고 예측한 것(TP + FP)중에 실제 양성(TP)일 확률\n",
    "    - 정밀도가 중요한 지표인 경우: 음성인 데이터를 양성으로 예측하면 안되는 경우 (스팸메일 분류 등)"
   ]
  },
  {
   "cell_type": "code",
   "execution_count": 21,
   "metadata": {},
   "outputs": [],
   "source": [
    "from sklearn.metrics import confusion_matrix, precision_score, recall_score\n"
   ]
  },
  {
   "cell_type": "code",
   "execution_count": 22,
   "metadata": {},
   "outputs": [
    {
     "data": {
      "text/plain": [
       "array([[115,  24],\n",
       "       [ 25,  59]])"
      ]
     },
     "execution_count": 22,
     "metadata": {},
     "output_type": "execute_result"
    }
   ],
   "source": [
    "matrix = confusion_matrix(y_test, pred_test)\n",
    "matrix"
   ]
  }
 ],
 "metadata": {
  "kernelspec": {
   "display_name": "pystudy_env",
   "language": "python",
   "name": "python3"
  },
  "language_info": {
   "codemirror_mode": {
    "name": "ipython",
    "version": 3
   },
   "file_extension": ".py",
   "mimetype": "text/x-python",
   "name": "python",
   "nbconvert_exporter": "python",
   "pygments_lexer": "ipython3",
   "version": "3.12.9"
  }
 },
 "nbformat": 4,
 "nbformat_minor": 2
}
