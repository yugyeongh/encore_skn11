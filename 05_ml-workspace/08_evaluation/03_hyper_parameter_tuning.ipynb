{
 "cells": [
  {
   "cell_type": "markdown",
   "metadata": {},
   "source": [
    "# Hyper Parameter Tuning\n",
    "- hyper parameter: 모델 설정과 관련해 직접 지정할 수 있는 매개변수\n",
    "- model parameter: 회귀계수(가중치), 절편 등 모델의 학습 대상이 되는 변수"
   ]
  },
  {
   "cell_type": "markdown",
   "metadata": {},
   "source": [
    "최적의 파라미터를 찾는거기 때문에 cross_validation과 다르게 train_test_split을 하지 않고 모델을 수행함"
   ]
  },
  {
   "cell_type": "markdown",
   "metadata": {},
   "source": [
    "### GridSearchCV"
   ]
  },
  {
   "cell_type": "code",
   "execution_count": null,
   "metadata": {},
   "outputs": [
    {
     "name": "stdout",
     "output_type": "stream",
     "text": [
      "최적의 파라미터:  {'n_neighbors': 7}\n",
      "최적의 모델 객체:  KNeighborsClassifier(n_neighbors=7)\n",
      "최적화된 점수:  0.9800000000000001\n"
     ]
    }
   ],
   "source": [
    "from sklearn.datasets import load_iris\n",
    "from sklearn.neighbors import KNeighborsClassifier\n",
    "from sklearn.model_selection import GridSearchCV\n",
    "\n",
    "# 데이터 로드\n",
    "iris_input, iris_target = load_iris(return_X_y=True)\n",
    "\n",
    "# 모델 생성\n",
    "knn = KNeighborsClassifier()\n",
    "\n",
    "# 테스트할 파라미터 값\n",
    "params = {\n",
    "    'n_neighbors': range(1,13,2)\n",
    "}\n",
    "\n",
    "# 첫 번째 인자: 모델\n",
    "# 두 번째 인자: 테스트 할 파라미터 (딕셔너리)\n",
    "# scoring: 평가 지표 (accuracy, precision, recall, f1)\n",
    "# cv: 반복 횟수\n",
    "grid = GridSearchCV(knn, params, scoring='accuracy', cv=5)\n",
    "grid.fit(iris_input, iris_target)\n",
    "\n",
    "print('최적의 파라미터: ', grid.best_params_)\n",
    "print('최적의 모델 객체: ', grid.best_estimator_)\n",
    "print('최적화된 점수: ', grid.best_score_)"
   ]
  },
  {
   "cell_type": "code",
   "execution_count": 2,
   "metadata": {},
   "outputs": [
    {
     "data": {
      "text/plain": [
       "0.9733333333333334"
      ]
     },
     "execution_count": 2,
     "metadata": {},
     "output_type": "execute_result"
    }
   ],
   "source": [
    "best_knn = grid.best_estimator_\n",
    "best_knn.score(iris_input, iris_target)"
   ]
  },
  {
   "cell_type": "markdown",
   "metadata": {},
   "source": [
    "### RandomSearchCV\n",
    "- 하이퍼 파라미터의 값 목록이나 값의 범위를 제공하는데, 이 범위 중에 랜덤하게 값을 뽑아내 최적의 하이퍼 파라미터 조합을 찾는다.\n",
    "    - 탐색범위가 넓을 때 짧은 시간 내에 좋은 결과를 얻을 수 있다.\n",
    "    - 랜덤하게 값을 추출해 계산하므로, 전역 최적값을 놓칠 수 있다."
   ]
  },
  {
   "cell_type": "code",
   "execution_count": null,
   "metadata": {},
   "outputs": [
    {
     "name": "stdout",
     "output_type": "stream",
     "text": [
      "최적의 파라미터:  {'n_neighbors': 5}\n",
      "최적의 모델 객체:  KNeighborsClassifier()\n",
      "최적화된 점수:  0.9733333333333334\n"
     ]
    },
    {
     "data": {
      "text/plain": [
       "{'mean_fit_time': array([0.00059729, 0.0002027 , 0.00020003, 0.0002727 , 0.00086789,\n",
       "        0.00039921, 0.        , 0.00080962, 0.00020046, 0.00059538]),\n",
       " 'std_fit_time': array([0.00048769, 0.00040541, 0.00040007, 0.00039686, 0.00027139,\n",
       "        0.00048893, 0.        , 0.00040494, 0.00040092, 0.00048618]),\n",
       " 'mean_score_time': array([0.00200243, 0.00159798, 0.00199594, 0.00569096, 0.00120521,\n",
       "        0.00185823, 0.00631213, 0.00512843, 0.00180297, 0.00131216]),\n",
       " 'std_score_time': array([6.29411527e-04, 7.96373068e-04, 1.15228960e-05, 8.17630266e-04,\n",
       "        3.87694621e-04, 4.43620985e-04, 7.55811956e-04, 1.21289702e-03,\n",
       "        4.01567597e-04, 4.07567551e-04]),\n",
       " 'param_n_neighbors': masked_array(data=[57, 23, 21, 83, 5, 55, 77, 63, 45, 9],\n",
       "              mask=[False, False, False, False, False, False, False, False,\n",
       "                    False, False],\n",
       "        fill_value=999999),\n",
       " 'params': [{'n_neighbors': 57},\n",
       "  {'n_neighbors': 23},\n",
       "  {'n_neighbors': 21},\n",
       "  {'n_neighbors': 83},\n",
       "  {'n_neighbors': 5},\n",
       "  {'n_neighbors': 55},\n",
       "  {'n_neighbors': 77},\n",
       "  {'n_neighbors': 63},\n",
       "  {'n_neighbors': 45},\n",
       "  {'n_neighbors': 9}],\n",
       " 'split0_test_score': array([0.9       , 0.93333333, 0.93333333, 0.66666667, 0.96666667,\n",
       "        0.9       , 0.86666667, 0.9       , 0.9       , 0.96666667]),\n",
       " 'split1_test_score': array([0.93333333, 1.        , 1.        , 0.66666667, 1.        ,\n",
       "        0.93333333, 0.9       , 0.9       , 0.93333333, 1.        ]),\n",
       " 'split2_test_score': array([0.83333333, 0.93333333, 0.93333333, 0.66666667, 0.93333333,\n",
       "        0.83333333, 0.8       , 0.83333333, 0.9       , 0.96666667]),\n",
       " 'split3_test_score': array([0.93333333, 0.93333333, 0.96666667, 0.66666667, 0.96666667,\n",
       "        0.93333333, 0.93333333, 0.93333333, 0.96666667, 0.93333333]),\n",
       " 'split4_test_score': array([0.86666667, 1.        , 1.        , 0.63333333, 1.        ,\n",
       "        0.93333333, 0.86666667, 0.86666667, 1.        , 1.        ]),\n",
       " 'mean_test_score': array([0.89333333, 0.96      , 0.96666667, 0.66      , 0.97333333,\n",
       "        0.90666667, 0.87333333, 0.88666667, 0.94      , 0.97333333]),\n",
       " 'std_test_score': array([0.03887301, 0.03265986, 0.02981424, 0.01333333, 0.02494438,\n",
       "        0.03887301, 0.04422166, 0.03399346, 0.03887301, 0.02494438]),\n",
       " 'rank_test_score': array([ 7,  4,  3, 10,  1,  6,  9,  8,  5,  1], dtype=int32)}"
      ]
     },
     "execution_count": 5,
     "metadata": {},
     "output_type": "execute_result"
    }
   ],
   "source": [
    "from sklearn.model_selection import RandomizedSearchCV\n",
    "\n",
    "# 모델 생성\n",
    "knn = KNeighborsClassifier()\n",
    "\n",
    "# 테스트할 파라미터 생성\n",
    "params = {\n",
    "    'n_neighbors': range(1,100,2) # RandomSearchCV는 랜덤하게 뽑아서 범위를 넓게 줘도 괜찮음 / but, GridSearchCV는 아님\n",
    "}\n",
    "\n",
    "# n_iter: 탐색할 최적의 하이퍼 파라미터 조합 수 (기본 값: 10)\n",
    "#         값이 크면 시간이 오래 걸림 / 값이 작으면 좋은 조합을 찾을 가능성 저하\n",
    "rd_search = RandomizedSearchCV(knn, params, cv=5, n_iter=10, random_state=0) \n",
    "rd_search.fit(iris_input, iris_target)\n",
    "\n",
    "print('최적의 파라미터: ', rd_search.best_params_) # gridsearchcv에서는 최적의 파라미터로 7을 반환했지만 randomsearchcv에서는 5를 최적으로 뽑아냄\n",
    "print('최적의 모델 객체: ', rd_search.best_estimator_)\n",
    "print('최적화된 점수: ', rd_search.best_score_)\n",
    "rd_search.cv_results_ # 탐색한 모든 조합에 대한 정보를 담고 있음"
   ]
  },
  {
   "cell_type": "code",
   "execution_count": null,
   "metadata": {},
   "outputs": [],
   "source": []
  }
 ],
 "metadata": {
  "kernelspec": {
   "display_name": "pystudy_env",
   "language": "python",
   "name": "python3"
  },
  "language_info": {
   "codemirror_mode": {
    "name": "ipython",
    "version": 3
   },
   "file_extension": ".py",
   "mimetype": "text/x-python",
   "name": "python",
   "nbconvert_exporter": "python",
   "pygments_lexer": "ipython3",
   "version": "3.12.9"
  }
 },
 "nbformat": 4,
 "nbformat_minor": 2
}
