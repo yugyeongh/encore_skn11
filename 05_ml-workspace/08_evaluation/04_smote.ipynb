{
 "cells": [
  {
   "cell_type": "markdown",
   "metadata": {},
   "source": [
    "# SMOTE 적용"
   ]
  },
  {
   "cell_type": "markdown",
   "metadata": {},
   "source": [
    "##### **📌 `imblearn` (imbalanced-learn) 패키지**\n",
    "**주요 기능**\n",
    "1. **오버샘플링(Over-sampling)** → 소수 클래스 데이터 샘플을 증가시킴  \n",
    "   - `SMOTE` (Synthetic Minority Over-sampling Technique)  \n",
    "   - `ADASYN` (Adaptive Synthetic Sampling)  \n",
    "\n",
    "2. **언더샘플링(Under-sampling)** → 다수 클래스 데이터 샘플을 줄임  \n",
    "   - `RandomUnderSampler`  \n",
    "   - `NearMiss`  \n",
    "\n",
    "3. **앙상블 기법(Ensemble Methods)**  \n",
    "   - `BalancedBaggingClassifier` → 클래스 균형을 유지하며 배깅 적용  \n",
    "   - `BalancedRandomForestClassifier` → 불균형 데이터에 최적화된 랜덤 포레스트  \n",
    "\n",
    "4. **SMOTE 변형 기법**  \n",
    "   - `BorderlineSMOTE` → 경계선 샘플만 증강  \n",
    "   - `SMOTENC` → 범주형 데이터를 포함한 SMOTE "
   ]
  },
  {
   "cell_type": "code",
   "execution_count": null,
   "metadata": {},
   "outputs": [
    {
     "name": "stdout",
     "output_type": "stream",
     "text": [
      "Collecting imbalanced-learn\n",
      "  Downloading imbalanced_learn-0.13.0-py3-none-any.whl.metadata (8.8 kB)\n",
      "Requirement already satisfied: numpy<3,>=1.24.3 in c:\\users\\playdata\\appdata\\local\\anaconda3\\envs\\pystudy_env\\lib\\site-packages (from imbalanced-learn) (2.2.3)\n",
      "Requirement already satisfied: scipy<2,>=1.10.1 in c:\\users\\playdata\\appdata\\local\\anaconda3\\envs\\pystudy_env\\lib\\site-packages (from imbalanced-learn) (1.15.2)\n",
      "Requirement already satisfied: scikit-learn<2,>=1.3.2 in c:\\users\\playdata\\appdata\\local\\anaconda3\\envs\\pystudy_env\\lib\\site-packages (from imbalanced-learn) (1.6.1)\n",
      "Collecting sklearn-compat<1,>=0.1 (from imbalanced-learn)\n",
      "  Downloading sklearn_compat-0.1.3-py3-none-any.whl.metadata (18 kB)\n",
      "Requirement already satisfied: joblib<2,>=1.1.1 in c:\\users\\playdata\\appdata\\local\\anaconda3\\envs\\pystudy_env\\lib\\site-packages (from imbalanced-learn) (1.4.2)\n",
      "Requirement already satisfied: threadpoolctl<4,>=2.0.0 in c:\\users\\playdata\\appdata\\local\\anaconda3\\envs\\pystudy_env\\lib\\site-packages (from imbalanced-learn) (3.5.0)\n",
      "Downloading imbalanced_learn-0.13.0-py3-none-any.whl (238 kB)\n",
      "Downloading sklearn_compat-0.1.3-py3-none-any.whl (18 kB)\n",
      "Installing collected packages: sklearn-compat, imbalanced-learn\n",
      "Successfully installed imbalanced-learn-0.13.0 sklearn-compat-0.1.3\n"
     ]
    }
   ],
   "source": [
    "# !pip install imbalanced-learn"
   ]
  },
  {
   "cell_type": "code",
   "execution_count": null,
   "metadata": {},
   "outputs": [
    {
     "name": "stdout",
     "output_type": "stream",
     "text": [
      "Before SMOTE: [897 103]\n",
      "After SMOTE: [897 897]\n",
      "(1000, 20) (1000,)\n",
      "(1794, 20) (1794,)\n"
     ]
    }
   ],
   "source": [
    "import numpy as np\n",
    "from imblearn.over_sampling import SMOTE\n",
    "from sklearn.datasets import make_classification\n",
    "\n",
    "X, y = make_classification(\n",
    "    n_classes=2,\n",
    "    weights=[0.9, 0.1],     # X, y의 비율을 정해줌 \n",
    "    n_samples=1000,\n",
    "    random_state=42\n",
    ")\n",
    "\n",
    "print(f'Before SMOTE: {np.bincount(y)}') # y에는 정답 데이터가 있으니까 몇 개의 정답 데이터가 있는지 확인해 볼 수 있음\n",
    "\n",
    "smote = SMOTE(random_state=42)                                    # smote 객체를 만들면서 random_state를 42 줬는데 이건 같은 패턴으로 만들어서 강사님과 비슷한 결과를 볼 수 있게 함\n",
    "X_resample, y_resample = smote.fit_resample(X, y)                 # fit_resample: 불균형한 데이터셋에서 소수 클래스 데이터를 합성하여 데이터 균형을 맞추는 역할 (새로운 데이터를 생성하여 반환)\n",
    "print(f'After SMOTE: {np.bincount(y_resample)}') \n",
    "print(X.shape, y.shape)                                           # (1000, 20) (1000,): make_classification으로 만들어준 데이터의 개수가 1000개\n",
    "print(X_resample.shape, y_resample.shape)                         # (1794, 20) (1794,): 새롭게 생성된 데이터가 resample 데이터에 더해짐 (897-103=794 | 1000+794)\n"
   ]
  },
  {
   "cell_type": "markdown",
   "metadata": {},
   "source": [
    "##### resample하기 전의 데이터 사용"
   ]
  },
  {
   "cell_type": "code",
   "execution_count": null,
   "metadata": {},
   "outputs": [
    {
     "name": "stdout",
     "output_type": "stream",
     "text": [
      "              precision    recall  f1-score   support\n",
      "\n",
      "           0       0.97      1.00      0.99       179\n",
      "           1       1.00      0.76      0.86        21\n",
      "\n",
      "    accuracy                           0.97       200\n",
      "   macro avg       0.99      0.88      0.93       200\n",
      "weighted avg       0.98      0.97      0.97       200\n",
      "\n"
     ]
    }
   ],
   "source": [
    "from sklearn.model_selection import train_test_split\n",
    "from sklearn.metrics import classification_report       # 평가지표  # sklearn.metrics에는 보통 평가지표 모델이 들어가있음\n",
    "from sklearn.ensemble import RandomForestClassifier\n",
    "\n",
    "X_train, X_test, y_train, y_test = train_test_split(X, y, test_size=0.2, stratify=y, random_state=0)       # stratify: y 데이터의 비율에 맞춰 데이터의 비율을 맞춤\n",
    "\n",
    "model = RandomForestClassifier(random_state=0)\n",
    "model.fit(X_train, y_train)\n",
    "\n",
    "y_pred = model.predict(X_test)\n",
    "print(classification_report(y_test, y_pred))\n",
    "\n",
    "# 성능이 고르지 않기 때문에 데이터 샘플에 편향이 있는 데이터 샘플이라는 것을 예측할 수 있음\n",
    "# 보통 학습 데이터셋에서만 smote를 적용함 -> 이건 원본 데이터에서도 smote를 적용했는데 비교를 보여주기 위해 그런거임"
   ]
  },
  {
   "cell_type": "markdown",
   "metadata": {},
   "source": [
    "##### resample한 데이터 사용"
   ]
  },
  {
   "cell_type": "code",
   "execution_count": null,
   "metadata": {},
   "outputs": [
    {
     "name": "stdout",
     "output_type": "stream",
     "text": [
      "              precision    recall  f1-score   support\n",
      "\n",
      "           0       0.94      0.96      0.95       180\n",
      "           1       0.95      0.94      0.95       179\n",
      "\n",
      "    accuracy                           0.95       359\n",
      "   macro avg       0.95      0.95      0.95       359\n",
      "weighted avg       0.95      0.95      0.95       359\n",
      "\n"
     ]
    }
   ],
   "source": [
    "X_train, X_test, y_train, y_test = train_test_split(X_resample, y_resample, test_size=0.2, stratify=y_resample, random_state=0)\n",
    "\n",
    "model = RandomForestClassifier(random_state=0)\n",
    "model.fit(X_train, y_train)\n",
    "\n",
    "y_pred = model.predict(X_test)\n",
    "print(classification_report(y_test, y_pred))"
   ]
  },
  {
   "cell_type": "code",
   "execution_count": null,
   "metadata": {},
   "outputs": [],
   "source": []
  }
 ],
 "metadata": {
  "kernelspec": {
   "display_name": "pystudy_env",
   "language": "python",
   "name": "python3"
  },
  "language_info": {
   "codemirror_mode": {
    "name": "ipython",
    "version": 3
   },
   "file_extension": ".py",
   "mimetype": "text/x-python",
   "name": "python",
   "nbconvert_exporter": "python",
   "pygments_lexer": "ipython3",
   "version": "3.12.9"
  }
 },
 "nbformat": 4,
 "nbformat_minor": 2
}
