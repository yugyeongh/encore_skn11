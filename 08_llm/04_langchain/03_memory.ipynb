{
 "cells": [
  {
   "cell_type": "markdown",
   "id": "93054cb0",
   "metadata": {},
   "source": [
    "# Memory"
   ]
  },
  {
   "cell_type": "code",
   "execution_count": 20,
   "id": "2388d03e",
   "metadata": {},
   "outputs": [
    {
     "data": {
      "text/plain": [
       "True"
      ]
     },
     "execution_count": 20,
     "metadata": {},
     "output_type": "execute_result"
    }
   ],
   "source": [
    "from dotenv import load_dotenv\n",
    "load_dotenv()"
   ]
  },
  {
   "cell_type": "code",
   "execution_count": null,
   "id": "3da5e298",
   "metadata": {},
   "outputs": [],
   "source": [
    "from langchain_core.chat_history import BaseChatMessageHistory\n",
    "\n",
    "class InMemoryHistory(BaseChatMessageHistory):\n",
    "    def __init__(self):\n",
    "        self.messages = []\n",
    "\n",
    "    def add_messages(self, messages):\n",
    "        self.messages.extend(messages)\n",
    "        \n",
    "    def clear(self):\n",
    "        self.messages = []\n",
    "\n",
    "    def __repr__(self):\n",
    "        return str(self.messages)"
   ]
  },
  {
   "cell_type": "code",
   "execution_count": 22,
   "id": "e766dcd0",
   "metadata": {},
   "outputs": [],
   "source": [
    "store = {}  # item(key=session_id, value=InMemoryHistory_인스턴스)\n",
    "\n",
    "def get_by_session_id(session_id):\n",
    "    if session_id not in store:\n",
    "        store[session_id] = InMemoryHistory()\n",
    "    return store[session_id]"
   ]
  },
  {
   "cell_type": "code",
   "execution_count": 23,
   "id": "1fa43372",
   "metadata": {},
   "outputs": [
    {
     "data": {
      "text/plain": [
       "['hello', 'good morning', 'how are you?', 'I am fine', 'Thank you']"
      ]
     },
     "execution_count": 23,
     "metadata": {},
     "output_type": "execute_result"
    }
   ],
   "source": [
    "history_test = get_by_session_id('test')\n",
    "history_test.add_messages(['hello', 'good morning', 'how are you?'])\n",
    "history_test.add_messages(['I am fine', 'Thank you'])\n",
    "\n",
    "history_test"
   ]
  },
  {
   "cell_type": "code",
   "execution_count": 24,
   "id": "851dc534",
   "metadata": {},
   "outputs": [],
   "source": [
    "from langchain_openai import ChatOpenAI\n",
    "from langchain_core.prompts import ChatPromptTemplate, MessagesPlaceholder\n",
    "from langchain_core.runnables.history import RunnableWithMessageHistory\n",
    "\n",
    "prompt = ChatPromptTemplate.from_messages([\n",
    "    ('system', '너는 {skill}을 잘하는 AI 어시스턴트야.'), \n",
    "    MessagesPlaceholder(variable_name='history'),\n",
    "    ('human', '{query}')\n",
    "])\n",
    "model = ChatOpenAI(model_name='gpt-4o-mini', temperature=0.5)\n",
    "chain = prompt | model"
   ]
  },
  {
   "cell_type": "code",
   "execution_count": 25,
   "id": "e1a1ab6f",
   "metadata": {},
   "outputs": [],
   "source": [
    "chain_with_history = RunnableWithMessageHistory(\n",
    "    chain,\n",
    "    get_session_history=get_by_session_id,\n",
    "    input_messages_key='query',\n",
    "    history_messages_key='history'\n",
    ")"
   ]
  },
  {
   "cell_type": "code",
   "execution_count": 26,
   "id": "09a1adb5",
   "metadata": {},
   "outputs": [
    {
     "name": "stdout",
     "output_type": "stream",
     "text": [
      "content='토끼가 농장에서 나무를 세 그루 키우고 있다니 재미있네요! 어떤 종류의 나무를 키우고 있나요? 혹시 나무에 대해 더 이야기해주실 수 있나요?' additional_kwargs={'refusal': None} response_metadata={'token_usage': {'completion_tokens': 48, 'prompt_tokens': 42, 'total_tokens': 90, 'completion_tokens_details': {'accepted_prediction_tokens': 0, 'audio_tokens': 0, 'reasoning_tokens': 0, 'rejected_prediction_tokens': 0}, 'prompt_tokens_details': {'audio_tokens': 0, 'cached_tokens': 0}}, 'model_name': 'gpt-4o-mini-2024-07-18', 'system_fingerprint': 'fp_f7d56a8a2c', 'id': 'chatcmpl-BOgytqNXvma7Bc6qcNS2sjYrOrKZz', 'finish_reason': 'stop', 'logprobs': None} id='run-8ceea44d-4e36-44d8-ba9b-725221e6b2b7-0' usage_metadata={'input_tokens': 42, 'output_tokens': 48, 'total_tokens': 90, 'input_token_details': {'audio': 0, 'cache_read': 0}, 'output_token_details': {'audio': 0, 'reasoning': 0}}\n"
     ]
    }
   ],
   "source": [
    "response = chain_with_history.invoke(\n",
    "    {'skill': '대화', 'query': '토끼는 농장에서 나무를 세 그루 키우고 있습니다.'},\n",
    "    config={'configurable': {'session_id': 'rabbit'}}\n",
    ")\n",
    "\n",
    "print(response)"
   ]
  },
  {
   "cell_type": "code",
   "execution_count": 27,
   "id": "f861c1e5",
   "metadata": {},
   "outputs": [
    {
     "data": {
      "text/plain": [
       "{'test': ['hello', 'good morning', 'how are you?', 'I am fine', 'Thank you'],\n",
       " 'rabbit': [HumanMessage(content='토끼는 농장에서 나무를 세 그루 키우고 있습니다.', additional_kwargs={}, response_metadata={}), AIMessage(content='토끼가 농장에서 나무를 세 그루 키우고 있다니 재미있네요! 어떤 종류의 나무를 키우고 있나요? 혹시 나무에 대해 더 이야기해주실 수 있나요?', additional_kwargs={'refusal': None}, response_metadata={'token_usage': {'completion_tokens': 48, 'prompt_tokens': 42, 'total_tokens': 90, 'completion_tokens_details': {'accepted_prediction_tokens': 0, 'audio_tokens': 0, 'reasoning_tokens': 0, 'rejected_prediction_tokens': 0}, 'prompt_tokens_details': {'audio_tokens': 0, 'cached_tokens': 0}}, 'model_name': 'gpt-4o-mini-2024-07-18', 'system_fingerprint': 'fp_f7d56a8a2c', 'id': 'chatcmpl-BOgytqNXvma7Bc6qcNS2sjYrOrKZz', 'finish_reason': 'stop', 'logprobs': None}, id='run-8ceea44d-4e36-44d8-ba9b-725221e6b2b7-0', usage_metadata={'input_tokens': 42, 'output_tokens': 48, 'total_tokens': 90, 'input_token_details': {'audio': 0, 'cache_read': 0}, 'output_token_details': {'audio': 0, 'reasoning': 0}})]}"
      ]
     },
     "execution_count": 27,
     "metadata": {},
     "output_type": "execute_result"
    }
   ],
   "source": [
    "store"
   ]
  },
  {
   "cell_type": "code",
   "execution_count": 29,
   "id": "05cee05f",
   "metadata": {},
   "outputs": [
    {
     "name": "stdout",
     "output_type": "stream",
     "text": [
      "content='다람쥐가 사과 나무를 다섯 그루 키우고 있다니, 정말 멋지네요! 사과 나무는 다람쥐에게 맛있는 간식을 제공할 뿐만 아니라, 그늘도 만들어줄 수 있겠네요. 다람쥐가 사과를 어떻게 관리하는지, 혹은 사과를 수확한 후 어떻게 사용하는지에 대한 이야기가 있을까요?' additional_kwargs={'refusal': None} response_metadata={'token_usage': {'completion_tokens': 93, 'prompt_tokens': 222, 'total_tokens': 315, 'completion_tokens_details': {'accepted_prediction_tokens': 0, 'audio_tokens': 0, 'reasoning_tokens': 0, 'rejected_prediction_tokens': 0}, 'prompt_tokens_details': {'audio_tokens': 0, 'cached_tokens': 0}}, 'model_name': 'gpt-4o-mini-2024-07-18', 'system_fingerprint': 'fp_f7d56a8a2c', 'id': 'chatcmpl-BOgzOQ1IWmw49D2TxFBuPQXDEWZkr', 'finish_reason': 'stop', 'logprobs': None} id='run-d0ac099e-4089-441a-9101-2df6d0a883f5-0' usage_metadata={'input_tokens': 222, 'output_tokens': 93, 'total_tokens': 315, 'input_token_details': {'audio': 0, 'cache_read': 0}, 'output_token_details': {'audio': 0, 'reasoning': 0}}\n"
     ]
    }
   ],
   "source": [
    "response = chain_with_history.invoke(\n",
    "    {'skill': '대화', 'query': '다람쥐는 사과 나무를 다섯 그루 키우고 있습니다.'},\n",
    "    config={'configurable': {'session_id': 'rabbit'}}\n",
    ")\n",
    "\n",
    "print(response)"
   ]
  },
  {
   "cell_type": "code",
   "execution_count": 30,
   "id": "6b6658a1",
   "metadata": {},
   "outputs": [
    {
     "data": {
      "text/plain": [
       "{'test': ['hello', 'good morning', 'how are you?', 'I am fine', 'Thank you'],\n",
       " 'rabbit': [HumanMessage(content='토끼는 농장에서 나무를 세 그루 키우고 있습니다.', additional_kwargs={}, response_metadata={}), AIMessage(content='토끼가 농장에서 나무를 세 그루 키우고 있다니 재미있네요! 어떤 종류의 나무를 키우고 있나요? 혹시 나무에 대해 더 이야기해주실 수 있나요?', additional_kwargs={'refusal': None}, response_metadata={'token_usage': {'completion_tokens': 48, 'prompt_tokens': 42, 'total_tokens': 90, 'completion_tokens_details': {'accepted_prediction_tokens': 0, 'audio_tokens': 0, 'reasoning_tokens': 0, 'rejected_prediction_tokens': 0}, 'prompt_tokens_details': {'audio_tokens': 0, 'cached_tokens': 0}}, 'model_name': 'gpt-4o-mini-2024-07-18', 'system_fingerprint': 'fp_f7d56a8a2c', 'id': 'chatcmpl-BOgytqNXvma7Bc6qcNS2sjYrOrKZz', 'finish_reason': 'stop', 'logprobs': None}, id='run-8ceea44d-4e36-44d8-ba9b-725221e6b2b7-0', usage_metadata={'input_tokens': 42, 'output_tokens': 48, 'total_tokens': 90, 'input_token_details': {'audio': 0, 'cache_read': 0}, 'output_token_details': {'audio': 0, 'reasoning': 0}}), HumanMessage(content='다람쥐는 사과 나무를 다섯 그루 키우고 있습니다.', additional_kwargs={}, response_metadata={}), AIMessage(content='다람쥐가 사과 나무를 다섯 그루 키우고 있다니 정말 귀엽고 흥미로운 설정이네요! 사과 나무에서 수확한 사과로 어떤 요리를 할 수 있을까요? 혹시 다람쥐가 사과를 어떻게 활용하는지에 대한 이야기가 있나요?', additional_kwargs={'refusal': None}, response_metadata={'token_usage': {'completion_tokens': 76, 'prompt_tokens': 118, 'total_tokens': 194, 'completion_tokens_details': {'accepted_prediction_tokens': 0, 'audio_tokens': 0, 'reasoning_tokens': 0, 'rejected_prediction_tokens': 0}, 'prompt_tokens_details': {'audio_tokens': 0, 'cached_tokens': 0}}, 'model_name': 'gpt-4o-mini-2024-07-18', 'system_fingerprint': 'fp_f7d56a8a2c', 'id': 'chatcmpl-BOgyuDFXmxLM81jtlCP49PwmMmQ0f', 'finish_reason': 'stop', 'logprobs': None}, id='run-784411c1-ba23-4539-811f-d6849a9148a2-0', usage_metadata={'input_tokens': 118, 'output_tokens': 76, 'total_tokens': 194, 'input_token_details': {'audio': 0, 'cache_read': 0}, 'output_token_details': {'audio': 0, 'reasoning': 0}}), HumanMessage(content='다람쥐는 사과 나무를 다섯 그루 키우고 있습니다.', additional_kwargs={}, response_metadata={}), AIMessage(content='다람쥐가 사과 나무를 다섯 그루 키우고 있다니, 정말 멋지네요! 사과 나무는 다람쥐에게 맛있는 간식을 제공할 뿐만 아니라, 그늘도 만들어줄 수 있겠네요. 다람쥐가 사과를 어떻게 관리하는지, 혹은 사과를 수확한 후 어떻게 사용하는지에 대한 이야기가 있을까요?', additional_kwargs={'refusal': None}, response_metadata={'token_usage': {'completion_tokens': 93, 'prompt_tokens': 222, 'total_tokens': 315, 'completion_tokens_details': {'accepted_prediction_tokens': 0, 'audio_tokens': 0, 'reasoning_tokens': 0, 'rejected_prediction_tokens': 0}, 'prompt_tokens_details': {'audio_tokens': 0, 'cached_tokens': 0}}, 'model_name': 'gpt-4o-mini-2024-07-18', 'system_fingerprint': 'fp_f7d56a8a2c', 'id': 'chatcmpl-BOgzOQ1IWmw49D2TxFBuPQXDEWZkr', 'finish_reason': 'stop', 'logprobs': None}, id='run-d0ac099e-4089-441a-9101-2df6d0a883f5-0', usage_metadata={'input_tokens': 222, 'output_tokens': 93, 'total_tokens': 315, 'input_token_details': {'audio': 0, 'cache_read': 0}, 'output_token_details': {'audio': 0, 'reasoning': 0}})]}"
      ]
     },
     "execution_count": 30,
     "metadata": {},
     "output_type": "execute_result"
    }
   ],
   "source": [
    "store"
   ]
  },
  {
   "cell_type": "code",
   "execution_count": 31,
   "id": "cac9e79b",
   "metadata": {},
   "outputs": [
    {
     "name": "stdout",
     "output_type": "stream",
     "text": [
      "content='토끼가 나무를 세 그루 키우고, 다람쥐가 다섯 그루 키우고 있으니, 합쳐서 총 8그루의 나무를 키우고 있습니다. (3 + 5 = 8) 정말 멋진 농장이네요!' additional_kwargs={'refusal': None} response_metadata={'token_usage': {'completion_tokens': 65, 'prompt_tokens': 346, 'total_tokens': 411, 'completion_tokens_details': {'accepted_prediction_tokens': 0, 'audio_tokens': 0, 'reasoning_tokens': 0, 'rejected_prediction_tokens': 0}, 'prompt_tokens_details': {'audio_tokens': 0, 'cached_tokens': 0}}, 'model_name': 'gpt-4o-mini-2024-07-18', 'system_fingerprint': 'fp_f7d56a8a2c', 'id': 'chatcmpl-BOh1vfhT8F92VWdQ89IuldYMYP2F1', 'finish_reason': 'stop', 'logprobs': None} id='run-93093077-bd0e-449d-a98d-4cc473e33533-0' usage_metadata={'input_tokens': 346, 'output_tokens': 65, 'total_tokens': 411, 'input_token_details': {'audio': 0, 'cache_read': 0}, 'output_token_details': {'audio': 0, 'reasoning': 0}}\n"
     ]
    }
   ],
   "source": [
    "response = chain_with_history.invoke(\n",
    "    {'skill': '대화', 'query': '토끼와 다람쥐는 합해서 몇 그루의 나무를 키우고 있나요?'},\n",
    "    config={'configurable': {'session_id': 'rabbit'}}\n",
    ")\n",
    "\n",
    "print(response)"
   ]
  }
 ],
 "metadata": {
  "kernelspec": {
   "display_name": "vectordb_env",
   "language": "python",
   "name": "python3"
  },
  "language_info": {
   "codemirror_mode": {
    "name": "ipython",
    "version": 3
   },
   "file_extension": ".py",
   "mimetype": "text/x-python",
   "name": "python",
   "nbconvert_exporter": "python",
   "pygments_lexer": "ipython3",
   "version": "3.9.21"
  }
 },
 "nbformat": 4,
 "nbformat_minor": 5
}
