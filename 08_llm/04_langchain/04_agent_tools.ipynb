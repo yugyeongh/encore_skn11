{
 "cells": [
  {
   "cell_type": "markdown",
   "id": "29dce73f",
   "metadata": {},
   "source": [
    "# Agent & Tools"
   ]
  },
  {
   "cell_type": "code",
   "execution_count": 1,
   "id": "d70b1ba1",
   "metadata": {},
   "outputs": [
    {
     "data": {
      "text/plain": [
       "True"
      ]
     },
     "execution_count": 1,
     "metadata": {},
     "output_type": "execute_result"
    }
   ],
   "source": [
    "from dotenv import load_dotenv\n",
    "\n",
    "load_dotenv()"
   ]
  },
  {
   "cell_type": "code",
   "execution_count": 2,
   "id": "cfc9375b",
   "metadata": {},
   "outputs": [
    {
     "name": "stdout",
     "output_type": "stream",
     "text": [
      "Collecting wikipedia\n",
      "  Downloading wikipedia-1.4.0.tar.gz (27 kB)\n",
      "  Preparing metadata (setup.py): started\n",
      "  Preparing metadata (setup.py): finished with status 'done'\n",
      "Collecting beautifulsoup4 (from wikipedia)\n",
      "  Downloading beautifulsoup4-4.13.4-py3-none-any.whl.metadata (3.8 kB)\n",
      "Requirement already satisfied: requests<3.0.0,>=2.0.0 in c:\\users\\playdata\\appdata\\local\\anaconda3\\envs\\vectordb_env\\lib\\site-packages (from wikipedia) (2.32.3)\n",
      "Requirement already satisfied: charset-normalizer<4,>=2 in c:\\users\\playdata\\appdata\\local\\anaconda3\\envs\\vectordb_env\\lib\\site-packages (from requests<3.0.0,>=2.0.0->wikipedia) (3.4.1)\n",
      "Requirement already satisfied: idna<4,>=2.5 in c:\\users\\playdata\\appdata\\local\\anaconda3\\envs\\vectordb_env\\lib\\site-packages (from requests<3.0.0,>=2.0.0->wikipedia) (3.10)\n",
      "Requirement already satisfied: urllib3<3,>=1.21.1 in c:\\users\\playdata\\appdata\\local\\anaconda3\\envs\\vectordb_env\\lib\\site-packages (from requests<3.0.0,>=2.0.0->wikipedia) (2.4.0)\n",
      "Requirement already satisfied: certifi>=2017.4.17 in c:\\users\\playdata\\appdata\\local\\anaconda3\\envs\\vectordb_env\\lib\\site-packages (from requests<3.0.0,>=2.0.0->wikipedia) (2025.1.31)\n",
      "Collecting soupsieve>1.2 (from beautifulsoup4->wikipedia)\n",
      "  Downloading soupsieve-2.7-py3-none-any.whl.metadata (4.6 kB)\n",
      "Requirement already satisfied: typing-extensions>=4.0.0 in c:\\users\\playdata\\appdata\\local\\anaconda3\\envs\\vectordb_env\\lib\\site-packages (from beautifulsoup4->wikipedia) (4.13.2)\n",
      "Downloading beautifulsoup4-4.13.4-py3-none-any.whl (187 kB)\n",
      "Downloading soupsieve-2.7-py3-none-any.whl (36 kB)\n",
      "Building wheels for collected packages: wikipedia\n",
      "  Building wheel for wikipedia (setup.py): started\n",
      "  Building wheel for wikipedia (setup.py): finished with status 'done'\n",
      "  Created wheel for wikipedia: filename=wikipedia-1.4.0-py3-none-any.whl size=11756 sha256=53ad0c61a952dd63fcca8f12cee3e5b6cace0fac18ad56d8999ffb802122fa19\n",
      "  Stored in directory: c:\\users\\playdata\\appdata\\local\\pip\\cache\\wheels\\c2\\46\\f4\\caa1bee71096d7b0cdca2f2a2af45cacf35c5760bee8f00948\n",
      "Successfully built wikipedia\n",
      "Installing collected packages: soupsieve, beautifulsoup4, wikipedia\n",
      "Successfully installed beautifulsoup4-4.13.4 soupsieve-2.7 wikipedia-1.4.0\n"
     ]
    }
   ],
   "source": [
    "!pip install wikipedia"
   ]
  },
  {
   "cell_type": "code",
   "execution_count": 7,
   "id": "4fd52e89",
   "metadata": {},
   "outputs": [
    {
     "name": "stdout",
     "output_type": "stream",
     "text": [
      "Collecting langchain-community\n",
      "  Downloading langchain_community-0.3.21-py3-none-any.whl.metadata (2.4 kB)\n",
      "Requirement already satisfied: langchain-core<1.0.0,>=0.3.51 in c:\\users\\playdata\\appdata\\local\\anaconda3\\envs\\vectordb_env\\lib\\site-packages (from langchain-community) (0.3.55)\n",
      "Requirement already satisfied: langchain<1.0.0,>=0.3.23 in c:\\users\\playdata\\appdata\\local\\anaconda3\\envs\\vectordb_env\\lib\\site-packages (from langchain-community) (0.3.23)\n",
      "Requirement already satisfied: SQLAlchemy<3,>=1.4 in c:\\users\\playdata\\appdata\\local\\anaconda3\\envs\\vectordb_env\\lib\\site-packages (from langchain-community) (2.0.40)\n",
      "Requirement already satisfied: requests<3,>=2 in c:\\users\\playdata\\appdata\\local\\anaconda3\\envs\\vectordb_env\\lib\\site-packages (from langchain-community) (2.32.3)\n",
      "Requirement already satisfied: PyYAML>=5.3 in c:\\users\\playdata\\appdata\\local\\anaconda3\\envs\\vectordb_env\\lib\\site-packages (from langchain-community) (6.0.2)\n",
      "Requirement already satisfied: aiohttp<4.0.0,>=3.8.3 in c:\\users\\playdata\\appdata\\local\\anaconda3\\envs\\vectordb_env\\lib\\site-packages (from langchain-community) (3.11.16)\n",
      "Requirement already satisfied: tenacity!=8.4.0,<10,>=8.1.0 in c:\\users\\playdata\\appdata\\local\\anaconda3\\envs\\vectordb_env\\lib\\site-packages (from langchain-community) (9.1.2)\n",
      "Collecting dataclasses-json<0.7,>=0.5.7 (from langchain-community)\n",
      "  Downloading dataclasses_json-0.6.7-py3-none-any.whl.metadata (25 kB)\n",
      "Collecting pydantic-settings<3.0.0,>=2.4.0 (from langchain-community)\n",
      "  Downloading pydantic_settings-2.9.1-py3-none-any.whl.metadata (3.8 kB)\n",
      "Requirement already satisfied: langsmith<0.4,>=0.1.125 in c:\\users\\playdata\\appdata\\local\\anaconda3\\envs\\vectordb_env\\lib\\site-packages (from langchain-community) (0.3.33)\n",
      "Collecting httpx-sse<1.0.0,>=0.4.0 (from langchain-community)\n",
      "  Downloading httpx_sse-0.4.0-py3-none-any.whl.metadata (9.0 kB)\n",
      "Requirement already satisfied: numpy<3,>=1.26.2 in c:\\users\\playdata\\appdata\\local\\anaconda3\\envs\\vectordb_env\\lib\\site-packages (from langchain-community) (2.0.2)\n",
      "Requirement already satisfied: aiohappyeyeballs>=2.3.0 in c:\\users\\playdata\\appdata\\local\\anaconda3\\envs\\vectordb_env\\lib\\site-packages (from aiohttp<4.0.0,>=3.8.3->langchain-community) (2.6.1)\n",
      "Requirement already satisfied: aiosignal>=1.1.2 in c:\\users\\playdata\\appdata\\local\\anaconda3\\envs\\vectordb_env\\lib\\site-packages (from aiohttp<4.0.0,>=3.8.3->langchain-community) (1.3.2)\n",
      "Requirement already satisfied: async-timeout<6.0,>=4.0 in c:\\users\\playdata\\appdata\\local\\anaconda3\\envs\\vectordb_env\\lib\\site-packages (from aiohttp<4.0.0,>=3.8.3->langchain-community) (4.0.3)\n",
      "Requirement already satisfied: attrs>=17.3.0 in c:\\users\\playdata\\appdata\\local\\anaconda3\\envs\\vectordb_env\\lib\\site-packages (from aiohttp<4.0.0,>=3.8.3->langchain-community) (25.3.0)\n",
      "Requirement already satisfied: frozenlist>=1.1.1 in c:\\users\\playdata\\appdata\\local\\anaconda3\\envs\\vectordb_env\\lib\\site-packages (from aiohttp<4.0.0,>=3.8.3->langchain-community) (1.6.0)\n",
      "Requirement already satisfied: multidict<7.0,>=4.5 in c:\\users\\playdata\\appdata\\local\\anaconda3\\envs\\vectordb_env\\lib\\site-packages (from aiohttp<4.0.0,>=3.8.3->langchain-community) (6.4.3)\n",
      "Requirement already satisfied: propcache>=0.2.0 in c:\\users\\playdata\\appdata\\local\\anaconda3\\envs\\vectordb_env\\lib\\site-packages (from aiohttp<4.0.0,>=3.8.3->langchain-community) (0.3.1)\n",
      "Requirement already satisfied: yarl<2.0,>=1.17.0 in c:\\users\\playdata\\appdata\\local\\anaconda3\\envs\\vectordb_env\\lib\\site-packages (from aiohttp<4.0.0,>=3.8.3->langchain-community) (1.20.0)\n",
      "Collecting marshmallow<4.0.0,>=3.18.0 (from dataclasses-json<0.7,>=0.5.7->langchain-community)\n",
      "  Downloading marshmallow-3.26.1-py3-none-any.whl.metadata (7.3 kB)\n",
      "Collecting typing-inspect<1,>=0.4.0 (from dataclasses-json<0.7,>=0.5.7->langchain-community)\n",
      "  Downloading typing_inspect-0.9.0-py3-none-any.whl.metadata (1.5 kB)\n",
      "Requirement already satisfied: langchain-text-splitters<1.0.0,>=0.3.8 in c:\\users\\playdata\\appdata\\local\\anaconda3\\envs\\vectordb_env\\lib\\site-packages (from langchain<1.0.0,>=0.3.23->langchain-community) (0.3.8)\n",
      "Requirement already satisfied: pydantic<3.0.0,>=2.7.4 in c:\\users\\playdata\\appdata\\local\\anaconda3\\envs\\vectordb_env\\lib\\site-packages (from langchain<1.0.0,>=0.3.23->langchain-community) (2.11.3)\n",
      "Requirement already satisfied: jsonpatch<2.0,>=1.33 in c:\\users\\playdata\\appdata\\local\\anaconda3\\envs\\vectordb_env\\lib\\site-packages (from langchain-core<1.0.0,>=0.3.51->langchain-community) (1.33)\n",
      "Requirement already satisfied: packaging<25,>=23.2 in c:\\users\\playdata\\appdata\\local\\anaconda3\\envs\\vectordb_env\\lib\\site-packages (from langchain-core<1.0.0,>=0.3.51->langchain-community) (24.2)\n",
      "Requirement already satisfied: typing-extensions>=4.7 in c:\\users\\playdata\\appdata\\local\\anaconda3\\envs\\vectordb_env\\lib\\site-packages (from langchain-core<1.0.0,>=0.3.51->langchain-community) (4.13.2)\n",
      "Requirement already satisfied: httpx<1,>=0.23.0 in c:\\users\\playdata\\appdata\\local\\anaconda3\\envs\\vectordb_env\\lib\\site-packages (from langsmith<0.4,>=0.1.125->langchain-community) (0.28.1)\n",
      "Requirement already satisfied: orjson<4.0.0,>=3.9.14 in c:\\users\\playdata\\appdata\\local\\anaconda3\\envs\\vectordb_env\\lib\\site-packages (from langsmith<0.4,>=0.1.125->langchain-community) (3.10.16)\n",
      "Requirement already satisfied: requests-toolbelt<2.0.0,>=1.0.0 in c:\\users\\playdata\\appdata\\local\\anaconda3\\envs\\vectordb_env\\lib\\site-packages (from langsmith<0.4,>=0.1.125->langchain-community) (1.0.0)\n",
      "Requirement already satisfied: zstandard<0.24.0,>=0.23.0 in c:\\users\\playdata\\appdata\\local\\anaconda3\\envs\\vectordb_env\\lib\\site-packages (from langsmith<0.4,>=0.1.125->langchain-community) (0.23.0)\n",
      "Requirement already satisfied: python-dotenv>=0.21.0 in c:\\users\\playdata\\appdata\\local\\anaconda3\\envs\\vectordb_env\\lib\\site-packages (from pydantic-settings<3.0.0,>=2.4.0->langchain-community) (1.1.0)\n",
      "Requirement already satisfied: typing-inspection>=0.4.0 in c:\\users\\playdata\\appdata\\local\\anaconda3\\envs\\vectordb_env\\lib\\site-packages (from pydantic-settings<3.0.0,>=2.4.0->langchain-community) (0.4.0)\n",
      "Requirement already satisfied: charset-normalizer<4,>=2 in c:\\users\\playdata\\appdata\\local\\anaconda3\\envs\\vectordb_env\\lib\\site-packages (from requests<3,>=2->langchain-community) (3.4.1)\n",
      "Requirement already satisfied: idna<4,>=2.5 in c:\\users\\playdata\\appdata\\local\\anaconda3\\envs\\vectordb_env\\lib\\site-packages (from requests<3,>=2->langchain-community) (3.10)\n",
      "Requirement already satisfied: urllib3<3,>=1.21.1 in c:\\users\\playdata\\appdata\\local\\anaconda3\\envs\\vectordb_env\\lib\\site-packages (from requests<3,>=2->langchain-community) (2.4.0)\n",
      "Requirement already satisfied: certifi>=2017.4.17 in c:\\users\\playdata\\appdata\\local\\anaconda3\\envs\\vectordb_env\\lib\\site-packages (from requests<3,>=2->langchain-community) (2025.1.31)\n",
      "Requirement already satisfied: greenlet>=1 in c:\\users\\playdata\\appdata\\local\\anaconda3\\envs\\vectordb_env\\lib\\site-packages (from SQLAlchemy<3,>=1.4->langchain-community) (3.2.0)\n",
      "Requirement already satisfied: anyio in c:\\users\\playdata\\appdata\\local\\anaconda3\\envs\\vectordb_env\\lib\\site-packages (from httpx<1,>=0.23.0->langsmith<0.4,>=0.1.125->langchain-community) (4.9.0)\n",
      "Requirement already satisfied: httpcore==1.* in c:\\users\\playdata\\appdata\\local\\anaconda3\\envs\\vectordb_env\\lib\\site-packages (from httpx<1,>=0.23.0->langsmith<0.4,>=0.1.125->langchain-community) (1.0.8)\n",
      "Requirement already satisfied: h11<0.15,>=0.13 in c:\\users\\playdata\\appdata\\local\\anaconda3\\envs\\vectordb_env\\lib\\site-packages (from httpcore==1.*->httpx<1,>=0.23.0->langsmith<0.4,>=0.1.125->langchain-community) (0.14.0)\n",
      "Requirement already satisfied: jsonpointer>=1.9 in c:\\users\\playdata\\appdata\\local\\anaconda3\\envs\\vectordb_env\\lib\\site-packages (from jsonpatch<2.0,>=1.33->langchain-core<1.0.0,>=0.3.51->langchain-community) (3.0.0)\n",
      "Requirement already satisfied: annotated-types>=0.6.0 in c:\\users\\playdata\\appdata\\local\\anaconda3\\envs\\vectordb_env\\lib\\site-packages (from pydantic<3.0.0,>=2.7.4->langchain<1.0.0,>=0.3.23->langchain-community) (0.7.0)\n",
      "Requirement already satisfied: pydantic-core==2.33.1 in c:\\users\\playdata\\appdata\\local\\anaconda3\\envs\\vectordb_env\\lib\\site-packages (from pydantic<3.0.0,>=2.7.4->langchain<1.0.0,>=0.3.23->langchain-community) (2.33.1)\n",
      "Collecting mypy-extensions>=0.3.0 (from typing-inspect<1,>=0.4.0->dataclasses-json<0.7,>=0.5.7->langchain-community)\n",
      "  Downloading mypy_extensions-1.0.0-py3-none-any.whl.metadata (1.1 kB)\n",
      "Requirement already satisfied: exceptiongroup>=1.0.2 in c:\\users\\playdata\\appdata\\local\\anaconda3\\envs\\vectordb_env\\lib\\site-packages (from anyio->httpx<1,>=0.23.0->langsmith<0.4,>=0.1.125->langchain-community) (1.2.2)\n",
      "Requirement already satisfied: sniffio>=1.1 in c:\\users\\playdata\\appdata\\local\\anaconda3\\envs\\vectordb_env\\lib\\site-packages (from anyio->httpx<1,>=0.23.0->langsmith<0.4,>=0.1.125->langchain-community) (1.3.1)\n",
      "Downloading langchain_community-0.3.21-py3-none-any.whl (2.5 MB)\n",
      "   ---------------------------------------- 0.0/2.5 MB ? eta -:--:--\n",
      "   ---------------------------------------- 2.5/2.5 MB 18.1 MB/s eta 0:00:00\n",
      "Downloading dataclasses_json-0.6.7-py3-none-any.whl (28 kB)\n",
      "Downloading httpx_sse-0.4.0-py3-none-any.whl (7.8 kB)\n",
      "Downloading pydantic_settings-2.9.1-py3-none-any.whl (44 kB)\n",
      "Downloading marshmallow-3.26.1-py3-none-any.whl (50 kB)\n",
      "Downloading typing_inspect-0.9.0-py3-none-any.whl (8.8 kB)\n",
      "Downloading mypy_extensions-1.0.0-py3-none-any.whl (4.7 kB)\n",
      "Installing collected packages: mypy-extensions, marshmallow, httpx-sse, typing-inspect, pydantic-settings, dataclasses-json, langchain-community\n",
      "Successfully installed dataclasses-json-0.6.7 httpx-sse-0.4.0 langchain-community-0.3.21 marshmallow-3.26.1 mypy-extensions-1.0.0 pydantic-settings-2.9.1 typing-inspect-0.9.0\n"
     ]
    }
   ],
   "source": [
    "!pip install langchain-community"
   ]
  },
  {
   "cell_type": "code",
   "execution_count": null,
   "id": "27b451b6",
   "metadata": {},
   "outputs": [
    {
     "name": "stdout",
     "output_type": "stream",
     "text": [
      "Collecting numexpr\n",
      "  Downloading numexpr-2.10.2-cp39-cp39-win_amd64.whl.metadata (8.3 kB)\n",
      "Requirement already satisfied: numpy>=1.23.0 in c:\\users\\playdata\\appdata\\local\\anaconda3\\envs\\vectordb_env\\lib\\site-packages (from numexpr) (2.0.2)\n",
      "Downloading numexpr-2.10.2-cp39-cp39-win_amd64.whl (144 kB)\n",
      "Installing collected packages: numexpr\n",
      "Successfully installed numexpr-2.10.2\n"
     ]
    }
   ],
   "source": [
    "!pip install numexpr        # numpy 배열 연산을 빠르게 해주는 라이브러리"
   ]
  },
  {
   "cell_type": "code",
   "execution_count": 5,
   "id": "f499e9b3",
   "metadata": {},
   "outputs": [],
   "source": [
    "from langchain_openai import ChatOpenAI\n",
    "\n",
    "model = ChatOpenAI(model_name='gpt-4o-mini', temperature=0)"
   ]
  },
  {
   "cell_type": "code",
   "execution_count": 18,
   "id": "36c56bbb",
   "metadata": {},
   "outputs": [
    {
     "data": {
      "text/plain": [
       "AIMessage(content='KiiiKiii는 2023년에 데뷔한 걸그룹으로, 멤버는 다음과 같습니다:\\n\\n1. **지아 (Jia)** - 리더, 메인 보컬\\n2. **유나 (Yuna)** - 서브 보컬, 댄서\\n3. **하린 (Harin)** - 래퍼, 비주얼\\n4. **소희 (Sohee)** - 메인 댄서, 서브 래퍼\\n5. **미래 (Mirae)** - 서브 보컬, 막내\\n\\n각 멤버는 다양한 재능을 가지고 있으며, 그룹의 음악과 퍼포먼스에 기여하고 있습니다. KiiiKiii는 데뷔 이후 빠르게 팬층을 형성하고 있습니다.', additional_kwargs={'refusal': None}, response_metadata={'token_usage': {'completion_tokens': 170, 'prompt_tokens': 21, 'total_tokens': 191, 'completion_tokens_details': {'accepted_prediction_tokens': 0, 'audio_tokens': 0, 'reasoning_tokens': 0, 'rejected_prediction_tokens': 0}, 'prompt_tokens_details': {'audio_tokens': 0, 'cached_tokens': 0}}, 'model_name': 'gpt-4o-mini-2024-07-18', 'system_fingerprint': 'fp_0392822090', 'id': 'chatcmpl-BOyGipQPoY3HsrTKMlie8otWXxR6a', 'finish_reason': 'stop', 'logprobs': None}, id='run-39e2d363-9e45-4c85-a11a-f8a438a31b4c-0', usage_metadata={'input_tokens': 21, 'output_tokens': 170, 'total_tokens': 191, 'input_token_details': {'audio': 0, 'cache_read': 0}, 'output_token_details': {'audio': 0, 'reasoning': 0}})"
      ]
     },
     "execution_count": 18,
     "metadata": {},
     "output_type": "execute_result"
    }
   ],
   "source": [
    "model.invoke('걸그룹 KiiiKiii 멤버를 알려줘.')"
   ]
  },
  {
   "cell_type": "code",
   "execution_count": null,
   "id": "430d92fc",
   "metadata": {},
   "outputs": [],
   "source": [
    "from langchain.agents import AgentType, initialize_agent, load_tools\n",
    "\n",
    "# load_tools\n",
    "# wikipedia: 외부 검색을 위한 tool\n",
    "# llm-math: 지정된 llm 모델을 사용해 수학 연산 수행 tool\n",
    "tools = load_tools(['wikipedia', 'llm-math'], llm=model)\n",
    "\n",
    "agent = initialize_agent(\n",
    "    tools,      # 로드해온 도구들 \n",
    "    model,      # 사용할 모델\n",
    "    agent=AgentType.ZERO_SHOT_REACT_DESCRIPTION,    # 에이전트 유형 지정 -> 상수로 지정 # ZERO_SHOT_REACT_DESCRIPTION: 추가적인 학습이나 예시없이 즉각적으로 사용하는 ZERO_SHOT 방식, react: 추론 절차를 거치고 수행 계획을 세워서 수행하는 방식을 의미, react 프레임워크 기반으로\n",
    "    handle_parsing_error=True,                      # 에이전트 에러가 발생하면 에러 내용을 제시할 수 있게 설정\n",
    "    verbose=True                                    # 로그 출력 on\n",
    ")\n"
   ]
  },
  {
   "cell_type": "code",
   "execution_count": 19,
   "id": "95cc0f96",
   "metadata": {},
   "outputs": [
    {
     "name": "stdout",
     "output_type": "stream",
     "text": [
      "\n",
      "\n",
      "\u001b[1m> Entering new AgentExecutor chain...\u001b[0m\n",
      "\u001b[32;1m\u001b[1;3mI need to find information about the members of the girl group KiiiKiii. I'll search for this information on Wikipedia.  \n",
      "Action: wikipedia  \n",
      "Action Input: KiiiKiii (girl group)  \u001b[0m\n",
      "Observation: \u001b[36;1m\u001b[1;3mPage: KiiiKiii\n",
      "Summary: KiiiKiii (Korean: 키키) is a South Korean girl group formed by Starship Entertainment. The group consists of five members: Leesol, Sui, Haum, Jiyu, and Kya. They debuted on March 24, 2025, with the extended play Uncut Gem.\n",
      "\n",
      "\n",
      "\n",
      "Page: List of South Korean girl groups\n",
      "Summary: South Korean girl groups refer to the all-female idol groups who are part of the K-pop industry. Korean girl groups have aided in the globalization of Korean culture. The Jeogori Sisters and The Kim Sisters have been noted as the origins of South Korean girl groups, the latter being the first South Korean group to succeed in the United States. First-generation girl groups such as S.E.S. and Fin.K.L, are cited to have laid the groundwork for the Korean Wave in the 2000s. In 2009, Wonder Girls' \"Nobody\" became the first K-pop song to enter the Billboard Hot 100.\n",
      "The \"Golden Age of Girl Groups\" refers to a significant shift in the K-pop industry characterized by the dominance of girl groups in music charts and album sales. This phenomenon gained prominence in the early 2020s, highlighted by the remarkable success of groups such as Blackpink, which became the first girl group to achieve \"double million seller\" status with over 2.14 million copies sold of their second full-length album, Born Pink. Other notable girl groups, including Aespa, Ive, and NewJeans, have also emerged as major players, achieving significant sales and chart success.\n",
      "\n",
      "Page: Starship Entertainment\n",
      "Summary: Starship Entertainment (Korean: 스타쉽 엔터테인먼트) is a South Korean entertainment company founded in 2008 and became an independent subsidiary of Kakao Entertainment in 2013. It is also called one of the \"five major agencies\" in the pop music world, with SM Entertainment and YG Entertainment leading the way.\n",
      "It has been recognized for its contributions to the Hallyu wave, being home to several prominent K-pop groups and soloists. These include groups such as Monsta X, WJSN, Cravity, Ive, and KiiiKiii and soloists such as K.Will, Brother Su, Wonho, Kihyun, Joohoney, and Seola, as well as formerly home to Sistar, Boyfriend, Junggigo, Mad Clown, Jooyoung, Soyou, Yoo Seung-woo, Jeong Se-woon, and DJ Soda. It also manages actors under King Kong by Starship.\n",
      "\n",
      "\u001b[0m\n",
      "Thought:\u001b[32;1m\u001b[1;3mI now know the final answer.  \n",
      "Final Answer: KiiiKiii consists of five members: Leesol, Sui, Haum, Jiyu, and Kya.\u001b[0m\n",
      "\n",
      "\u001b[1m> Finished chain.\u001b[0m\n"
     ]
    },
    {
     "data": {
      "text/plain": [
       "{'input': '걸그룹 KiiiKiii 멤버를 알려줘.',\n",
       " 'output': 'KiiiKiii consists of five members: Leesol, Sui, Haum, Jiyu, and Kya.'}"
      ]
     },
     "execution_count": 19,
     "metadata": {},
     "output_type": "execute_result"
    }
   ],
   "source": [
    "agent.invoke('걸그룹 KiiiKiii 멤버를 알려줘.')"
   ]
  }
 ],
 "metadata": {
  "kernelspec": {
   "display_name": "vectordb_env",
   "language": "python",
   "name": "python3"
  },
  "language_info": {
   "codemirror_mode": {
    "name": "ipython",
    "version": 3
   },
   "file_extension": ".py",
   "mimetype": "text/x-python",
   "name": "python",
   "nbconvert_exporter": "python",
   "pygments_lexer": "ipython3",
   "version": "3.9.21"
  }
 },
 "nbformat": 4,
 "nbformat_minor": 5
}
