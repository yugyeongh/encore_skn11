{
 "cells": [
  {
   "cell_type": "code",
   "execution_count": 2,
   "id": "2ff47df8",
   "metadata": {},
   "outputs": [
    {
     "data": {
      "text/plain": [
       "True"
      ]
     },
     "execution_count": 2,
     "metadata": {},
     "output_type": "execute_result"
    }
   ],
   "source": [
    "# 환경설정\n",
    "from dotenv import load_dotenv\n",
    "load_dotenv()"
   ]
  },
  {
   "cell_type": "markdown",
   "id": "e3d8a5ce",
   "metadata": {},
   "source": [
    "### Chain을 이용한 Simple LLM\n",
    "1. PromptTemplate\n",
    "2. LLM\n",
    "3. OutputParser"
   ]
  },
  {
   "cell_type": "code",
   "execution_count": 3,
   "id": "cdb8aeb1",
   "metadata": {},
   "outputs": [],
   "source": [
    "# 1. PromptTemplate\n",
    "from langchain_core.prompts import ChatPromptTemplate\n",
    "\n",
    "prompt_template = ChatPromptTemplate([\n",
    "    ('system', '너는 애니메이션을 잘 아는 챗봇이야. 사용자의 질문에 친절하고 상세하게 답변할 수 있어.'), \n",
    "    ('user', '{question}')\n",
    "])"
   ]
  },
  {
   "cell_type": "code",
   "execution_count": 4,
   "id": "f1017e47",
   "metadata": {},
   "outputs": [],
   "source": [
    "# 2. Model\n",
    "from langchain_openai import ChatOpenAI\n",
    "\n",
    "model = ChatOpenAI(\n",
    "    model_name=\"gpt-4o-mini\",\n",
    "    temperature=0.3\n",
    ")"
   ]
  },
  {
   "cell_type": "code",
   "execution_count": 5,
   "id": "184e7534",
   "metadata": {},
   "outputs": [],
   "source": [
    "# 3. OutputParser (StrOutputParser)\n",
    "from langchain_core.output_parsers import StrOutputParser\n",
    "\n",
    "output_parser = StrOutputParser()"
   ]
  },
  {
   "cell_type": "code",
   "execution_count": 6,
   "id": "8a3b73f5",
   "metadata": {},
   "outputs": [
    {
     "data": {
      "text/plain": [
       "\"포켓몬의 강함은 여러 요소에 따라 달라질 수 있습니다. 일반적으로는 전투 능력, 타입 상성, 기술 조합, 그리고 개별 포켓몬의 스탯(HP, 공격력, 방어력 등)에 따라 달라지죠. \\n\\n현재까지의 포켓몬 게임에서 가장 강력하다고 평가받는 포켓몬 중 하나는 '아르세우스'입니다. 아르세우스는 모든 타입으로 변환할 수 있는 능력을 가지고 있어, 다양한 상황에서 유리한 전투를 할 수 있습니다. \\n\\n또한, '메가 레쿠자'나 '프리저'와 같은 전설의 포켓몬들도 매우 강력한 성능을 자랑합니다. 메가 진화가 가능한 포켓몬들은 전투에서 강력한 스탯을 가지게 되므로, 전략적으로 활용할 수 있습니다.\\n\\n결국, 어떤 포켓몬이 가장 강한지는 상황에 따라 다를 수 있으며, 개인의 플레이 스타일과 전략에 따라 달라질 수 있습니다. 특정 포켓몬의 강함을 평가할 때는 팀 구성과 전투 환경도 고려해야 합니다.\""
      ]
     },
     "execution_count": 6,
     "metadata": {},
     "output_type": "execute_result"
    }
   ],
   "source": [
    "# 4. Chain -> 질의\n",
    "# question: 어떤 포켓몬이 가장 강해?\n",
    "\n",
    "chain = prompt_template | model | output_parser\n",
    "chain.invoke({'question': '어떤 포켓몬이 가장 강해?'})"
   ]
  },
  {
   "cell_type": "code",
   "execution_count": 7,
   "id": "a4f30068",
   "metadata": {},
   "outputs": [
    {
     "data": {
      "text/plain": [
       "\"포켓몬의 강함은 여러 요소에 따라 달라질 수 있습니다. 일반적으로는 전투 능력, 타입 상성, 기술, 그리고 전략 등이 중요한 역할을 합니다. \\n\\n현재까지의 포켓몬 게임에서 가장 강력하다고 평가받는 포켓몬 중 하나는 **아르세우스**입니다. 아르세우스는 '신의 포켓몬'으로 불리며, 모든 타입으로 변환할 수 있는 능력을 가지고 있습니다. 이로 인해 다양한 상황에서 유리한 전투를 할 수 있습니다.\\n\\n또한, **메가 레쿠쟈**와 **프리즘 레쿠쟈**도 매우 강력한 포켓몬으로 알려져 있습니다. 이들은 높은 스탯과 강력한 기술을 보유하고 있어 많은 트레이너들에게 사랑받고 있습니다.\\n\\n하지만, 포켓몬 배틀에서는 각 포켓몬의 타입과 상대 포켓몬의 조합, 그리고 트레이너의 전략이 승패를 좌우하기 때문에, 어떤 포켓몬이 가장 강한지는 상황에 따라 달라질 수 있습니다. 특정 대회나 메타에서 강력한 포켓몬이 다를 수 있으니, 이를 고려하는 것도 중요합니다!\""
      ]
     },
     "execution_count": 7,
     "metadata": {},
     "output_type": "execute_result"
    }
   ],
   "source": [
    "from langchain_core.runnables import RunnableSequence\n",
    "\n",
    "chain = RunnableSequence(prompt_template, model, output_parser)\n",
    "chain.invoke({'question': '어떤 포켓몬이 가장 강해?'})"
   ]
  },
  {
   "cell_type": "markdown",
   "id": "ccf0e7b5",
   "metadata": {},
   "source": [
    "### 단계별 Chatbot\n",
    "- 첫 대화에서 내 이름을 알려주고, 다음 대화에서 내 이름 기억하는지 물어보기!"
   ]
  },
  {
   "cell_type": "markdown",
   "id": "ab988462",
   "metadata": {},
   "source": [
    "1. 그냥 Chat\n",
    "- langchain_openai의 ChatOPenAI\n",
    "- langchain_core.message의 클래스"
   ]
  },
  {
   "cell_type": "code",
   "execution_count": 8,
   "id": "51f933f6",
   "metadata": {},
   "outputs": [],
   "source": [
    "from langchain_openai import ChatOpenAI\n",
    "\n",
    "model = ChatOpenAI(\n",
    "    model_name='gpt-4o-mini',\n",
    "    temperature=0.5\n",
    ")"
   ]
  },
  {
   "cell_type": "code",
   "execution_count": null,
   "id": "23e85216",
   "metadata": {},
   "outputs": [
    {
     "data": {
      "text/plain": [
       "'안녕하세요, 유경님! 만나서 반가워요. 어떻게 도와드릴까요?'"
      ]
     },
     "execution_count": 9,
     "metadata": {},
     "output_type": "execute_result"
    }
   ],
   "source": [
    "from langchain_core.messages import HumanMessage\n",
    "\n",
    "model.invoke([\n",
    "    HumanMessage('안녕 내 이름은 유경이야')\n",
    "]).content      # 모델의 응답 중 메시지만 가져올 수 있음"
   ]
  },
  {
   "cell_type": "code",
   "execution_count": null,
   "id": "a291c46a",
   "metadata": {},
   "outputs": [
    {
     "data": {
      "text/plain": [
       "'죄송하지만, 당신의 이름은 알 수 없습니다. 제가 이전 대화 내용을 기억하지 못하기 때문에 이름을 알고 있지 않습니다. 당신의 이름을 알려주시면 그에 맞춰 대화할 수 있습니다!'"
      ]
     },
     "execution_count": 10,
     "metadata": {},
     "output_type": "execute_result"
    }
   ],
   "source": [
    "# 단건으로 질의를 보내기 때문에 단순한 채팅이 됨\n",
    "model.invoke([\n",
    "    HumanMessage('내 이름이 뭐라고 했지?')\n",
    "]).content"
   ]
  },
  {
   "cell_type": "markdown",
   "id": "53dcda4f",
   "metadata": {},
   "source": [
    "2. 직전 대화 맥락 유지\n",
    "- langchain_openai의 ChatOpenAI\n",
    "- langchain_core.messages의 클래스"
   ]
  },
  {
   "cell_type": "code",
   "execution_count": null,
   "id": "92526061",
   "metadata": {},
   "outputs": [
    {
     "name": "stdout",
     "output_type": "stream",
     "text": [
      "💁🏻‍♀️ 안녕 내 이름은 유경이야\n",
      "🤖 안녕하세요, 유경님! 만나서 반갑습니다. 어떻게 도와드릴까요?\n",
      "💁🏻‍♀️ 내 이름이 뭐라구?\n",
      "🤖 유경님이라고 하셨습니다. 맞나요?\n",
      "💁🏻‍♀️ 엉 맞아!\n",
      "🤖 좋아요, 유경님! 오늘은 어떤 이야기를 나누고 싶으신가요?\n"
     ]
    }
   ],
   "source": [
    "from langchain_core.messages import HumanMessage\n",
    "from langchain_core.messages import AIMessage\n",
    "\n",
    "messages = []\n",
    "\n",
    "while True:\n",
    "    prompt = input(\"👤 \") \n",
    "    if prompt == '끝':\n",
    "        break\n",
    "\n",
    "    user_message = HumanMessage(content=prompt)\n",
    "    messages.append(user_message)\n",
    "    print(f'💁🏻‍♀️ {user_message.content}')\n",
    "\n",
    "    response = model.invoke(messages)\n",
    "\n",
    "    assistant_message = AIMessage(content=response.content)\n",
    "    messages.append(assistant_message)\n",
    "    print(f'🤖 {assistant_message.content}')\n"
   ]
  },
  {
   "cell_type": "markdown",
   "id": "0c90571e",
   "metadata": {},
   "source": [
    "3. Memory로 대화의 맥락 유지\n",
    "- langchain_openai의 ChatOpenAI\n",
    "- langchain_core.messages의 클래스\n",
    "- langchain_core.runnables의 클래스\n",
    "- langchain_core.prompts의 클래스"
   ]
  },
  {
   "cell_type": "code",
   "execution_count": null,
   "id": "8d6f88c1",
   "metadata": {},
   "outputs": [
    {
     "name": "stdout",
     "output_type": "stream",
     "text": [
      "💁🏻‍♀️ 안녕 나는 유경이야!\n",
      "🤖 안녕하세요, 유경님! 만나서 반가워요! 오늘은 어떤 이야기를 나눠볼까요? 😊\n",
      "💁🏻‍♀️ 너가 먼저 재밌는 주제를 꺼내줘\n",
      "🤖 좋아요! 그럼 요즘 사람들 사이에서 인기 있는 주제 중 하나인 '여행'에 대해 이야기해볼까요? 유경님은 어떤 여행지를 가장 가고 싶으신가요? 아니면 기억에 남는 여행 경험이 있다면 공유해주실래요? 🌍✈️\n",
      "대화를 종료합니다.\n"
     ]
    }
   ],
   "source": [
    "from langchain_core.chat_history import BaseChatMessageHistory\n",
    "from langchain_openai import ChatOpenAI\n",
    "from langchain_core.prompts import ChatPromptTemplate, MessagesPlaceholder\n",
    "from langchain_core.runnables.history import RunnableWithMessageHistory\n",
    "\n",
    "class InMemoryHistory(BaseChatMessageHistory):\n",
    "    def __init__(self):\n",
    "        self.messages = []\n",
    "\n",
    "    def add_messages(self, messages):\n",
    "        self.messages.extend(messages)\n",
    "\n",
    "    def clear(self):\n",
    "        self.messages = []\n",
    "\n",
    "    def __repr__(self):\n",
    "        return str(self.messages)\n",
    "\n",
    "store = {}\n",
    "\n",
    "def get_by_session_id(session_id):\n",
    "    if session_id not in store:\n",
    "        store[session_id] = InMemoryHistory()\n",
    "    return store[session_id]\n",
    "\n",
    "prompt = ChatPromptTemplate.from_messages([\n",
    "    ('system', '너는 {skill}을 가진 AI 어시스턴트야.'), \n",
    "    MessagesPlaceholder(variable_name='history'),\n",
    "    ('human', '{query}')\n",
    "])\n",
    "\n",
    "model = ChatOpenAI(model_name='gpt-4o-mini', temperature=0.5)\n",
    "chain = prompt | model\n",
    "\n",
    "chain_with_history = RunnableWithMessageHistory(\n",
    "    chain,\n",
    "    get_session_history=get_by_session_id,\n",
    "    input_messages_key='query',\n",
    "    history_messages_key='history'\n",
    ")\n",
    "\n",
    "session_id = 'hyg'\n",
    "skill = 'ESFJ의 성향'\n",
    "\n",
    "while True:\n",
    "    query = input(\"👤 유저: \")\n",
    "    if query == '끝':\n",
    "        print(\"대화를 종료합니다.\")\n",
    "        break\n",
    "\n",
    "    print(f'💁🏻‍♀️ {query}')\n",
    "\n",
    "    response = chain_with_history.invoke(\n",
    "        {'skill': skill, 'query': query},\n",
    "        config={'configurable': {'session_id': session_id}}\n",
    "    )\n",
    "    print(f\"🤖 {response.content}\")\n",
    "\n",
    "    \n"
   ]
  },
  {
   "cell_type": "code",
   "execution_count": null,
   "id": "e6542863",
   "metadata": {},
   "outputs": [],
   "source": [
    "from langchain_openai import ChatOpenAI\n",
    "from langchain_core.prompts import ChatPromptTemplate, MessagesPlaceholder\n",
    "from langchain_core.runnables.history import RunnableWithMessageHistory\n",
    "from langchain_core.messages import SystemMessage, HumanMessage, AIMessage\n",
    "\n",
    "prompt - ChatPromptTemplate([\n",
    "    SystemMessage('당신은 몸시 친절하고 상냥한 친근한 챗봇입니다.'),\n",
    "    MessagesPlaceholder('history'),\n",
    "    HumanMessage('{query}')\n",
    "])\n",
    "\n",
    "model = ChatOpenAI(model_name='gpt-4o-mini', tenoerature=0.5)\n",
    "chain = prompt | model\n",
    "\n",
    "chain_with_history = RunnableWithMessageHistory(\n",
    "    chain,\n",
    "    get_session_history=get_by_session_id,\n",
    "    input_messages_key='query',\n",
    "    history_messages_key='history'\n",
    ")\n",
    "\n",
    "response = chain_with_history.invoke(\n",
    "        {'query': '내 이름이 뭐라고 했지?'},\n",
    "        config={'configurable': {'session_id': 'apple'}}\n",
    ")\n",
    "\n",
    "# 채팅 내역 뽑아보기\n",
    "for message in store['apple'].messages:\n",
    "    if isinstance(message, HumanMessage):        # isinstance: 객체가 특정 클래스의 인스턴스인지 아닌지\n",
    "        print(f'🍎: {message.content}')\n",
    "    elif isinstance(message, AIMessage):\n",
    "        print(f'🤖: {message.content}')"
   ]
  }
 ],
 "metadata": {
  "kernelspec": {
   "display_name": "vectordb_env",
   "language": "python",
   "name": "python3"
  },
  "language_info": {
   "codemirror_mode": {
    "name": "ipython",
    "version": 3
   },
   "file_extension": ".py",
   "mimetype": "text/x-python",
   "name": "python",
   "nbconvert_exporter": "python",
   "pygments_lexer": "ipython3",
   "version": "3.9.21"
  }
 },
 "nbformat": 4,
 "nbformat_minor": 5
}
