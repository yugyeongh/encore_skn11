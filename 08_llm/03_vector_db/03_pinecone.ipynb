{
 "cells": [
  {
   "cell_type": "markdown",
   "id": "0bb6feb7",
   "metadata": {},
   "source": [
    "# Pinecone DB (프리티어 사용)"
   ]
  },
  {
   "cell_type": "code",
   "execution_count": null,
   "id": "1ef86f82",
   "metadata": {},
   "outputs": [
    {
     "name": "stdout",
     "output_type": "stream",
     "text": [
      "Collecting pinecone\n",
      "  Downloading pinecone-6.0.2-py3-none-any.whl.metadata (9.0 kB)\n",
      "Requirement already satisfied: certifi>=2019.11.17 in c:\\users\\playdata\\appdata\\local\\anaconda3\\envs\\vectordb_env\\lib\\site-packages (from pinecone) (2025.1.31)\n",
      "Collecting pinecone-plugin-interface<0.0.8,>=0.0.7 (from pinecone)\n",
      "  Downloading pinecone_plugin_interface-0.0.7-py3-none-any.whl.metadata (1.2 kB)\n",
      "Requirement already satisfied: python-dateutil>=2.5.3 in c:\\users\\playdata\\appdata\\local\\anaconda3\\envs\\vectordb_env\\lib\\site-packages (from pinecone) (2.9.0.post0)\n",
      "Requirement already satisfied: typing-extensions>=3.7.4 in c:\\users\\playdata\\appdata\\local\\anaconda3\\envs\\vectordb_env\\lib\\site-packages (from pinecone) (4.13.2)\n",
      "Requirement already satisfied: urllib3>=1.26.0 in c:\\users\\playdata\\appdata\\local\\anaconda3\\envs\\vectordb_env\\lib\\site-packages (from pinecone) (2.4.0)\n",
      "Requirement already satisfied: six>=1.5 in c:\\users\\playdata\\appdata\\local\\anaconda3\\envs\\vectordb_env\\lib\\site-packages (from python-dateutil>=2.5.3->pinecone) (1.17.0)\n",
      "Downloading pinecone-6.0.2-py3-none-any.whl (421 kB)\n",
      "Downloading pinecone_plugin_interface-0.0.7-py3-none-any.whl (6.2 kB)\n",
      "Installing collected packages: pinecone-plugin-interface, pinecone\n",
      "Successfully installed pinecone-6.0.2 pinecone-plugin-interface-0.0.7\n"
     ]
    }
   ],
   "source": [
    "# !pip install pinecone"
   ]
  },
  {
   "cell_type": "code",
   "execution_count": 4,
   "id": "9448c59c",
   "metadata": {},
   "outputs": [],
   "source": [
    "import os\n",
    "from dotenv import load_dotenv\n",
    "\n",
    "load_dotenv()\n",
    "\n",
    "pinecone_api_key = os.getenv('PINECONE_API_KEY')"
   ]
  },
  {
   "cell_type": "code",
   "execution_count": 6,
   "id": "e2c0224c",
   "metadata": {},
   "outputs": [
    {
     "data": {
      "text/plain": [
       "{\n",
       "    \"name\": \"reviewtest\",\n",
       "    \"metric\": \"cosine\",\n",
       "    \"host\": \"reviewtest-bhrdsje.svc.aped-4627-b74a.pinecone.io\",\n",
       "    \"spec\": {\n",
       "        \"serverless\": {\n",
       "            \"cloud\": \"aws\",\n",
       "            \"region\": \"us-east-1\"\n",
       "        }\n",
       "    },\n",
       "    \"status\": {\n",
       "        \"ready\": true,\n",
       "        \"state\": \"Ready\"\n",
       "    },\n",
       "    \"vector_type\": \"dense\",\n",
       "    \"dimension\": 384,\n",
       "    \"deletion_protection\": \"disabled\",\n",
       "    \"tags\": null\n",
       "}"
      ]
     },
     "execution_count": 6,
     "metadata": {},
     "output_type": "execute_result"
    }
   ],
   "source": [
    "from pinecone import Pinecone, ServerlessSpec\n",
    "\n",
    "\n",
    "pc = Pinecone(api_key=pinecone_api_key)\n",
    "\n",
    "index_name = 'reviewtest'\n",
    "\n",
    "pc.create_index(\n",
    "    name=index_name,\n",
    "    dimension=384,         # embedding 차원 수\n",
    "    metric='cosine',\n",
    "    spec=ServerlessSpec(\n",
    "        cloud='aws',\n",
    "        region='us-east-1'\n",
    "    )\n",
    ")"
   ]
  },
  {
   "cell_type": "code",
   "execution_count": 3,
   "id": "99b6f99e",
   "metadata": {},
   "outputs": [],
   "source": [
    "reviews = [\n",
    "    {'id': '1', 'text': '이 노트북 성능이 아주 뛰어나요! 빠르고 안정적이에요.', 'sentiment': 'positive'},\n",
    "    {'id': '2', 'text': '디자인은 괜찮은데 성능이 기대보다 떨어져요.', 'sentiment': 'negative'},\n",
    "    {'id': '3', 'text': '가격 대비 너무 좋은 성능이에요. 화면도 선명하고 좋습니다.', 'sentiment': 'positive'},\n",
    "    {'id': '4', 'text': '배터리 수명이 짧아서 불편하네요. 좀 더 오래 가면 좋겠어요.', 'sentiment': 'negative'},\n",
    "    {'id': '5', 'text': '디자인도 예쁘고 성능도 괜찮아요. 하루종일 사용해도 문제 없어요.', 'sentiment': 'positive'},\n",
    "    {'id': '6', 'text': '노트북이 너무 무겁고 자꾸 열이 올라서 불편합니다.', 'sentiment': 'negative'},\n",
    "    {'id': '7', 'text': '발열이 생각보다 적고, 쿨링 성능이 좋아요. 매우 만족합니다.', 'sentiment': 'positive'},\n",
    "    {'id': '8', 'text': '전체적인 성능은 괜찮지만, 소음이 너무 심해서 일하는데 방해가 돼요.', 'sentiment': 'negative'},\n",
    "    {'id': '9', 'text': '노트북이 가볍고 디자인도 세련되었어요. 화면이 정말 선명하고 좋아요.', 'sentiment': 'positive'},\n",
    "    {'id': '10', 'text': '성능이 생각보다 느리고, 여러 프로그램을 동시에 켰을 때 멈춰요.', 'sentiment': 'negative'},\n",
    "    {'id': '11', 'text': '가격에 비해 성능이 너무 좋아서 놀랐어요. 아주 만족합니다!', 'sentiment': 'positive'},\n",
    "    {'id': '12', 'text': '키보드 타건감이 너무 딱딱하고 불편해요.', 'sentiment': 'negative'},\n",
    "    {'id': '13', 'text': '터치패드가 너무 민감해서 실수로 클릭이 자주 발생해요.', 'sentiment': 'negative'},\n",
    "    {'id': '14', 'text': '간단한 작업에서 아주 잘 작동하고, 디자인이 고급스러워요.', 'sentiment': 'positive'},\n",
    "    {'id': '15', 'text': '노트북을 열 때마다 팬 소음이 너무 커서 불편해요.', 'sentiment': 'negative'},\n",
    "    {'id': '16', 'text': '가격이 저렴하고 성능도 괜찮습니다. 가성비 좋은 노트북이에요.', 'sentiment': 'positive'},\n",
    "    {'id': '17', 'text': '무게가 너무 가볍고, 화면 크기도 적당해서 휴대성도 뛰어나요.', 'sentiment': 'positive'},\n",
    "    {'id': '18', 'text': '열이 많이 나는 편이라 오랫동안 사용하기 힘들어요.', 'sentiment': 'negative'},\n",
    "    {'id': '19', 'text': '디자인은 괜찮지만 화면 색감이 기대보다 안 좋았어요.', 'sentiment': 'negative'},\n",
    "    {'id': '20', 'text': '가성비 좋은 노트북이에요. 기본적인 작업에 아주 적합합니다.', 'sentiment': 'positive'}\n",
    "]"
   ]
  },
  {
   "cell_type": "code",
   "execution_count": 7,
   "id": "fc593f80",
   "metadata": {},
   "outputs": [],
   "source": [
    "# Pinecone index 및 임베딩 모델 로드\n",
    "from sentence_transformers import SentenceTransformer\n",
    "\n",
    "pc = Pinecone(api_key=pinecone_api_key)\n",
    "idx = pc.Index(index_name)\n",
    "\n",
    "model = SentenceTransformer('all-MiniLM-L6-v2')"
   ]
  },
  {
   "cell_type": "code",
   "execution_count": null,
   "id": "64dab909",
   "metadata": {},
   "outputs": [],
   "source": [
    "# index에 리뷰 데이터 추가\n",
    "for review in reviews:\n",
    "    review_embed = model.encode(review['text']).tolist()\n",
    "    idx.upsert([        # upsert: 해당 데이터가 있다면 update, 없다면 insert\n",
    "        (\n",
    "            review['id'],       # 문자열 형태의 id\n",
    "            review_embed,\n",
    "            {                   # dict 형태에 원문의 텍스트와 감정을 담게 해줌  # chromadb에서의 metadata와 같은 내용을 넣어주는거임\n",
    "                'text': review['text'],     \n",
    "                'sentiment': review['sentiment']\n",
    "            }\n",
    "        )\n",
    "    ])"
   ]
  },
  {
   "cell_type": "markdown",
   "id": "701041fe",
   "metadata": {},
   "source": [
    "### 리뷰 데이터 조회"
   ]
  },
  {
   "cell_type": "code",
   "execution_count": 11,
   "id": "7675e0ef",
   "metadata": {},
   "outputs": [
    {
     "data": {
      "text/plain": [
       "{'matches': [{'id': '2',\n",
       "              'metadata': {'sentiment': 'negative',\n",
       "                           'text': '디자인은 괜찮은데 성능이 기대보다 떨어져요.'},\n",
       "              'score': 0.761447,\n",
       "              'values': []},\n",
       "             {'id': '16',\n",
       "              'metadata': {'sentiment': 'positive',\n",
       "                           'text': '가격이 저렴하고 성능도 괜찮습니다. 가성비 좋은 노트북이에요.'},\n",
       "              'score': 0.730541587,\n",
       "              'values': []},\n",
       "             {'id': '5',\n",
       "              'metadata': {'sentiment': 'positive',\n",
       "                           'text': '디자인도 예쁘고 성능도 괜찮아요. 하루종일 사용해도 문제 없어요.'},\n",
       "              'score': 0.705470443,\n",
       "              'values': []}],\n",
       " 'namespace': '',\n",
       " 'usage': {'read_units': 6}}"
      ]
     },
     "execution_count": 11,
     "metadata": {},
     "output_type": "execute_result"
    }
   ],
   "source": [
    "query_text = '이 노트북의 성능은 괜찮은가요?'\n",
    "query_embed = model.encode(query_text).tolist()\n",
    "\n",
    "# 질의 메서드\n",
    "results = idx.query(\n",
    "    vector=query_embed,\n",
    "    top_k=3,\n",
    "    include_metadata=True\n",
    ")\n",
    "\n",
    "results \n",
    "# matches: query_text와 유사도가 높은 애를 가지고 있음 -> 상위 3개"
   ]
  },
  {
   "cell_type": "code",
   "execution_count": 15,
   "id": "b3c77c61",
   "metadata": {},
   "outputs": [
    {
     "name": "stdout",
     "output_type": "stream",
     "text": [
      "[감성: negative] 디자인은 괜찮은데 성능이 기대보다 떨어져요.\n",
      "[감성: positive] 가격이 저렴하고 성능도 괜찮습니다. 가성비 좋은 노트북이에요.\n",
      "[감성: positive] 디자인도 예쁘고 성능도 괜찮아요. 하루종일 사용해도 문제 없어요.\n"
     ]
    }
   ],
   "source": [
    "for review in results['matches']:\n",
    "    metadata = review['metadata']\n",
    "    print(f\"[감성: {metadata['sentiment']}]\", metadata['text'])"
   ]
  },
  {
   "cell_type": "markdown",
   "id": "f8634f2f",
   "metadata": {},
   "source": [
    "### 리뷰 감성 분석"
   ]
  },
  {
   "cell_type": "code",
   "execution_count": 16,
   "id": "bc1a5212",
   "metadata": {},
   "outputs": [
    {
     "data": {
      "text/plain": [
       "{'matches': [{'id': '10',\n",
       "              'metadata': {'sentiment': 'negative',\n",
       "                           'text': '성능이 생각보다 느리고, 여러 프로그램을 동시에 켰을 때 멈춰요.'},\n",
       "              'score': 0.862432897,\n",
       "              'values': []},\n",
       "             {'id': '12',\n",
       "              'metadata': {'sentiment': 'negative',\n",
       "                           'text': '키보드 타건감이 너무 딱딱하고 불편해요.'},\n",
       "              'score': 0.813677,\n",
       "              'values': []},\n",
       "             {'id': '4',\n",
       "              'metadata': {'sentiment': 'negative',\n",
       "                           'text': '배터리 수명이 짧아서 불편하네요. 좀 더 오래 가면 좋겠어요.'},\n",
       "              'score': 0.807199538,\n",
       "              'values': []},\n",
       "             {'id': '16',\n",
       "              'metadata': {'sentiment': 'positive',\n",
       "                           'text': '가격이 저렴하고 성능도 괜찮습니다. 가성비 좋은 노트북이에요.'},\n",
       "              'score': 0.779535,\n",
       "              'values': []},\n",
       "             {'id': '13',\n",
       "              'metadata': {'sentiment': 'negative',\n",
       "                           'text': '터치패드가 너무 민감해서 실수로 클릭이 자주 발생해요.'},\n",
       "              'score': 0.774482846,\n",
       "              'values': []}],\n",
       " 'namespace': '',\n",
       " 'usage': {'read_units': 6}}"
      ]
     },
     "execution_count": 16,
     "metadata": {},
     "output_type": "execute_result"
    }
   ],
   "source": [
    "query_text = '배터리도 빨리 닳고 벽돌보다 무거워요. 비추천'\n",
    "query_embed = model.encode(query_text).tolist()\n",
    "\n",
    "# 질의 메서드\n",
    "results = idx.query(\n",
    "    vector=query_embed,\n",
    "    top_k=5,\n",
    "    include_metadata=True\n",
    ")\n",
    "\n",
    "results "
   ]
  },
  {
   "cell_type": "code",
   "execution_count": 18,
   "id": "0d5f3997",
   "metadata": {},
   "outputs": [
    {
     "name": "stdout",
     "output_type": "stream",
     "text": [
      "리뷰 분석 결과: negative\n"
     ]
    }
   ],
   "source": [
    "sentiment_counts = {\n",
    "    'positive':0,\n",
    "    'negative':0\n",
    "}\n",
    "\n",
    "for review in results['matches']:\n",
    "    sentiment = review['metadata']['sentiment']\n",
    "    sentiment_counts[sentiment] += 1\n",
    "\n",
    "print(f\"리뷰 분석 결과: {'positive' if sentiment_counts['positive'] > sentiment_counts['negative'] else 'negative'}\")"
   ]
  },
  {
   "cell_type": "code",
   "execution_count": null,
   "id": "6421f7e3",
   "metadata": {},
   "outputs": [],
   "source": []
  }
 ],
 "metadata": {
  "kernelspec": {
   "display_name": "vectordb_env",
   "language": "python",
   "name": "python3"
  },
  "language_info": {
   "codemirror_mode": {
    "name": "ipython",
    "version": 3
   },
   "file_extension": ".py",
   "mimetype": "text/x-python",
   "name": "python",
   "nbconvert_exporter": "python",
   "pygments_lexer": "ipython3",
   "version": "3.9.21"
  }
 },
 "nbformat": 4,
 "nbformat_minor": 5
}
