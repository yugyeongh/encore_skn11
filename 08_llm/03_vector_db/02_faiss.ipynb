{
 "cells": [
  {
   "cell_type": "markdown",
   "id": "c0ec8461",
   "metadata": {},
   "source": [
    "# FAISS DB\n",
    "- Facebook AI Similarity Search"
   ]
  },
  {
   "cell_type": "code",
   "execution_count": 2,
   "id": "68e5c733",
   "metadata": {},
   "outputs": [
    {
     "name": "stdout",
     "output_type": "stream",
     "text": [
      "Requirement already satisfied: faiss-cpu in c:\\users\\playdata\\appdata\\local\\anaconda3\\envs\\vectordb_env\\lib\\site-packages (1.10.0)\n",
      "Requirement already satisfied: numpy<3.0,>=1.25.0 in c:\\users\\playdata\\appdata\\local\\anaconda3\\envs\\vectordb_env\\lib\\site-packages (from faiss-cpu) (2.0.2)\n",
      "Requirement already satisfied: packaging in c:\\users\\playdata\\appdata\\local\\anaconda3\\envs\\vectordb_env\\lib\\site-packages (from faiss-cpu) (24.2)\n"
     ]
    }
   ],
   "source": [
    "!pip install faiss-cpu"
   ]
  },
  {
   "cell_type": "code",
   "execution_count": 3,
   "id": "bfc0b6d5",
   "metadata": {},
   "outputs": [
    {
     "name": "stderr",
     "output_type": "stream",
     "text": [
      "c:\\Users\\Playdata\\AppData\\Local\\anaconda3\\envs\\vectordb_env\\lib\\site-packages\\tqdm\\auto.py:21: TqdmWarning: IProgress not found. Please update jupyter and ipywidgets. See https://ipywidgets.readthedocs.io/en/stable/user_install.html\n",
      "  from .autonotebook import tqdm as notebook_tqdm\n"
     ]
    }
   ],
   "source": [
    "### 영화 추천 시스템\n",
    "import faiss\n",
    "import numpy as np\n",
    "from sentence_transformers import SentenceTransformer\n",
    "\n",
    "model = SentenceTransformer('all-MiniLM-L6-v2')"
   ]
  },
  {
   "cell_type": "code",
   "execution_count": 4,
   "id": "ec1cc0c2",
   "metadata": {},
   "outputs": [],
   "source": [
    "movies = [\n",
    "    {\"id\": 0, \"title\": \"인셉션\", \"description\": \"꿈 속에서 다른 사람의 생각을 조작하는 스토리\"},\n",
    "    {\"id\": 1, \"title\": \"인터스텔라\", \"description\": \"우주를 여행하며 인류의 미래를 구하는 이야기\"},\n",
    "    {\"id\": 2, \"title\": \"테넷\", \"description\": \"시간의 흐름을 역행하며 벌어지는 첩보 액션\"},\n",
    "    {\"id\": 3, \"title\": \"매트릭스\", \"description\": \"가상 현실 세계에서의 저항과 자각\"},\n",
    "    {\"id\": 4, \"title\": \"아바타\", \"description\": \"판도라 행성에서 벌어지는 인간과 나비족의 갈등\"},\n",
    "    {\"id\": 5, \"title\": \"조커\", \"description\": \"한 남자의 광기와 사회의 무관심이 만든 비극\"},\n",
    "    {\"id\": 6, \"title\": \"타이타닉\", \"description\": \"비극적인 운명을 맞은 연인의 러브스토리\"},\n",
    "    {\"id\": 7, \"title\": \"어벤져스: 엔드게임\", \"description\": \"우주를 구하기 위한 마지막 전투\"},\n",
    "    {\"id\": 8, \"title\": \"아이언맨\", \"description\": \"천재 억만장자의 슈퍼히어로 탄생기\"},\n",
    "    {\"id\": 9, \"title\": \"캡틴 아메리카: 퍼스트 어벤져\", \"description\": \"제2차 세계대전에서 깨어난 영웅\"},\n",
    "    {\"id\": 10, \"title\": \"라라랜드\", \"description\": \"꿈과 사랑 사이에서 고민하는 두 사람의 뮤지컬 드라마\"},\n",
    "    {\"id\": 11, \"title\": \"이터널 선샤인\", \"description\": \"기억을 지우며 다시 시작되는 사랑\"},\n",
    "    {\"id\": 12, \"title\": \"포레스트 검프\", \"description\": \"순수한 한 남자의 인생 여정\"},\n",
    "    {\"id\": 13, \"title\": \"쇼생크 탈출\", \"description\": \"희망을 잃지 않고 자유를 찾아가는 이야기\"},\n",
    "    {\"id\": 14, \"title\": \"다크 나이트\", \"description\": \"배트맨과 조커의 정의와 혼돈에 대한 대결\"},\n",
    "    {\"id\": 15, \"title\": \"기생충\", \"description\": \"빈부격차와 인간 본성을 날카롭게 그린 블랙코미디\"},\n",
    "    {\"id\": 16, \"title\": \"올드보이\", \"description\": \"15년의 감금 후 펼쳐지는 복수극\"},\n",
    "    {\"id\": 17, \"title\": \"곡성\", \"description\": \"마을에서 벌어지는 기이한 사건과 미스터리\"},\n",
    "    {\"id\": 18, \"title\": \"살인의 추억\", \"description\": \"실제 사건을 바탕으로 한 연쇄살인범 추적극\"},\n",
    "    {\"id\": 19, \"title\": \"범죄와의 전쟁\", \"description\": \"1980년대 조직과의 전쟁을 배경으로 한 흥미진진한 이야기\"},\n",
    "]"
   ]
  },
  {
   "cell_type": "code",
   "execution_count": 5,
   "id": "c6502db7",
   "metadata": {},
   "outputs": [],
   "source": [
    "descriptions = [movie[\"description\"] for movie in movies]\n",
    "desc_embed = np.array([model.encode(description) for description in descriptions], dtype=\"float32\")"
   ]
  },
  {
   "cell_type": "code",
   "execution_count": null,
   "id": "45930c22",
   "metadata": {},
   "outputs": [],
   "source": [
    "dim = desc_embed.shape[1]\n",
    "idx = faiss.IndexFlatL2(dim)        # index는 collection과 유사한 개념으로 임베딩 차원 수만큼 index를 만들어서 임베딩된 결과만 add\n",
    "idx.add(desc_embed)"
   ]
  },
  {
   "cell_type": "code",
   "execution_count": null,
   "id": "e726aba0",
   "metadata": {},
   "outputs": [],
   "source": [
    "query_text = '로맨스와 사랑 이야기'\n",
    "query_embed = np.array([model.encode(query_text)], dtype=\"float32\")"
   ]
  },
  {
   "cell_type": "code",
   "execution_count": 41,
   "id": "a814275e",
   "metadata": {},
   "outputs": [],
   "source": [
    "top_n=5\n",
    "distances, indices = idx.search(query_embed, top_n)      # query_embed, top_n   # idx.search는 무언가를 검색하는거고 2가지를 반환해줌"
   ]
  },
  {
   "cell_type": "code",
   "execution_count": 42,
   "id": "97ab93cd",
   "metadata": {},
   "outputs": [
    {
     "name": "stdout",
     "output_type": "stream",
     "text": [
      "[[0.2703238  0.39109606 0.44037428 0.5044996  0.5306814 ]]\n",
      "[[11 10  3  0  5]]\n"
     ]
    }
   ],
   "source": [
    "print(distances)    # 거리\n",
    "print(indices)      # 거리가 가까운 애들에 대한 인덱스를 보여줌"
   ]
  },
  {
   "cell_type": "code",
   "execution_count": null,
   "id": "3511f39d",
   "metadata": {},
   "outputs": [
    {
     "name": "stdout",
     "output_type": "stream",
     "text": [
      "1번째 추천: 이터널 선샤인 (유사도 거리:  0.27)\n",
      "2번째 추천: 라라랜드 (유사도 거리:  0.39)\n",
      "3번째 추천: 매트릭스 (유사도 거리:  0.44)\n",
      "4번째 추천: 인셉션 (유사도 거리:  0.50)\n",
      "5번째 추천: 조커 (유사도 거리:  0.53)\n"
     ]
    }
   ],
   "source": [
    "for i in range(top_n):\n",
    "    movie_id = indices[0][i]\n",
    "    print(f\"{i+1}번째 추천: {movies[movie_id]['title']} (유사도 거리: {distances[0][i]: .2f})\")     # 임베딩 모델이 한국어를 잘 몰라서 나타나는 잘못된 추천.."
   ]
  },
  {
   "cell_type": "markdown",
   "id": "22f9d3ac",
   "metadata": {},
   "source": [
    "### 사용자 맞춤 뉴스 추천"
   ]
  },
  {
   "cell_type": "code",
   "execution_count": null,
   "id": "6c16e93a",
   "metadata": {},
   "outputs": [],
   "source": [
    "# 크롤링해서 10-20개 뉴스 타이틀을 크롤링해오고, faiss를 활용해서 맞춤 뉴스 가져오는 실습\n",
    "\n",
    "# 1. 뉴스의 제목을 10,20개 크롤링\n",
    "\n",
    "# 2. 사용자가 키워드 입력\n",
    "\n",
    "# 3. FAISS 활용해 맞춤 뉴스 추천"
   ]
  }
 ],
 "metadata": {
  "kernelspec": {
   "display_name": "vectordb_env",
   "language": "python",
   "name": "python3"
  },
  "language_info": {
   "codemirror_mode": {
    "name": "ipython",
    "version": 3
   },
   "file_extension": ".py",
   "mimetype": "text/x-python",
   "name": "python",
   "nbconvert_exporter": "python",
   "pygments_lexer": "ipython3",
   "version": "3.9.21"
  }
 },
 "nbformat": 4,
 "nbformat_minor": 5
}
