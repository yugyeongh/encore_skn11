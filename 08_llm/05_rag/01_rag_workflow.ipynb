{
 "cells": [
  {
   "cell_type": "code",
   "execution_count": 1,
   "id": "5e3d564e",
   "metadata": {},
   "outputs": [
    {
     "data": {
      "text/plain": [
       "True"
      ]
     },
     "execution_count": 1,
     "metadata": {},
     "output_type": "execute_result"
    }
   ],
   "source": [
    "from dotenv import load_dotenv\n",
    "\n",
    "load_dotenv()"
   ]
  },
  {
   "cell_type": "markdown",
   "id": "1fb35d1b",
   "metadata": {},
   "source": [
    "# 1. Indexing Phase"
   ]
  },
  {
   "cell_type": "markdown",
   "id": "f2fcfecb",
   "metadata": {},
   "source": [
    "### (1) Load"
   ]
  },
  {
   "cell_type": "code",
   "execution_count": 4,
   "id": "3e79f291",
   "metadata": {},
   "outputs": [
    {
     "data": {
      "text/plain": [
       "[Document(metadata={'producer': 'Microsoft® PowerPoint® 2013', 'creator': 'Microsoft® PowerPoint® 2013', 'creationdate': '2023-09-12T11:20:24+09:00', 'title': 'PowerPoint 프레젠테이션', 'author': 'PC', 'moddate': '2023-09-12T11:20:24+09:00', 'source': './data/snow-white.pdf', 'total_pages': 6, 'page': 0, 'page_label': '1'}, page_content='백설공주\\n옛날 어느 왕국에 공주님이 태어났어요.\\n“어쩜 이렇게 어여쁠까? 살결이 눈처럼 하얗구나. 백\\n설공주라고 불러야겠다.”\\n왕과 왕비는 갓 태어난 딸을 보며 기뻐했어요.\\n하지만 기쁨도 잠시, 왕비는 곧 세상을 떠나고 말았어\\n요.'),\n",
       " Document(metadata={'producer': 'Microsoft® PowerPoint® 2013', 'creator': 'Microsoft® PowerPoint® 2013', 'creationdate': '2023-09-12T11:20:24+09:00', 'title': 'PowerPoint 프레젠테이션', 'author': 'PC', 'moddate': '2023-09-12T11:20:24+09:00', 'source': './data/snow-white.pdf', 'total_pages': 6, 'page': 1, 'page_label': '2'}, page_content='왕은 아름다운 새 왕비를 맞았어요.\\n그런데 새 왕비는 자기보다 아름다운 사람을 두고 보\\n지 못했어요.\\n왕비는 진실만을 말하는 요술 거울에게 늘 이렇게 물\\n었어요.\\n“거울아, 거울아. 이 세상에서 누가 가장 아름답니?”\\n“이 세상에서 가장 아름다운 사람은 왕비님입니다.”\\n그 대답을 들어야만 차가운 왕비 얼굴에 미소가 번졌\\n지요.\\n시간이 흘러 백설공주는 어여쁜 소녀가 되었어요.\\n어느 날, 왕비는 요술 거울에게 물었지요.\\n“거울아, 거울아. 이 세상에서 누가 가장 아름답니?”\\n“왕비님도 아름답지만 백설공주가 더 아름답습니다.”\\n화가 난 왕비는 사냥꾼을 불렀어요.\\n왕비는 사냥꾼에게 백설공주를 죽이라고 명령했어요.\\n하지만 사냥꾼은 차마 그럴 수 없었어요.\\n“가여운 공주님, 왕비님이 찾지 못하도록 멀리멀리 떠\\n나세요.”\\n백설공주는 울면서 숲으로 도망쳤어요.'),\n",
       " Document(metadata={'producer': 'Microsoft® PowerPoint® 2013', 'creator': 'Microsoft® PowerPoint® 2013', 'creationdate': '2023-09-12T11:20:24+09:00', 'title': 'PowerPoint 프레젠테이션', 'author': 'PC', 'moddate': '2023-09-12T11:20:24+09:00', 'source': './data/snow-white.pdf', 'total_pages': 6, 'page': 2, 'page_label': '3'}, page_content='숲속을 헤매던 백설공주는 외딴 오두막에 이르렀어요.\\n들여다보니 오두막은 비어 있었어요.\\n“아무도 없네. 좀 쉬어 가도 될까? 어? 신기하다! 모든 게 작아. \\n어어? 이상하다! 모든 게 일곱. 의자도 일곱, 접시도 일곱. 어머, \\n침대도 일곱 개네.”\\n도망치느라 치진 백설공주는 식탁 위에 있던 빵을 먹고 나서\\n일곱 번째 침대에 쓰러져 잠들었어요.\\n밤이 되자 오두막 주인인 일곱 난쟁이가 돌아왔어요.\\n난쟁이들은 집 안이 어질러진 것을 보고 깜짝 놀랐지요.\\n일곱째 난쟁이가 큰 소리로 외쳤어요.\\n“누가 내 침대에서 자고 있어!”\\n북적이는 소리에 잠이 깬 백설공주는 왕비를 피해 도망쳤다고\\n이야기했어요.\\n“불쌍한 공주님, 우리와 함께 살아요. 조심조심 또 조심. 낯선\\n사람에게는 문을 열어 주지 마세요.”\\n며칠이 지나 왕비는 다시 요술 거울에게 누가 가장 아름다운\\n지 물었어요.\\n“왕비님도 아름답지만 백설공주님이 천배는 더 아름답습니다.”\\n“사냥꾼이 날 속였구나. 내가 직접 해치우겠어!”'),\n",
       " Document(metadata={'producer': 'Microsoft® PowerPoint® 2013', 'creator': 'Microsoft® PowerPoint® 2013', 'creationdate': '2023-09-12T11:20:24+09:00', 'title': 'PowerPoint 프레젠테이션', 'author': 'PC', 'moddate': '2023-09-12T11:20:24+09:00', 'source': './data/snow-white.pdf', 'total_pages': 6, 'page': 3, 'page_label': '4'}, page_content='왕비는 먹음직스럽게 생긴 사과를 골라 독을 발랐어요.\\n그리고 과일 장수로 변장했지요.\\n왕비는 산을 넘고 또 넘어 일곱 난쟁이의 오두막에 도착했어요.\\n“새콤달콤 맛있는 사과가 있어요. 아가씨의 붉은 입술처럼 새빨\\n간 사과랍니다. 잠깐 문을 열어 보세요.”\\n백설공주는 고개를 저었어요.\\n“난쟁이들이 문을 열어 주지 말라고 했어요.”\\n백설공주가 거절하자, 왕비는 창문 틈새로 사과를 쑥 내밀었어\\n요.\\n“그럼, 맛이라도 봐요. 정말 맛있으니까. 둘이 먹다 하나가 죽어\\n도 모를걸요.”\\n“탐스러운 사과네. 맛있어 보여. 한입만 아삭 깨물어 볼까?”\\n사과를 베어 문 순간, 백설공주는 온몸에 독이 퍼져 정신을 잃고\\n쓰러졌어요.\\n“호호호. 이제 내가 세상에서 가장 아름답겠지?”\\n왕비는 백설공주를 버려둔 채 자리를 떠났어요.'),\n",
       " Document(metadata={'producer': 'Microsoft® PowerPoint® 2013', 'creator': 'Microsoft® PowerPoint® 2013', 'creationdate': '2023-09-12T11:20:24+09:00', 'title': 'PowerPoint 프레젠테이션', 'author': 'PC', 'moddate': '2023-09-12T11:20:24+09:00', 'source': './data/snow-white.pdf', 'total_pages': 6, 'page': 4, 'page_label': '5'}, page_content='저녁이 되자, 일곱 난쟁이가 돌아왔어요.\\n난쟁이들은 쓰러진 백설공주를 보고 엉엉 울었어요.\\n백설공주는 깊은 잠에 빠진 것처럼 보였지요.\\n“백설공주님, 못된 왕비의 꾐에 넘어갔군요.”\\n“여전히 아름다운 우리 공주님을 캄캄한 땅속에 묻을 순 없어.”\\n“오래오래 볼 수 있게 유리 관에 모시자.”\\n어느 날, 한 왕자가 숲을 지나다가 유리관을 보았어요.\\n“누구지? 이 아름다운 여인은?”\\n“백설공주랍니다.”\\n왕자는 백설공주에게 반해 유리관을 달라고 부탁했어요.\\n일곱 난쟁이는 백설공주를 잘 지킨다는 약속을 받고 유리관을\\n내주었지요.\\n그런데 신하들이 유리관을 옮기다 돌부리에 툭! 백설공주 목\\n에서 사과 조각이 툭! \\n“우아, 공주님이 살아났어!”'),\n",
       " Document(metadata={'producer': 'Microsoft® PowerPoint® 2013', 'creator': 'Microsoft® PowerPoint® 2013', 'creationdate': '2023-09-12T11:20:24+09:00', 'title': 'PowerPoint 프레젠테이션', 'author': 'PC', 'moddate': '2023-09-12T11:20:24+09:00', 'source': './data/snow-white.pdf', 'total_pages': 6, 'page': 5, 'page_label': '6'}, page_content='왕자는 깨어난 백설공주를 보고 기뻐했어요.\\n“공주님, 나는 이웃 나라 왕자입니다.”\\n“왕자님이 나를 다시 살려 주셨군요.”\\n“나와 결혼해 주시겠어요?”\\n“네, 좋아요!”\\n두 사람은 일곱 난쟁이와 함께 오래오래 행복하게 살\\n았답니다.')]"
      ]
     },
     "execution_count": 4,
     "metadata": {},
     "output_type": "execute_result"
    }
   ],
   "source": [
    "from langchain_community.document_loaders import PyPDFLoader\n",
    "\n",
    "loader = PyPDFLoader('./data/snow-white.pdf')\n",
    "documents = loader.load()\n",
    "\n",
    "documents"
   ]
  },
  {
   "cell_type": "code",
   "execution_count": 8,
   "id": "c3065c98",
   "metadata": {},
   "outputs": [
    {
     "data": {
      "text/plain": [
       "[Document(metadata={'producer': 'Microsoft® PowerPoint® 2013', 'creator': 'Microsoft® PowerPoint® 2013', 'creationdate': '2023-09-12T11:20:24+09:00', 'title': 'PowerPoint 프레젠테이션', 'author': 'PC', 'moddate': '2023-09-12T11:20:24+09:00', 'source': './data/snow-white.pdf', 'total_pages': 6, 'page': 0, 'page_label': '1'}, page_content='백설공주 옛날 어느 왕국에 공주님이 태어났어요. “어쩜 이렇게 어여쁠까? 살결이 눈처럼 하얗구나. 백 설공주라고 불러야겠다.” 왕과 왕비는 갓 태어난 딸을 보며 기뻐했어요. 하지만 기쁨도 잠시, 왕비는 곧 세상을 떠나고 말았어 요.'),\n",
       " Document(metadata={'producer': 'Microsoft® PowerPoint® 2013', 'creator': 'Microsoft® PowerPoint® 2013', 'creationdate': '2023-09-12T11:20:24+09:00', 'title': 'PowerPoint 프레젠테이션', 'author': 'PC', 'moddate': '2023-09-12T11:20:24+09:00', 'source': './data/snow-white.pdf', 'total_pages': 6, 'page': 1, 'page_label': '2'}, page_content='왕은 아름다운 새 왕비를 맞았어요. 그런데 새 왕비는 자기보다 아름다운 사람을 두고 보 지 못했어요. 왕비는 진실만을 말하는 요술 거울에게 늘 이렇게 물 었어요. “거울아, 거울아. 이 세상에서 누가 가장 아름답니?” “이 세상에서 가장 아름다운 사람은 왕비님입니다.” 그 대답을 들어야만 차가운 왕비 얼굴에 미소가 번졌 지요. 시간이 흘러 백설공주는 어여쁜 소녀가 되었어요. 어느 날, 왕비는 요술 거울에게 물었지요. “거울아, 거울아. 이 세상에서 누가 가장 아름답니?” “왕비님도 아름답지만 백설공주가 더 아름답습니다.” 화가 난 왕비는 사냥꾼을 불렀어요. 왕비는 사냥꾼에게 백설공주를 죽이라고 명령했어요. 하지만 사냥꾼은 차마 그럴 수 없었어요. “가여운 공주님, 왕비님이 찾지 못하도록 멀리멀리 떠 나세요.” 백설공주는 울면서 숲으로 도망쳤어요.'),\n",
       " Document(metadata={'producer': 'Microsoft® PowerPoint® 2013', 'creator': 'Microsoft® PowerPoint® 2013', 'creationdate': '2023-09-12T11:20:24+09:00', 'title': 'PowerPoint 프레젠테이션', 'author': 'PC', 'moddate': '2023-09-12T11:20:24+09:00', 'source': './data/snow-white.pdf', 'total_pages': 6, 'page': 2, 'page_label': '3'}, page_content='숲속을 헤매던 백설공주는 외딴 오두막에 이르렀어요. 들여다보니 오두막은 비어 있었어요. “아무도 없네. 좀 쉬어 가도 될까? 어? 신기하다! 모든 게 작아.  어어? 이상하다! 모든 게 일곱. 의자도 일곱, 접시도 일곱. 어머,  침대도 일곱 개네.” 도망치느라 치진 백설공주는 식탁 위에 있던 빵을 먹고 나서 일곱 번째 침대에 쓰러져 잠들었어요. 밤이 되자 오두막 주인인 일곱 난쟁이가 돌아왔어요. 난쟁이들은 집 안이 어질러진 것을 보고 깜짝 놀랐지요. 일곱째 난쟁이가 큰 소리로 외쳤어요. “누가 내 침대에서 자고 있어!” 북적이는 소리에 잠이 깬 백설공주는 왕비를 피해 도망쳤다고 이야기했어요. “불쌍한 공주님, 우리와 함께 살아요. 조심조심 또 조심. 낯선 사람에게는 문을 열어 주지 마세요.” 며칠이 지나 왕비는 다시 요술 거울에게 누가 가장 아름다운 지 물었어요. “왕비님도 아름답지만 백설공주님이 천배는 더 아름답습니다.” “사냥꾼이 날 속였구나. 내가 직접 해치우겠어!”'),\n",
       " Document(metadata={'producer': 'Microsoft® PowerPoint® 2013', 'creator': 'Microsoft® PowerPoint® 2013', 'creationdate': '2023-09-12T11:20:24+09:00', 'title': 'PowerPoint 프레젠테이션', 'author': 'PC', 'moddate': '2023-09-12T11:20:24+09:00', 'source': './data/snow-white.pdf', 'total_pages': 6, 'page': 3, 'page_label': '4'}, page_content='왕비는 먹음직스럽게 생긴 사과를 골라 독을 발랐어요. 그리고 과일 장수로 변장했지요. 왕비는 산을 넘고 또 넘어 일곱 난쟁이의 오두막에 도착했어요. “새콤달콤 맛있는 사과가 있어요. 아가씨의 붉은 입술처럼 새빨 간 사과랍니다. 잠깐 문을 열어 보세요.” 백설공주는 고개를 저었어요. “난쟁이들이 문을 열어 주지 말라고 했어요.” 백설공주가 거절하자, 왕비는 창문 틈새로 사과를 쑥 내밀었어 요. “그럼, 맛이라도 봐요. 정말 맛있으니까. 둘이 먹다 하나가 죽어 도 모를걸요.” “탐스러운 사과네. 맛있어 보여. 한입만 아삭 깨물어 볼까?” 사과를 베어 문 순간, 백설공주는 온몸에 독이 퍼져 정신을 잃고 쓰러졌어요. “호호호. 이제 내가 세상에서 가장 아름답겠지?” 왕비는 백설공주를 버려둔 채 자리를 떠났어요.'),\n",
       " Document(metadata={'producer': 'Microsoft® PowerPoint® 2013', 'creator': 'Microsoft® PowerPoint® 2013', 'creationdate': '2023-09-12T11:20:24+09:00', 'title': 'PowerPoint 프레젠테이션', 'author': 'PC', 'moddate': '2023-09-12T11:20:24+09:00', 'source': './data/snow-white.pdf', 'total_pages': 6, 'page': 4, 'page_label': '5'}, page_content='저녁이 되자, 일곱 난쟁이가 돌아왔어요. 난쟁이들은 쓰러진 백설공주를 보고 엉엉 울었어요. 백설공주는 깊은 잠에 빠진 것처럼 보였지요. “백설공주님, 못된 왕비의 꾐에 넘어갔군요.” “여전히 아름다운 우리 공주님을 캄캄한 땅속에 묻을 순 없어.” “오래오래 볼 수 있게 유리 관에 모시자.” 어느 날, 한 왕자가 숲을 지나다가 유리관을 보았어요. “누구지? 이 아름다운 여인은?” “백설공주랍니다.” 왕자는 백설공주에게 반해 유리관을 달라고 부탁했어요. 일곱 난쟁이는 백설공주를 잘 지킨다는 약속을 받고 유리관을 내주었지요. 그런데 신하들이 유리관을 옮기다 돌부리에 툭! 백설공주 목 에서 사과 조각이 툭!  “우아, 공주님이 살아났어!”'),\n",
       " Document(metadata={'producer': 'Microsoft® PowerPoint® 2013', 'creator': 'Microsoft® PowerPoint® 2013', 'creationdate': '2023-09-12T11:20:24+09:00', 'title': 'PowerPoint 프레젠테이션', 'author': 'PC', 'moddate': '2023-09-12T11:20:24+09:00', 'source': './data/snow-white.pdf', 'total_pages': 6, 'page': 5, 'page_label': '6'}, page_content='왕자는 깨어난 백설공주를 보고 기뻐했어요. “공주님, 나는 이웃 나라 왕자입니다.” “왕자님이 나를 다시 살려 주셨군요.” “나와 결혼해 주시겠어요?” “네, 좋아요!” 두 사람은 일곱 난쟁이와 함께 오래오래 행복하게 살 았답니다.')]"
      ]
     },
     "execution_count": 8,
     "metadata": {},
     "output_type": "execute_result"
    }
   ],
   "source": [
    "# 개행문자 제거\n",
    "\n",
    "for doc in documents:\n",
    "    doc.page_content = doc.page_content.replace('\\n', ' ')\n",
    "\n",
    "documents"
   ]
  },
  {
   "cell_type": "markdown",
   "id": "9e518fed",
   "metadata": {},
   "source": [
    "### (2) Split"
   ]
  },
  {
   "cell_type": "code",
   "execution_count": 9,
   "id": "ff52227a",
   "metadata": {},
   "outputs": [
    {
     "data": {
      "text/plain": [
       "[Document(metadata={'producer': 'Microsoft® PowerPoint® 2013', 'creator': 'Microsoft® PowerPoint® 2013', 'creationdate': '2023-09-12T11:20:24+09:00', 'title': 'PowerPoint 프레젠테이션', 'author': 'PC', 'moddate': '2023-09-12T11:20:24+09:00', 'source': './data/snow-white.pdf', 'total_pages': 6, 'page': 0, 'page_label': '1'}, page_content='백설공주 옛날 어느 왕국에 공주님이 태어났어요. “어쩜 이렇게 어여쁠까? 살결이 눈처럼 하얗구나. 백 설공주라고 불러야겠다.” 왕과 왕비는 갓 태어난 딸을 보며 기뻐했어요. 하지만'),\n",
       " Document(metadata={'producer': 'Microsoft® PowerPoint® 2013', 'creator': 'Microsoft® PowerPoint® 2013', 'creationdate': '2023-09-12T11:20:24+09:00', 'title': 'PowerPoint 프레젠테이션', 'author': 'PC', 'moddate': '2023-09-12T11:20:24+09:00', 'source': './data/snow-white.pdf', 'total_pages': 6, 'page': 0, 'page_label': '1'}, page_content='딸을 보며 기뻐했어요. 하지만 기쁨도 잠시, 왕비는 곧 세상을 떠나고 말았어 요.'),\n",
       " Document(metadata={'producer': 'Microsoft® PowerPoint® 2013', 'creator': 'Microsoft® PowerPoint® 2013', 'creationdate': '2023-09-12T11:20:24+09:00', 'title': 'PowerPoint 프레젠테이션', 'author': 'PC', 'moddate': '2023-09-12T11:20:24+09:00', 'source': './data/snow-white.pdf', 'total_pages': 6, 'page': 1, 'page_label': '2'}, page_content='왕은 아름다운 새 왕비를 맞았어요. 그런데 새 왕비는 자기보다 아름다운 사람을 두고 보 지 못했어요. 왕비는 진실만을 말하는 요술 거울에게 늘 이렇게 물 었어요. “거울아,'),\n",
       " Document(metadata={'producer': 'Microsoft® PowerPoint® 2013', 'creator': 'Microsoft® PowerPoint® 2013', 'creationdate': '2023-09-12T11:20:24+09:00', 'title': 'PowerPoint 프레젠테이션', 'author': 'PC', 'moddate': '2023-09-12T11:20:24+09:00', 'source': './data/snow-white.pdf', 'total_pages': 6, 'page': 1, 'page_label': '2'}, page_content='늘 이렇게 물 었어요. “거울아, 거울아. 이 세상에서 누가 가장 아름답니?” “이 세상에서 가장 아름다운 사람은 왕비님입니다.” 그 대답을 들어야만 차가운 왕비 얼굴에 미소가'),\n",
       " Document(metadata={'producer': 'Microsoft® PowerPoint® 2013', 'creator': 'Microsoft® PowerPoint® 2013', 'creationdate': '2023-09-12T11:20:24+09:00', 'title': 'PowerPoint 프레젠테이션', 'author': 'PC', 'moddate': '2023-09-12T11:20:24+09:00', 'source': './data/snow-white.pdf', 'total_pages': 6, 'page': 1, 'page_label': '2'}, page_content='들어야만 차가운 왕비 얼굴에 미소가 번졌 지요. 시간이 흘러 백설공주는 어여쁜 소녀가 되었어요. 어느 날, 왕비는 요술 거울에게 물었지요. “거울아, 거울아. 이 세상에서 누가'),\n",
       " Document(metadata={'producer': 'Microsoft® PowerPoint® 2013', 'creator': 'Microsoft® PowerPoint® 2013', 'creationdate': '2023-09-12T11:20:24+09:00', 'title': 'PowerPoint 프레젠테이션', 'author': 'PC', 'moddate': '2023-09-12T11:20:24+09:00', 'source': './data/snow-white.pdf', 'total_pages': 6, 'page': 1, 'page_label': '2'}, page_content='거울아. 이 세상에서 누가 가장 아름답니?” “왕비님도 아름답지만 백설공주가 더 아름답습니다.” 화가 난 왕비는 사냥꾼을 불렀어요. 왕비는 사냥꾼에게 백설공주를 죽이라고'),\n",
       " Document(metadata={'producer': 'Microsoft® PowerPoint® 2013', 'creator': 'Microsoft® PowerPoint® 2013', 'creationdate': '2023-09-12T11:20:24+09:00', 'title': 'PowerPoint 프레젠테이션', 'author': 'PC', 'moddate': '2023-09-12T11:20:24+09:00', 'source': './data/snow-white.pdf', 'total_pages': 6, 'page': 1, 'page_label': '2'}, page_content='사냥꾼에게 백설공주를 죽이라고 명령했어요. 하지만 사냥꾼은 차마 그럴 수 없었어요. “가여운 공주님, 왕비님이 찾지 못하도록 멀리멀리 떠 나세요.” 백설공주는 울면서 숲으로'),\n",
       " Document(metadata={'producer': 'Microsoft® PowerPoint® 2013', 'creator': 'Microsoft® PowerPoint® 2013', 'creationdate': '2023-09-12T11:20:24+09:00', 'title': 'PowerPoint 프레젠테이션', 'author': 'PC', 'moddate': '2023-09-12T11:20:24+09:00', 'source': './data/snow-white.pdf', 'total_pages': 6, 'page': 1, 'page_label': '2'}, page_content='나세요.” 백설공주는 울면서 숲으로 도망쳤어요.'),\n",
       " Document(metadata={'producer': 'Microsoft® PowerPoint® 2013', 'creator': 'Microsoft® PowerPoint® 2013', 'creationdate': '2023-09-12T11:20:24+09:00', 'title': 'PowerPoint 프레젠테이션', 'author': 'PC', 'moddate': '2023-09-12T11:20:24+09:00', 'source': './data/snow-white.pdf', 'total_pages': 6, 'page': 2, 'page_label': '3'}, page_content='숲속을 헤매던 백설공주는 외딴 오두막에 이르렀어요. 들여다보니 오두막은 비어 있었어요. “아무도 없네. 좀 쉬어 가도 될까? 어? 신기하다! 모든 게 작아.  어어? 이상하다!'),\n",
       " Document(metadata={'producer': 'Microsoft® PowerPoint® 2013', 'creator': 'Microsoft® PowerPoint® 2013', 'creationdate': '2023-09-12T11:20:24+09:00', 'title': 'PowerPoint 프레젠테이션', 'author': 'PC', 'moddate': '2023-09-12T11:20:24+09:00', 'source': './data/snow-white.pdf', 'total_pages': 6, 'page': 2, 'page_label': '3'}, page_content='모든 게 작아.  어어? 이상하다! 모든 게 일곱. 의자도 일곱, 접시도 일곱. 어머,  침대도 일곱 개네.” 도망치느라 치진 백설공주는 식탁 위에 있던 빵을 먹고 나서 일곱'),\n",
       " Document(metadata={'producer': 'Microsoft® PowerPoint® 2013', 'creator': 'Microsoft® PowerPoint® 2013', 'creationdate': '2023-09-12T11:20:24+09:00', 'title': 'PowerPoint 프레젠테이션', 'author': 'PC', 'moddate': '2023-09-12T11:20:24+09:00', 'source': './data/snow-white.pdf', 'total_pages': 6, 'page': 2, 'page_label': '3'}, page_content='위에 있던 빵을 먹고 나서 일곱 번째 침대에 쓰러져 잠들었어요. 밤이 되자 오두막 주인인 일곱 난쟁이가 돌아왔어요. 난쟁이들은 집 안이 어질러진 것을 보고 깜짝 놀랐지요. 일곱째'),\n",
       " Document(metadata={'producer': 'Microsoft® PowerPoint® 2013', 'creator': 'Microsoft® PowerPoint® 2013', 'creationdate': '2023-09-12T11:20:24+09:00', 'title': 'PowerPoint 프레젠테이션', 'author': 'PC', 'moddate': '2023-09-12T11:20:24+09:00', 'source': './data/snow-white.pdf', 'total_pages': 6, 'page': 2, 'page_label': '3'}, page_content='것을 보고 깜짝 놀랐지요. 일곱째 난쟁이가 큰 소리로 외쳤어요. “누가 내 침대에서 자고 있어!” 북적이는 소리에 잠이 깬 백설공주는 왕비를 피해 도망쳤다고 이야기했어요.'),\n",
       " Document(metadata={'producer': 'Microsoft® PowerPoint® 2013', 'creator': 'Microsoft® PowerPoint® 2013', 'creationdate': '2023-09-12T11:20:24+09:00', 'title': 'PowerPoint 프레젠테이션', 'author': 'PC', 'moddate': '2023-09-12T11:20:24+09:00', 'source': './data/snow-white.pdf', 'total_pages': 6, 'page': 2, 'page_label': '3'}, page_content='피해 도망쳤다고 이야기했어요. “불쌍한 공주님, 우리와 함께 살아요. 조심조심 또 조심. 낯선 사람에게는 문을 열어 주지 마세요.” 며칠이 지나 왕비는 다시 요술 거울에게 누가'),\n",
       " Document(metadata={'producer': 'Microsoft® PowerPoint® 2013', 'creator': 'Microsoft® PowerPoint® 2013', 'creationdate': '2023-09-12T11:20:24+09:00', 'title': 'PowerPoint 프레젠테이션', 'author': 'PC', 'moddate': '2023-09-12T11:20:24+09:00', 'source': './data/snow-white.pdf', 'total_pages': 6, 'page': 2, 'page_label': '3'}, page_content='왕비는 다시 요술 거울에게 누가 가장 아름다운 지 물었어요. “왕비님도 아름답지만 백설공주님이 천배는 더 아름답습니다.” “사냥꾼이 날 속였구나. 내가 직접 해치우겠어!”'),\n",
       " Document(metadata={'producer': 'Microsoft® PowerPoint® 2013', 'creator': 'Microsoft® PowerPoint® 2013', 'creationdate': '2023-09-12T11:20:24+09:00', 'title': 'PowerPoint 프레젠테이션', 'author': 'PC', 'moddate': '2023-09-12T11:20:24+09:00', 'source': './data/snow-white.pdf', 'total_pages': 6, 'page': 3, 'page_label': '4'}, page_content='왕비는 먹음직스럽게 생긴 사과를 골라 독을 발랐어요. 그리고 과일 장수로 변장했지요. 왕비는 산을 넘고 또 넘어 일곱 난쟁이의 오두막에 도착했어요. “새콤달콤 맛있는 사과가'),\n",
       " Document(metadata={'producer': 'Microsoft® PowerPoint® 2013', 'creator': 'Microsoft® PowerPoint® 2013', 'creationdate': '2023-09-12T11:20:24+09:00', 'title': 'PowerPoint 프레젠테이션', 'author': 'PC', 'moddate': '2023-09-12T11:20:24+09:00', 'source': './data/snow-white.pdf', 'total_pages': 6, 'page': 3, 'page_label': '4'}, page_content='“새콤달콤 맛있는 사과가 있어요. 아가씨의 붉은 입술처럼 새빨 간 사과랍니다. 잠깐 문을 열어 보세요.” 백설공주는 고개를 저었어요. “난쟁이들이 문을 열어 주지 말라고'),\n",
       " Document(metadata={'producer': 'Microsoft® PowerPoint® 2013', 'creator': 'Microsoft® PowerPoint® 2013', 'creationdate': '2023-09-12T11:20:24+09:00', 'title': 'PowerPoint 프레젠테이션', 'author': 'PC', 'moddate': '2023-09-12T11:20:24+09:00', 'source': './data/snow-white.pdf', 'total_pages': 6, 'page': 3, 'page_label': '4'}, page_content='“난쟁이들이 문을 열어 주지 말라고 했어요.” 백설공주가 거절하자, 왕비는 창문 틈새로 사과를 쑥 내밀었어 요. “그럼, 맛이라도 봐요. 정말 맛있으니까. 둘이 먹다 하나가 죽어'),\n",
       " Document(metadata={'producer': 'Microsoft® PowerPoint® 2013', 'creator': 'Microsoft® PowerPoint® 2013', 'creationdate': '2023-09-12T11:20:24+09:00', 'title': 'PowerPoint 프레젠테이션', 'author': 'PC', 'moddate': '2023-09-12T11:20:24+09:00', 'source': './data/snow-white.pdf', 'total_pages': 6, 'page': 3, 'page_label': '4'}, page_content='맛있으니까. 둘이 먹다 하나가 죽어 도 모를걸요.” “탐스러운 사과네. 맛있어 보여. 한입만 아삭 깨물어 볼까?” 사과를 베어 문 순간, 백설공주는 온몸에 독이 퍼져 정신을 잃고'),\n",
       " Document(metadata={'producer': 'Microsoft® PowerPoint® 2013', 'creator': 'Microsoft® PowerPoint® 2013', 'creationdate': '2023-09-12T11:20:24+09:00', 'title': 'PowerPoint 프레젠테이션', 'author': 'PC', 'moddate': '2023-09-12T11:20:24+09:00', 'source': './data/snow-white.pdf', 'total_pages': 6, 'page': 3, 'page_label': '4'}, page_content='온몸에 독이 퍼져 정신을 잃고 쓰러졌어요. “호호호. 이제 내가 세상에서 가장 아름답겠지?” 왕비는 백설공주를 버려둔 채 자리를 떠났어요.'),\n",
       " Document(metadata={'producer': 'Microsoft® PowerPoint® 2013', 'creator': 'Microsoft® PowerPoint® 2013', 'creationdate': '2023-09-12T11:20:24+09:00', 'title': 'PowerPoint 프레젠테이션', 'author': 'PC', 'moddate': '2023-09-12T11:20:24+09:00', 'source': './data/snow-white.pdf', 'total_pages': 6, 'page': 4, 'page_label': '5'}, page_content='저녁이 되자, 일곱 난쟁이가 돌아왔어요. 난쟁이들은 쓰러진 백설공주를 보고 엉엉 울었어요. 백설공주는 깊은 잠에 빠진 것처럼 보였지요. “백설공주님, 못된 왕비의 꾐에'),\n",
       " Document(metadata={'producer': 'Microsoft® PowerPoint® 2013', 'creator': 'Microsoft® PowerPoint® 2013', 'creationdate': '2023-09-12T11:20:24+09:00', 'title': 'PowerPoint 프레젠테이션', 'author': 'PC', 'moddate': '2023-09-12T11:20:24+09:00', 'source': './data/snow-white.pdf', 'total_pages': 6, 'page': 4, 'page_label': '5'}, page_content='“백설공주님, 못된 왕비의 꾐에 넘어갔군요.” “여전히 아름다운 우리 공주님을 캄캄한 땅속에 묻을 순 없어.” “오래오래 볼 수 있게 유리 관에 모시자.” 어느 날, 한 왕자가'),\n",
       " Document(metadata={'producer': 'Microsoft® PowerPoint® 2013', 'creator': 'Microsoft® PowerPoint® 2013', 'creationdate': '2023-09-12T11:20:24+09:00', 'title': 'PowerPoint 프레젠테이션', 'author': 'PC', 'moddate': '2023-09-12T11:20:24+09:00', 'source': './data/snow-white.pdf', 'total_pages': 6, 'page': 4, 'page_label': '5'}, page_content='모시자.” 어느 날, 한 왕자가 숲을 지나다가 유리관을 보았어요. “누구지? 이 아름다운 여인은?” “백설공주랍니다.” 왕자는 백설공주에게 반해 유리관을 달라고 부탁했어요. 일곱'),\n",
       " Document(metadata={'producer': 'Microsoft® PowerPoint® 2013', 'creator': 'Microsoft® PowerPoint® 2013', 'creationdate': '2023-09-12T11:20:24+09:00', 'title': 'PowerPoint 프레젠테이션', 'author': 'PC', 'moddate': '2023-09-12T11:20:24+09:00', 'source': './data/snow-white.pdf', 'total_pages': 6, 'page': 4, 'page_label': '5'}, page_content='유리관을 달라고 부탁했어요. 일곱 난쟁이는 백설공주를 잘 지킨다는 약속을 받고 유리관을 내주었지요. 그런데 신하들이 유리관을 옮기다 돌부리에 툭! 백설공주 목 에서 사과 조각이'),\n",
       " Document(metadata={'producer': 'Microsoft® PowerPoint® 2013', 'creator': 'Microsoft® PowerPoint® 2013', 'creationdate': '2023-09-12T11:20:24+09:00', 'title': 'PowerPoint 프레젠테이션', 'author': 'PC', 'moddate': '2023-09-12T11:20:24+09:00', 'source': './data/snow-white.pdf', 'total_pages': 6, 'page': 4, 'page_label': '5'}, page_content='툭! 백설공주 목 에서 사과 조각이 툭!  “우아, 공주님이 살아났어!”'),\n",
       " Document(metadata={'producer': 'Microsoft® PowerPoint® 2013', 'creator': 'Microsoft® PowerPoint® 2013', 'creationdate': '2023-09-12T11:20:24+09:00', 'title': 'PowerPoint 프레젠테이션', 'author': 'PC', 'moddate': '2023-09-12T11:20:24+09:00', 'source': './data/snow-white.pdf', 'total_pages': 6, 'page': 5, 'page_label': '6'}, page_content='왕자는 깨어난 백설공주를 보고 기뻐했어요. “공주님, 나는 이웃 나라 왕자입니다.” “왕자님이 나를 다시 살려 주셨군요.” “나와 결혼해 주시겠어요?” “네, 좋아요!” 두 사람은'),\n",
       " Document(metadata={'producer': 'Microsoft® PowerPoint® 2013', 'creator': 'Microsoft® PowerPoint® 2013', 'creationdate': '2023-09-12T11:20:24+09:00', 'title': 'PowerPoint 프레젠테이션', 'author': 'PC', 'moddate': '2023-09-12T11:20:24+09:00', 'source': './data/snow-white.pdf', 'total_pages': 6, 'page': 5, 'page_label': '6'}, page_content='“네, 좋아요!” 두 사람은 일곱 난쟁이와 함께 오래오래 행복하게 살 았답니다.')]"
      ]
     },
     "execution_count": 9,
     "metadata": {},
     "output_type": "execute_result"
    }
   ],
   "source": [
    "from langchain.text_splitter import RecursiveCharacterTextSplitter\n",
    "\n",
    "splitter = RecursiveCharacterTextSplitter(     # 긴 텍스트를 계속 검열함\n",
    "    chunk_size=100,                 # 각 chunk의 최대 문자 수 (기본값: 1000)\n",
    "    chunk_overlap=20                # 인접한 텍스트 조각 간 겹치는 문자의 수 (기본값: 200)\n",
    ")                                   # seperators: 텍스트 분할 구분자 우선순위 (기본값: ['\\n\\n', '\\n', ' ', ''])\n",
    "\n",
    "docs = splitter.split_documents(documents)\n",
    "docs"
   ]
  },
  {
   "cell_type": "code",
   "execution_count": 10,
   "id": "54d1937c",
   "metadata": {},
   "outputs": [
    {
     "data": {
      "text/plain": [
       "26"
      ]
     },
     "execution_count": 10,
     "metadata": {},
     "output_type": "execute_result"
    }
   ],
   "source": [
    "len(docs)"
   ]
  },
  {
   "cell_type": "markdown",
   "id": "390a1b00",
   "metadata": {},
   "source": [
    "### (3) Store"
   ]
  },
  {
   "cell_type": "markdown",
   "id": "3163df64",
   "metadata": {},
   "source": [
    "# 2. Retrieval and Generation Phase"
   ]
  },
  {
   "cell_type": "markdown",
   "id": "5ec4dd65",
   "metadata": {},
   "source": [
    "### (1) 프롬프트 생성\n",
    "- 사용자 질의 + 검색된 문서"
   ]
  },
  {
   "cell_type": "code",
   "execution_count": 28,
   "id": "3e0bed95",
   "metadata": {},
   "outputs": [],
   "source": [
    "from langchain_core.prompts import ChatPromptTemplate\n",
    "\n",
    "prompt = ChatPromptTemplate([\n",
    "    ('system','당신은 어린 아이에게 꿈과 희망을 심어주는 유치원 교사입니다. 질문하는 아이에게 최대한 호응하면서 context 기반으로만 답변해 주세요.'),\n",
    "    ('user','''\n",
    "    어린이의 질문에 context만을 이용해 답변하세요.\n",
    "    질문: {query}\n",
    "    context: {context}\n",
    "    ''')\n",
    "])"
   ]
  },
  {
   "cell_type": "code",
   "execution_count": 29,
   "id": "bf0bc9da",
   "metadata": {},
   "outputs": [
    {
     "data": {
      "text/plain": [
       "ChatPromptValue(messages=[SystemMessage(content='당신은 어린 아이에게 꿈과 희망을 심어주는 유치원 교사입니다. 질문하는 아이에게 최대한 호응하면서 context 기반으로만 답변해 주세요.', additional_kwargs={}, response_metadata={}), HumanMessage(content=\"\\n    어린이의 질문에 context만을 이용해 답변하세요.\\n    질문: 백설공주와 왕비 중 누가 더 아름답나요?\\n    context: [(Document(id='495f7275-7993-44f7-818f-b460eb397aed', metadata={'author': 'PC', 'creationdate': '2023-09-12T11:20:24+09:00', 'creator': 'Microsoft® PowerPoint® 2013', 'moddate': '2023-09-12T11:20:24+09:00', 'page': 1, 'page_label': '2', 'producer': 'Microsoft® PowerPoint® 2013', 'source': './data/snow-white.pdf', 'title': 'PowerPoint 프레젠테이션', 'total_pages': 6}, page_content='거울아. 이 세상에서 누가 가장 아름답니?” “왕비님도 아름답지만 백설공주가 더 아름답습니다.” 화가 난 왕비는 사냥꾼을 불렀어요. 왕비는 사냥꾼에게 백설공주를 죽이라고'), 0.8290044069290161), (Document(id='e38d9380-af2b-4936-8704-fd457df68940', metadata={'author': 'PC', 'creationdate': '2023-09-12T11:20:24+09:00', 'creator': 'Microsoft® PowerPoint® 2013', 'moddate': '2023-09-12T11:20:24+09:00', 'page': 1, 'page_label': '2', 'producer': 'Microsoft® PowerPoint® 2013', 'source': './data/snow-white.pdf', 'title': 'PowerPoint 프레젠테이션', 'total_pages': 6}, page_content='거울아. 이 세상에서 누가 가장 아름답니?” “왕비님도 아름답지만 백설공주가 더 아름답습니다.” 화가 난 왕비는 사냥꾼을 불렀어요. 왕비는 사냥꾼에게 백설공주를 죽이라고'), 0.829206109046936), (Document(id='59cc5d04-7ceb-42d8-9072-b66c4c22f297', metadata={'author': 'PC', 'creationdate': '2023-09-12T11:20:24+09:00', 'creator': 'Microsoft® PowerPoint® 2013', 'moddate': '2023-09-12T11:20:24+09:00', 'page': 2, 'page_label': '3', 'producer': 'Microsoft® PowerPoint® 2013', 'source': './data/snow-white.pdf', 'title': 'PowerPoint 프레젠테이션', 'total_pages': 6}, page_content='왕비는 다시 요술 거울에게 누가 가장 아름다운 지 물었어요. “왕비님도 아름답지만 백설공주님이 천배는 더 아름답습니다.” “사냥꾼이 날 속였구나. 내가 직접 해치우겠어!”'), 0.8316665887832642), (Document(id='dd5618ff-0e57-4fa8-bc5c-1a623900eb9f', metadata={'author': 'PC', 'creationdate': '2023-09-12T11:20:24+09:00', 'creator': 'Microsoft® PowerPoint® 2013', 'moddate': '2023-09-12T11:20:24+09:00', 'page': 2, 'page_label': '3', 'producer': 'Microsoft® PowerPoint® 2013', 'source': './data/snow-white.pdf', 'title': 'PowerPoint 프레젠테이션', 'total_pages': 6}, page_content='왕비는 다시 요술 거울에게 누가 가장 아름다운 지 물었어요. “왕비님도 아름답지만 백설공주님이 천배는 더 아름답습니다.” “사냥꾼이 날 속였구나. 내가 직접 해치우겠어!”'), 0.8329658508300781)]\\n    \", additional_kwargs={}, response_metadata={})])"
      ]
     },
     "execution_count": 29,
     "metadata": {},
     "output_type": "execute_result"
    }
   ],
   "source": [
    "prompt.invoke({'query': query, 'context': retrievals})"
   ]
  },
  {
   "cell_type": "markdown",
   "id": "312e5caa",
   "metadata": {},
   "source": [
    "### (2) 모델 생성"
   ]
  },
  {
   "cell_type": "code",
   "execution_count": 30,
   "id": "9cf12bf6",
   "metadata": {},
   "outputs": [],
   "source": [
    "from langchain_openai import ChatOpenAI\n",
    "\n",
    "model = ChatOpenAI(\n",
    "    model_name='gpt-4o-mini',\n",
    "    temperature=0.5\n",
    ")"
   ]
  },
  {
   "cell_type": "markdown",
   "id": "6352f5eb",
   "metadata": {},
   "source": [
    "### (3) Chain 생성"
   ]
  },
  {
   "cell_type": "code",
   "execution_count": 33,
   "id": "4cd45a9b",
   "metadata": {},
   "outputs": [],
   "source": [
    "from langchain_core.output_parsers import StrOutputParser\n",
    "from langchain_core.runnables import RunnablePassthrough\n",
    "\n",
    "# context 생성\n",
    "query = \"왕비가 백설공주에게 먹인 것은 무엇인가요?\"\n",
    "retrievals = retriever.batch([query])\n",
    "context_text = '\\n'.join([doc.page_content for doc in retrievals[0]])\n",
    "\n",
    "chain = prompt | model | StrOutputParser()"
   ]
  },
  {
   "cell_type": "code",
   "execution_count": 34,
   "id": "4af71dbd",
   "metadata": {},
   "outputs": [
    {
     "data": {
      "text/plain": [
       "[[Document(id='ae7593fb-9a82-4d5f-bad6-bc0f51d21525', metadata={'author': 'PC', 'creationdate': '2023-09-12T11:20:24+09:00', 'creator': 'Microsoft® PowerPoint® 2013', 'moddate': '2023-09-12T11:20:24+09:00', 'page': 3, 'page_label': '4', 'producer': 'Microsoft® PowerPoint® 2013', 'source': './data/snow-white.pdf', 'title': 'PowerPoint 프레젠테이션', 'total_pages': 6}, page_content='“난쟁이들이 문을 열어 주지 말라고 했어요.” 백설공주가 거절하자, 왕비는 창문 틈새로 사과를 쑥 내밀었어 요. “그럼, 맛이라도 봐요. 정말 맛있으니까. 둘이 먹다 하나가 죽어'),\n",
       "  Document(id='ca872654-5006-4711-b7a8-a90b2204a292', metadata={'author': 'PC', 'creationdate': '2023-09-12T11:20:24+09:00', 'creator': 'Microsoft® PowerPoint® 2013', 'moddate': '2023-09-12T11:20:24+09:00', 'page': 3, 'page_label': '4', 'producer': 'Microsoft® PowerPoint® 2013', 'source': './data/snow-white.pdf', 'title': 'PowerPoint 프레젠테이션', 'total_pages': 6}, page_content='“난쟁이들이 문을 열어 주지 말라고 했어요.” 백설공주가 거절하자, 왕비는 창문 틈새로 사과를 쑥 내밀었어 요. “그럼, 맛이라도 봐요. 정말 맛있으니까. 둘이 먹다 하나가 죽어'),\n",
       "  Document(id='94562748-4ed3-4d92-b288-049d7458d74f', metadata={'author': 'PC', 'creationdate': '2023-09-12T11:20:24+09:00', 'creator': 'Microsoft® PowerPoint® 2013', 'moddate': '2023-09-12T11:20:24+09:00', 'page': 3, 'page_label': '4', 'producer': 'Microsoft® PowerPoint® 2013', 'source': './data/snow-white.pdf', 'title': 'PowerPoint 프레젠테이션', 'total_pages': 6}, page_content='왕비는 먹음직스럽게 생긴 사과를 골라 독을 발랐어요. 그리고 과일 장수로 변장했지요. 왕비는 산을 넘고 또 넘어 일곱 난쟁이의 오두막에 도착했어요. “새콤달콤 맛있는 사과가')]]"
      ]
     },
     "execution_count": 34,
     "metadata": {},
     "output_type": "execute_result"
    }
   ],
   "source": [
    "retrievals"
   ]
  },
  {
   "cell_type": "markdown",
   "id": "76921f64",
   "metadata": {},
   "source": [
    "### 사용"
   ]
  },
  {
   "cell_type": "code",
   "execution_count": 35,
   "id": "1fd5234b",
   "metadata": {},
   "outputs": [
    {
     "data": {
      "text/plain": [
       "'왕비가 백설공주에게 먹인 것은 바로 독이 발라진 맛있게 생긴 사과였어요! 백설공주가 그 사과를 먹지 않길 바랐던 난쟁이들이 있었답니다. 그 사과는 정말 위험한 것이었죠.'"
      ]
     },
     "execution_count": 35,
     "metadata": {},
     "output_type": "execute_result"
    }
   ],
   "source": [
    "chain.invoke({'query':query, 'context':context_text})"
   ]
  },
  {
   "cell_type": "code",
   "execution_count": 13,
   "id": "8e922b9a",
   "metadata": {},
   "outputs": [],
   "source": [
    "# 임베딩 모델 생성\n",
    "from langchain_openai.embeddings import OpenAIEmbeddings\n",
    "\n",
    "embedding_model = OpenAIEmbeddings(model='text-embedding-3-small')"
   ]
  },
  {
   "cell_type": "code",
   "execution_count": 11,
   "id": "f924c268",
   "metadata": {},
   "outputs": [
    {
     "name": "stdout",
     "output_type": "stream",
     "text": [
      "Collecting langchain-chroma\n",
      "  Downloading langchain_chroma-0.2.3-py3-none-any.whl.metadata (1.1 kB)\n",
      "Requirement already satisfied: langchain-core>=0.3.52 in c:\\users\\playdata\\appdata\\local\\anaconda3\\envs\\vectordb_env\\lib\\site-packages (from langchain-chroma) (0.3.55)\n",
      "Requirement already satisfied: numpy>=1.26.0 in c:\\users\\playdata\\appdata\\local\\anaconda3\\envs\\vectordb_env\\lib\\site-packages (from langchain-chroma) (2.0.2)\n",
      "Collecting chromadb!=0.5.10,!=0.5.11,!=0.5.12,!=0.5.4,!=0.5.5,!=0.5.7,!=0.5.9,<0.7.0,>=0.4.0 (from langchain-chroma)\n",
      "  Downloading chromadb-0.6.3-py3-none-any.whl.metadata (6.8 kB)\n",
      "Requirement already satisfied: build>=1.0.3 in c:\\users\\playdata\\appdata\\local\\anaconda3\\envs\\vectordb_env\\lib\\site-packages (from chromadb!=0.5.10,!=0.5.11,!=0.5.12,!=0.5.4,!=0.5.5,!=0.5.7,!=0.5.9,<0.7.0,>=0.4.0->langchain-chroma) (1.2.2.post1)\n",
      "Requirement already satisfied: pydantic>=1.9 in c:\\users\\playdata\\appdata\\local\\anaconda3\\envs\\vectordb_env\\lib\\site-packages (from chromadb!=0.5.10,!=0.5.11,!=0.5.12,!=0.5.4,!=0.5.5,!=0.5.7,!=0.5.9,<0.7.0,>=0.4.0->langchain-chroma) (2.11.3)\n",
      "Requirement already satisfied: chroma-hnswlib==0.7.6 in c:\\users\\playdata\\appdata\\local\\anaconda3\\envs\\vectordb_env\\lib\\site-packages (from chromadb!=0.5.10,!=0.5.11,!=0.5.12,!=0.5.4,!=0.5.5,!=0.5.7,!=0.5.9,<0.7.0,>=0.4.0->langchain-chroma) (0.7.6)\n",
      "Requirement already satisfied: fastapi>=0.95.2 in c:\\users\\playdata\\appdata\\local\\anaconda3\\envs\\vectordb_env\\lib\\site-packages (from chromadb!=0.5.10,!=0.5.11,!=0.5.12,!=0.5.4,!=0.5.5,!=0.5.7,!=0.5.9,<0.7.0,>=0.4.0->langchain-chroma) (0.115.9)\n",
      "Requirement already satisfied: uvicorn>=0.18.3 in c:\\users\\playdata\\appdata\\local\\anaconda3\\envs\\vectordb_env\\lib\\site-packages (from uvicorn[standard]>=0.18.3->chromadb!=0.5.10,!=0.5.11,!=0.5.12,!=0.5.4,!=0.5.5,!=0.5.7,!=0.5.9,<0.7.0,>=0.4.0->langchain-chroma) (0.34.1)\n",
      "Requirement already satisfied: posthog>=2.4.0 in c:\\users\\playdata\\appdata\\local\\anaconda3\\envs\\vectordb_env\\lib\\site-packages (from chromadb!=0.5.10,!=0.5.11,!=0.5.12,!=0.5.4,!=0.5.5,!=0.5.7,!=0.5.9,<0.7.0,>=0.4.0->langchain-chroma) (3.25.0)\n",
      "Requirement already satisfied: typing_extensions>=4.5.0 in c:\\users\\playdata\\appdata\\local\\anaconda3\\envs\\vectordb_env\\lib\\site-packages (from chromadb!=0.5.10,!=0.5.11,!=0.5.12,!=0.5.4,!=0.5.5,!=0.5.7,!=0.5.9,<0.7.0,>=0.4.0->langchain-chroma) (4.13.2)\n",
      "Requirement already satisfied: onnxruntime>=1.14.1 in c:\\users\\playdata\\appdata\\local\\anaconda3\\envs\\vectordb_env\\lib\\site-packages (from chromadb!=0.5.10,!=0.5.11,!=0.5.12,!=0.5.4,!=0.5.5,!=0.5.7,!=0.5.9,<0.7.0,>=0.4.0->langchain-chroma) (1.19.2)\n",
      "Requirement already satisfied: opentelemetry-api>=1.2.0 in c:\\users\\playdata\\appdata\\local\\anaconda3\\envs\\vectordb_env\\lib\\site-packages (from chromadb!=0.5.10,!=0.5.11,!=0.5.12,!=0.5.4,!=0.5.5,!=0.5.7,!=0.5.9,<0.7.0,>=0.4.0->langchain-chroma) (1.32.1)\n",
      "Requirement already satisfied: opentelemetry-exporter-otlp-proto-grpc>=1.2.0 in c:\\users\\playdata\\appdata\\local\\anaconda3\\envs\\vectordb_env\\lib\\site-packages (from chromadb!=0.5.10,!=0.5.11,!=0.5.12,!=0.5.4,!=0.5.5,!=0.5.7,!=0.5.9,<0.7.0,>=0.4.0->langchain-chroma) (1.32.1)\n",
      "Requirement already satisfied: opentelemetry-instrumentation-fastapi>=0.41b0 in c:\\users\\playdata\\appdata\\local\\anaconda3\\envs\\vectordb_env\\lib\\site-packages (from chromadb!=0.5.10,!=0.5.11,!=0.5.12,!=0.5.4,!=0.5.5,!=0.5.7,!=0.5.9,<0.7.0,>=0.4.0->langchain-chroma) (0.53b1)\n",
      "Requirement already satisfied: opentelemetry-sdk>=1.2.0 in c:\\users\\playdata\\appdata\\local\\anaconda3\\envs\\vectordb_env\\lib\\site-packages (from chromadb!=0.5.10,!=0.5.11,!=0.5.12,!=0.5.4,!=0.5.5,!=0.5.7,!=0.5.9,<0.7.0,>=0.4.0->langchain-chroma) (1.32.1)\n",
      "Requirement already satisfied: tokenizers>=0.13.2 in c:\\users\\playdata\\appdata\\local\\anaconda3\\envs\\vectordb_env\\lib\\site-packages (from chromadb!=0.5.10,!=0.5.11,!=0.5.12,!=0.5.4,!=0.5.5,!=0.5.7,!=0.5.9,<0.7.0,>=0.4.0->langchain-chroma) (0.21.1)\n",
      "Requirement already satisfied: pypika>=0.48.9 in c:\\users\\playdata\\appdata\\local\\anaconda3\\envs\\vectordb_env\\lib\\site-packages (from chromadb!=0.5.10,!=0.5.11,!=0.5.12,!=0.5.4,!=0.5.5,!=0.5.7,!=0.5.9,<0.7.0,>=0.4.0->langchain-chroma) (0.48.9)\n",
      "Requirement already satisfied: tqdm>=4.65.0 in c:\\users\\playdata\\appdata\\local\\anaconda3\\envs\\vectordb_env\\lib\\site-packages (from chromadb!=0.5.10,!=0.5.11,!=0.5.12,!=0.5.4,!=0.5.5,!=0.5.7,!=0.5.9,<0.7.0,>=0.4.0->langchain-chroma) (4.67.1)\n",
      "Requirement already satisfied: overrides>=7.3.1 in c:\\users\\playdata\\appdata\\local\\anaconda3\\envs\\vectordb_env\\lib\\site-packages (from chromadb!=0.5.10,!=0.5.11,!=0.5.12,!=0.5.4,!=0.5.5,!=0.5.7,!=0.5.9,<0.7.0,>=0.4.0->langchain-chroma) (7.7.0)\n",
      "Requirement already satisfied: importlib-resources in c:\\users\\playdata\\appdata\\local\\anaconda3\\envs\\vectordb_env\\lib\\site-packages (from chromadb!=0.5.10,!=0.5.11,!=0.5.12,!=0.5.4,!=0.5.5,!=0.5.7,!=0.5.9,<0.7.0,>=0.4.0->langchain-chroma) (6.5.2)\n",
      "Requirement already satisfied: grpcio>=1.58.0 in c:\\users\\playdata\\appdata\\local\\anaconda3\\envs\\vectordb_env\\lib\\site-packages (from chromadb!=0.5.10,!=0.5.11,!=0.5.12,!=0.5.4,!=0.5.5,!=0.5.7,!=0.5.9,<0.7.0,>=0.4.0->langchain-chroma) (1.71.0)\n",
      "Requirement already satisfied: bcrypt>=4.0.1 in c:\\users\\playdata\\appdata\\local\\anaconda3\\envs\\vectordb_env\\lib\\site-packages (from chromadb!=0.5.10,!=0.5.11,!=0.5.12,!=0.5.4,!=0.5.5,!=0.5.7,!=0.5.9,<0.7.0,>=0.4.0->langchain-chroma) (4.3.0)\n",
      "Requirement already satisfied: typer>=0.9.0 in c:\\users\\playdata\\appdata\\local\\anaconda3\\envs\\vectordb_env\\lib\\site-packages (from chromadb!=0.5.10,!=0.5.11,!=0.5.12,!=0.5.4,!=0.5.5,!=0.5.7,!=0.5.9,<0.7.0,>=0.4.0->langchain-chroma) (0.15.2)\n",
      "Requirement already satisfied: kubernetes>=28.1.0 in c:\\users\\playdata\\appdata\\local\\anaconda3\\envs\\vectordb_env\\lib\\site-packages (from chromadb!=0.5.10,!=0.5.11,!=0.5.12,!=0.5.4,!=0.5.5,!=0.5.7,!=0.5.9,<0.7.0,>=0.4.0->langchain-chroma) (32.0.1)\n",
      "Requirement already satisfied: tenacity>=8.2.3 in c:\\users\\playdata\\appdata\\local\\anaconda3\\envs\\vectordb_env\\lib\\site-packages (from chromadb!=0.5.10,!=0.5.11,!=0.5.12,!=0.5.4,!=0.5.5,!=0.5.7,!=0.5.9,<0.7.0,>=0.4.0->langchain-chroma) (9.1.2)\n",
      "Requirement already satisfied: PyYAML>=6.0.0 in c:\\users\\playdata\\appdata\\local\\anaconda3\\envs\\vectordb_env\\lib\\site-packages (from chromadb!=0.5.10,!=0.5.11,!=0.5.12,!=0.5.4,!=0.5.5,!=0.5.7,!=0.5.9,<0.7.0,>=0.4.0->langchain-chroma) (6.0.2)\n",
      "Requirement already satisfied: mmh3>=4.0.1 in c:\\users\\playdata\\appdata\\local\\anaconda3\\envs\\vectordb_env\\lib\\site-packages (from chromadb!=0.5.10,!=0.5.11,!=0.5.12,!=0.5.4,!=0.5.5,!=0.5.7,!=0.5.9,<0.7.0,>=0.4.0->langchain-chroma) (5.1.0)\n",
      "Requirement already satisfied: orjson>=3.9.12 in c:\\users\\playdata\\appdata\\local\\anaconda3\\envs\\vectordb_env\\lib\\site-packages (from chromadb!=0.5.10,!=0.5.11,!=0.5.12,!=0.5.4,!=0.5.5,!=0.5.7,!=0.5.9,<0.7.0,>=0.4.0->langchain-chroma) (3.10.16)\n",
      "Requirement already satisfied: httpx>=0.27.0 in c:\\users\\playdata\\appdata\\local\\anaconda3\\envs\\vectordb_env\\lib\\site-packages (from chromadb!=0.5.10,!=0.5.11,!=0.5.12,!=0.5.4,!=0.5.5,!=0.5.7,!=0.5.9,<0.7.0,>=0.4.0->langchain-chroma) (0.28.1)\n",
      "Requirement already satisfied: rich>=10.11.0 in c:\\users\\playdata\\appdata\\local\\anaconda3\\envs\\vectordb_env\\lib\\site-packages (from chromadb!=0.5.10,!=0.5.11,!=0.5.12,!=0.5.4,!=0.5.5,!=0.5.7,!=0.5.9,<0.7.0,>=0.4.0->langchain-chroma) (14.0.0)\n",
      "Requirement already satisfied: langsmith<0.4,>=0.1.125 in c:\\users\\playdata\\appdata\\local\\anaconda3\\envs\\vectordb_env\\lib\\site-packages (from langchain-core>=0.3.52->langchain-chroma) (0.3.33)\n",
      "Requirement already satisfied: jsonpatch<2.0,>=1.33 in c:\\users\\playdata\\appdata\\local\\anaconda3\\envs\\vectordb_env\\lib\\site-packages (from langchain-core>=0.3.52->langchain-chroma) (1.33)\n",
      "Requirement already satisfied: packaging<25,>=23.2 in c:\\users\\playdata\\appdata\\local\\anaconda3\\envs\\vectordb_env\\lib\\site-packages (from langchain-core>=0.3.52->langchain-chroma) (24.2)\n",
      "Requirement already satisfied: pyproject_hooks in c:\\users\\playdata\\appdata\\local\\anaconda3\\envs\\vectordb_env\\lib\\site-packages (from build>=1.0.3->chromadb!=0.5.10,!=0.5.11,!=0.5.12,!=0.5.4,!=0.5.5,!=0.5.7,!=0.5.9,<0.7.0,>=0.4.0->langchain-chroma) (1.2.0)\n",
      "Requirement already satisfied: colorama in c:\\users\\playdata\\appdata\\local\\anaconda3\\envs\\vectordb_env\\lib\\site-packages (from build>=1.0.3->chromadb!=0.5.10,!=0.5.11,!=0.5.12,!=0.5.4,!=0.5.5,!=0.5.7,!=0.5.9,<0.7.0,>=0.4.0->langchain-chroma) (0.4.6)\n",
      "Requirement already satisfied: importlib-metadata>=4.6 in c:\\users\\playdata\\appdata\\local\\anaconda3\\envs\\vectordb_env\\lib\\site-packages (from build>=1.0.3->chromadb!=0.5.10,!=0.5.11,!=0.5.12,!=0.5.4,!=0.5.5,!=0.5.7,!=0.5.9,<0.7.0,>=0.4.0->langchain-chroma) (8.6.1)\n",
      "Requirement already satisfied: tomli>=1.1.0 in c:\\users\\playdata\\appdata\\local\\anaconda3\\envs\\vectordb_env\\lib\\site-packages (from build>=1.0.3->chromadb!=0.5.10,!=0.5.11,!=0.5.12,!=0.5.4,!=0.5.5,!=0.5.7,!=0.5.9,<0.7.0,>=0.4.0->langchain-chroma) (2.2.1)\n",
      "Requirement already satisfied: starlette<0.46.0,>=0.40.0 in c:\\users\\playdata\\appdata\\local\\anaconda3\\envs\\vectordb_env\\lib\\site-packages (from fastapi>=0.95.2->chromadb!=0.5.10,!=0.5.11,!=0.5.12,!=0.5.4,!=0.5.5,!=0.5.7,!=0.5.9,<0.7.0,>=0.4.0->langchain-chroma) (0.45.3)\n",
      "Requirement already satisfied: anyio in c:\\users\\playdata\\appdata\\local\\anaconda3\\envs\\vectordb_env\\lib\\site-packages (from httpx>=0.27.0->chromadb!=0.5.10,!=0.5.11,!=0.5.12,!=0.5.4,!=0.5.5,!=0.5.7,!=0.5.9,<0.7.0,>=0.4.0->langchain-chroma) (4.9.0)\n",
      "Requirement already satisfied: certifi in c:\\users\\playdata\\appdata\\local\\anaconda3\\envs\\vectordb_env\\lib\\site-packages (from httpx>=0.27.0->chromadb!=0.5.10,!=0.5.11,!=0.5.12,!=0.5.4,!=0.5.5,!=0.5.7,!=0.5.9,<0.7.0,>=0.4.0->langchain-chroma) (2025.1.31)\n",
      "Requirement already satisfied: httpcore==1.* in c:\\users\\playdata\\appdata\\local\\anaconda3\\envs\\vectordb_env\\lib\\site-packages (from httpx>=0.27.0->chromadb!=0.5.10,!=0.5.11,!=0.5.12,!=0.5.4,!=0.5.5,!=0.5.7,!=0.5.9,<0.7.0,>=0.4.0->langchain-chroma) (1.0.8)\n",
      "Requirement already satisfied: idna in c:\\users\\playdata\\appdata\\local\\anaconda3\\envs\\vectordb_env\\lib\\site-packages (from httpx>=0.27.0->chromadb!=0.5.10,!=0.5.11,!=0.5.12,!=0.5.4,!=0.5.5,!=0.5.7,!=0.5.9,<0.7.0,>=0.4.0->langchain-chroma) (3.10)\n",
      "Requirement already satisfied: h11<0.15,>=0.13 in c:\\users\\playdata\\appdata\\local\\anaconda3\\envs\\vectordb_env\\lib\\site-packages (from httpcore==1.*->httpx>=0.27.0->chromadb!=0.5.10,!=0.5.11,!=0.5.12,!=0.5.4,!=0.5.5,!=0.5.7,!=0.5.9,<0.7.0,>=0.4.0->langchain-chroma) (0.14.0)\n",
      "Requirement already satisfied: jsonpointer>=1.9 in c:\\users\\playdata\\appdata\\local\\anaconda3\\envs\\vectordb_env\\lib\\site-packages (from jsonpatch<2.0,>=1.33->langchain-core>=0.3.52->langchain-chroma) (3.0.0)\n",
      "Requirement already satisfied: six>=1.9.0 in c:\\users\\playdata\\appdata\\local\\anaconda3\\envs\\vectordb_env\\lib\\site-packages (from kubernetes>=28.1.0->chromadb!=0.5.10,!=0.5.11,!=0.5.12,!=0.5.4,!=0.5.5,!=0.5.7,!=0.5.9,<0.7.0,>=0.4.0->langchain-chroma) (1.17.0)\n",
      "Requirement already satisfied: python-dateutil>=2.5.3 in c:\\users\\playdata\\appdata\\local\\anaconda3\\envs\\vectordb_env\\lib\\site-packages (from kubernetes>=28.1.0->chromadb!=0.5.10,!=0.5.11,!=0.5.12,!=0.5.4,!=0.5.5,!=0.5.7,!=0.5.9,<0.7.0,>=0.4.0->langchain-chroma) (2.9.0.post0)\n",
      "Requirement already satisfied: google-auth>=1.0.1 in c:\\users\\playdata\\appdata\\local\\anaconda3\\envs\\vectordb_env\\lib\\site-packages (from kubernetes>=28.1.0->chromadb!=0.5.10,!=0.5.11,!=0.5.12,!=0.5.4,!=0.5.5,!=0.5.7,!=0.5.9,<0.7.0,>=0.4.0->langchain-chroma) (2.39.0)\n",
      "Requirement already satisfied: websocket-client!=0.40.0,!=0.41.*,!=0.42.*,>=0.32.0 in c:\\users\\playdata\\appdata\\local\\anaconda3\\envs\\vectordb_env\\lib\\site-packages (from kubernetes>=28.1.0->chromadb!=0.5.10,!=0.5.11,!=0.5.12,!=0.5.4,!=0.5.5,!=0.5.7,!=0.5.9,<0.7.0,>=0.4.0->langchain-chroma) (1.8.0)\n",
      "Requirement already satisfied: requests in c:\\users\\playdata\\appdata\\local\\anaconda3\\envs\\vectordb_env\\lib\\site-packages (from kubernetes>=28.1.0->chromadb!=0.5.10,!=0.5.11,!=0.5.12,!=0.5.4,!=0.5.5,!=0.5.7,!=0.5.9,<0.7.0,>=0.4.0->langchain-chroma) (2.32.3)\n",
      "Requirement already satisfied: requests-oauthlib in c:\\users\\playdata\\appdata\\local\\anaconda3\\envs\\vectordb_env\\lib\\site-packages (from kubernetes>=28.1.0->chromadb!=0.5.10,!=0.5.11,!=0.5.12,!=0.5.4,!=0.5.5,!=0.5.7,!=0.5.9,<0.7.0,>=0.4.0->langchain-chroma) (2.0.0)\n",
      "Requirement already satisfied: oauthlib>=3.2.2 in c:\\users\\playdata\\appdata\\local\\anaconda3\\envs\\vectordb_env\\lib\\site-packages (from kubernetes>=28.1.0->chromadb!=0.5.10,!=0.5.11,!=0.5.12,!=0.5.4,!=0.5.5,!=0.5.7,!=0.5.9,<0.7.0,>=0.4.0->langchain-chroma) (3.2.2)\n",
      "Requirement already satisfied: urllib3>=1.24.2 in c:\\users\\playdata\\appdata\\local\\anaconda3\\envs\\vectordb_env\\lib\\site-packages (from kubernetes>=28.1.0->chromadb!=0.5.10,!=0.5.11,!=0.5.12,!=0.5.4,!=0.5.5,!=0.5.7,!=0.5.9,<0.7.0,>=0.4.0->langchain-chroma) (2.4.0)\n",
      "Requirement already satisfied: durationpy>=0.7 in c:\\users\\playdata\\appdata\\local\\anaconda3\\envs\\vectordb_env\\lib\\site-packages (from kubernetes>=28.1.0->chromadb!=0.5.10,!=0.5.11,!=0.5.12,!=0.5.4,!=0.5.5,!=0.5.7,!=0.5.9,<0.7.0,>=0.4.0->langchain-chroma) (0.9)\n",
      "Requirement already satisfied: requests-toolbelt<2.0.0,>=1.0.0 in c:\\users\\playdata\\appdata\\local\\anaconda3\\envs\\vectordb_env\\lib\\site-packages (from langsmith<0.4,>=0.1.125->langchain-core>=0.3.52->langchain-chroma) (1.0.0)\n",
      "Requirement already satisfied: zstandard<0.24.0,>=0.23.0 in c:\\users\\playdata\\appdata\\local\\anaconda3\\envs\\vectordb_env\\lib\\site-packages (from langsmith<0.4,>=0.1.125->langchain-core>=0.3.52->langchain-chroma) (0.23.0)\n",
      "Requirement already satisfied: coloredlogs in c:\\users\\playdata\\appdata\\local\\anaconda3\\envs\\vectordb_env\\lib\\site-packages (from onnxruntime>=1.14.1->chromadb!=0.5.10,!=0.5.11,!=0.5.12,!=0.5.4,!=0.5.5,!=0.5.7,!=0.5.9,<0.7.0,>=0.4.0->langchain-chroma) (15.0.1)\n",
      "Requirement already satisfied: flatbuffers in c:\\users\\playdata\\appdata\\local\\anaconda3\\envs\\vectordb_env\\lib\\site-packages (from onnxruntime>=1.14.1->chromadb!=0.5.10,!=0.5.11,!=0.5.12,!=0.5.4,!=0.5.5,!=0.5.7,!=0.5.9,<0.7.0,>=0.4.0->langchain-chroma) (25.2.10)\n",
      "Requirement already satisfied: protobuf in c:\\users\\playdata\\appdata\\local\\anaconda3\\envs\\vectordb_env\\lib\\site-packages (from onnxruntime>=1.14.1->chromadb!=0.5.10,!=0.5.11,!=0.5.12,!=0.5.4,!=0.5.5,!=0.5.7,!=0.5.9,<0.7.0,>=0.4.0->langchain-chroma) (5.29.4)\n",
      "Requirement already satisfied: sympy in c:\\users\\playdata\\appdata\\local\\anaconda3\\envs\\vectordb_env\\lib\\site-packages (from onnxruntime>=1.14.1->chromadb!=0.5.10,!=0.5.11,!=0.5.12,!=0.5.4,!=0.5.5,!=0.5.7,!=0.5.9,<0.7.0,>=0.4.0->langchain-chroma) (1.13.1)\n",
      "Requirement already satisfied: deprecated>=1.2.6 in c:\\users\\playdata\\appdata\\local\\anaconda3\\envs\\vectordb_env\\lib\\site-packages (from opentelemetry-api>=1.2.0->chromadb!=0.5.10,!=0.5.11,!=0.5.12,!=0.5.4,!=0.5.5,!=0.5.7,!=0.5.9,<0.7.0,>=0.4.0->langchain-chroma) (1.2.18)\n",
      "Requirement already satisfied: googleapis-common-protos~=1.52 in c:\\users\\playdata\\appdata\\local\\anaconda3\\envs\\vectordb_env\\lib\\site-packages (from opentelemetry-exporter-otlp-proto-grpc>=1.2.0->chromadb!=0.5.10,!=0.5.11,!=0.5.12,!=0.5.4,!=0.5.5,!=0.5.7,!=0.5.9,<0.7.0,>=0.4.0->langchain-chroma) (1.70.0)\n",
      "Requirement already satisfied: opentelemetry-exporter-otlp-proto-common==1.32.1 in c:\\users\\playdata\\appdata\\local\\anaconda3\\envs\\vectordb_env\\lib\\site-packages (from opentelemetry-exporter-otlp-proto-grpc>=1.2.0->chromadb!=0.5.10,!=0.5.11,!=0.5.12,!=0.5.4,!=0.5.5,!=0.5.7,!=0.5.9,<0.7.0,>=0.4.0->langchain-chroma) (1.32.1)\n",
      "Requirement already satisfied: opentelemetry-proto==1.32.1 in c:\\users\\playdata\\appdata\\local\\anaconda3\\envs\\vectordb_env\\lib\\site-packages (from opentelemetry-exporter-otlp-proto-grpc>=1.2.0->chromadb!=0.5.10,!=0.5.11,!=0.5.12,!=0.5.4,!=0.5.5,!=0.5.7,!=0.5.9,<0.7.0,>=0.4.0->langchain-chroma) (1.32.1)\n",
      "Requirement already satisfied: opentelemetry-instrumentation-asgi==0.53b1 in c:\\users\\playdata\\appdata\\local\\anaconda3\\envs\\vectordb_env\\lib\\site-packages (from opentelemetry-instrumentation-fastapi>=0.41b0->chromadb!=0.5.10,!=0.5.11,!=0.5.12,!=0.5.4,!=0.5.5,!=0.5.7,!=0.5.9,<0.7.0,>=0.4.0->langchain-chroma) (0.53b1)\n",
      "Requirement already satisfied: opentelemetry-instrumentation==0.53b1 in c:\\users\\playdata\\appdata\\local\\anaconda3\\envs\\vectordb_env\\lib\\site-packages (from opentelemetry-instrumentation-fastapi>=0.41b0->chromadb!=0.5.10,!=0.5.11,!=0.5.12,!=0.5.4,!=0.5.5,!=0.5.7,!=0.5.9,<0.7.0,>=0.4.0->langchain-chroma) (0.53b1)\n",
      "Requirement already satisfied: opentelemetry-semantic-conventions==0.53b1 in c:\\users\\playdata\\appdata\\local\\anaconda3\\envs\\vectordb_env\\lib\\site-packages (from opentelemetry-instrumentation-fastapi>=0.41b0->chromadb!=0.5.10,!=0.5.11,!=0.5.12,!=0.5.4,!=0.5.5,!=0.5.7,!=0.5.9,<0.7.0,>=0.4.0->langchain-chroma) (0.53b1)\n",
      "Requirement already satisfied: opentelemetry-util-http==0.53b1 in c:\\users\\playdata\\appdata\\local\\anaconda3\\envs\\vectordb_env\\lib\\site-packages (from opentelemetry-instrumentation-fastapi>=0.41b0->chromadb!=0.5.10,!=0.5.11,!=0.5.12,!=0.5.4,!=0.5.5,!=0.5.7,!=0.5.9,<0.7.0,>=0.4.0->langchain-chroma) (0.53b1)\n",
      "Requirement already satisfied: wrapt<2.0.0,>=1.0.0 in c:\\users\\playdata\\appdata\\local\\anaconda3\\envs\\vectordb_env\\lib\\site-packages (from opentelemetry-instrumentation==0.53b1->opentelemetry-instrumentation-fastapi>=0.41b0->chromadb!=0.5.10,!=0.5.11,!=0.5.12,!=0.5.4,!=0.5.5,!=0.5.7,!=0.5.9,<0.7.0,>=0.4.0->langchain-chroma) (1.17.2)\n",
      "Requirement already satisfied: asgiref~=3.0 in c:\\users\\playdata\\appdata\\local\\anaconda3\\envs\\vectordb_env\\lib\\site-packages (from opentelemetry-instrumentation-asgi==0.53b1->opentelemetry-instrumentation-fastapi>=0.41b0->chromadb!=0.5.10,!=0.5.11,!=0.5.12,!=0.5.4,!=0.5.5,!=0.5.7,!=0.5.9,<0.7.0,>=0.4.0->langchain-chroma) (3.8.1)\n",
      "Requirement already satisfied: monotonic>=1.5 in c:\\users\\playdata\\appdata\\local\\anaconda3\\envs\\vectordb_env\\lib\\site-packages (from posthog>=2.4.0->chromadb!=0.5.10,!=0.5.11,!=0.5.12,!=0.5.4,!=0.5.5,!=0.5.7,!=0.5.9,<0.7.0,>=0.4.0->langchain-chroma) (1.6)\n",
      "Requirement already satisfied: backoff>=1.10.0 in c:\\users\\playdata\\appdata\\local\\anaconda3\\envs\\vectordb_env\\lib\\site-packages (from posthog>=2.4.0->chromadb!=0.5.10,!=0.5.11,!=0.5.12,!=0.5.4,!=0.5.5,!=0.5.7,!=0.5.9,<0.7.0,>=0.4.0->langchain-chroma) (2.2.1)\n",
      "Requirement already satisfied: distro>=1.5.0 in c:\\users\\playdata\\appdata\\local\\anaconda3\\envs\\vectordb_env\\lib\\site-packages (from posthog>=2.4.0->chromadb!=0.5.10,!=0.5.11,!=0.5.12,!=0.5.4,!=0.5.5,!=0.5.7,!=0.5.9,<0.7.0,>=0.4.0->langchain-chroma) (1.9.0)\n",
      "Requirement already satisfied: annotated-types>=0.6.0 in c:\\users\\playdata\\appdata\\local\\anaconda3\\envs\\vectordb_env\\lib\\site-packages (from pydantic>=1.9->chromadb!=0.5.10,!=0.5.11,!=0.5.12,!=0.5.4,!=0.5.5,!=0.5.7,!=0.5.9,<0.7.0,>=0.4.0->langchain-chroma) (0.7.0)\n",
      "Requirement already satisfied: pydantic-core==2.33.1 in c:\\users\\playdata\\appdata\\local\\anaconda3\\envs\\vectordb_env\\lib\\site-packages (from pydantic>=1.9->chromadb!=0.5.10,!=0.5.11,!=0.5.12,!=0.5.4,!=0.5.5,!=0.5.7,!=0.5.9,<0.7.0,>=0.4.0->langchain-chroma) (2.33.1)\n",
      "Requirement already satisfied: typing-inspection>=0.4.0 in c:\\users\\playdata\\appdata\\local\\anaconda3\\envs\\vectordb_env\\lib\\site-packages (from pydantic>=1.9->chromadb!=0.5.10,!=0.5.11,!=0.5.12,!=0.5.4,!=0.5.5,!=0.5.7,!=0.5.9,<0.7.0,>=0.4.0->langchain-chroma) (0.4.0)\n",
      "Requirement already satisfied: markdown-it-py>=2.2.0 in c:\\users\\playdata\\appdata\\local\\anaconda3\\envs\\vectordb_env\\lib\\site-packages (from rich>=10.11.0->chromadb!=0.5.10,!=0.5.11,!=0.5.12,!=0.5.4,!=0.5.5,!=0.5.7,!=0.5.9,<0.7.0,>=0.4.0->langchain-chroma) (3.0.0)\n",
      "Requirement already satisfied: pygments<3.0.0,>=2.13.0 in c:\\users\\playdata\\appdata\\local\\anaconda3\\envs\\vectordb_env\\lib\\site-packages (from rich>=10.11.0->chromadb!=0.5.10,!=0.5.11,!=0.5.12,!=0.5.4,!=0.5.5,!=0.5.7,!=0.5.9,<0.7.0,>=0.4.0->langchain-chroma) (2.19.1)\n",
      "Requirement already satisfied: huggingface-hub<1.0,>=0.16.4 in c:\\users\\playdata\\appdata\\local\\anaconda3\\envs\\vectordb_env\\lib\\site-packages (from tokenizers>=0.13.2->chromadb!=0.5.10,!=0.5.11,!=0.5.12,!=0.5.4,!=0.5.5,!=0.5.7,!=0.5.9,<0.7.0,>=0.4.0->langchain-chroma) (0.30.2)\n",
      "Requirement already satisfied: click>=8.0.0 in c:\\users\\playdata\\appdata\\local\\anaconda3\\envs\\vectordb_env\\lib\\site-packages (from typer>=0.9.0->chromadb!=0.5.10,!=0.5.11,!=0.5.12,!=0.5.4,!=0.5.5,!=0.5.7,!=0.5.9,<0.7.0,>=0.4.0->langchain-chroma) (8.1.8)\n",
      "Requirement already satisfied: shellingham>=1.3.0 in c:\\users\\playdata\\appdata\\local\\anaconda3\\envs\\vectordb_env\\lib\\site-packages (from typer>=0.9.0->chromadb!=0.5.10,!=0.5.11,!=0.5.12,!=0.5.4,!=0.5.5,!=0.5.7,!=0.5.9,<0.7.0,>=0.4.0->langchain-chroma) (1.5.4)\n",
      "Requirement already satisfied: httptools>=0.6.3 in c:\\users\\playdata\\appdata\\local\\anaconda3\\envs\\vectordb_env\\lib\\site-packages (from uvicorn[standard]>=0.18.3->chromadb!=0.5.10,!=0.5.11,!=0.5.12,!=0.5.4,!=0.5.5,!=0.5.7,!=0.5.9,<0.7.0,>=0.4.0->langchain-chroma) (0.6.4)\n",
      "Requirement already satisfied: python-dotenv>=0.13 in c:\\users\\playdata\\appdata\\local\\anaconda3\\envs\\vectordb_env\\lib\\site-packages (from uvicorn[standard]>=0.18.3->chromadb!=0.5.10,!=0.5.11,!=0.5.12,!=0.5.4,!=0.5.5,!=0.5.7,!=0.5.9,<0.7.0,>=0.4.0->langchain-chroma) (1.1.0)\n",
      "Requirement already satisfied: watchfiles>=0.13 in c:\\users\\playdata\\appdata\\local\\anaconda3\\envs\\vectordb_env\\lib\\site-packages (from uvicorn[standard]>=0.18.3->chromadb!=0.5.10,!=0.5.11,!=0.5.12,!=0.5.4,!=0.5.5,!=0.5.7,!=0.5.9,<0.7.0,>=0.4.0->langchain-chroma) (1.0.5)\n",
      "Requirement already satisfied: websockets>=10.4 in c:\\users\\playdata\\appdata\\local\\anaconda3\\envs\\vectordb_env\\lib\\site-packages (from uvicorn[standard]>=0.18.3->chromadb!=0.5.10,!=0.5.11,!=0.5.12,!=0.5.4,!=0.5.5,!=0.5.7,!=0.5.9,<0.7.0,>=0.4.0->langchain-chroma) (15.0.1)\n",
      "Requirement already satisfied: zipp>=3.1.0 in c:\\users\\playdata\\appdata\\local\\anaconda3\\envs\\vectordb_env\\lib\\site-packages (from importlib-resources->chromadb!=0.5.10,!=0.5.11,!=0.5.12,!=0.5.4,!=0.5.5,!=0.5.7,!=0.5.9,<0.7.0,>=0.4.0->langchain-chroma) (3.21.0)\n",
      "Requirement already satisfied: cachetools<6.0,>=2.0.0 in c:\\users\\playdata\\appdata\\local\\anaconda3\\envs\\vectordb_env\\lib\\site-packages (from google-auth>=1.0.1->kubernetes>=28.1.0->chromadb!=0.5.10,!=0.5.11,!=0.5.12,!=0.5.4,!=0.5.5,!=0.5.7,!=0.5.9,<0.7.0,>=0.4.0->langchain-chroma) (5.5.2)\n",
      "Requirement already satisfied: pyasn1-modules>=0.2.1 in c:\\users\\playdata\\appdata\\local\\anaconda3\\envs\\vectordb_env\\lib\\site-packages (from google-auth>=1.0.1->kubernetes>=28.1.0->chromadb!=0.5.10,!=0.5.11,!=0.5.12,!=0.5.4,!=0.5.5,!=0.5.7,!=0.5.9,<0.7.0,>=0.4.0->langchain-chroma) (0.4.2)\n",
      "Requirement already satisfied: rsa<5,>=3.1.4 in c:\\users\\playdata\\appdata\\local\\anaconda3\\envs\\vectordb_env\\lib\\site-packages (from google-auth>=1.0.1->kubernetes>=28.1.0->chromadb!=0.5.10,!=0.5.11,!=0.5.12,!=0.5.4,!=0.5.5,!=0.5.7,!=0.5.9,<0.7.0,>=0.4.0->langchain-chroma) (4.9.1)\n",
      "Requirement already satisfied: filelock in c:\\users\\playdata\\appdata\\local\\anaconda3\\envs\\vectordb_env\\lib\\site-packages (from huggingface-hub<1.0,>=0.16.4->tokenizers>=0.13.2->chromadb!=0.5.10,!=0.5.11,!=0.5.12,!=0.5.4,!=0.5.5,!=0.5.7,!=0.5.9,<0.7.0,>=0.4.0->langchain-chroma) (3.18.0)\n",
      "Requirement already satisfied: fsspec>=2023.5.0 in c:\\users\\playdata\\appdata\\local\\anaconda3\\envs\\vectordb_env\\lib\\site-packages (from huggingface-hub<1.0,>=0.16.4->tokenizers>=0.13.2->chromadb!=0.5.10,!=0.5.11,!=0.5.12,!=0.5.4,!=0.5.5,!=0.5.7,!=0.5.9,<0.7.0,>=0.4.0->langchain-chroma) (2024.12.0)\n",
      "Requirement already satisfied: mdurl~=0.1 in c:\\users\\playdata\\appdata\\local\\anaconda3\\envs\\vectordb_env\\lib\\site-packages (from markdown-it-py>=2.2.0->rich>=10.11.0->chromadb!=0.5.10,!=0.5.11,!=0.5.12,!=0.5.4,!=0.5.5,!=0.5.7,!=0.5.9,<0.7.0,>=0.4.0->langchain-chroma) (0.1.2)\n",
      "Requirement already satisfied: charset-normalizer<4,>=2 in c:\\users\\playdata\\appdata\\local\\anaconda3\\envs\\vectordb_env\\lib\\site-packages (from requests->kubernetes>=28.1.0->chromadb!=0.5.10,!=0.5.11,!=0.5.12,!=0.5.4,!=0.5.5,!=0.5.7,!=0.5.9,<0.7.0,>=0.4.0->langchain-chroma) (3.4.1)\n",
      "Requirement already satisfied: exceptiongroup>=1.0.2 in c:\\users\\playdata\\appdata\\local\\anaconda3\\envs\\vectordb_env\\lib\\site-packages (from anyio->httpx>=0.27.0->chromadb!=0.5.10,!=0.5.11,!=0.5.12,!=0.5.4,!=0.5.5,!=0.5.7,!=0.5.9,<0.7.0,>=0.4.0->langchain-chroma) (1.2.2)\n",
      "Requirement already satisfied: sniffio>=1.1 in c:\\users\\playdata\\appdata\\local\\anaconda3\\envs\\vectordb_env\\lib\\site-packages (from anyio->httpx>=0.27.0->chromadb!=0.5.10,!=0.5.11,!=0.5.12,!=0.5.4,!=0.5.5,!=0.5.7,!=0.5.9,<0.7.0,>=0.4.0->langchain-chroma) (1.3.1)\n",
      "Requirement already satisfied: humanfriendly>=9.1 in c:\\users\\playdata\\appdata\\local\\anaconda3\\envs\\vectordb_env\\lib\\site-packages (from coloredlogs->onnxruntime>=1.14.1->chromadb!=0.5.10,!=0.5.11,!=0.5.12,!=0.5.4,!=0.5.5,!=0.5.7,!=0.5.9,<0.7.0,>=0.4.0->langchain-chroma) (10.0)\n",
      "Requirement already satisfied: mpmath<1.4,>=1.1.0 in c:\\users\\playdata\\appdata\\local\\anaconda3\\envs\\vectordb_env\\lib\\site-packages (from sympy->onnxruntime>=1.14.1->chromadb!=0.5.10,!=0.5.11,!=0.5.12,!=0.5.4,!=0.5.5,!=0.5.7,!=0.5.9,<0.7.0,>=0.4.0->langchain-chroma) (1.3.0)\n",
      "Requirement already satisfied: pyreadline3 in c:\\users\\playdata\\appdata\\local\\anaconda3\\envs\\vectordb_env\\lib\\site-packages (from humanfriendly>=9.1->coloredlogs->onnxruntime>=1.14.1->chromadb!=0.5.10,!=0.5.11,!=0.5.12,!=0.5.4,!=0.5.5,!=0.5.7,!=0.5.9,<0.7.0,>=0.4.0->langchain-chroma) (3.5.4)\n",
      "Requirement already satisfied: pyasn1<0.7.0,>=0.6.1 in c:\\users\\playdata\\appdata\\local\\anaconda3\\envs\\vectordb_env\\lib\\site-packages (from pyasn1-modules>=0.2.1->google-auth>=1.0.1->kubernetes>=28.1.0->chromadb!=0.5.10,!=0.5.11,!=0.5.12,!=0.5.4,!=0.5.5,!=0.5.7,!=0.5.9,<0.7.0,>=0.4.0->langchain-chroma) (0.6.1)\n",
      "Downloading langchain_chroma-0.2.3-py3-none-any.whl (11 kB)\n",
      "Downloading chromadb-0.6.3-py3-none-any.whl (611 kB)\n",
      "   ---------------------------------------- 0.0/611.1 kB ? eta -:--:--\n",
      "   --------------------------------------- 611.1/611.1 kB 21.8 MB/s eta 0:00:00\n",
      "Installing collected packages: chromadb, langchain-chroma\n",
      "  Attempting uninstall: chromadb\n",
      "    Found existing installation: chromadb 1.0.5\n",
      "    Uninstalling chromadb-1.0.5:\n",
      "      Successfully uninstalled chromadb-1.0.5\n",
      "Successfully installed chromadb-0.6.3 langchain-chroma-0.2.3\n"
     ]
    }
   ],
   "source": [
    "!pip install langchain-chroma"
   ]
  },
  {
   "cell_type": "code",
   "execution_count": null,
   "id": "440e7d77",
   "metadata": {},
   "outputs": [],
   "source": [
    "from langchain_chroma.vectorstores import Chroma\n",
    "\n",
    "# 벡터 스토어 \n",
    "vector_store = Chroma.from_documents(docs, embedding_model) "
   ]
  },
  {
   "cell_type": "markdown",
   "id": "2fe39472",
   "metadata": {},
   "source": [
    "- Retriever를 사용한 유사도 기반 검색"
   ]
  },
  {
   "cell_type": "code",
   "execution_count": 23,
   "id": "9f413cdd",
   "metadata": {},
   "outputs": [
    {
     "data": {
      "text/plain": [
       "[(Document(id='495f7275-7993-44f7-818f-b460eb397aed', metadata={'author': 'PC', 'creationdate': '2023-09-12T11:20:24+09:00', 'creator': 'Microsoft® PowerPoint® 2013', 'moddate': '2023-09-12T11:20:24+09:00', 'page': 1, 'page_label': '2', 'producer': 'Microsoft® PowerPoint® 2013', 'source': './data/snow-white.pdf', 'title': 'PowerPoint 프레젠테이션', 'total_pages': 6}, page_content='거울아. 이 세상에서 누가 가장 아름답니?” “왕비님도 아름답지만 백설공주가 더 아름답습니다.” 화가 난 왕비는 사냥꾼을 불렀어요. 왕비는 사냥꾼에게 백설공주를 죽이라고'),\n",
       "  0.8290044069290161),\n",
       " (Document(id='e38d9380-af2b-4936-8704-fd457df68940', metadata={'author': 'PC', 'creationdate': '2023-09-12T11:20:24+09:00', 'creator': 'Microsoft® PowerPoint® 2013', 'moddate': '2023-09-12T11:20:24+09:00', 'page': 1, 'page_label': '2', 'producer': 'Microsoft® PowerPoint® 2013', 'source': './data/snow-white.pdf', 'title': 'PowerPoint 프레젠테이션', 'total_pages': 6}, page_content='거울아. 이 세상에서 누가 가장 아름답니?” “왕비님도 아름답지만 백설공주가 더 아름답습니다.” 화가 난 왕비는 사냥꾼을 불렀어요. 왕비는 사냥꾼에게 백설공주를 죽이라고'),\n",
       "  0.829206109046936),\n",
       " (Document(id='59cc5d04-7ceb-42d8-9072-b66c4c22f297', metadata={'author': 'PC', 'creationdate': '2023-09-12T11:20:24+09:00', 'creator': 'Microsoft® PowerPoint® 2013', 'moddate': '2023-09-12T11:20:24+09:00', 'page': 2, 'page_label': '3', 'producer': 'Microsoft® PowerPoint® 2013', 'source': './data/snow-white.pdf', 'title': 'PowerPoint 프레젠테이션', 'total_pages': 6}, page_content='왕비는 다시 요술 거울에게 누가 가장 아름다운 지 물었어요. “왕비님도 아름답지만 백설공주님이 천배는 더 아름답습니다.” “사냥꾼이 날 속였구나. 내가 직접 해치우겠어!”'),\n",
       "  0.8316665887832642),\n",
       " (Document(id='dd5618ff-0e57-4fa8-bc5c-1a623900eb9f', metadata={'author': 'PC', 'creationdate': '2023-09-12T11:20:24+09:00', 'creator': 'Microsoft® PowerPoint® 2013', 'moddate': '2023-09-12T11:20:24+09:00', 'page': 2, 'page_label': '3', 'producer': 'Microsoft® PowerPoint® 2013', 'source': './data/snow-white.pdf', 'title': 'PowerPoint 프레젠테이션', 'total_pages': 6}, page_content='왕비는 다시 요술 거울에게 누가 가장 아름다운 지 물었어요. “왕비님도 아름답지만 백설공주님이 천배는 더 아름답습니다.” “사냥꾼이 날 속였구나. 내가 직접 해치우겠어!”'),\n",
       "  0.8329658508300781)]"
      ]
     },
     "execution_count": 23,
     "metadata": {},
     "output_type": "execute_result"
    }
   ],
   "source": [
    "query = '백설공주와 왕비 중 누가 더 아름답나요?'\n",
    "\n",
    "# vector store  직접 조회 (similarity_with_score)\n",
    "retrievals = vector_store.similarity_search_with_score(query)\n",
    "retrievals"
   ]
  },
  {
   "cell_type": "code",
   "execution_count": 27,
   "id": "7d5b087f",
   "metadata": {},
   "outputs": [
    {
     "data": {
      "text/plain": [
       "[[Document(id='495f7275-7993-44f7-818f-b460eb397aed', metadata={'author': 'PC', 'creationdate': '2023-09-12T11:20:24+09:00', 'creator': 'Microsoft® PowerPoint® 2013', 'moddate': '2023-09-12T11:20:24+09:00', 'page': 1, 'page_label': '2', 'producer': 'Microsoft® PowerPoint® 2013', 'source': './data/snow-white.pdf', 'title': 'PowerPoint 프레젠테이션', 'total_pages': 6}, page_content='거울아. 이 세상에서 누가 가장 아름답니?” “왕비님도 아름답지만 백설공주가 더 아름답습니다.” 화가 난 왕비는 사냥꾼을 불렀어요. 왕비는 사냥꾼에게 백설공주를 죽이라고'),\n",
       "  Document(id='e38d9380-af2b-4936-8704-fd457df68940', metadata={'author': 'PC', 'creationdate': '2023-09-12T11:20:24+09:00', 'creator': 'Microsoft® PowerPoint® 2013', 'moddate': '2023-09-12T11:20:24+09:00', 'page': 1, 'page_label': '2', 'producer': 'Microsoft® PowerPoint® 2013', 'source': './data/snow-white.pdf', 'title': 'PowerPoint 프레젠테이션', 'total_pages': 6}, page_content='거울아. 이 세상에서 누가 가장 아름답니?” “왕비님도 아름답지만 백설공주가 더 아름답습니다.” 화가 난 왕비는 사냥꾼을 불렀어요. 왕비는 사냥꾼에게 백설공주를 죽이라고'),\n",
       "  Document(id='59cc5d04-7ceb-42d8-9072-b66c4c22f297', metadata={'author': 'PC', 'creationdate': '2023-09-12T11:20:24+09:00', 'creator': 'Microsoft® PowerPoint® 2013', 'moddate': '2023-09-12T11:20:24+09:00', 'page': 2, 'page_label': '3', 'producer': 'Microsoft® PowerPoint® 2013', 'source': './data/snow-white.pdf', 'title': 'PowerPoint 프레젠테이션', 'total_pages': 6}, page_content='왕비는 다시 요술 거울에게 누가 가장 아름다운 지 물었어요. “왕비님도 아름답지만 백설공주님이 천배는 더 아름답습니다.” “사냥꾼이 날 속였구나. 내가 직접 해치우겠어!”')]]"
      ]
     },
     "execution_count": 27,
     "metadata": {},
     "output_type": "execute_result"
    }
   ],
   "source": [
    "# Retriever를 사용한 검색\n",
    "retriever = vector_store.as_retriever(\n",
    "    search_type='similarity',\n",
    "    search_kwargs={'k':3}\n",
    ")\n",
    "\n",
    "retriever_result = retriever.batch([query])\n",
    "retriever_result"
   ]
  },
  {
   "cell_type": "code",
   "execution_count": null,
   "id": "d3333a6e",
   "metadata": {},
   "outputs": [],
   "source": [
    "# RAG의 핵심은 문서를 벡터화해 저장한 뒤, 질의와 관련된 문서를 검색해 프롬프트에 넣는 방식으로 정확한 응답을 생성하는 것"
   ]
  }
 ],
 "metadata": {
  "kernelspec": {
   "display_name": "vectordb_env",
   "language": "python",
   "name": "python3"
  },
  "language_info": {
   "codemirror_mode": {
    "name": "ipython",
    "version": 3
   },
   "file_extension": ".py",
   "mimetype": "text/x-python",
   "name": "python",
   "nbconvert_exporter": "python",
   "pygments_lexer": "ipython3",
   "version": "3.9.21"
  }
 },
 "nbformat": 4,
 "nbformat_minor": 5
}
