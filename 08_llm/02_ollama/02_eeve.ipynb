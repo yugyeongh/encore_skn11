{
 "cells": [
  {
   "cell_type": "markdown",
   "id": "226df024-a836-4eda-b339-c59681bd5fa7",
   "metadata": {},
   "source": [
    "# EEVE-Korean-10.8b 모델 사용 (한국어 특화)"
   ]
  },
  {
   "cell_type": "code",
   "execution_count": 2,
   "id": "64971032-01c7-46cd-ac24-3fbde0abba7a",
   "metadata": {},
   "outputs": [],
   "source": [
    "import ollama\n",
    "\n",
    "response = ollama.chat(\n",
    "    model='EEVE-Korean-10.8B', \n",
    "    messages=[\n",
    "        {'role':'user', 'content':'안녕하세요, 좋은 저녁입니다.'}\n",
    "    ]\n",
    ")"
   ]
  },
  {
   "cell_type": "code",
   "execution_count": 6,
   "id": "b0c14951-d2c0-43cd-b4a7-e1fd7fa1fa49",
   "metadata": {},
   "outputs": [
    {
     "data": {
      "text/plain": [
       "ChatResponse(model='EEVE-Korean-10.8B', created_at='2025-04-17T08:32:53.355532392Z', done=True, done_reason='stop', total_duration=534303997, load_duration=8817046, prompt_eval_count=55, prompt_eval_duration=21162298, eval_count=28, eval_duration=501959311, message=Message(role='assistant', content='좋은 하루 보내고 계신가요? 궁금한 점이나 도움이 필요하신 것이 있으시면 언제든 편하게 물어보세요. 제가 최선을 다해 도와드리겠습니다!', images=None, tool_calls=None))"
      ]
     },
     "execution_count": 6,
     "metadata": {},
     "output_type": "execute_result"
    }
   ],
   "source": [
    "response"
   ]
  },
  {
   "cell_type": "code",
   "execution_count": 5,
   "id": "2594a999-1ca1-4b45-b998-9f39aa8c56e4",
   "metadata": {},
   "outputs": [
    {
     "data": {
      "text/plain": [
       "'좋은 하루 보내고 계신가요? 궁금한 점이나 도움이 필요하신 것이 있으시면 언제든 편하게 물어보세요. 제가 최선을 다해 도와드리겠습니다!'"
      ]
     },
     "execution_count": 5,
     "metadata": {},
     "output_type": "execute_result"
    }
   ],
   "source": [
    "response['message']['content']"
   ]
  },
  {
   "cell_type": "markdown",
   "id": "04dc8611-7580-41e7-8d1b-7300183de7b4",
   "metadata": {},
   "source": [
    "### 간단한 한국어 채팅 시스템 구현\n",
    "\n",
    "- 사용자 입력 input() 사용\n",
    "- 응답 print()로 출력\n",
    "- 이전 대화의 문맥을 반영하여 채팅을 이어갈 것\n",
    "- '종료' 입력 시 대화 종료"
   ]
  },
  {
   "cell_type": "code",
   "execution_count": 7,
   "id": "ff720c09-d5b6-48d0-9d74-c5f94c60681c",
   "metadata": {},
   "outputs": [
    {
     "name": "stdin",
     "output_type": "stream",
     "text": [
      "💁🏻‍♀️ 대화를 입력하세요:  안녕\n"
     ]
    },
    {
     "name": "stdout",
     "output_type": "stream",
     "text": [
      "모델의 응답: 안녕하세요! 질문이 있으시거나 도움이 필요하시면 도와드리겠습니다. 정확하고 유용한 답변을 드리기 위해 최선을 다하겠습니다. 궁금한 점이 있다면 주저하지 마시고 물어보세요. 😊\n",
      "====================================================================================================\n"
     ]
    },
    {
     "name": "stdin",
     "output_type": "stream",
     "text": [
      "💁🏻‍♀️ 대화를 입력하세요:  오늘 서울 날씨 어때?\n"
     ]
    },
    {
     "name": "stdout",
     "output_type": "stream",
     "text": [
      "모델의 응답: 현재 서울의 기온은 약 섭씨 20도(화씨 68도)이며, 부분적으로 흐린 하늘입니다. 오늘 예상 최고 기온은 25도(화씨 77도), 최저 기온은 14도(화씨 57도)일 것으로 보입니다. 오후에는 가끔 소나기가 올 수 있으니 우산을 준비하시는 것이 좋겠습니다. 🌩️💧\n",
      "====================================================================================================\n"
     ]
    },
    {
     "name": "stdin",
     "output_type": "stream",
     "text": [
      "💁🏻‍♀️ 대화를 입력하세요:  나 저녁 6시에 집가야하는데 비 안오겠지?\n"
     ]
    },
    {
     "name": "stdout",
     "output_type": "stream",
     "text": [
      "모델의 응답: 오늘 저녁 6시 경에 서울에서 비가 내린다고 예상되지는 않습니다. 하지만 날씨 예보는 변동성이 있으니 외출하기 전에 최신 업데이트를 확인하시는 것이 좋겠습니다. 현재 기상청 예보에 따르면 오후에 가끔 소나기가 올 수 있다고 하니, 가벼운 비옷이나 우산을 준비하는 것이 좋겠습니다. 🌤️💧\n",
      "====================================================================================================\n"
     ]
    },
    {
     "name": "stdin",
     "output_type": "stream",
     "text": [
      "💁🏻‍♀️ 대화를 입력하세요:  종료\n"
     ]
    },
    {
     "name": "stdout",
     "output_type": "stream",
     "text": [
      "🙇🏻‍♀️ 대화를 종료합니다.\n"
     ]
    }
   ],
   "source": [
    "messages = []\n",
    "\n",
    "while True:\n",
    "    prompt = input('💁🏻‍♀️ 대화를 입력하세요: ')\n",
    "    \n",
    "    if prompt == '종료':\n",
    "        print(\"🙇🏻‍♀️ 대화를 종료합니다.\")\n",
    "        break\n",
    "    \n",
    "    messages.append({'role': 'user', 'content': prompt})\n",
    "\n",
    "    response = ollama.chat(\n",
    "        model='EEVE-Korean-10.8B', \n",
    "        messages=messages\n",
    "    )\n",
    "\n",
    "    model_response = response['message']['content']\n",
    "    print(f\"모델의 응답: {model_response}\")\n",
    "    \n",
    "    messages.append({'role': 'assistant', 'content': model_response})\n",
    "\n",
    "    print('='*100)"
   ]
  },
  {
   "cell_type": "code",
   "execution_count": null,
   "id": "f0bcb833-035f-4aea-9783-f78a4abc0caf",
   "metadata": {},
   "outputs": [],
   "source": []
  }
 ],
 "metadata": {
  "kernelspec": {
   "display_name": "Python 3 (ipykernel)",
   "language": "python",
   "name": "python3"
  },
  "language_info": {
   "codemirror_mode": {
    "name": "ipython",
    "version": 3
   },
   "file_extension": ".py",
   "mimetype": "text/x-python",
   "name": "python",
   "nbconvert_exporter": "python",
   "pygments_lexer": "ipython3",
   "version": "3.10.12"
  }
 },
 "nbformat": 4,
 "nbformat_minor": 5
}
