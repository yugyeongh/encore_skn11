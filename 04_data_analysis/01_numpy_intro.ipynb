{
 "cells": [
  {
   "cell_type": "code",
   "execution_count": 1,
   "metadata": {},
   "outputs": [],
   "source": [
    "import numpy as np"
   ]
  },
  {
   "cell_type": "markdown",
   "metadata": {},
   "source": [
    "- np.all(): ndarray의 모든 요소...."
   ]
  },
  {
   "cell_type": "code",
   "execution_count": 3,
   "metadata": {},
   "outputs": [
    {
     "name": "stdout",
     "output_type": "stream",
     "text": [
      "모든 수가 양수는 아닙니다.\n"
     ]
    }
   ],
   "source": [
    "arr = np.array([10,20,30,40,-50])\n",
    "\n",
    "is_all_positive = np.all(arr > 0)\n",
    "\n",
    "if is_all_positive:\n",
    "    print('모든 수는 양수입니다.')\n",
    "else:\n",
    "    print('모든 수가 양수는 아닙니다.')"
   ]
  },
  {
   "cell_type": "code",
   "execution_count": 4,
   "metadata": {},
   "outputs": [
    {
     "name": "stdout",
     "output_type": "stream",
     "text": [
      "모든 수가 음수입니다.\n"
     ]
    }
   ],
   "source": [
    "has_positive = np.all(arr > 0)\n",
    "\n",
    "if has_positive:\n",
    "    print('양수가 포함되어 있습니다.')\n",
    "else:\n",
    "    print('모든 수가 음수입니다.')"
   ]
  }
 ],
 "metadata": {
  "kernelspec": {
   "display_name": "pystudy_env",
   "language": "python",
   "name": "python3"
  },
  "language_info": {
   "codemirror_mode": {
    "name": "ipython",
    "version": 3
   },
   "file_extension": ".py",
   "mimetype": "text/x-python",
   "name": "python",
   "nbconvert_exporter": "python",
   "pygments_lexer": "ipython3",
   "version": "3.12.9"
  }
 },
 "nbformat": 4,
 "nbformat_minor": 2
}
