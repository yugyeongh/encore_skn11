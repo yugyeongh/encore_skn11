{
 "cells": [
  {
   "cell_type": "markdown",
   "metadata": {},
   "source": [
    "### ndarray 정렬"
   ]
  },
  {
   "cell_type": "code",
   "execution_count": 1,
   "metadata": {},
   "outputs": [],
   "source": [
    "import numpy as np"
   ]
  },
  {
   "cell_type": "markdown",
   "metadata": {},
   "source": [
    "##### 1차원 배열 정렬"
   ]
  },
  {
   "cell_type": "code",
   "execution_count": 4,
   "metadata": {},
   "outputs": [
    {
     "data": {
      "text/plain": [
       "array([ 3,  6,  4, 10,  7,  6, 10,  1,  9,  7], dtype=int32)"
      ]
     },
     "execution_count": 4,
     "metadata": {},
     "output_type": "execute_result"
    }
   ],
   "source": [
    "arr = np.random.randint(1,11,10)\n",
    "arr"
   ]
  },
  {
   "cell_type": "code",
   "execution_count": 7,
   "metadata": {},
   "outputs": [
    {
     "name": "stdout",
     "output_type": "stream",
     "text": [
      "[ 1  3  4  6  6  7  7  9 10 10]\n",
      "[10 10  9  7  7  6  6  4  3  1]\n"
     ]
    }
   ],
   "source": [
    "print(np.sort(arr))\n",
    "print(np.sort(arr)[::-1])"
   ]
  },
  {
   "cell_type": "code",
   "execution_count": 11,
   "metadata": {},
   "outputs": [
    {
     "name": "stdout",
     "output_type": "stream",
     "text": [
      "[[8 6 8 9]\n",
      " [2 6 9 2]\n",
      " [5 0 3 2]]\n",
      "----행 방향 정렬(axis=0)----\n",
      "[[2 0 3 2]\n",
      " [5 6 8 2]\n",
      " [8 6 9 9]]\n",
      "----열 방향 정렬(axis=1)----\n",
      "[[6 8 8 9]\n",
      " [2 2 6 9]\n",
      " [0 2 3 5]]\n",
      "---- None 정렬 ----\n",
      "[0 2 2 2 3 5 6 6 8 8 9 9]\n"
     ]
    }
   ],
   "source": [
    "arr = np.random.randint(10, size=(3,4))\n",
    "print(arr)\n",
    "\n",
    "print('----행 방향 정렬(axis=0)----')\n",
    "print(np.sort(arr, axis=0)) #  같은 열 안에서 정렬렬\n",
    "print('----열 방향 정렬(axis=1)----')\n",
    "print(np.sort(arr, axis=1)) # 같은 행 안에서 정렬\n",
    "print('----정렬(axis=None)----')\n",
    "print(np.sort(arr, axis=None)) # 축 무시(차원이 사라지고, 행/열 구분없이 모든 값이 정렬됨)"
   ]
  },
  {
   "cell_type": "markdown",
   "metadata": {},
   "source": [
    "##### np.argsort\n",
    "- 배열의 값을 정렬했을 때, 각 값의 원래 인덱스를 반환\n",
    "- 정렬할 때 어떤 순서로 값을 배치해야 하는지 알려주는 인덱스를 반환\n",
    "- 배열의 값을 정렬한 후, 정렬된 순서에 해당하는 인덱스를 반환"
   ]
  },
  {
   "cell_type": "code",
   "execution_count": 13,
   "metadata": {},
   "outputs": [
    {
     "name": "stdout",
     "output_type": "stream",
     "text": [
      "[100 200 300 400]\n",
      "[0 2 3 1]\n"
     ]
    }
   ],
   "source": [
    "arr = np.array([100,400,200,300])\n",
    "print(np.sort(arr))\n",
    "print(np.argsort(arr))"
   ]
  },
  {
   "cell_type": "code",
   "execution_count": null,
   "metadata": {},
   "outputs": [
    {
     "name": "stdout",
     "output_type": "stream",
     "text": [
      "['제니' '리사' '로제' '지수']\n"
     ]
    }
   ],
   "source": [
    "names = np.array(['리사','로제','제니','지수'])\n",
    "album_sales = np.array([900,870,1000,670])\n",
    "\n",
    "# sales_desc = np.sort(album_sales)[::-1]\n",
    "\n",
    "print(names[np.argsort(album_sales)[::-1]])"
   ]
  },
  {
   "cell_type": "code",
   "execution_count": null,
   "metadata": {},
   "outputs": [
    {
     "name": "stdout",
     "output_type": "stream",
     "text": [
      "[[1 2 0]\n",
      " [0 1 2]]\n",
      "[[1 2 0]\n",
      " [0 1 2]]\n",
      "[[1 0 0]\n",
      " [0 1 1]]\n"
     ]
    }
   ],
   "source": [
    "# 2차원 배열에서 argsort\n",
    "\n",
    "arr = np.array([[2025,2,28],[17,18,30]])\n",
    "print(np.argsort(arr))\n",
    "print(np.argsort(arr, axis=1)) # 열 방향 정렬의 순서 (같은 행 안에서 정렬)\n",
    "print(np.argsort(arr, axis=0)) # 행 방향 정렬의 순서 (같은 열 안에서 정렬)"
   ]
  }
 ],
 "metadata": {
  "kernelspec": {
   "display_name": "pystudy_env",
   "language": "python",
   "name": "python3"
  },
  "language_info": {
   "codemirror_mode": {
    "name": "ipython",
    "version": 3
   },
   "file_extension": ".py",
   "mimetype": "text/x-python",
   "name": "python",
   "nbconvert_exporter": "python",
   "pygments_lexer": "ipython3",
   "version": "3.12.9"
  }
 },
 "nbformat": 4,
 "nbformat_minor": 2
}
