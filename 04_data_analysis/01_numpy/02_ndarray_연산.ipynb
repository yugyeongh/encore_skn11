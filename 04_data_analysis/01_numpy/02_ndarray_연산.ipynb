{
 "cells": [
  {
   "cell_type": "markdown",
   "metadata": {},
   "source": [
    "### ndarray 연산"
   ]
  },
  {
   "cell_type": "code",
   "execution_count": 1,
   "metadata": {},
   "outputs": [],
   "source": [
    "import numpy as np"
   ]
  },
  {
   "cell_type": "code",
   "execution_count": 16,
   "metadata": {},
   "outputs": [],
   "source": [
    "arr_a = np.arange(1,10).reshape(3,3)\n",
    "arr_b = np.full((3,3),3)"
   ]
  },
  {
   "cell_type": "code",
   "execution_count": 17,
   "metadata": {},
   "outputs": [
    {
     "name": "stdout",
     "output_type": "stream",
     "text": [
      "[[ 4  5  6]\n",
      " [ 7  8  9]\n",
      " [10 11 12]]\n",
      "[[ 4  5  6]\n",
      " [ 7  8  9]\n",
      " [10 11 12]]\n"
     ]
    }
   ],
   "source": [
    "print(arr_a+arr_b)\n",
    "print(np.add(arr_a, arr_b))"
   ]
  },
  {
   "cell_type": "code",
   "execution_count": 24,
   "metadata": {},
   "outputs": [
    {
     "name": "stdout",
     "output_type": "stream",
     "text": [
      "[[-2 -1  0]\n",
      " [ 1  2  3]\n",
      " [ 4  5  6]]\n",
      "[[-2 -1  0]\n",
      " [ 1  2  3]\n",
      " [ 4  5  6]]\n"
     ]
    }
   ],
   "source": [
    "# 뺄셈\n",
    "print(arr_a - arr_b)\n",
    "print(np.subtract(arr_a, arr_b))\n"
   ]
  },
  {
   "cell_type": "code",
   "execution_count": 19,
   "metadata": {},
   "outputs": [
    {
     "name": "stdout",
     "output_type": "stream",
     "text": [
      "[[ 3  6  9]\n",
      " [12 15 18]\n",
      " [21 24 27]]\n",
      "[[ 3  6  9]\n",
      " [12 15 18]\n",
      " [21 24 27]]\n"
     ]
    }
   ],
   "source": [
    "# 곱셈\n",
    "print(arr_a * arr_b)\n",
    "print(np.multiply(arr_a, arr_b))"
   ]
  },
  {
   "cell_type": "code",
   "execution_count": 27,
   "metadata": {},
   "outputs": [
    {
     "name": "stdout",
     "output_type": "stream",
     "text": [
      "[[0.33333333 0.66666667 1.        ]\n",
      " [1.33333333 1.66666667 2.        ]\n",
      " [2.33333333 2.66666667 3.        ]]\n",
      "[[0.33333333 0.66666667 1.        ]\n",
      " [1.33333333 1.66666667 2.        ]\n",
      " [2.33333333 2.66666667 3.        ]]\n"
     ]
    }
   ],
   "source": [
    "# 나눗셈\n",
    "print(arr_a / arr_b)\n",
    "print(np.divide(arr_a, arr_b))"
   ]
  },
  {
   "cell_type": "code",
   "execution_count": null,
   "metadata": {},
   "outputs": [
    {
     "name": "stdout",
     "output_type": "stream",
     "text": [
      "[[  1   8  27]\n",
      " [ 64 125 216]\n",
      " [343 512 729]]\n",
      "[[  1   8  27]\n",
      " [ 64 125 216]\n",
      " [343 512 729]]\n",
      "[[ 1  4  9]\n",
      " [16 25 36]\n",
      " [49 64 81]]\n"
     ]
    }
   ],
   "source": [
    "# 특수 연산 1: 거듭제곱곱\n",
    "print(arr_a ** arr_b)\n",
    "print(np.power(arr_a, arr_b)) # 거듭제곱, 밑, 지수를 정해줌\n",
    "print(np.square(arr_a)) # 밑만 넣어주면 지수가 2로 들어감"
   ]
  },
  {
   "cell_type": "code",
   "execution_count": null,
   "metadata": {},
   "outputs": [
    {
     "name": "stdout",
     "output_type": "stream",
     "text": [
      "[[0 0 1]\n",
      " [1 1 2]\n",
      " [2 2 3]]\n"
     ]
    }
   ],
   "source": [
    "# 특수 연산 2: 몫몫\n",
    "print(arr_a // arr_b)\n",
    "print(np.floor_divide(arr_a, arr_b))"
   ]
  },
  {
   "cell_type": "code",
   "execution_count": 26,
   "metadata": {},
   "outputs": [
    {
     "name": "stdout",
     "output_type": "stream",
     "text": [
      "[[1 2 0]\n",
      " [1 2 0]\n",
      " [1 2 0]]\n",
      "[[1 2 0]\n",
      " [1 2 0]\n",
      " [1 2 0]]\n"
     ]
    }
   ],
   "source": [
    "# 특수 연산 3: 나머지머지\n",
    "print(arr_a % arr_b)\n",
    "print(np.mod(arr_a, arr_b))"
   ]
  },
  {
   "cell_type": "code",
   "execution_count": 28,
   "metadata": {},
   "outputs": [
    {
     "name": "stdout",
     "output_type": "stream",
     "text": [
      "[[1.         1.41421356 1.73205081]\n",
      " [2.         2.23606798 2.44948974]\n",
      " [2.64575131 2.82842712 3.        ]]\n"
     ]
    }
   ],
   "source": [
    "# 제곱근\n",
    "print(np.sqrt(arr_a))"
   ]
  },
  {
   "cell_type": "markdown",
   "metadata": {},
   "source": [
    "### broadcasting 연산"
   ]
  },
  {
   "cell_type": "code",
   "execution_count": 49,
   "metadata": {},
   "outputs": [
    {
     "data": {
      "text/plain": [
       "array([[ 5, 10, 15],\n",
       "       [20, 25, 30],\n",
       "       [35, 40, 45]])"
      ]
     },
     "execution_count": 49,
     "metadata": {},
     "output_type": "execute_result"
    }
   ],
   "source": [
    "# result_arr = arr_a * np.array([[5,5,5],[5,5,5],[5,5,5]])\n",
    "# result_arr = arr_a * np.array([5,5,5])\n",
    "result_arr = arr_a * np.array([5])\n",
    "result_arr = arr_a * 5 # 스칼라 값을 주어도 결과가 같아짐\n",
    "result_arr"
   ]
  },
  {
   "cell_type": "code",
   "execution_count": 50,
   "metadata": {},
   "outputs": [
    {
     "data": {
      "text/plain": [
       "array([[ 6, 12, 18],\n",
       "       [ 9, 15, 21]])"
      ]
     },
     "execution_count": 50,
     "metadata": {},
     "output_type": "execute_result"
    }
   ],
   "source": [
    "arr1 = np.array([[1,2,3],[4,5,6]]) # 2,3\n",
    "arr2 = np.array([5,10,15]) # 3,\n",
    "arr1 + arr2"
   ]
  },
  {
   "cell_type": "code",
   "execution_count": 51,
   "metadata": {},
   "outputs": [
    {
     "data": {
      "text/plain": [
       "array([[101, 102, 103],\n",
       "       [204, 205, 206]])"
      ]
     },
     "execution_count": 51,
     "metadata": {},
     "output_type": "execute_result"
    }
   ],
   "source": [
    "arr1 = np.array([[1,2,3],[4,5,6]])\n",
    "arr2 = np.array([[100],[200]])\n",
    "arr1+arr2"
   ]
  },
  {
   "cell_type": "code",
   "execution_count": 52,
   "metadata": {},
   "outputs": [
    {
     "name": "stdout",
     "output_type": "stream",
     "text": [
      "(3,)\n",
      "(3, 1)\n"
     ]
    },
    {
     "data": {
      "text/plain": [
       "array([[5, 6, 7],\n",
       "       [6, 7, 8],\n",
       "       [7, 8, 9]])"
      ]
     },
     "execution_count": 52,
     "metadata": {},
     "output_type": "execute_result"
    }
   ],
   "source": [
    "arr1 = np.array([1,2,3]) # 3,\n",
    "arr2 = np.array([[4],[5],[6]]) # 3,1\n",
    "\n",
    "print(arr1.shape)\n",
    "print(arr2.shape)\n",
    "arr1+arr2 # 요소의 개수를 맞추기 위해 확장이 됨됨"
   ]
  },
  {
   "cell_type": "code",
   "execution_count": 53,
   "metadata": {},
   "outputs": [
    {
     "data": {
      "text/plain": [
       "array([[2, 4, 6],\n",
       "       [2, 4, 6]])"
      ]
     },
     "execution_count": 53,
     "metadata": {},
     "output_type": "execute_result"
    }
   ],
   "source": [
    "arr1 = np.array([[1,2,3],[1,2,3]])\n",
    "arr2 = np.array([1,2,3])\n",
    "arr1 + arr2"
   ]
  },
  {
   "cell_type": "markdown",
   "metadata": {},
   "source": [
    "##### broadcasting 연산\n",
    "- 두 배열의 shape이 다르면 broadcasting 연산을 수행한다.\n",
    "- shape이 작은 쪽이 큰 쪽에 맞춰 확장한다.\n",
    "- 두 배열의 행 또는 열이 일치해야 확장이 가능하다. 요소를 어디에 맞춰서 확장할지 정해야 하기 때문문\n",
    "- 크기가 1인 경우 무조건 확장 가능하다.\n",
    "- shape이 다른 경우 마지막 축부터 차원이 동일한지 비교한다."
   ]
  },
  {
   "cell_type": "markdown",
   "metadata": {},
   "source": [
    "##### 행렬 곱셈\n",
    "- 점곱연산 (Dot Product / 내적)\n",
    "    - 두 행렬 A,B의 곱셈은 첫 번째 행렬 A의 행과 두 번째 행렬 B의 열 간의 곱셈을 수행한다.\n",
    "    - 첫 번째 행렬 A의 열의 수와 두 번째 행렬 B의 행의 수가 같아야 한다.\n",
    "    - 연산 결과의 shape은 (첫 번째 행렬 A의 행수, 두 번째 행렬 B의 열수)이다.\n",
    "    "
   ]
  },
  {
   "cell_type": "code",
   "execution_count": 55,
   "metadata": {},
   "outputs": [
    {
     "name": "stdout",
     "output_type": "stream",
     "text": [
      "[[ 5 12]\n",
      " [21 32]]\n",
      "(2, 2) (2, 2) (2, 2)\n",
      "[[19 22]\n",
      " [43 50]]\n",
      "(2, 2)\n"
     ]
    }
   ],
   "source": [
    "arr1 = np.array([[1,2],[3,4]])\n",
    "arr2 = np.array([[5,6],[7,8]])\n",
    "print(arr1 * arr2)\n",
    "print(arr1.shape, arr2.shape, (arr1*arr2).shape)\n",
    "\n",
    "print(np.dot(arr1, arr2))\n",
    "print(np.dot(arr1, arr2).shape)"
   ]
  },
  {
   "cell_type": "code",
   "execution_count": null,
   "metadata": {},
   "outputs": [
    {
     "data": {
      "text/plain": [
       "((2, 3), (3, 2), (2, 2))"
      ]
     },
     "execution_count": 57,
     "metadata": {},
     "output_type": "execute_result"
    }
   ],
   "source": [
    "arr3 = np.array([[1,2,3],[4,5,6]])\n",
    "arr4 = np.array([[7,8],[9,10],[11,12]])\n",
    "arr3.shape, arr4.shape, np.dot(arr3, arr4).shape\n",
    "# np.dot(arr3, arr4) -> (2,3) * (3,2) = (2,2)\n",
    "# np.dot(arr3, arr4) -> (3,2) * (2,3) = (3,3)"
   ]
  },
  {
   "cell_type": "code",
   "execution_count": null,
   "metadata": {},
   "outputs": [],
   "source": [
    "# Quiz! shape으로만 결과 판단하기\n",
    "\n",
    "# (100,20000)(20000,100) -> (100,100)\n",
    "# (20000,100)(100,20000) -> (20000,20000)\n",
    "# (100,20000)(100,20000) -> x"
   ]
  },
  {
   "cell_type": "code",
   "execution_count": null,
   "metadata": {},
   "outputs": [
    {
     "name": "stdout",
     "output_type": "stream",
     "text": [
      "[[1 2 3]\n",
      " [4 5 6]]\n",
      "[[1 4]\n",
      " [2 5]\n",
      " [3 6]]\n",
      "[[14 32]\n",
      " [32 77]]\n",
      "[[14 32]\n",
      " [32 77]]\n"
     ]
    }
   ],
   "source": [
    "arr = np.array([[1,2,3],[4,5,6]])\n",
    "\n",
    "# @\n",
    "# print(arr @ arr) # (2,3), (2,3) 두 번째 배열의 행과 첫 번째 배열의 열의 수가 달라 내적 불가능\n",
    "\n",
    "# .T\n",
    "print(arr)\n",
    "print(arr.T) # arr의 전치행렬 (행-열을 교환환)\n",
    "print(arr @ arr.T)\n",
    "\n",
    "# matmul()\n",
    "print(np.matmul(arr, arr.T)) # 행렬 곱 함수"
   ]
  },
  {
   "cell_type": "markdown",
   "metadata": {},
   "source": [
    "------\n",
    "##### 연산 함수 및 집계 함수"
   ]
  },
  {
   "cell_type": "code",
   "execution_count": 64,
   "metadata": {},
   "outputs": [],
   "source": [
    "arr_negative = np.array([[-1,-2],[-100,-200]])\n",
    "arr_float = np.array([[1.234, 5.678],[7.89, 10.123]])\n",
    "arr = np.arange(1,7).reshape(2,3)"
   ]
  },
  {
   "cell_type": "code",
   "execution_count": 65,
   "metadata": {},
   "outputs": [
    {
     "data": {
      "text/plain": [
       "array([[  1,   2],\n",
       "       [100, 200]])"
      ]
     },
     "execution_count": 65,
     "metadata": {},
     "output_type": "execute_result"
    }
   ],
   "source": [
    "# 절대값\n",
    "np.abs(arr_negative)"
   ]
  },
  {
   "cell_type": "code",
   "execution_count": 67,
   "metadata": {},
   "outputs": [
    {
     "name": "stdout",
     "output_type": "stream",
     "text": [
      "[[ 2.  6.]\n",
      " [ 8. 11.]]\n",
      "[[ 1.  6.]\n",
      " [ 8. 10.]]\n",
      "[[ 1.23  5.68]\n",
      " [ 7.89 10.12]]\n"
     ]
    }
   ],
   "source": [
    "# 올림/반올림\n",
    "print(np.ceil(arr_float)) # 올림\n",
    "print(np.round(arr_float)) #반올림\n",
    "print(np.round(arr_float, 2))"
   ]
  },
  {
   "cell_type": "code",
   "execution_count": 69,
   "metadata": {},
   "outputs": [
    {
     "name": "stdout",
     "output_type": "stream",
     "text": [
      "[[ 1. -6.]\n",
      " [-8. 10.]]\n",
      "[[ 1. -5.]\n",
      " [-7. 10.]]\n"
     ]
    }
   ],
   "source": [
    "arr_float = np.array([[1.234,-5.678],[-7.89, 10.123]])\n",
    "\n",
    "# 내림\n",
    "print(np.floor(arr_float))\n",
    "\n",
    "# 버림(절삭)\n",
    "print(np.trunc(arr_float))"
   ]
  },
  {
   "cell_type": "code",
   "execution_count": null,
   "metadata": {},
   "outputs": [
    {
     "name": "stdout",
     "output_type": "stream",
     "text": [
      "[[1 2 3]\n",
      " [4 5 6]]\n",
      "6\n",
      "1\n",
      "[4 5 6]\n",
      "[1 4]\n"
     ]
    }
   ],
   "source": [
    "# 최댓값, 최솟값\n",
    "print(arr)\n",
    "print(np.max(arr))\n",
    "print(np.min(arr))\n",
    "\n",
    "print(np.max(arr, axis=0)) # 행 기준 (행을 고정하고, 같은 열에서 가장 큰 값)\n",
    "print(np.min(arr, axis=1)) # 열 기준 (열을 고정하고, 같은 행에서 가장 작은 값)"
   ]
  },
  {
   "cell_type": "code",
   "execution_count": null,
   "metadata": {},
   "outputs": [
    {
     "name": "stdout",
     "output_type": "stream",
     "text": [
      "21\n",
      "21\n",
      "[5 7 9]\n",
      "[ 6 15]\n"
     ]
    }
   ],
   "source": [
    "# 합계\n",
    "print(arr.sum())\n",
    "print(np.sum(arr))\n",
    "\n",
    "print(arr.sum(axis=0)) # 행 기준 합계\n",
    "print(arr.sum(axis=1)) # 열 기준 합계"
   ]
  },
  {
   "cell_type": "code",
   "execution_count": null,
   "metadata": {},
   "outputs": [],
   "source": [
    "# 평균\n",
    "print(arr.mean())\n",
    "print(np.mean(arr))"
   ]
  }
 ],
 "metadata": {
  "kernelspec": {
   "display_name": "pystudy_env",
   "language": "python",
   "name": "python3"
  },
  "language_info": {
   "codemirror_mode": {
    "name": "ipython",
    "version": 3
   },
   "file_extension": ".py",
   "mimetype": "text/x-python",
   "name": "python",
   "nbconvert_exporter": "python",
   "pygments_lexer": "ipython3",
   "version": "3.12.9"
  }
 },
 "nbformat": 4,
 "nbformat_minor": 2
}
