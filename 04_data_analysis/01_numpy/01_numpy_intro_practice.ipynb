{
 "cells": [
  {
   "cell_type": "code",
   "execution_count": 3,
   "metadata": {},
   "outputs": [],
   "source": [
    "import numpy as np"
   ]
  },
  {
   "cell_type": "markdown",
   "metadata": {},
   "source": [
    "# 실습1"
   ]
  },
  {
   "cell_type": "markdown",
   "metadata": {},
   "source": [
    "NumPy를 사용하여 다음과 같은 배열을 생성해 보세요.\n",
    "\n",
    "1. 크기가 4x3인 모든 값이 0인 배열\n",
    "2. 크기가 3x3인 모든 값이 1인 배열\n",
    "3. 0에서 20까지 5씩 증가하는 값으로 구성된 배열\n",
    "4. 0과 1 사이의 4개의 등간격 값을 가진 배열\n",
    "5. *크기가 2x2인 정규 분포로 구성된 배열*"
   ]
  },
  {
   "cell_type": "code",
   "execution_count": 5,
   "metadata": {},
   "outputs": [
    {
     "name": "stdout",
     "output_type": "stream",
     "text": [
      "------------------\n",
      "[[0. 0. 0.]\n",
      " [0. 0. 0.]\n",
      " [0. 0. 0.]\n",
      " [0. 0. 0.]]\n",
      "------------------\n",
      "[[1. 1. 1.]\n",
      " [1. 1. 1.]\n",
      " [1. 1. 1.]]\n",
      "------------------\n",
      "[ 0  5 10 15 20]\n",
      "------------------\n",
      "[0.         0.33333333 0.66666667 1.        ]\n",
      "------------------\n",
      "[[ 0.69271284 -0.54429731]\n",
      " [-0.10251302 -1.27060791]]\n"
     ]
    }
   ],
   "source": [
    "arr1 = np.zeros((4,3))\n",
    "arr2 = np.ones((3,3))\n",
    "arr3 = np.arange(0,21,5)\n",
    "arr4 = np.linspace(0,1,4)\n",
    "arr5 = np.random.normal(loc=0, scale=1, size=(2, 2))\n",
    "print('------------------')\n",
    "print(arr1)\n",
    "print('------------------')\n",
    "print(arr2)\n",
    "print('------------------')\n",
    "print(arr3)\n",
    "print('------------------')\n",
    "print(arr4)\n",
    "print('------------------')\n",
    "print(arr5)\n"
   ]
  },
  {
   "cell_type": "markdown",
   "metadata": {},
   "source": [
    "# 실습2"
   ]
  },
  {
   "cell_type": "markdown",
   "metadata": {},
   "source": [
    "아래 배열에서 인덱싱과 슬라이싱을 사용하여 다음 작업을 수행하세요.\n",
    "\n",
    "1. 배열 `arr`에서 2번째 행, 3번째 열의 값을 출력\n",
    "2. 배열 `arr`에서 1번째 열만 추출\n",
    "3. 배열 `arr`에서 첫 번째 행부터 두 번째 행까지 선택하고, 0번째와 1번째 열만 추출\n",
    "\n",
    "arr = np.array([[10, 20, 30], [40, 50, 60], [70, 80, 90]])"
   ]
  },
  {
   "cell_type": "code",
   "execution_count": 4,
   "metadata": {},
   "outputs": [
    {
     "name": "stdout",
     "output_type": "stream",
     "text": [
      "[[10 20 30]\n",
      " [40 50 60]\n",
      " [70 80 90]]\n"
     ]
    }
   ],
   "source": [
    "arr = np.array([[10, 20, 30], [40, 50, 60], [70, 80, 90]])\n",
    "print(arr)"
   ]
  },
  {
   "cell_type": "code",
   "execution_count": 13,
   "metadata": {},
   "outputs": [
    {
     "name": "stdout",
     "output_type": "stream",
     "text": [
      "60\n",
      "[10 40 70]\n",
      "[[10 20]\n",
      " [40 50]]\n"
     ]
    }
   ],
   "source": [
    "# 2-1: 2번째 행 3번째 열열\n",
    "print(arr[1,2])\n",
    "# 2-2 : 1번째 열의 모든 행행\n",
    "print(arr[:,0]) # arr[행,열]\n",
    "# 2-3 : 첫번째 행부터 두번째 행까지 선택하고 0번째와 1번째 열만 추철\n",
    "print(arr[0:2,0:2])"
   ]
  },
  {
   "cell_type": "markdown",
   "metadata": {},
   "source": [
    "# 실습3"
   ]
  },
  {
   "cell_type": "markdown",
   "metadata": {},
   "source": [
    "아래 배열에서 팬시 인덱싱과 불리언 인덱싱을 사용하여 다음 작업을 수행하세요.\n",
    "\n",
    "1. 팬시 인덱싱을 사용하여 배열의 0번째, 2번째, 4번째 요소를 출력\n",
    "2. 배열의 값 중 50보다 큰 값만 추출"
   ]
  },
  {
   "cell_type": "code",
   "execution_count": 6,
   "metadata": {},
   "outputs": [],
   "source": [
    "arr = np.array([10, 20, 30, 40, 50, 60, 70])"
   ]
  },
  {
   "cell_type": "code",
   "execution_count": 10,
   "metadata": {},
   "outputs": [
    {
     "name": "stdout",
     "output_type": "stream",
     "text": [
      "[10 30 50]\n",
      "[60 70]\n"
     ]
    }
   ],
   "source": [
    "# 3-1\n",
    "print(arr[[0,2,4]]) # 팬시 인덱싱\n",
    "# 3-2\n",
    "print(arr[arr>50])"
   ]
  },
  {
   "cell_type": "markdown",
   "metadata": {},
   "source": [
    "# 실습4"
   ]
  },
  {
   "cell_type": "markdown",
   "metadata": {},
   "source": [
    "어느 마트에서 판매되는 제품들의 월별 매출량이 아래와 같이 주어졌습니다. 각각의 행은 제품을 나타내고, 열은 각 월의 판매량을 나타냅니다.\n",
    "\n",
    "1. 월별 판매량이 200개 이상인 제품의 판매량을 선택하라.\n",
    "2. 3월(세 번째 열)의 판매량이 100개 이하인 제품의 1월과 2월 판매량을 추출하라.\n",
    "3. 2월(두 번째 열)의 판매량이 150개 이상인 제품들의 전체 월별 판매량을 출력하라."
   ]
  },
  {
   "cell_type": "code",
   "execution_count": 11,
   "metadata": {},
   "outputs": [],
   "source": [
    "sales = np.array([[120, 150, 100],\n",
    "                  [80, 90, 110],\n",
    "                  [200, 180, 220],\n",
    "                  [50, 45, 70],\n",
    "                  [300, 320, 310]])"
   ]
  },
  {
   "cell_type": "code",
   "execution_count": 20,
   "metadata": {},
   "outputs": [
    {
     "name": "stdout",
     "output_type": "stream",
     "text": [
      "[200 220 300 320 310]\n",
      "[[120 150]\n",
      " [ 50  45]]\n",
      "[[120 150 100]\n",
      " [200 180 220]\n",
      " [300 320 310]]\n",
      "[[120 150 100]\n",
      " [200 180 220]\n",
      " [300 320 310]]\n"
     ]
    }
   ],
   "source": [
    "# 4-1\n",
    "print(sales[sales>=200])\n",
    "# 4-2\n",
    "print(sales[sales[:,2] <= 100, 0:2]) #sales[행에 대한 조건, 열에 대한 조건]\n",
    "# 4-3\n",
    "print(sales[sales[:,1] >= 150,:])\n",
    "print(sales[sales[:,1] >= 150])"
   ]
  }
 ],
 "metadata": {
  "kernelspec": {
   "display_name": "pystudy_env",
   "language": "python",
   "name": "python3"
  },
  "language_info": {
   "codemirror_mode": {
    "name": "ipython",
    "version": 3
   },
   "file_extension": ".py",
   "mimetype": "text/x-python",
   "name": "python",
   "nbconvert_exporter": "python",
   "pygments_lexer": "ipython3",
   "version": "3.12.9"
  }
 },
 "nbformat": 4,
 "nbformat_minor": 2
}
