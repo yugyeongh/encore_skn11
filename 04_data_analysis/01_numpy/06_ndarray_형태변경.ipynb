{
 "cells": [
  {
   "cell_type": "markdown",
   "metadata": {},
   "source": [
    "# ndarray 형태변경"
   ]
  },
  {
   "cell_type": "code",
   "execution_count": 1,
   "metadata": {},
   "outputs": [],
   "source": [
    "import numpy as np"
   ]
  },
  {
   "cell_type": "code",
   "execution_count": null,
   "metadata": {},
   "outputs": [
    {
     "name": "stdout",
     "output_type": "stream",
     "text": [
      "1 [ 0  1  2  3  4  5  6  7  8  9 10 11]\n",
      "2 (1, 12)\n",
      "[[ 0  1  2  3  4  5  6  7  8  9 10 11]]\n",
      "\n",
      "--------------\n",
      "3 (2, 2, 3)\n",
      "[[[ 0  1  2]\n",
      "  [ 3  4  5]]\n",
      "\n",
      " [[ 6  7  8]\n",
      "  [ 9 10 11]]]\n"
     ]
    }
   ],
   "source": [
    "# reshape\n",
    "# 요소의 갯수가 맞는 shape으로 변형이 가능\n",
    "arr = np.arange(12)\n",
    "print(arr.ndim, arr) # ndim: 깊이를 알아볼 수 있는 속성\n",
    "\n",
    "arr = arr.reshape(3,4)\n",
    "arr = arr.reshape(6,2)\n",
    "arr = arr.reshape(1,12) # [[]] 이런 식으로 중첩이 되어 있음\n",
    "# arr = arr.reshape(2,7)\n",
    "print(arr.ndim, arr.shape)\n",
    "print(arr)\n",
    "\n",
    "# 다차원으로 reshape하기\n",
    "print('\\n--------------')\n",
    "arr = arr.reshape(2,2,3)\n",
    "# arr = arr.reshape(2,2,2)\n",
    "print(arr.ndim, arr.shape)\n",
    "print(arr)"
   ]
  },
  {
   "cell_type": "code",
   "execution_count": null,
   "metadata": {},
   "outputs": [
    {
     "name": "stdout",
     "output_type": "stream",
     "text": [
      "[ 0  1  2  3  4  5  6  7  8  9 10 11]\n",
      "[[ 0  1  2]\n",
      " [ 3  4  5]\n",
      " [ 6  7  8]\n",
      " [ 9 10 11]]\n",
      "[[ 0  1  2  3]\n",
      " [ 4  5  6  7]\n",
      " [ 8  9 10 11]]\n"
     ]
    }
   ],
   "source": [
    "# reshape() -> -1\n",
    "arr = arr.reshape(-1) # 1차원으로 차원 줄이기\n",
    "print(arr)\n",
    "\n",
    "# -1인 축은 자동 계산\n",
    "arr = arr.reshape(4,-1) # 행은 4행인데, 열이 -1 -> 요소의 갯수를 가지고 -1을 넣어준 축을 자동 계산 -> 즉, 행이나 열 하나만 지정하고 -1을 넣어도 reshape이 수행됨\n",
    "print(arr)\n",
    "\n",
    "arr = arr.reshape(-1,4)\n",
    "print(arr)"
   ]
  },
  {
   "cell_type": "code",
   "execution_count": 23,
   "metadata": {},
   "outputs": [
    {
     "name": "stdout",
     "output_type": "stream",
     "text": [
      "[[ 0  1  2  3  4  5  6  7  8  9]\n",
      " [10 11 12 13 14 15 16 17 18 19]\n",
      " [20 21 22 23 24 25 26 27 28 29]\n",
      " [30 31 32 33 34 35 36 37 38 39]\n",
      " [40 41 42 43 44 45 46 47 48 49]]\n",
      "[ 0  1  2  3  4  5  6  7  8  9 10 11 12 13 14 15 16 17 18 19 20 21 22 23\n",
      " 24 25 26 27 28 29 30 31 32 33 34 35 36 37 38 39 40 41 42 43 44 45 46 47\n",
      " 48 49]\n"
     ]
    }
   ],
   "source": [
    "# np.ravel()\n",
    "arr = np.arange(50).reshape(5, 10)\n",
    "print(arr)\n",
    "print(np.ravel(arr))"
   ]
  },
  {
   "cell_type": "code",
   "execution_count": null,
   "metadata": {},
   "outputs": [
    {
     "name": "stdout",
     "output_type": "stream",
     "text": [
      "(10,) [0 1 2 3 4 5 6 7 8 9]\n",
      "[[0 1 2 3 4 5 6 7 8 9]]\n",
      "[[0]\n",
      " [1]\n",
      " [2]\n",
      " [3]\n",
      " [4]\n",
      " [5]\n",
      " [6]\n",
      " [7]\n",
      " [8]\n",
      " [9]]\n",
      "(1, 10)\n",
      "(10, 1)\n"
     ]
    }
   ],
   "source": [
    "# np.expand_dims(): 차원 추가\n",
    "arr_1d = np.arange(10)\n",
    "print(arr_1d.shape, arr_1d)\n",
    "print(np.expand_dims(arr_1d, axis=0))\n",
    "print(np.expand_dims(arr_1d, axis=1))\n",
    "print(np.expand_dims(arr_1d, axis=0).shape)\n",
    "print(np.expand_dims(arr_1d, axis=1).shape)"
   ]
  },
  {
   "cell_type": "code",
   "execution_count": null,
   "metadata": {},
   "outputs": [
    {
     "name": "stdout",
     "output_type": "stream",
     "text": [
      "(2, 2) [[1 2]\n",
      " [3 4]]\n",
      "\n",
      "[[[1 2]\n",
      "  [3 4]]]\n",
      "[[[1 2]]\n",
      "\n",
      " [[3 4]]]\n",
      "(1, 2, 2)\n",
      "(2, 1, 2)\n",
      "----axis=2----\n",
      "[[[1]\n",
      "  [2]]\n",
      "\n",
      " [[3]\n",
      "  [4]]]\n",
      "(2, 2, 1)\n"
     ]
    }
   ],
   "source": [
    "arr_2d = np.array([[1,2],[3,4]])\n",
    "print(arr_2d.shape, arr_2d)\n",
    "print()\n",
    "print(np.expand_dims(arr_2d, axis=0))\n",
    "print(np.expand_dims(arr_2d, axis=1))\n",
    "print(np.expand_dims(arr_2d, axis=0).shape) # 하나의 요소 안에 두 개의 요소가 있고, 그 안에 두 개의 요소가 있음\n",
    "print(np.expand_dims(arr_2d, axis=1).shape) # 두개의 요소 안에 하나의 요소가 있고, 그 안에 두 개의 요소가 있음\n",
    "\n",
    "print('----axis=2----')\n",
    "print(np.expand_dims(arr_2d, axis=2))\n",
    "print(np.expand_dims(arr_2d, axis=2).shape) # 두개의 요소 안에 두 개의 요소가 있고, 그 안에 하나의 요소가 있음"
   ]
  },
  {
   "cell_type": "code",
   "execution_count": 34,
   "metadata": {},
   "outputs": [
    {
     "name": "stdout",
     "output_type": "stream",
     "text": [
      "(1, 2)\n",
      "(2,)\n"
     ]
    }
   ],
   "source": [
    "# np.squeeze(): 차원의 값이 1일 때 제거\n",
    "arr = np.array([[1,2]])\n",
    "print(arr.shape)\n",
    "\n",
    "arr2 = np.squeeze(arr)\n",
    "arr2 = np.squeeze(arr, axis=0) # (2,2) -> (2,) : 0번째 인덱스를 삭제\n",
    "print(arr2.shape)"
   ]
  }
 ],
 "metadata": {
  "kernelspec": {
   "display_name": "pystudy_env",
   "language": "python",
   "name": "python3"
  },
  "language_info": {
   "codemirror_mode": {
    "name": "ipython",
    "version": 3
   },
   "file_extension": ".py",
   "mimetype": "text/x-python",
   "name": "python",
   "nbconvert_exporter": "python",
   "pygments_lexer": "ipython3",
   "version": "3.12.9"
  }
 },
 "nbformat": 4,
 "nbformat_minor": 2
}
