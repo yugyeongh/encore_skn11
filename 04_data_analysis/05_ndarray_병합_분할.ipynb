{
 "cells": [
  {
   "cell_type": "markdown",
   "metadata": {},
   "source": [
    "### ndarray 병합 및 분할"
   ]
  },
  {
   "cell_type": "code",
   "execution_count": 1,
   "metadata": {},
   "outputs": [],
   "source": [
    "import numpy as np"
   ]
  },
  {
   "cell_type": "markdown",
   "metadata": {},
   "source": [
    "##### ndarray 요소 추가 및 삭제\n",
    "- ndarray는 고정 길이 배열이므로 크기 변경이 불가하다 == 요소를 추가할 수 없다."
   ]
  },
  {
   "cell_type": "code",
   "execution_count": 4,
   "metadata": {},
   "outputs": [
    {
     "name": "stdout",
     "output_type": "stream",
     "text": [
      "[10 20 30]\n",
      "False [10 15 20 30]\n"
     ]
    }
   ],
   "source": [
    "# np.insert(): 요소의 추가한 새로운 배열을 반환\n",
    "arr = np.array([10,20,30])\n",
    "\n",
    "arr1 =np.append(arr,40)\n",
    "arr2 = np.insert(arr,1,15) # 새로운 변수 공간 선언\n",
    "print(arr)\n",
    "\n",
    "print(arr2 is arr, arr2) # insert는 요소를 추가하는데 추가한 것을 새롭게 반환해서 arr2에 저장했기 때문에 false를 반환함"
   ]
  },
  {
   "cell_type": "code",
   "execution_count": null,
   "metadata": {},
   "outputs": [
    {
     "name": "stdout",
     "output_type": "stream",
     "text": [
      "[  1 100   2   3   4   5   6   7   8   9  10  11  12]\n"
     ]
    }
   ],
   "source": [
    "# 2차원 배열에서 insert()\n",
    "arr = np.arange(1,13).reshape(3,4)\n",
    "\n",
    "print(np.insert(arr,1,100))\n",
    "\n",
    "np.insert(arr,1,[100,200,300,400], axis=0) # 행 기준\n"
   ]
  }
 ],
 "metadata": {
  "kernelspec": {
   "display_name": "pystudy_env",
   "language": "python",
   "name": "python3"
  },
  "language_info": {
   "codemirror_mode": {
    "name": "ipython",
    "version": 3
   },
   "file_extension": ".py",
   "mimetype": "text/x-python",
   "name": "python",
   "nbconvert_exporter": "python",
   "pygments_lexer": "ipython3",
   "version": "3.12.9"
  }
 },
 "nbformat": 4,
 "nbformat_minor": 2
}
