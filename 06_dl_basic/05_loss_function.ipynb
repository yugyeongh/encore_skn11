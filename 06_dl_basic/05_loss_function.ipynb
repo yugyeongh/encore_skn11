{
 "cells": [
  {
   "cell_type": "markdown",
   "metadata": {},
   "source": [
    "# 손실 함수 (Loss Function)"
   ]
  },
  {
   "cell_type": "code",
   "execution_count": 112,
   "metadata": {},
   "outputs": [],
   "source": [
    "import numpy as np\n",
    "\n",
    "# mse: 실제값과 예측값의 제곱의 평균\n",
    "def mean_sqaured_error(y_true, y_pred):\n",
    "    return np.mean((y_true - y_pred) ** 2)\n",
    "\n",
    "# mae: 실제값과 예측값 차이의 절대값의 평균\n",
    "def mean_absolute_error(y_true, y_pred):\n",
    "    return np.mean(np.abs(y_true - y_pred))"
   ]
  },
  {
   "cell_type": "code",
   "execution_count": 113,
   "metadata": {},
   "outputs": [
    {
     "name": "stdout",
     "output_type": "stream",
     "text": [
      "mse 0.028000000000000014\n",
      "mae 0.16000000000000006\n"
     ]
    }
   ],
   "source": [
    "y_true = np.array([1.0, 2.0, 3.0, 4.0, 5.0])\n",
    "y_pred = np.array([1.2, 1.8, 3.1, 3.9, 4.8])\n",
    "\n",
    "mse = mean_sqaured_error(y_true, y_pred)\n",
    "mae = mean_absolute_error(y_true, y_pred)\n",
    "\n",
    "print('mse', mse)\n",
    "print('mae', mae)"
   ]
  },
  {
   "cell_type": "code",
   "execution_count": 114,
   "metadata": {},
   "outputs": [
    {
     "name": "stdout",
     "output_type": "stream",
     "text": [
      "mse 660.7342857142858\n",
      "mae 13.685714285714285\n"
     ]
    }
   ],
   "source": [
    "y_true = np.array([1.0, 2.0, 3.0, 4.0, 5.0])\n",
    "y_pred = np.array([1.2, 1.8, 3.1, 3.9, 4.8])\n",
    "\n",
    "# 예측값이 틀리게끔 이상치 append\n",
    "y_true = np.append(y_true, [50.0, 60.0]) \n",
    "y_pred = np.append(y_pred, [10.0, 5.0])\n",
    "\n",
    "mse = mean_sqaured_error(y_true, y_pred)\n",
    "mae = mean_absolute_error(y_true, y_pred)\n",
    "\n",
    "print('mse', mse)\n",
    "print('mae', mae)"
   ]
  },
  {
   "cell_type": "code",
   "execution_count": 115,
   "metadata": {},
   "outputs": [
    {
     "data": {
      "text/plain": [
       "np.float64(13.438571428571427)"
      ]
     },
     "execution_count": 115,
     "metadata": {},
     "output_type": "execute_result"
    }
   ],
   "source": [
    "def huber_loss(y_true, y_pred, delta=1.0):\n",
    "    error = y_true - y_pred                         # 잔차\n",
    "    is_small_error = np.abs(error) <= delta         # if |잔차| <= delta 수식을 그대로 코드로 나타냄 # mse\n",
    "    squared_loss = 0.5 * (error ** 2)               # 1/2 * (잔차)**2\n",
    "    linear_loss = delta * (np.abs(error) - 0.5 * delta) # mae\n",
    "    return np.mean(np.where(is_small_error, squared_loss, linear_loss))\n",
    "\n",
    "huber_loss(y_true, y_pred) \n",
    "# 이상치 제외한 값: np.float64(0.014000000000000007): mse에 가까워보여서 mse가 반영이 되었다는 것을 예측할 수 있음\n",
    "# 이상치 포함한 값: np.float64(13.438571428571427): 위의 조건에 따라 mae가 적용이 되어서 이상치가 추가되었음에도 손실값을 안정적으로 계산해줌"
   ]
  },
  {
   "cell_type": "markdown",
   "metadata": {},
   "source": [
    "---"
   ]
  },
  {
   "cell_type": "markdown",
   "metadata": {},
   "source": [
    "### 신경망 모델에서 손실함수 활용"
   ]
  },
  {
   "cell_type": "code",
   "execution_count": 116,
   "metadata": {},
   "outputs": [],
   "source": [
    "import numpy as np\n",
    "import matplotlib.pyplot as plt\n",
    "from sklearn.datasets import make_classification\n",
    "from sklearn.model_selection import train_test_split\n",
    "from sklearn.preprocessing import StandardScaler\n",
    "\n",
    "# 데이터 생성\n",
    "X, y = make_classification(\n",
    "    n_samples=1000,\n",
    "    n_features=20,\n",
    "    n_informative=15,   # 중요한 특성 잡아주기\n",
    "    n_redundant=5,      # 15개의 중요 특성을 가지고 선형 결합을 해서 만들어지는 특성, 학습 자체에는 관여되지 않는 속성\n",
    "    n_classes=2,        # 클래스는 2개\n",
    "    random_state=42     # 난수 고정\n",
    ")\n",
    "\n",
    "# 전처리\n",
    "scaler = StandardScaler()\n",
    "X = scaler.fit_transform(X)\n",
    "X_train, X_test, y_train, y_test = train_test_split(X, y, test_size=.2, random_state=42)\n",
    "\n",
    "# 원핫 인코딩 적용\n",
    "def one_hot(labels, num_classes):\n",
    "    return np.eye(num_classes)[labels] # 대각선 라인만 1로 채우고 나머지는 0으로 \n",
    "\n",
    "y_train_oh = one_hot(y_train, 2)\n",
    "y_test_oh = one_hot(y_test, 2)"
   ]
  },
  {
   "cell_type": "code",
   "execution_count": 117,
   "metadata": {},
   "outputs": [],
   "source": [
    "# 모델 파라미터 초기화\n",
    "# 모델 파라미터: 모델이 가진 가중치나 편향을 의미\n",
    "# 하이퍼 파라미터랑 다름?\n",
    "\n",
    "np.random.seed(42)\n",
    "\n",
    "input_dim = X_train.shape[1] # 특성의 수만큼 dim을 정해줌\n",
    "hidden_dim = 32 # 은닉 층의 뉴런 수\n",
    "output_dim = 2 # 이진분류라 output_dim을 2로\n",
    "\n",
    "# 1. input layer -> hidden layer로 갈 때 가중치와 편향이 있고\n",
    "# 2. hidden layer -> output layer로 갈 떄 가중치와 편향이 있음\n",
    "W1 = np.random.randn(input_dim, hidden_dim) # 1\n",
    "b1 = np.zeros((1, hidden_dim)) # 1\n",
    "W2 = np.random.randn(hidden_dim, output_dim) # 2\n",
    "b2 = np.zeros((1, output_dim)) # 2"
   ]
  },
  {
   "cell_type": "code",
   "execution_count": 118,
   "metadata": {},
   "outputs": [],
   "source": [
    "# 활성화 함수, 손실 함수 정의\n",
    "def relu(z): # 은닉층으로 갈 때는 relu\n",
    "    return np.maximum(0, z)\n",
    "\n",
    "# 출력층으로 갈 때는 softmax\n",
    "def softmax(z):\n",
    "    exp_z = np.exp(z - np.max(z, axis=1, keepdims=True))  # 오버플로우를 방지하기 위해 z값에서 max값을 빼줌\n",
    "    return exp_z / np.sum(exp_z, axis=1, keepdims=True)\n",
    "\n",
    "def cross_entrophy_loss(probs, labels):\n",
    "    m = labels.shape[0]\n",
    "    log_likelihood = -np.log(probs + 1e-8) * labels # 1e-8: 1*10^(-8)\n",
    "    loss = np.sum(log_likelihood)/m\n",
    "    return loss"
   ]
  },
  {
   "cell_type": "code",
   "execution_count": 119,
   "metadata": {},
   "outputs": [
    {
     "name": "stdout",
     "output_type": "stream",
     "text": [
      "Epoch 10 | 학습손실:  4.4511, 테스트 손실:  4.4685\n",
      "Epoch 20 | 학습손실:  4.0039, 테스트 손실:  4.0507\n",
      "Epoch 30 | 학습손실:  3.6635, 테스트 손실:  3.7196\n",
      "Epoch 40 | 학습손실:  3.3840, 테스트 손실:  3.4576\n",
      "Epoch 50 | 학습손실:  3.1472, 테스트 손실:  3.2343\n",
      "Epoch 60 | 학습손실:  2.9433, 테스트 손실:  3.0472\n",
      "Epoch 70 | 학습손실:  2.7649, 테스트 손실:  2.8778\n",
      "Epoch 80 | 학습손실:  2.6023, 테스트 손실:  2.7088\n",
      "Epoch 90 | 학습손실:  2.4508, 테스트 손실:  2.5528\n",
      "Epoch 100 | 학습손실:  2.3104, 테스트 손실:  2.4099\n"
     ]
    }
   ],
   "source": [
    "# 학습\n",
    "learning_rate = 0.01\n",
    "epochs = 100\n",
    "train_losses = []\n",
    "test_losses = []\n",
    "\n",
    "for epoch in range(epochs):\n",
    "    # Forward - 가중치로 내적한 후 활성화 함수 통과\n",
    "    Z1 = np.dot(X_train, W1) + b1\n",
    "    R1 = relu(Z1)   # shape: (hidden_dim, output_dim) # 은닉층의 output은 R1\n",
    "    Z2 = np.dot(R1, W2) + b2\n",
    "    probs = softmax(Z2) # 소프트맥스 함수를 통과하면 예측치가 나와서 props라는 변수명으로 받아줌\n",
    "    loss = cross_entrophy_loss(probs, y_train_oh)\n",
    "\n",
    "    # Backpropagation\n",
    "    m = X_train.shape[0] # 데이터 개수\n",
    "    dZ2 = (probs - y_train_oh) / m # 가중치 기울기를 미분을 통해 구해줌 # 직전의 기울기 구하기 # shape: (N, output_dim)\n",
    "    dW2 = np.dot(R1.T, dZ2) # shape이 전치가 되어야만 내적이 됨\n",
    "    db2 = np.sum(dZ2, axis=0, keepdims=True)\n",
    "\n",
    "    dR1 = np.dot(dZ2, W2.T)\n",
    "    dZ1 = dR1 * (Z1 > 0) # relu 미분\n",
    "    dW1 = np.dot(X_train.T, dZ1)\n",
    "    db1 = np.sum(dZ1, axis=0, keepdims=True)\n",
    "\n",
    "    # 파라미터 업데이트\n",
    "    W1 -= learning_rate * dW1\n",
    "    b1 -= learning_rate * db1\n",
    "    W2 -= learning_rate * dW2\n",
    "    b2 -= learning_rate * db2\n",
    "\n",
    "    train_losses.append(loss)\n",
    "\n",
    "    # 테스트 데이터로 손실 확인\n",
    "    Z1_test = np.dot(X_test, W1) + b1\n",
    "    R1_test = relu(Z1_test)   # shape: (hidden_dim, output_dim)\n",
    "    Z2_test = np.dot(R1_test, W2) + b2\n",
    "    probs_test = softmax(Z2_test) # 소프트맥스 함수를 통과하면 예측치가 나와서 props라는 변수명으로 받아줌\n",
    "    loss_test = cross_entrophy_loss(probs_test, y_test_oh)\n",
    "   \n",
    "    test_losses.append(loss_test)\n",
    "\n",
    "    if (epoch + 1) % 10 == 0:\n",
    "        print(f'Epoch {epoch + 1} | 학습손실: {loss: .4f}, 테스트 손실: {loss_test: .4f}')"
   ]
  },
  {
   "cell_type": "code",
   "execution_count": 120,
   "metadata": {},
   "outputs": [
    {
     "data": {
      "image/png": "[encoded data removed]",
      "text/plain": [
       "<Figure size 640x480 with 1 Axes>"
      ]
     },
     "metadata": {},
     "output_type": "display_data"
    }
   ],
   "source": [
    "# 시각화\n",
    "plt.plot(range(epochs), train_losses, label='train_loss')\n",
    "plt.plot(range(epochs), test_losses, label='test_loss')\n",
    "\n",
    "plt.xlabel('epoch')\n",
    "plt.ylabel('loss')\n",
    "plt.legend()\n",
    "plt.show()"
   ]
  },
  {
   "cell_type": "markdown",
   "metadata": {},
   "source": [
    "### 기본 손실 함수 vs 커스텀 손실 함수"
   ]
  },
  {
   "cell_type": "code",
   "execution_count": 121,
   "metadata": {},
   "outputs": [],
   "source": [
    "from sklearn.datasets import make_regression\n",
    "\n",
    "# 데이터 생성\n",
    "X, y = make_regression(\n",
    "    n_samples=1000,\n",
    "    n_features=10,\n",
    "    noise=50,\n",
    "    random_state=42\n",
    ")\n",
    "\n",
    "scaler_X = StandardScaler()\n",
    "scaler_y = StandardScaler()\n",
    "X = scaler_X.fit_transform(X)\n",
    "y = scaler_y.fit_transform(y.reshape(-1,1)).flatten() # y는 1차원이기 때문에 reshape한 후 스케일링하고 스케일링이 끝나면 1차원으로 돌려놓기\n",
    "\n",
    "X_train, X_test, y_train, y_test = train_test_split(X, y, test_size=.2, random_state=42)"
   ]
  },
  {
   "cell_type": "code",
   "execution_count": 122,
   "metadata": {},
   "outputs": [],
   "source": [
    "# 예측 함수\n",
    "def predict(X, w, b):\n",
    "    return np.dot(X, w) + b"
   ]
  },
  {
   "cell_type": "code",
   "execution_count": 137,
   "metadata": {},
   "outputs": [],
   "source": [
    "# 손실 함수\n",
    "def mse_loss(y_pred, y_true):\n",
    "    return np.mean((y_pred - y_true) ** 2)\n",
    "\n",
    "# 커스텀 손실 함수 - 기존 mse에 L2 규제 추가\n",
    "def my_loss(y_pred, y_true, w, lambda_reg=1.0): # lambda_reg: 규제정도\n",
    "    mse = mse_loss(y_pred, y_true)\n",
    "    l2_reg = np.sum(w**2)\n",
    "    return mse + (lambda_reg * l2_reg) # 기존 손실에 제곱합을 더해줌 이때 제곱합은 규제정도임"
   ]
  },
  {
   "cell_type": "code",
   "execution_count": 138,
   "metadata": {},
   "outputs": [],
   "source": [
    "# 학습 함수\n",
    "def train_model(X_train, y_train, X_test, y_test, loss_fn, epochs=50, learning_rate=0.1, use_custom=False): # epoch을 30번까지만 해도 손실이 같게 나왔을것\n",
    "    np.random.seed(42)\n",
    "    n_features = X_train.shape[1]\n",
    "    W = np.random.randn(n_features)\n",
    "    b = 0.0\n",
    "\n",
    "    for epoch in range(epochs):\n",
    "        y_pred_train = predict(X_train, W, b)\n",
    "        y_pred_test = predict(X_test, W, b)\n",
    "\n",
    "        train_loss = loss_fn(y_pred_train, y_train, W) if use_custom else loss_fn(y_pred_train, y_train)\n",
    "        test_loss = loss_fn(y_pred_test, y_test, W) if use_custom else loss_fn(y_pred_test, y_test)\n",
    "\n",
    "        d_loss = 2 * (y_pred_train - y_train) / X_train.shape[0]\n",
    "        grad_w = np.dot(X_train.T, d_loss)\n",
    "        grad_b = np.sum(d_loss)\n",
    "\n",
    "        if use_custom:\n",
    "            grad_w += 2 * 1.0 * W\n",
    "        \n",
    "        # 파라미터 업데이트\n",
    "        W -= learning_rate * grad_w\n",
    "        b -= learning_rate * grad_b\n",
    "\n",
    "        if (epoch + 1) % 10 == 0:\n",
    "            print(f'Epoch: {epoch+1} | 학습 손실:{train_loss: .4f}, 테스트 손실: {test_loss: .4f}')"
   ]
  },
  {
   "cell_type": "code",
   "execution_count": 139,
   "metadata": {},
   "outputs": [
    {
     "name": "stdout",
     "output_type": "stream",
     "text": [
      "Epoch: 10 | 학습 손실: 0.1782, 테스트 손실:  0.1833\n",
      "Epoch: 20 | 학습 손실: 0.1216, 테스트 손실:  0.1255\n",
      "Epoch: 30 | 학습 손실: 0.1209, 테스트 손실:  0.1242\n",
      "Epoch: 40 | 학습 손실: 0.1209, 테스트 손실:  0.1241\n",
      "Epoch: 50 | 학습 손실: 0.1209, 테스트 손실:  0.1241\n"
     ]
    }
   ],
   "source": [
    "train_model(X_train, y_train, X_test, y_test, mse_loss)"
   ]
  },
  {
   "cell_type": "code",
   "execution_count": 140,
   "metadata": {},
   "outputs": [
    {
     "name": "stdout",
     "output_type": "stream",
     "text": [
      "Epoch: 10 | 학습 손실: 0.5709, 테스트 손실:  0.5544\n",
      "Epoch: 20 | 학습 손실: 0.5698, 테스트 손실:  0.5548\n",
      "Epoch: 30 | 학습 손실: 0.5698, 테스트 손실:  0.5550\n",
      "Epoch: 40 | 학습 손실: 0.5698, 테스트 손실:  0.5550\n",
      "Epoch: 50 | 학습 손실: 0.5698, 테스트 손실:  0.5550\n"
     ]
    }
   ],
   "source": [
    "train_model(X_train, y_train, X_test, y_test, my_loss, use_custom=True)"
   ]
  },
  {
   "cell_type": "markdown",
   "metadata": {},
   "source": [
    "---"
   ]
  },
  {
   "cell_type": "markdown",
   "metadata": {},
   "source": [
    "### 손실 함수 선택이 모델 성능에 미치는 영향"
   ]
  },
  {
   "cell_type": "code",
   "execution_count": 154,
   "metadata": {},
   "outputs": [],
   "source": [
    "make_regression(\n",
    "    n_samples=1000,\n",
    "    n_features=5,\n",
    "    noise=30,\n",
    "    random_state=42\n",
    ")\n",
    "\n",
    "scaler_X = StandardScaler()\n",
    "scaler_y = StandardScaler()\n",
    "X = scaler_X.fit_transform(X)\n",
    "y = scaler_y.fit_transform(y.reshape(-1,1)).flatten() \n",
    "\n",
    "X_train, X_test, y_train, y_test = train_test_split(X, y, test_size=.3, random_state=42)"
   ]
  },
  {
   "cell_type": "code",
   "execution_count": 155,
   "metadata": {},
   "outputs": [],
   "source": [
    "# 선형 회귀 모델 예측 함수\n",
    "def predict(X, W, b):\n",
    "    return np.dot(X, W) + b"
   ]
  },
  {
   "cell_type": "code",
   "execution_count": 156,
   "metadata": {},
   "outputs": [],
   "source": [
    "# 손실 함수\n",
    "def mse_loss(y_pred, y_true):\n",
    "    return np.mean((y_pred - y_true) ** 2)\n",
    "\n",
    "def mae_loss(y_pred, y_true):\n",
    "    return np.mean(np.abs(y_pred - y_true))\n",
    "\n",
    "def huber_loss(y_pred, y_true, delta=1.0):\n",
    "    error = y_pred - y_true\n",
    "    is_small_error = np.abs(error) <= delta\n",
    "    squared_error = 0.5 * error ** 2\n",
    "    linear_error = delta * (np.abs(error) - 0.5 * delta)\n",
    "    return np.mean(np.where(is_small_error, squared_error, linear_error))"
   ]
  },
  {
   "cell_type": "code",
   "execution_count": 177,
   "metadata": {},
   "outputs": [],
   "source": [
    "def train_regression(X, y, loss_fn, epochs=100, learning_rate=0.01):\n",
    "    n_features = X.shape[1]\n",
    "    W = np.random.randn(n_features)\n",
    "    b = 0.0\n",
    "    m = X.shape[0]\n",
    "    epsilon = 1e-5\n",
    "    losses = []\n",
    "\n",
    "    for epoch in range(epochs):\n",
    "        y_pred = predict(X, W, b)\n",
    "        loss = loss_fn(y_pred, y)\n",
    "        losses.append(loss) # 에폭 돌 때마다 loss 값이 저장되게\n",
    "\n",
    "        grad_w = np.zeros_like(W) # 0으로 초기화\n",
    "        for i in range(len(W)): # 가중치의 개수만큼 반복\n",
    "            # 수치 미분을 사용해서 기울기를 조정\n",
    "            W_eps = np.copy(W) # 원본 가중치를 그대로 W_eps에 복사\n",
    "            W_eps[i] += epsilon # 아주 작은 값을 복사한 가중치 리스트에 더해 조금의 차이를 만듦\n",
    "            loss_eps = loss_fn(predict(X, W_eps, b), y)\n",
    "            grad_w[i] = (loss_eps - loss) / epsilon\n",
    "        \n",
    "        b_eps = b + epsilon\n",
    "        loss_eps_b = loss_fn(predict(X, W, b_eps), y)\n",
    "        grad_b = (loss_eps_b - loss) /epsilon\n",
    "        \n",
    "        W -= learning_rate * grad_w\n",
    "        b -= learning_rate * grad_b\n",
    "\n",
    "    return W,b, losses"
   ]
  },
  {
   "cell_type": "code",
   "execution_count": 178,
   "metadata": {},
   "outputs": [
    {
     "name": "stdout",
     "output_type": "stream",
     "text": [
      "MSE Loss:  0.4247\n",
      "MAE Loss:  5.5727\n",
      "Huber Loss:  4.1530\n"
     ]
    }
   ],
   "source": [
    "results = {}\n",
    "\n",
    "for name, loss_fn in zip(['MSE','MAE','Huber'], [mse_loss, mae_loss, huber_loss]):\n",
    "    W,b,losses = train_regression(X_train, y_train, loss_fn) # 모델 파라미터 반환받아서\n",
    "    results[name] = {'losses': losses}\n",
    "\n",
    "    pred_test = predict(X_test, W, b) # 예측하기\n",
    "    test_loss = mse_loss(pred_test, y_test)\n",
    "    print(f'{name} Loss: {test_loss: .4f}')\n",
    "\n",
    "# mse와 mae의 중간값으로 나오는게 맞지만 delta에 따라 값이 달라져  mse나 mae에 둘 중 하나에 가깝게 나오게 되는거임\n",
    "# delta 값을 기준으로 해서 mse나 mae를 취하고 있음"
   ]
  },
  {
   "cell_type": "code",
   "execution_count": 179,
   "metadata": {},
   "outputs": [
    {
     "name": "stdout",
     "output_type": "stream",
     "text": [
      "dict_items([('MSE', {'losses': [np.float64(16.243223457328238), np.float64(15.59597153196375), np.float64(14.974949671842213), np.float64(14.379085408103379), np.float64(13.807350491503255), np.float64(13.258759054703463), np.float64(12.732365851443006), np.float64(12.227264569621239), np.float64(11.742586214693207), np.float64(11.277497560922221), np.float64(10.831199667253678), np.float64(10.402926455315187), np.float64(9.991943346753498), np.float64(9.597545957554884), np.float64(9.219058846906227), np.float64(8.855834318233496), np.float64(8.507251270348734), np.float64(8.172714096524139), np.float64(7.851651629453875), np.float64(7.543516130188864), np.float64(7.247782319325318), np.float64(6.963946448455432), np.float64(6.691525410372752), np.float64(6.430055886278442), np.float64(6.179093528552385), np.float64(5.938212177488308), np.float64(5.707003110645927), np.float64(5.485074323409764), np.float64(5.272049839506873), np.float64(5.06756905011007), np.float64(4.871286080464334), np.float64(4.682869182803193), np.float64(4.502000154494824), np.float64(4.32837378028913), np.float64(4.161697297792796), np.float64(4.0016898850579), np.float64(3.8480821694436442), np.float64(3.7006157568526787), np.float64(3.559042780457239), np.float64(3.423125468148728), np.float64(3.2926357278779785), np.float64(3.1673547501857704), np.float64(3.047072627169986), np.float64(2.9315879872367443), np.float64(2.820707644954197), np.float64(2.7142462653698076), np.float64(2.612026042233524), np.float64(2.5138763894994396), np.float64(2.4196336455732683), np.float64(2.3291407897825374), np.float64(2.2422471705415163), np.float64(2.158808244746613), np.float64(2.078685327909639), np.float64(2.0017453546091084), np.float64(1.9278606488097947), np.float64(1.8569087036565946), np.float64(1.7887719703351839), np.float64(1.7233376556246247), np.float64(1.6604975277975147), np.float64(1.6001477304980323), np.float64(1.5421886042859563), np.float64(1.4865245155163198), np.float64(1.433063692260772), np.float64(1.381718066960053), np.float64(1.332403125561592), np.float64(1.285037762834256), np.float64(1.2395441436376946), np.float64(1.195847569880301), np.float64(1.1538763529365976), np.float64(1.1135616913002653), np.float64(1.074837553251451), np.float64(1.037640564334798), np.float64(1.001909899447026), np.float64(0.9675871793477105), np.float64(0.9346163714049187), np.float64(0.9029436944029499), np.float64(0.8725175272499514), np.float64(0.8432883214126475), np.float64(0.815208516940153), np.float64(0.7882324619120564), np.float64(0.7623163351838814), np.float64(0.7374180722847394), np.float64(0.7134972943438312), np.float64(0.6905152399137053), np.float64(0.6684346995807477), np.float64(0.6472199532376057), np.float64(0.6268367099167337), np.float64(0.607252050075769), np.float64(0.5884343702332606), np.float64(0.5703533298597682), np.float64(0.5529798004326446), np.float64(0.5362858165627399), np.float64(0.5202445291105035), np.float64(0.50483016020854), np.float64(0.4900179601132374), np.float64(0.47578416580973787), np.float64(0.4621059612982101), np.float64(0.4489614394941725), np.float64(0.4363295656746061), np.float64(0.4241901424077626)]}), ('MAE', {'losses': [np.float64(2.827437690426517), np.float64(2.820404188586093), np.float64(2.8133706867450052), np.float64(2.806338619517964), np.float64(2.799314665739673), np.float64(2.792290711959954), np.float64(2.7852667581806956), np.float64(2.7782428044029595), np.float64(2.771218850623827), np.float64(2.764194896845102), np.float64(2.757174153625773), np.float64(2.750159982445275), np.float64(2.743145811265113), np.float64(2.7361316400847704), np.float64(2.7291174689042537), np.float64(2.7221032977234167), np.float64(2.7150891265425057), np.float64(2.708074955362675), np.float64(2.7010607841826824), np.float64(2.6940466130022807), np.float64(2.6870324418223346), np.float64(2.6800182706423556), np.float64(2.67300409946222), np.float64(2.665989928281887), np.float64(2.658975757101363), np.float64(2.651961585921375), np.float64(2.644949383596602), np.float64(2.637947924526676), np.float64(2.630946465457432), np.float64(2.623945006388272), np.float64(2.616943547318482), np.float64(2.6099420882495), np.float64(2.6029406291798822), np.float64(2.595939170110584), np.float64(2.5889377110411167), np.float64(2.581936251971579), np.float64(2.574934792902099), np.float64(2.567933333833009), np.float64(2.56093187476433), np.float64(2.5539304156947016), np.float64(2.546928956625494), np.float64(2.5399274975567616), np.float64(2.5329260384874943), np.float64(2.5259245794179566), np.float64(2.518923120348325), np.float64(2.511921661278706), np.float64(2.5049202022087678), np.float64(2.4979187431389436), np.float64(2.4909203062044254), np.float64(2.4839299324957174), np.float64(2.4769395587872745), np.float64(2.4699491850788284), np.float64(2.4629588113699503), np.float64(2.4559684376614475), np.float64(2.448978063952744), np.float64(2.4419876902443387), np.float64(2.4349973165354912), np.float64(2.4280069428264803), np.float64(2.4210165691177763), np.float64(2.4140261954090927), np.float64(2.407035821700556), np.float64(2.4000497651243773), np.float64(2.393068629755587), np.float64(2.38608749438605), np.float64(2.3791063590165584), np.float64(2.3721252236476835), np.float64(2.3651440882778685), np.float64(2.3581636496179854), np.float64(2.351190252139153), np.float64(2.344216854659598), np.float64(2.337243457180402), np.float64(2.330270059700869), np.float64(2.3232966622206037), np.float64(2.3163232647414382), np.float64(2.309355379070471), np.float64(2.302401281168211), np.float64(2.295451961785383), np.float64(2.2885026424031887), np.float64(2.2815533230207743), np.float64(2.274604003638758), np.float64(2.267658972478801), np.float64(2.2607181316250413), np.float64(2.2537804275527216), np.float64(2.2468579834851403), np.float64(2.2399458652982136), np.float64(2.233036175995298), np.float64(2.2261291590539205), np.float64(2.2192279453463684), np.float64(2.212326731638226), np.float64(2.2054263802970593), np.float64(2.1985350251847504), np.float64(2.1916556591814293), np.float64(2.184776293177921), np.float64(2.177896927174592), np.float64(2.171020422333214), np.float64(2.164149539683688), np.float64(2.157281690080061), np.float64(2.150413840477121), np.float64(2.143545990873906), np.float64(2.1366781412713625)]}), ('Huber', {'losses': [np.float64(1.8376222678632104), np.float64(1.8312678789400667), np.float64(1.8249157942700078), np.float64(1.81856603187857), np.float64(1.8122186193004577), np.float64(1.805873619845874), np.float64(1.7995310619761742), np.float64(1.7931909419209688), np.float64(1.7868532650541757), np.float64(1.7805180377173786), np.float64(1.774185257983102), np.float64(1.7678549367135494), np.float64(1.7615270861090349), np.float64(1.7552017371292856), np.float64(1.7488788862413145), np.float64(1.7425585338883869), np.float64(1.7362406819347032), np.float64(1.7299253401922305), np.float64(1.7236126186692562), np.float64(1.7173026189514211), np.float64(1.7109954038248172), np.float64(1.704690992058472), np.float64(1.6983893951101234), np.float64(1.6920906085604552), np.float64(1.6857946280120628), np.float64(1.6795014490894469), np.float64(1.67321106743901), np.float64(1.6669234787289269), np.float64(1.66063869209801), np.float64(1.6543567615959758), np.float64(1.648077771384753), np.float64(1.6418018109807593), np.float64(1.635528875691003), np.float64(1.6292589695987039), np.float64(1.6229921046662432), np.float64(1.616728276225782), np.float64(1.6104674796342386), np.float64(1.6042097102701993), np.float64(1.597954967478341), np.float64(1.591703269240884), np.float64(1.5854546162108454), np.float64(1.579209003769102), np.float64(1.5729664303964377), np.float64(1.5667269161304547), np.float64(1.5604904722660395), np.float64(1.5542571655127442), np.float64(1.548027034478297), np.float64(1.5418000992002836), np.float64(1.535576381291907), np.float64(1.529355933735181), np.float64(1.523138854807616), np.float64(1.5169252429174485), np.float64(1.5107151131017957), np.float64(1.50450848493198), np.float64(1.4983053964324426), np.float64(1.4921059022931422), np.float64(1.485910026118349), np.float64(1.4797177730663433), np.float64(1.4735291897132028), np.float64(1.4673443193787352), np.float64(1.461163197571841), np.float64(1.4549858424303228), np.float64(1.4488122946288748), np.float64(1.4426425976200128), np.float64(1.4364768293434997), np.float64(1.4303150096504114), np.float64(1.4241571767935854), np.float64(1.4180033889839403), np.float64(1.4118536404569675), np.float64(1.4057079245320483), np.float64(1.399566235753115), np.float64(1.3934285916711182), np.float64(1.3872950066152268), np.float64(1.3811654742705404), np.float64(1.3750400050410838), np.float64(1.3689186334413164), np.float64(1.362801477860963), np.float64(1.3566886246367436), np.float64(1.3505801157119364), np.float64(1.3444759434433273), np.float64(1.33837610033473), np.float64(1.3322805815561463), np.float64(1.326189382073938), np.float64(1.3201024943777806), np.float64(1.3140199168339652), np.float64(1.307941712797493), np.float64(1.301867923580669), np.float64(1.2957985728374886), np.float64(1.28973368137584), np.float64(1.2836732636866564), np.float64(1.277617312802045), np.float64(1.271565877205526), np.float64(1.2655190693697473), np.float64(1.2594769500406016), np.float64(1.2534395391348574), np.float64(1.2474068279516226), np.float64(1.2413788330376343), np.float64(1.2353556070204925), np.float64(1.2293371860057725), np.float64(1.2233236589185237)]})])\n"
     ]
    }
   ],
   "source": [
    "print(results.items())"
   ]
  },
  {
   "cell_type": "code",
   "execution_count": 180,
   "metadata": {},
   "outputs": [
    {
     "data": {
      "image/png": "[encoded data removed]",
      "text/plain": [
       "<Figure size 640x480 with 1 Axes>"
      ]
     },
     "metadata": {},
     "output_type": "display_data"
    }
   ],
   "source": [
    "# 시각화\n",
    "for name, value in results.items():\n",
    "    plt.plot(value['losses'], label=name)\n",
    "\n",
    "plt.xlabel('epoch')\n",
    "plt.ylabel('train loss')\n",
    "plt.legend()\n",
    "plt.show()"
   ]
  },
  {
   "cell_type": "code",
   "execution_count": null,
   "metadata": {},
   "outputs": [],
   "source": []
  }
 ],
 "metadata": {
  "kernelspec": {
   "display_name": "pystudy_env",
   "language": "python",
   "name": "python3"
  },
  "language_info": {
   "codemirror_mode": {
    "name": "ipython",
    "version": 3
   },
   "file_extension": ".py",
   "mimetype": "text/x-python",
   "name": "python",
   "nbconvert_exporter": "python",
   "pygments_lexer": "ipython3",
   "version": "3.12.9"
  }
 },
 "nbformat": 4,
 "nbformat_minor": 2
}
