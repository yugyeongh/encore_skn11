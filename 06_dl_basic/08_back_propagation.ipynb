{
 "cells": [
  {
   "cell_type": "markdown",
   "metadata": {},
   "source": [
    "# 역전파 (Backpropagation)\n",
    "### 연쇄법칙\n",
    " - 기본 수식의 역전파 & 연쇄법칙 적용"
   ]
  },
  {
   "cell_type": "code",
   "execution_count": 3,
   "metadata": {},
   "outputs": [
    {
     "name": "stdout",
     "output_type": "stream",
     "text": [
      "9.0\n",
      "6.0\n"
     ]
    }
   ],
   "source": [
    "import numpy as np\n",
    "\n",
    "def forward(x):\n",
    "    y = x**2\n",
    "    return y\n",
    "\n",
    "def backward(x):\n",
    "    dy_dx = 2*x\n",
    "    return dy_dx\n",
    "\n",
    "x = 3.0\n",
    "\n",
    "print(forward(x))\n",
    "print(backward(x))\n"
   ]
  },
  {
   "cell_type": "markdown",
   "metadata": {},
   "source": [
    "- 다층 신경망에서 연쇄법칙 적용"
   ]
  },
  {
   "cell_type": "code",
   "execution_count": 4,
   "metadata": {},
   "outputs": [
    {
     "name": "stdout",
     "output_type": "stream",
     "text": [
      "순전파 결과: 18.0\n",
      "역전파 결과 (기울기): 12.0\n"
     ]
    }
   ],
   "source": [
    "import numpy as np\n",
    "\n",
    "def forward(x):\n",
    "    y = x ** 2  # 예제 함수: y = x^2\n",
    "    z = 2 * y   # z = 2y\n",
    "    return z\n",
    "\n",
    "def backward(x):\n",
    "    dy_dx = 2 * x  # y = x^2의 미분\n",
    "    dz_dy = 2      # z = 2y의 미분\n",
    "    dz_dx = dz_dy * dy_dx  # 연쇄법칙 적용\n",
    "    return dz_dx\n",
    "\n",
    "x = 3.0\n",
    "print(\"순전파 결과:\", forward(x))\n",
    "print(\"역전파 결과 (기울기):\", backward(x))"
   ]
  },
  {
   "cell_type": "markdown",
   "metadata": {},
   "source": [
    "### 신경망에서의 활용\n",
    "\n",
    " - 단순 신경망 학습"
   ]
  },
  {
   "cell_type": "code",
   "execution_count": 5,
   "metadata": {},
   "outputs": [
    {
     "name": "stdout",
     "output_type": "stream",
     "text": [
      "[0.19525585 0.39240936]\n"
     ]
    }
   ],
   "source": [
    "def sigmoid(x):\n",
    "    return 1 / (1 + np.exp(-x))\n",
    "\n",
    "def sigmoid_d(x):\n",
    "    return sigmoid(x) * (1-sigmoid(x))\n",
    "\n",
    "x = np.array([0.5, 0.8])\n",
    "y = np.array([1])\n",
    "\n",
    "w = np.array([0.2, 0.4])\n",
    "\n",
    "# 순전파\n",
    "z = np.dot(x, w)\n",
    "r = sigmoid(z)\n",
    "\n",
    "# 오차 계산\n",
    "loss = 0.5 * (y - r)**2\n",
    "\n",
    "# 역전파 (기울기 계산)\n",
    "delta = (y - r)*sigmoid_d(z)\n",
    "grad_w = delta * x\n",
    "\n",
    "# 가중치 갱신\n",
    "w -= 0.1 * grad_w\n",
    "\n",
    "print(w)"
   ]
  },
  {
   "cell_type": "markdown",
   "metadata": {},
   "source": [
    "- 은닉층 추가"
   ]
  },
  {
   "cell_type": "code",
   "execution_count": null,
   "metadata": {},
   "outputs": [
    {
     "name": "stdout",
     "output_type": "stream",
     "text": [
      "[[0.20005594 0.40006712]\n",
      " [0.1000895  0.3001074 ]]\n",
      "[[0.50012743]\n",
      " [0.6001465 ]]\n"
     ]
    }
   ],
   "source": [
    "def relu(x):\n",
    "    return np.maximum(0, x)\n",
    "\n",
    "def relu_d(x):\n",
    "    return np.where(x > 0, 1, 0)\n",
    "\n",
    "x = np.array([0.5, 0.8]) # (2, )\n",
    "y = np.array([1])\n",
    "\n",
    "w1 = np.array([[0.2, 0.4], [0.1, 0.3]]) # (2, 2)\n",
    "b1 = np.array([0.1, 0.2]) #(2, )\n",
    "w2 = np.array([[0.5], [0.6]]) # (2, 1)\n",
    "b2 = np.array([0.3])\n",
    "\n",
    "# 순전파\n",
    "z1 = np.dot(x, w1) + b1\n",
    "r1 = sigmoid(z1)\n",
    "\n",
    "z2 = np.dot(r1, w2) + b2\n",
    "r2 = relu(z2)\n",
    "\n",
    "# 오차 계산\n",
    "loss = 0.5 * (y - r)**2\n",
    "\n",
    "# 역전파 (기울기 계산)\n",
    "# 얻을 수 있는 insight 3가지\n",
    "# 1) 출력값이 아닌 오차값을 가지고 역전파를 한다는 것, 2) 내 input에 대해서만 사용할 수 있는 r1과 x로 국소적 계산을 하는 것, 3) 이전 층에서 전파해준 기울기를 전파해서 사용해주는 것\n",
    "delta2 = (r2 - y) * relu_d(z2)      # insight1: r2 - y: 오차값(예측값 - 실제값) 즉, 손실(오차값)과 활성화함수를 미분한 것(relu_d)을 가지고 오차를 구함\n",
    "grad_w2 = np.outer(r1, delta2)      # insight2: 나(r1)에 대한 input을 사용하는 것\n",
    "\n",
    "delta1 = np.dot(w2, delta2) * relu_d(z1)        # insight3: 이전 층에서 전파해준 기울기를 적용하는 것 # 내적\n",
    "grad_w1 = np.outer(x, delta1)                   # 외적\n",
    "\n",
    "# 가중치 갱신\n",
    "# 손실이 가장 최소가 되는 지점을 향해 가야하니까 경사하강법을 통해 손실 최소화 지점을 찾아가는 것임\n",
    "learning_rate = 0.01\n",
    "w2 -= learning_rate * grad_w2\n",
    "w1 -= learning_rate * grad_w1\n",
    "\n",
    "print(w1)\n",
    "print(w2)"
   ]
  },
  {
   "cell_type": "markdown",
   "metadata": {},
   "source": [
    "---"
   ]
  },
  {
   "cell_type": "markdown",
   "metadata": {},
   "source": [
    "### 수치미분과 역전파"
   ]
  },
  {
   "cell_type": "code",
   "execution_count": 7,
   "metadata": {},
   "outputs": [
    {
     "name": "stdout",
     "output_type": "stream",
     "text": [
      "6.000000000039306\n",
      "6.0\n"
     ]
    }
   ],
   "source": [
    "def f(x):\n",
    "    return x**2\n",
    "\n",
    "# 수치미분: 미분을 근사하는 방법\n",
    "# 아주 작은 값을 넣어 중앙차분\n",
    "def num_d_gradient(f, x):\n",
    "    h = 1e-5\n",
    "    return (f(x + h) - f(x - h)) / (2 * h)      # 중앙차분\n",
    "\n",
    "# 미분\n",
    "# 역전파는 결국 기울기를 구하는거라 미분이 적용됨\n",
    "def backward_gradient(x):\n",
    "    return 2 * x\n",
    "\n",
    "# num_d_gradient보다 backward_gradient가 더 정확한 값이 나온 이유는 계산 자체가 미분이 더 딱 떨어지게 만들었기 때문\n",
    "# 역전파법에서는 그냥 미분을 사용할 것임\n",
    "print(num_d_gradient(f, 3.0))   # 수치미분 결과\n",
    "print(backward_gradient(3.0))   # 오차역전파법 결과"
   ]
  },
  {
   "cell_type": "markdown",
   "metadata": {},
   "source": [
    "---"
   ]
  },
  {
   "cell_type": "markdown",
   "metadata": {},
   "source": [
    "##### 숫자 맞추기 AI"
   ]
  },
  {
   "cell_type": "code",
   "execution_count": null,
   "metadata": {},
   "outputs": [
    {
     "name": "stdout",
     "output_type": "stream",
     "text": [
      "epoch 0 | 예측값: 2.915970562834806, 손실: 358.04967526558\n",
      "epoch 10 | 예측값: 18.602418184526762, 손실: 43.53048169602889\n",
      "epoch 20 | 예측값: 24.071944271968665, 손실: 5.292290337319207\n",
      "epoch 30 | 예측값: 25.979050096224164, 손실: 0.6434189543332641\n",
      "epoch 40 | 예측값: 26.644016780131196, 손실: 0.0782247239680004\n",
      "epoch 50 | 예측값: 26.875876326194373, 손실: 0.009510300246300072\n",
      "epoch 60 | 예측값: 26.95672075103797, 손실: 0.0011562304880970355\n",
      "epoch 70 | 예측값: 26.98490945898322, 손실: 0.00014057063467845234\n",
      "epoch 80 | 예측값: 26.994738253698003, 손실: 1.7090107497886353e-05\n",
      "epoch 90 | 예측값: 26.998165342507217, 손실: 2.0777580961855314e-06\n",
      "최종 예측값: 26.999289216096997\n"
     ]
    }
   ],
   "source": [
    "def sigmoid(x):\n",
    "    return 1 / (1 + np.exp(-x))\n",
    "\n",
    "def sigmoid_d(x):\n",
    "    return sigmoid(x) * (1-sigmoid(x))\n",
    "\n",
    "target_number = 27\n",
    "\n",
    "guess = np.random.randn()   # 임의의 값을 예측 숫자로 잡기 # 가우시안 분포\n",
    "\n",
    "learning_rate = 0.1\n",
    "\n",
    "for i in range(100):         # 반복 횟수는 epoch이 됨\n",
    "\n",
    "    # 오차 계산\n",
    "    loss = 0.5 * (guess - target_number)**2\n",
    "\n",
    "    # 역전파 (기울기 계산) 오차에 대한 변화량만 가지고 sigmoid를 사용하지 않을거임\n",
    "    grad = (guess - target_number) # 오차에 대한 변화량 # 원래식: 1/2 * (실제값 - 예측값)**2 -> 미분하면 (예측값 - 실제값) 이라 이렇게 식이 나옴\n",
    "\n",
    "    # 업데이트 (guess 업데이트)\n",
    "    guess -= learning_rate * grad\n",
    "\n",
    "    # epoch 5마다 예측값과 손실 출력\n",
    "    if i%10 == 0:\n",
    "        print(f'epoch {i} | 예측값: {guess}, 손실: {loss}')\n",
    "\n",
    "# 최종 예측값 guess 출력\n",
    "print(f'최종 예측값: {guess}')"
   ]
  },
  {
   "cell_type": "code",
   "execution_count": null,
   "metadata": {},
   "outputs": [],
   "source": []
  }
 ],
 "metadata": {
  "kernelspec": {
   "display_name": "pystudy_env",
   "language": "python",
   "name": "python3"
  },
  "language_info": {
   "codemirror_mode": {
    "name": "ipython",
    "version": 3
   },
   "file_extension": ".py",
   "mimetype": "text/x-python",
   "name": "python",
   "nbconvert_exporter": "python",
   "pygments_lexer": "ipython3",
   "version": "3.12.9"
  }
 },
 "nbformat": 4,
 "nbformat_minor": 2
}
